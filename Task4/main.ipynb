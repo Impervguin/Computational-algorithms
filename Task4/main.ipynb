{
 "cells": [
  {
   "cell_type": "markdown",
   "metadata": {},
   "source": [
    "# Импорты"
   ]
  },
  {
   "cell_type": "code",
   "execution_count": null,
   "metadata": {},
   "outputs": [],
   "source": [
    "import plotly.express as px\n",
    "import plotly.graph_objects as go\n",
    "from MathMethod import *\n",
    "from Utility import *\n",
    "import numpy as np\n",
    "from scipy.special import erfi"
   ]
  },
  {
   "cell_type": "markdown",
   "metadata": {},
   "source": [
    "# Аппроксимация функций Одной переменной"
   ]
  },
  {
   "cell_type": "markdown",
   "metadata": {},
   "source": [
    "### Тесты из файлов"
   ]
  },
  {
   "cell_type": "code",
   "execution_count": null,
   "metadata": {},
   "outputs": [],
   "source": [
    "x, y, p = read_xypdata(\"data/tmp41\")\n",
    "\n",
    "x_pred = np.linspace(min(x), max(x), 20)\n",
    "f_pred = LeastSquare(x, y, p, 3)\n",
    "y_pred = [f_pred(xi) for xi in x_pred]\n",
    "\n",
    "f_coeffs = LeastSquaresCoefs(x, y, p, 3)\n",
    "str = \" + \".join([f\"{f_coeffs[i]} * x^{i}\" for i in range(3 + 1)])\n",
    "print(f\"Решение: {str}\")\n",
    "\n",
    "\n",
    "fig = px.line(x=x, y=y)\n",
    "fig.add_trace(go.Scatter(x=x_pred, y=y_pred))\n",
    "fig.show()"
   ]
  },
  {
   "cell_type": "code",
   "execution_count": null,
   "metadata": {},
   "outputs": [],
   "source": [
    "x, y, p = read_xypdata(\"data/tmp42\")\n",
    "\n",
    "x_pred = np.linspace(min(x), max(x), 20)\n",
    "f_pred = LeastSquare(x, y, p, 2)\n",
    "y_pred = [f_pred(xi) for xi in x_pred]\n",
    "\n",
    "f_coeffs = LeastSquaresCoefs(x, y, p, 3)\n",
    "str = \" + \".join([f\"{f_coeffs[i]} * x^{i}\" for i in range(3 + 1)])\n",
    "print(f\"Решение: {str}\")\n",
    "\n",
    "fig = px.line(x=x, y=y)\n",
    "fig.add_trace(go.Scatter(x=x_pred, y=y_pred))\n",
    "fig.show()"
   ]
  },
  {
   "cell_type": "markdown",
   "metadata": {},
   "source": [
    "### Тесты по функциям"
   ]
  },
  {
   "cell_type": "code",
   "execution_count": null,
   "metadata": {},
   "outputs": [],
   "source": [
    "def f(x):\n",
    "    return x ** 2\n",
    "\n",
    "x, y, p = get_xypdata(-10, 12, 50, 0, 1, f)\n",
    "\n",
    "x_pred = np.linspace(-10, 12, 10)\n",
    "f_pred = LeastSquare(x, y, p, 4)\n",
    "y_pred = [f_pred(xi) for xi in x_pred]\n",
    "\n",
    "f_coeffs = LeastSquaresCoefs(x, y, p, 3)\n",
    "str = \" + \".join([f\"{f_coeffs[i]} * x^{i}\" for i in range(3 + 1)])\n",
    "print(f\"Решение: {str}\")\n",
    "\n",
    "fig = px.line()\n",
    "fig.add_trace(go.Scatter(x=x, y=y, name=\"Функция\"))\n",
    "fig.add_trace(go.Scatter(x=x_pred, y=y_pred, name=\"Приближение\"))\n",
    "fig.show()"
   ]
  },
  {
   "cell_type": "code",
   "execution_count": null,
   "metadata": {},
   "outputs": [],
   "source": [
    "def f(x):\n",
    "    return x ** 3 + np.cos(4 * x - 2) * 5 \n",
    "\n",
    "x, y, p = get_xypdata(-2, 4, 50, 0, 1, f)\n",
    "\n",
    "x_pred = np.linspace(-2, 4, 100)\n",
    "f_pred = LeastSquare(x, y, p, 4)\n",
    "y_pred = [f_pred(xi) for xi in x_pred]\n",
    "\n",
    "f_coeffs = LeastSquaresCoefs(x, y, p, 3)\n",
    "str = \" + \".join([f\"{f_coeffs[i]} * x^{i}\" for i in range(3 + 1)])\n",
    "print(f\"Решение: {str}\")\n",
    "\n",
    "fig = px.line()\n",
    "fig.add_trace(go.Scatter(x=x, y=y, name=\"Функция\"))\n",
    "fig.add_trace(go.Scatter(x=x_pred, y=y_pred, name=\"Приближение\"))\n",
    "fig.show()"
   ]
  },
  {
   "cell_type": "markdown",
   "metadata": {},
   "source": [
    "# Аппроксимация функций двух переменных"
   ]
  },
  {
   "cell_type": "markdown",
   "metadata": {},
   "source": [
    "### Тесты из файлов"
   ]
  },
  {
   "cell_type": "code",
   "execution_count": null,
   "metadata": {},
   "outputs": [],
   "source": [
    "x, y, z, p = read_xypzdata(\"data/tmp43\")\n",
    "\n",
    "func = LeastSquare2D(x, y, z, p, 3)\n",
    "\n",
    "x_pred = np.linspace(min(x), max(x), 40)\n",
    "y_pred = np.linspace(min(y), max(y), 40)\n",
    "z_graph = [[func(xi, yi) for xi in x_pred]for yi in y_pred]\n",
    "\n",
    "fcoeffs = LeastSquaresCoeffs2D(x, y, z, p, 1)\n",
    "\n",
    "\n",
    "fig = px.scatter_3d(x=x, y=y, z=z)\n",
    "fig.add_trace(go.Surface(x=x_pred, y=y_pred, z=z_graph))\n",
    "fig.show()"
   ]
  },
  {
   "cell_type": "code",
   "execution_count": null,
   "metadata": {},
   "outputs": [],
   "source": [
    "x, y, z, p = read_xypzdata(\"data/tmp44\")\n",
    "\n",
    "func = LeastSquare2D(x, y, z, p, 3)\n",
    "\n",
    "x_pred = np.linspace(min(x), max(x), 40)\n",
    "y_pred = np.linspace(min(y), max(y), 40)\n",
    "z_graph = [[func(xi, yi) for xi in x_pred]for yi in y_pred]\n",
    "\n",
    "fig = px.scatter_3d(x=x, y=y, z=z)\n",
    "fig.add_trace(go.Surface(x=x_pred, y=y_pred, z=z_graph))\n",
    "fig.show()"
   ]
  },
  {
   "cell_type": "markdown",
   "metadata": {},
   "source": [
    "### Тесты по функциям"
   ]
  },
  {
   "cell_type": "code",
   "execution_count": null,
   "metadata": {},
   "outputs": [],
   "source": [
    "def f(x, y):\n",
    "    return np.cos(x) * np.sin(y)\n",
    "x, y, z, p = get_xyzpdata(-2, 3, 10, -2, 3, 10, 0, 1, f)\n",
    "\n",
    "func = LeastSquare2D(x, y, z, p, 4)\n",
    "\n",
    "x_pred = np.linspace(min(x), max(x), 40)\n",
    "y_pred = np.linspace(min(y), max(y), 40)\n",
    "z_graph = [[func(xi, yi) for xi in x_pred]for yi in y_pred]\n",
    "\n",
    "fig = px.scatter_3d(x=x, y=y, z=z)\n",
    "fig.add_trace(go.Surface(x=x_pred, y=y_pred, z=z_graph))\n",
    "fig.show()"
   ]
  },
  {
   "cell_type": "markdown",
   "metadata": {},
   "source": [
    "# Приближённое решение ОДУ"
   ]
  },
  {
   "cell_type": "code",
   "execution_count": null,
   "metadata": {},
   "outputs": [],
   "source": [
    "def ODESolution(x):\n",
    "    return ((-(np.exp(0.5) + 1) / erfi(1 / np.sqrt(2))) * erfi(x / np.sqrt(2)) + 1) / np.exp(x ** 2 / 2) + x\n",
    "\n",
    "def f0(x):\n",
    "    return 1 - x\n",
    "\n",
    "def f1(x):\n",
    "    return x * (1 - x)\n",
    "\n",
    "def f2(x):\n",
    "    return x ** 2 * (1 - x)\n",
    "\n",
    "def f3(x):\n",
    "    return x ** 3 * (1 - x)\n",
    "\n",
    "def f4(x):\n",
    "    return x**4 * (1 - x)\n",
    "\n",
    "def c0(x):\n",
    "    return 1 - 4 * x\n",
    "\n",
    "def c1(x):\n",
    "    return - 2 + 2 * x - 3 * x**2\n",
    "\n",
    "def c2(x):\n",
    "    return 2 - 6 * x + 3 * x**2 - 4 * x**3\n",
    "\n",
    "def c3(x):\n",
    "    return 6 * x - 12 * x**2 + 4 * x**3 - 5 * x**4\n",
    "\n",
    "def c4(x):\n",
    "    return 12 * x**2 - 20 * x**3 + 5 * x**4 + 6 * x**5\n",
    "\n",
    "x = np.linspace(0, 1, 100)\n",
    "y = [ODESolution(xp) for xp in x]\n",
    "\n",
    "x_pred = np.linspace(0, 1, 10)\n",
    "f_pred2, c_pred2 = GetApproximateODE(x_pred, 2, [f0, f1, f2], [c0, c1, c2])\n",
    "f_pred3, c_pred3 = GetApproximateODE(x_pred, 3, [f0, f1, f2, f3], [c0, c1, c2, c3])\n",
    "f_pred4, c_pred4 = GetApproximateODE(x_pred, 4, [f0, f1, f2, f3, f4], [c0, c1, c2, c3, c4])\n",
    "\n",
    "print(f\"Решение степени 2: 1 - x + {c_pred2[0]}x(1 - x) + {c_pred2[1]}x^2(1-x)\")\n",
    "print(f\"Решение степени 3: 1 - x + {c_pred3[0]}x(1 - x) + {c_pred3[1]}x^2(1-x) + {c_pred3[2]}x^3(1-x)\")\n",
    "print(f\"Решение степени 4: 1 - x + {c_pred4[0]}x(1 - x) + {c_pred4[1]}x^2(1-x) + {c_pred4[2]}x^3(1-x) + {c_pred4[3]}x^4(1-x)\")\n",
    "\n",
    "y_pred2 = [f_pred2(xp) for xp in x]\n",
    "y_pred3 = [f_pred3(xp) for xp in x]\n",
    "y_pred4 = [f_pred4(xp) for xp in x]\n",
    "\n",
    "fig = px.line()\n",
    "fig.add_trace(go.Scatter(x=x, y=y, name=\"Точное решение\"))\n",
    "fig.add_trace(go.Scatter(x=x, y=y_pred2, name=\"Приближенное при степени 2\"))\n",
    "fig.add_trace(go.Scatter(x=x, y=y_pred3, name=\"Приближенное при степени 3\"))\n",
    "fig.add_trace(go.Scatter(x=x, y=y_pred4, name=\"Приближенное при степени 4\"))\n",
    "\n",
    "fig.show()"
   ]
  }
 ],
 "metadata": {
  "kernelspec": {
   "display_name": "Python 3",
   "language": "python",
   "name": "python3"
  },
  "language_info": {
   "codemirror_mode": {
    "name": "ipython",
    "version": 3
   },
   "file_extension": ".py",
   "mimetype": "text/x-python",
   "name": "python",
   "nbconvert_exporter": "python",
   "pygments_lexer": "ipython3",
   "version": "3.11.6"
  }
 },
 "nbformat": 4,
 "nbformat_minor": 2
}
