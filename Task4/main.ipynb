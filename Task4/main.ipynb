{
 "cells": [
  {
   "cell_type": "code",
   "execution_count": null,
   "metadata": {},
   "outputs": [],
   "source": [
    "import plotly.express as px\n",
    "import plotly.graph_objects as go\n",
    "from MathMethod import LeastSquare\n",
    "from Utility import *\n",
    "import numpy as np"
   ]
  },
  {
   "cell_type": "code",
   "execution_count": null,
   "metadata": {},
   "outputs": [],
   "source": [
    "def f(x):\n",
    "    return x ** 2\n",
    "\n",
    "x, y, p = get_xypdata(-10, 12, 50, 0, 1, f)\n",
    "\n",
    "x_pred = np.linspace(-10, 12, 10)\n",
    "y_pred = [LeastSquare(x, y, p, 4, xi) for xi in x_pred]\n",
    "\n",
    "fig = px.line(x=x, y=y)\n",
    "fig.add_trace(go.Scatter(x=x_pred, y=y_pred))\n",
    "fig.show()"
   ]
  },
  {
   "cell_type": "code",
   "execution_count": null,
   "metadata": {},
   "outputs": [],
   "source": [
    "def f(x):\n",
    "    return x ** 3 + np.cos(4 * x - 2) * 5 \n",
    "\n",
    "x, y, p = get_xypdata(-2, 4, 50, 0, 1, f)\n",
    "\n",
    "x_pred = np.linspace(-2, 4, 20)\n",
    "y_pred = [LeastSquare(x, y, p, 4, xi) for xi in x_pred]\n",
    "\n",
    "fig = px.line(x=x, y=y)\n",
    "fig.add_trace(go.Scatter(x=x_pred, y=y_pred))\n",
    "fig.show()"
   ]
  },
  {
   "cell_type": "code",
   "execution_count": null,
   "metadata": {},
   "outputs": [],
   "source": [
    "x, y, p = read_xypdata(\"data/tmp41\")\n",
    "\n",
    "x_pred = np.linspace(min(x), max(x), 20)\n",
    "y_pred = [LeastSquare(x, y, p, 3, xi) for xi in x_pred]\n",
    "\n",
    "fig = px.line(x=x, y=y)\n",
    "fig.add_trace(go.Scatter(x=x_pred, y=y_pred))\n",
    "fig.show()"
   ]
  },
  {
   "cell_type": "code",
   "execution_count": null,
   "metadata": {},
   "outputs": [],
   "source": [
    "x, y, p = read_xypdata(\"data/tmp42\")\n",
    "\n",
    "x_pred = np.linspace(min(x), max(x), 20)\n",
    "y_pred = [LeastSquare(x, y, p, 2, xi) for xi in x_pred]\n",
    "\n",
    "fig = px.line(x=x, y=y)\n",
    "fig.add_trace(go.Scatter(x=x_pred, y=y_pred))\n",
    "fig.show()"
   ]
  }
 ],
 "metadata": {
  "kernelspec": {
   "display_name": "Python 3",
   "language": "python",
   "name": "python3"
  },
  "language_info": {
   "codemirror_mode": {
    "name": "ipython",
    "version": 3
   },
   "file_extension": ".py",
   "mimetype": "text/x-python",
   "name": "python",
   "nbconvert_exporter": "python",
   "pygments_lexer": "ipython3",
   "version": "3.11.6"
  }
 },
 "nbformat": 4,
 "nbformat_minor": 2
}
