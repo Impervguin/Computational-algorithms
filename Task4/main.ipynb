{
 "cells": [
  {
   "cell_type": "markdown",
   "metadata": {},
   "source": [
    "# Импорты"
   ]
  },
  {
   "cell_type": "code",
   "execution_count": 42,
   "metadata": {},
   "outputs": [],
   "source": [
    "import plotly.express as px\n",
    "import plotly.graph_objects as go\n",
    "from MathMethod import *\n",
    "from Utility import *\n",
    "import numpy as np\n",
    "from scipy.special import erfi"
   ]
  },
  {
   "cell_type": "markdown",
   "metadata": {},
   "source": [
    "# Аппроксимация функций Одной переменной"
   ]
  },
  {
   "cell_type": "markdown",
   "metadata": {},
   "source": [
    "### Тесты из файлов"
   ]
  },
  {
   "cell_type": "code",
   "execution_count": 43,
   "metadata": {},
   "outputs": [
    {
     "name": "stdout",
     "output_type": "stream",
     "text": [
      "Решение: 1.0000699681426741 * x^0 + -0.6958698411630357 * x^1 + 0.12764704906710753 * x^2 + -0.007052006495080403 * x^3\n"
     ]
    },
    {
     "data": {
      "application/vnd.plotly.v1+json": {
       "config": {
        "plotlyServerURL": "https://plot.ly"
       },
       "data": [
        {
         "hovertemplate": "x=%{x}<br>y=%{y}<extra></extra>",
         "legendgroup": "",
         "line": {
          "color": "#636efa",
          "dash": "solid"
         },
         "marker": {
          "symbol": "circle"
         },
         "mode": "lines",
         "name": "",
         "orientation": "v",
         "showlegend": false,
         "type": "scatter",
         "x": [
          0,
          2.5,
          5,
          7.5,
          10
         ],
         "xaxis": "x",
         "y": [
          1,
          -0.048,
          -0.178,
          0.266,
          -0.246
         ],
         "yaxis": "y"
        },
        {
         "type": "scatter",
         "x": [
          0,
          0.5263157894736842,
          1.0526315789473684,
          1.5789473684210527,
          2.1052631578947367,
          2.631578947368421,
          3.1578947368421053,
          3.6842105263157894,
          4.2105263157894735,
          4.7368421052631575,
          5.263157894736842,
          5.789473684210526,
          6.315789473684211,
          6.842105263157895,
          7.368421052631579,
          7.894736842105263,
          8.421052631578947,
          8.947368421052632,
          9.473684210526315,
          10
         ],
         "y": [
          1.0000699681426741,
          0.6681538375309035,
          0.4007874587028515,
          0.1918019967014568,
          0.03502861656965878,
          -0.07570151664960423,
          -0.14655723791339337,
          -0.18370738217876953,
          -0.19332078440279354,
          -0.1815662795425267,
          -0.15461270255503123,
          -0.11862888839736696,
          -0.07978367202659609,
          -0.04424588839977961,
          -0.018184372473977195,
          -0.00776795920625073,
          -0.019165483553662988,
          -0.05854578047327408,
          -0.132077684922141,
          -0.2459300318573332
         ]
        }
       ],
       "layout": {
        "legend": {
         "tracegroupgap": 0
        },
        "margin": {
         "t": 60
        },
        "template": {
         "data": {
          "bar": [
           {
            "error_x": {
             "color": "#2a3f5f"
            },
            "error_y": {
             "color": "#2a3f5f"
            },
            "marker": {
             "line": {
              "color": "#E5ECF6",
              "width": 0.5
             },
             "pattern": {
              "fillmode": "overlay",
              "size": 10,
              "solidity": 0.2
             }
            },
            "type": "bar"
           }
          ],
          "barpolar": [
           {
            "marker": {
             "line": {
              "color": "#E5ECF6",
              "width": 0.5
             },
             "pattern": {
              "fillmode": "overlay",
              "size": 10,
              "solidity": 0.2
             }
            },
            "type": "barpolar"
           }
          ],
          "carpet": [
           {
            "aaxis": {
             "endlinecolor": "#2a3f5f",
             "gridcolor": "white",
             "linecolor": "white",
             "minorgridcolor": "white",
             "startlinecolor": "#2a3f5f"
            },
            "baxis": {
             "endlinecolor": "#2a3f5f",
             "gridcolor": "white",
             "linecolor": "white",
             "minorgridcolor": "white",
             "startlinecolor": "#2a3f5f"
            },
            "type": "carpet"
           }
          ],
          "choropleth": [
           {
            "colorbar": {
             "outlinewidth": 0,
             "ticks": ""
            },
            "type": "choropleth"
           }
          ],
          "contour": [
           {
            "colorbar": {
             "outlinewidth": 0,
             "ticks": ""
            },
            "colorscale": [
             [
              0,
              "#0d0887"
             ],
             [
              0.1111111111111111,
              "#46039f"
             ],
             [
              0.2222222222222222,
              "#7201a8"
             ],
             [
              0.3333333333333333,
              "#9c179e"
             ],
             [
              0.4444444444444444,
              "#bd3786"
             ],
             [
              0.5555555555555556,
              "#d8576b"
             ],
             [
              0.6666666666666666,
              "#ed7953"
             ],
             [
              0.7777777777777778,
              "#fb9f3a"
             ],
             [
              0.8888888888888888,
              "#fdca26"
             ],
             [
              1,
              "#f0f921"
             ]
            ],
            "type": "contour"
           }
          ],
          "contourcarpet": [
           {
            "colorbar": {
             "outlinewidth": 0,
             "ticks": ""
            },
            "type": "contourcarpet"
           }
          ],
          "heatmap": [
           {
            "colorbar": {
             "outlinewidth": 0,
             "ticks": ""
            },
            "colorscale": [
             [
              0,
              "#0d0887"
             ],
             [
              0.1111111111111111,
              "#46039f"
             ],
             [
              0.2222222222222222,
              "#7201a8"
             ],
             [
              0.3333333333333333,
              "#9c179e"
             ],
             [
              0.4444444444444444,
              "#bd3786"
             ],
             [
              0.5555555555555556,
              "#d8576b"
             ],
             [
              0.6666666666666666,
              "#ed7953"
             ],
             [
              0.7777777777777778,
              "#fb9f3a"
             ],
             [
              0.8888888888888888,
              "#fdca26"
             ],
             [
              1,
              "#f0f921"
             ]
            ],
            "type": "heatmap"
           }
          ],
          "heatmapgl": [
           {
            "colorbar": {
             "outlinewidth": 0,
             "ticks": ""
            },
            "colorscale": [
             [
              0,
              "#0d0887"
             ],
             [
              0.1111111111111111,
              "#46039f"
             ],
             [
              0.2222222222222222,
              "#7201a8"
             ],
             [
              0.3333333333333333,
              "#9c179e"
             ],
             [
              0.4444444444444444,
              "#bd3786"
             ],
             [
              0.5555555555555556,
              "#d8576b"
             ],
             [
              0.6666666666666666,
              "#ed7953"
             ],
             [
              0.7777777777777778,
              "#fb9f3a"
             ],
             [
              0.8888888888888888,
              "#fdca26"
             ],
             [
              1,
              "#f0f921"
             ]
            ],
            "type": "heatmapgl"
           }
          ],
          "histogram": [
           {
            "marker": {
             "pattern": {
              "fillmode": "overlay",
              "size": 10,
              "solidity": 0.2
             }
            },
            "type": "histogram"
           }
          ],
          "histogram2d": [
           {
            "colorbar": {
             "outlinewidth": 0,
             "ticks": ""
            },
            "colorscale": [
             [
              0,
              "#0d0887"
             ],
             [
              0.1111111111111111,
              "#46039f"
             ],
             [
              0.2222222222222222,
              "#7201a8"
             ],
             [
              0.3333333333333333,
              "#9c179e"
             ],
             [
              0.4444444444444444,
              "#bd3786"
             ],
             [
              0.5555555555555556,
              "#d8576b"
             ],
             [
              0.6666666666666666,
              "#ed7953"
             ],
             [
              0.7777777777777778,
              "#fb9f3a"
             ],
             [
              0.8888888888888888,
              "#fdca26"
             ],
             [
              1,
              "#f0f921"
             ]
            ],
            "type": "histogram2d"
           }
          ],
          "histogram2dcontour": [
           {
            "colorbar": {
             "outlinewidth": 0,
             "ticks": ""
            },
            "colorscale": [
             [
              0,
              "#0d0887"
             ],
             [
              0.1111111111111111,
              "#46039f"
             ],
             [
              0.2222222222222222,
              "#7201a8"
             ],
             [
              0.3333333333333333,
              "#9c179e"
             ],
             [
              0.4444444444444444,
              "#bd3786"
             ],
             [
              0.5555555555555556,
              "#d8576b"
             ],
             [
              0.6666666666666666,
              "#ed7953"
             ],
             [
              0.7777777777777778,
              "#fb9f3a"
             ],
             [
              0.8888888888888888,
              "#fdca26"
             ],
             [
              1,
              "#f0f921"
             ]
            ],
            "type": "histogram2dcontour"
           }
          ],
          "mesh3d": [
           {
            "colorbar": {
             "outlinewidth": 0,
             "ticks": ""
            },
            "type": "mesh3d"
           }
          ],
          "parcoords": [
           {
            "line": {
             "colorbar": {
              "outlinewidth": 0,
              "ticks": ""
             }
            },
            "type": "parcoords"
           }
          ],
          "pie": [
           {
            "automargin": true,
            "type": "pie"
           }
          ],
          "scatter": [
           {
            "fillpattern": {
             "fillmode": "overlay",
             "size": 10,
             "solidity": 0.2
            },
            "type": "scatter"
           }
          ],
          "scatter3d": [
           {
            "line": {
             "colorbar": {
              "outlinewidth": 0,
              "ticks": ""
             }
            },
            "marker": {
             "colorbar": {
              "outlinewidth": 0,
              "ticks": ""
             }
            },
            "type": "scatter3d"
           }
          ],
          "scattercarpet": [
           {
            "marker": {
             "colorbar": {
              "outlinewidth": 0,
              "ticks": ""
             }
            },
            "type": "scattercarpet"
           }
          ],
          "scattergeo": [
           {
            "marker": {
             "colorbar": {
              "outlinewidth": 0,
              "ticks": ""
             }
            },
            "type": "scattergeo"
           }
          ],
          "scattergl": [
           {
            "marker": {
             "colorbar": {
              "outlinewidth": 0,
              "ticks": ""
             }
            },
            "type": "scattergl"
           }
          ],
          "scattermapbox": [
           {
            "marker": {
             "colorbar": {
              "outlinewidth": 0,
              "ticks": ""
             }
            },
            "type": "scattermapbox"
           }
          ],
          "scatterpolar": [
           {
            "marker": {
             "colorbar": {
              "outlinewidth": 0,
              "ticks": ""
             }
            },
            "type": "scatterpolar"
           }
          ],
          "scatterpolargl": [
           {
            "marker": {
             "colorbar": {
              "outlinewidth": 0,
              "ticks": ""
             }
            },
            "type": "scatterpolargl"
           }
          ],
          "scatterternary": [
           {
            "marker": {
             "colorbar": {
              "outlinewidth": 0,
              "ticks": ""
             }
            },
            "type": "scatterternary"
           }
          ],
          "surface": [
           {
            "colorbar": {
             "outlinewidth": 0,
             "ticks": ""
            },
            "colorscale": [
             [
              0,
              "#0d0887"
             ],
             [
              0.1111111111111111,
              "#46039f"
             ],
             [
              0.2222222222222222,
              "#7201a8"
             ],
             [
              0.3333333333333333,
              "#9c179e"
             ],
             [
              0.4444444444444444,
              "#bd3786"
             ],
             [
              0.5555555555555556,
              "#d8576b"
             ],
             [
              0.6666666666666666,
              "#ed7953"
             ],
             [
              0.7777777777777778,
              "#fb9f3a"
             ],
             [
              0.8888888888888888,
              "#fdca26"
             ],
             [
              1,
              "#f0f921"
             ]
            ],
            "type": "surface"
           }
          ],
          "table": [
           {
            "cells": {
             "fill": {
              "color": "#EBF0F8"
             },
             "line": {
              "color": "white"
             }
            },
            "header": {
             "fill": {
              "color": "#C8D4E3"
             },
             "line": {
              "color": "white"
             }
            },
            "type": "table"
           }
          ]
         },
         "layout": {
          "annotationdefaults": {
           "arrowcolor": "#2a3f5f",
           "arrowhead": 0,
           "arrowwidth": 1
          },
          "autotypenumbers": "strict",
          "coloraxis": {
           "colorbar": {
            "outlinewidth": 0,
            "ticks": ""
           }
          },
          "colorscale": {
           "diverging": [
            [
             0,
             "#8e0152"
            ],
            [
             0.1,
             "#c51b7d"
            ],
            [
             0.2,
             "#de77ae"
            ],
            [
             0.3,
             "#f1b6da"
            ],
            [
             0.4,
             "#fde0ef"
            ],
            [
             0.5,
             "#f7f7f7"
            ],
            [
             0.6,
             "#e6f5d0"
            ],
            [
             0.7,
             "#b8e186"
            ],
            [
             0.8,
             "#7fbc41"
            ],
            [
             0.9,
             "#4d9221"
            ],
            [
             1,
             "#276419"
            ]
           ],
           "sequential": [
            [
             0,
             "#0d0887"
            ],
            [
             0.1111111111111111,
             "#46039f"
            ],
            [
             0.2222222222222222,
             "#7201a8"
            ],
            [
             0.3333333333333333,
             "#9c179e"
            ],
            [
             0.4444444444444444,
             "#bd3786"
            ],
            [
             0.5555555555555556,
             "#d8576b"
            ],
            [
             0.6666666666666666,
             "#ed7953"
            ],
            [
             0.7777777777777778,
             "#fb9f3a"
            ],
            [
             0.8888888888888888,
             "#fdca26"
            ],
            [
             1,
             "#f0f921"
            ]
           ],
           "sequentialminus": [
            [
             0,
             "#0d0887"
            ],
            [
             0.1111111111111111,
             "#46039f"
            ],
            [
             0.2222222222222222,
             "#7201a8"
            ],
            [
             0.3333333333333333,
             "#9c179e"
            ],
            [
             0.4444444444444444,
             "#bd3786"
            ],
            [
             0.5555555555555556,
             "#d8576b"
            ],
            [
             0.6666666666666666,
             "#ed7953"
            ],
            [
             0.7777777777777778,
             "#fb9f3a"
            ],
            [
             0.8888888888888888,
             "#fdca26"
            ],
            [
             1,
             "#f0f921"
            ]
           ]
          },
          "colorway": [
           "#636efa",
           "#EF553B",
           "#00cc96",
           "#ab63fa",
           "#FFA15A",
           "#19d3f3",
           "#FF6692",
           "#B6E880",
           "#FF97FF",
           "#FECB52"
          ],
          "font": {
           "color": "#2a3f5f"
          },
          "geo": {
           "bgcolor": "white",
           "lakecolor": "white",
           "landcolor": "#E5ECF6",
           "showlakes": true,
           "showland": true,
           "subunitcolor": "white"
          },
          "hoverlabel": {
           "align": "left"
          },
          "hovermode": "closest",
          "mapbox": {
           "style": "light"
          },
          "paper_bgcolor": "white",
          "plot_bgcolor": "#E5ECF6",
          "polar": {
           "angularaxis": {
            "gridcolor": "white",
            "linecolor": "white",
            "ticks": ""
           },
           "bgcolor": "#E5ECF6",
           "radialaxis": {
            "gridcolor": "white",
            "linecolor": "white",
            "ticks": ""
           }
          },
          "scene": {
           "xaxis": {
            "backgroundcolor": "#E5ECF6",
            "gridcolor": "white",
            "gridwidth": 2,
            "linecolor": "white",
            "showbackground": true,
            "ticks": "",
            "zerolinecolor": "white"
           },
           "yaxis": {
            "backgroundcolor": "#E5ECF6",
            "gridcolor": "white",
            "gridwidth": 2,
            "linecolor": "white",
            "showbackground": true,
            "ticks": "",
            "zerolinecolor": "white"
           },
           "zaxis": {
            "backgroundcolor": "#E5ECF6",
            "gridcolor": "white",
            "gridwidth": 2,
            "linecolor": "white",
            "showbackground": true,
            "ticks": "",
            "zerolinecolor": "white"
           }
          },
          "shapedefaults": {
           "line": {
            "color": "#2a3f5f"
           }
          },
          "ternary": {
           "aaxis": {
            "gridcolor": "white",
            "linecolor": "white",
            "ticks": ""
           },
           "baxis": {
            "gridcolor": "white",
            "linecolor": "white",
            "ticks": ""
           },
           "bgcolor": "#E5ECF6",
           "caxis": {
            "gridcolor": "white",
            "linecolor": "white",
            "ticks": ""
           }
          },
          "title": {
           "x": 0.05
          },
          "xaxis": {
           "automargin": true,
           "gridcolor": "white",
           "linecolor": "white",
           "ticks": "",
           "title": {
            "standoff": 15
           },
           "zerolinecolor": "white",
           "zerolinewidth": 2
          },
          "yaxis": {
           "automargin": true,
           "gridcolor": "white",
           "linecolor": "white",
           "ticks": "",
           "title": {
            "standoff": 15
           },
           "zerolinecolor": "white",
           "zerolinewidth": 2
          }
         }
        },
        "xaxis": {
         "anchor": "y",
         "domain": [
          0,
          1
         ],
         "title": {
          "text": "x"
         }
        },
        "yaxis": {
         "anchor": "x",
         "domain": [
          0,
          1
         ],
         "title": {
          "text": "y"
         }
        }
       }
      }
     },
     "metadata": {},
     "output_type": "display_data"
    }
   ],
   "source": [
    "x, y, p = read_xypdata(\"data/tmp41\")\n",
    "\n",
    "x_pred = np.linspace(min(x), max(x), 20)\n",
    "f_pred = LeastSquare(x, y, p, 3)\n",
    "y_pred = [f_pred(xi) for xi in x_pred]\n",
    "\n",
    "f_coeffs = LeastSquaresCoefs(x, y, p, 3)\n",
    "str = \" + \".join([f\"{f_coeffs[i]} * x^{i}\" for i in range(3 + 1)])\n",
    "print(f\"Решение: {str}\")\n",
    "\n",
    "\n",
    "fig = px.line(x=x, y=y)\n",
    "fig.add_trace(go.Scatter(x=x_pred, y=y_pred))\n",
    "fig.show()"
   ]
  },
  {
   "cell_type": "code",
   "execution_count": 44,
   "metadata": {},
   "outputs": [
    {
     "name": "stdout",
     "output_type": "stream",
     "text": [
      "Решение: -0.646044532725473 * x^0 + -0.012010583740071124 * x^1 + 0.010576813640502059 * x^2 + 0.49761786335904185 * x^3\n"
     ]
    },
    {
     "data": {
      "application/vnd.plotly.v1+json": {
       "config": {
        "plotlyServerURL": "https://plot.ly"
       },
       "data": [
        {
         "hovertemplate": "x=%{x}<br>y=%{y}<extra></extra>",
         "legendgroup": "",
         "line": {
          "color": "#636efa",
          "dash": "solid"
         },
         "marker": {
          "symbol": "circle"
         },
         "mode": "lines",
         "name": "",
         "orientation": "v",
         "showlegend": false,
         "type": "scatter",
         "x": [
          0,
          0.524,
          1.047,
          1.571,
          2.094,
          2.618,
          3.142
         ],
         "xaxis": "x",
         "y": [
          -0.648,
          -0.576,
          -0.074,
          1.29,
          3.946,
          8.324,
          14.855
         ],
         "yaxis": "y"
        },
        {
         "type": "scatter",
         "x": [
          0,
          0.16536842105263158,
          0.33073684210526316,
          0.4961052631578947,
          0.6614736842105263,
          0.8268421052631579,
          0.9922105263157894,
          1.157578947368421,
          1.3229473684210526,
          1.4883157894736843,
          1.6536842105263159,
          1.8190526315789475,
          1.9844210526315789,
          2.1497894736842107,
          2.315157894736842,
          2.480526315789474,
          2.6458947368421053,
          2.8112631578947367,
          2.9766315789473685,
          3.142
         ],
         "y": [
          0.2216601392724505,
          -0.2297956175771284,
          -0.5489130465764942,
          -0.735692147725647,
          -0.7901329210245869,
          -0.7122353664733132,
          -0.5019994840718267,
          -0.15942527382012717,
          0.315487264281785,
          0.9227381302339115,
          1.6623273240362506,
          2.534254845688803,
          3.5385206951915666,
          4.675124872544545,
          5.944067377747736,
          7.345348210801143,
          8.878967371704757,
          10.544924860458588,
          12.343220677062634,
          14.273854821516888
         ]
        }
       ],
       "layout": {
        "legend": {
         "tracegroupgap": 0
        },
        "margin": {
         "t": 60
        },
        "template": {
         "data": {
          "bar": [
           {
            "error_x": {
             "color": "#2a3f5f"
            },
            "error_y": {
             "color": "#2a3f5f"
            },
            "marker": {
             "line": {
              "color": "#E5ECF6",
              "width": 0.5
             },
             "pattern": {
              "fillmode": "overlay",
              "size": 10,
              "solidity": 0.2
             }
            },
            "type": "bar"
           }
          ],
          "barpolar": [
           {
            "marker": {
             "line": {
              "color": "#E5ECF6",
              "width": 0.5
             },
             "pattern": {
              "fillmode": "overlay",
              "size": 10,
              "solidity": 0.2
             }
            },
            "type": "barpolar"
           }
          ],
          "carpet": [
           {
            "aaxis": {
             "endlinecolor": "#2a3f5f",
             "gridcolor": "white",
             "linecolor": "white",
             "minorgridcolor": "white",
             "startlinecolor": "#2a3f5f"
            },
            "baxis": {
             "endlinecolor": "#2a3f5f",
             "gridcolor": "white",
             "linecolor": "white",
             "minorgridcolor": "white",
             "startlinecolor": "#2a3f5f"
            },
            "type": "carpet"
           }
          ],
          "choropleth": [
           {
            "colorbar": {
             "outlinewidth": 0,
             "ticks": ""
            },
            "type": "choropleth"
           }
          ],
          "contour": [
           {
            "colorbar": {
             "outlinewidth": 0,
             "ticks": ""
            },
            "colorscale": [
             [
              0,
              "#0d0887"
             ],
             [
              0.1111111111111111,
              "#46039f"
             ],
             [
              0.2222222222222222,
              "#7201a8"
             ],
             [
              0.3333333333333333,
              "#9c179e"
             ],
             [
              0.4444444444444444,
              "#bd3786"
             ],
             [
              0.5555555555555556,
              "#d8576b"
             ],
             [
              0.6666666666666666,
              "#ed7953"
             ],
             [
              0.7777777777777778,
              "#fb9f3a"
             ],
             [
              0.8888888888888888,
              "#fdca26"
             ],
             [
              1,
              "#f0f921"
             ]
            ],
            "type": "contour"
           }
          ],
          "contourcarpet": [
           {
            "colorbar": {
             "outlinewidth": 0,
             "ticks": ""
            },
            "type": "contourcarpet"
           }
          ],
          "heatmap": [
           {
            "colorbar": {
             "outlinewidth": 0,
             "ticks": ""
            },
            "colorscale": [
             [
              0,
              "#0d0887"
             ],
             [
              0.1111111111111111,
              "#46039f"
             ],
             [
              0.2222222222222222,
              "#7201a8"
             ],
             [
              0.3333333333333333,
              "#9c179e"
             ],
             [
              0.4444444444444444,
              "#bd3786"
             ],
             [
              0.5555555555555556,
              "#d8576b"
             ],
             [
              0.6666666666666666,
              "#ed7953"
             ],
             [
              0.7777777777777778,
              "#fb9f3a"
             ],
             [
              0.8888888888888888,
              "#fdca26"
             ],
             [
              1,
              "#f0f921"
             ]
            ],
            "type": "heatmap"
           }
          ],
          "heatmapgl": [
           {
            "colorbar": {
             "outlinewidth": 0,
             "ticks": ""
            },
            "colorscale": [
             [
              0,
              "#0d0887"
             ],
             [
              0.1111111111111111,
              "#46039f"
             ],
             [
              0.2222222222222222,
              "#7201a8"
             ],
             [
              0.3333333333333333,
              "#9c179e"
             ],
             [
              0.4444444444444444,
              "#bd3786"
             ],
             [
              0.5555555555555556,
              "#d8576b"
             ],
             [
              0.6666666666666666,
              "#ed7953"
             ],
             [
              0.7777777777777778,
              "#fb9f3a"
             ],
             [
              0.8888888888888888,
              "#fdca26"
             ],
             [
              1,
              "#f0f921"
             ]
            ],
            "type": "heatmapgl"
           }
          ],
          "histogram": [
           {
            "marker": {
             "pattern": {
              "fillmode": "overlay",
              "size": 10,
              "solidity": 0.2
             }
            },
            "type": "histogram"
           }
          ],
          "histogram2d": [
           {
            "colorbar": {
             "outlinewidth": 0,
             "ticks": ""
            },
            "colorscale": [
             [
              0,
              "#0d0887"
             ],
             [
              0.1111111111111111,
              "#46039f"
             ],
             [
              0.2222222222222222,
              "#7201a8"
             ],
             [
              0.3333333333333333,
              "#9c179e"
             ],
             [
              0.4444444444444444,
              "#bd3786"
             ],
             [
              0.5555555555555556,
              "#d8576b"
             ],
             [
              0.6666666666666666,
              "#ed7953"
             ],
             [
              0.7777777777777778,
              "#fb9f3a"
             ],
             [
              0.8888888888888888,
              "#fdca26"
             ],
             [
              1,
              "#f0f921"
             ]
            ],
            "type": "histogram2d"
           }
          ],
          "histogram2dcontour": [
           {
            "colorbar": {
             "outlinewidth": 0,
             "ticks": ""
            },
            "colorscale": [
             [
              0,
              "#0d0887"
             ],
             [
              0.1111111111111111,
              "#46039f"
             ],
             [
              0.2222222222222222,
              "#7201a8"
             ],
             [
              0.3333333333333333,
              "#9c179e"
             ],
             [
              0.4444444444444444,
              "#bd3786"
             ],
             [
              0.5555555555555556,
              "#d8576b"
             ],
             [
              0.6666666666666666,
              "#ed7953"
             ],
             [
              0.7777777777777778,
              "#fb9f3a"
             ],
             [
              0.8888888888888888,
              "#fdca26"
             ],
             [
              1,
              "#f0f921"
             ]
            ],
            "type": "histogram2dcontour"
           }
          ],
          "mesh3d": [
           {
            "colorbar": {
             "outlinewidth": 0,
             "ticks": ""
            },
            "type": "mesh3d"
           }
          ],
          "parcoords": [
           {
            "line": {
             "colorbar": {
              "outlinewidth": 0,
              "ticks": ""
             }
            },
            "type": "parcoords"
           }
          ],
          "pie": [
           {
            "automargin": true,
            "type": "pie"
           }
          ],
          "scatter": [
           {
            "fillpattern": {
             "fillmode": "overlay",
             "size": 10,
             "solidity": 0.2
            },
            "type": "scatter"
           }
          ],
          "scatter3d": [
           {
            "line": {
             "colorbar": {
              "outlinewidth": 0,
              "ticks": ""
             }
            },
            "marker": {
             "colorbar": {
              "outlinewidth": 0,
              "ticks": ""
             }
            },
            "type": "scatter3d"
           }
          ],
          "scattercarpet": [
           {
            "marker": {
             "colorbar": {
              "outlinewidth": 0,
              "ticks": ""
             }
            },
            "type": "scattercarpet"
           }
          ],
          "scattergeo": [
           {
            "marker": {
             "colorbar": {
              "outlinewidth": 0,
              "ticks": ""
             }
            },
            "type": "scattergeo"
           }
          ],
          "scattergl": [
           {
            "marker": {
             "colorbar": {
              "outlinewidth": 0,
              "ticks": ""
             }
            },
            "type": "scattergl"
           }
          ],
          "scattermapbox": [
           {
            "marker": {
             "colorbar": {
              "outlinewidth": 0,
              "ticks": ""
             }
            },
            "type": "scattermapbox"
           }
          ],
          "scatterpolar": [
           {
            "marker": {
             "colorbar": {
              "outlinewidth": 0,
              "ticks": ""
             }
            },
            "type": "scatterpolar"
           }
          ],
          "scatterpolargl": [
           {
            "marker": {
             "colorbar": {
              "outlinewidth": 0,
              "ticks": ""
             }
            },
            "type": "scatterpolargl"
           }
          ],
          "scatterternary": [
           {
            "marker": {
             "colorbar": {
              "outlinewidth": 0,
              "ticks": ""
             }
            },
            "type": "scatterternary"
           }
          ],
          "surface": [
           {
            "colorbar": {
             "outlinewidth": 0,
             "ticks": ""
            },
            "colorscale": [
             [
              0,
              "#0d0887"
             ],
             [
              0.1111111111111111,
              "#46039f"
             ],
             [
              0.2222222222222222,
              "#7201a8"
             ],
             [
              0.3333333333333333,
              "#9c179e"
             ],
             [
              0.4444444444444444,
              "#bd3786"
             ],
             [
              0.5555555555555556,
              "#d8576b"
             ],
             [
              0.6666666666666666,
              "#ed7953"
             ],
             [
              0.7777777777777778,
              "#fb9f3a"
             ],
             [
              0.8888888888888888,
              "#fdca26"
             ],
             [
              1,
              "#f0f921"
             ]
            ],
            "type": "surface"
           }
          ],
          "table": [
           {
            "cells": {
             "fill": {
              "color": "#EBF0F8"
             },
             "line": {
              "color": "white"
             }
            },
            "header": {
             "fill": {
              "color": "#C8D4E3"
             },
             "line": {
              "color": "white"
             }
            },
            "type": "table"
           }
          ]
         },
         "layout": {
          "annotationdefaults": {
           "arrowcolor": "#2a3f5f",
           "arrowhead": 0,
           "arrowwidth": 1
          },
          "autotypenumbers": "strict",
          "coloraxis": {
           "colorbar": {
            "outlinewidth": 0,
            "ticks": ""
           }
          },
          "colorscale": {
           "diverging": [
            [
             0,
             "#8e0152"
            ],
            [
             0.1,
             "#c51b7d"
            ],
            [
             0.2,
             "#de77ae"
            ],
            [
             0.3,
             "#f1b6da"
            ],
            [
             0.4,
             "#fde0ef"
            ],
            [
             0.5,
             "#f7f7f7"
            ],
            [
             0.6,
             "#e6f5d0"
            ],
            [
             0.7,
             "#b8e186"
            ],
            [
             0.8,
             "#7fbc41"
            ],
            [
             0.9,
             "#4d9221"
            ],
            [
             1,
             "#276419"
            ]
           ],
           "sequential": [
            [
             0,
             "#0d0887"
            ],
            [
             0.1111111111111111,
             "#46039f"
            ],
            [
             0.2222222222222222,
             "#7201a8"
            ],
            [
             0.3333333333333333,
             "#9c179e"
            ],
            [
             0.4444444444444444,
             "#bd3786"
            ],
            [
             0.5555555555555556,
             "#d8576b"
            ],
            [
             0.6666666666666666,
             "#ed7953"
            ],
            [
             0.7777777777777778,
             "#fb9f3a"
            ],
            [
             0.8888888888888888,
             "#fdca26"
            ],
            [
             1,
             "#f0f921"
            ]
           ],
           "sequentialminus": [
            [
             0,
             "#0d0887"
            ],
            [
             0.1111111111111111,
             "#46039f"
            ],
            [
             0.2222222222222222,
             "#7201a8"
            ],
            [
             0.3333333333333333,
             "#9c179e"
            ],
            [
             0.4444444444444444,
             "#bd3786"
            ],
            [
             0.5555555555555556,
             "#d8576b"
            ],
            [
             0.6666666666666666,
             "#ed7953"
            ],
            [
             0.7777777777777778,
             "#fb9f3a"
            ],
            [
             0.8888888888888888,
             "#fdca26"
            ],
            [
             1,
             "#f0f921"
            ]
           ]
          },
          "colorway": [
           "#636efa",
           "#EF553B",
           "#00cc96",
           "#ab63fa",
           "#FFA15A",
           "#19d3f3",
           "#FF6692",
           "#B6E880",
           "#FF97FF",
           "#FECB52"
          ],
          "font": {
           "color": "#2a3f5f"
          },
          "geo": {
           "bgcolor": "white",
           "lakecolor": "white",
           "landcolor": "#E5ECF6",
           "showlakes": true,
           "showland": true,
           "subunitcolor": "white"
          },
          "hoverlabel": {
           "align": "left"
          },
          "hovermode": "closest",
          "mapbox": {
           "style": "light"
          },
          "paper_bgcolor": "white",
          "plot_bgcolor": "#E5ECF6",
          "polar": {
           "angularaxis": {
            "gridcolor": "white",
            "linecolor": "white",
            "ticks": ""
           },
           "bgcolor": "#E5ECF6",
           "radialaxis": {
            "gridcolor": "white",
            "linecolor": "white",
            "ticks": ""
           }
          },
          "scene": {
           "xaxis": {
            "backgroundcolor": "#E5ECF6",
            "gridcolor": "white",
            "gridwidth": 2,
            "linecolor": "white",
            "showbackground": true,
            "ticks": "",
            "zerolinecolor": "white"
           },
           "yaxis": {
            "backgroundcolor": "#E5ECF6",
            "gridcolor": "white",
            "gridwidth": 2,
            "linecolor": "white",
            "showbackground": true,
            "ticks": "",
            "zerolinecolor": "white"
           },
           "zaxis": {
            "backgroundcolor": "#E5ECF6",
            "gridcolor": "white",
            "gridwidth": 2,
            "linecolor": "white",
            "showbackground": true,
            "ticks": "",
            "zerolinecolor": "white"
           }
          },
          "shapedefaults": {
           "line": {
            "color": "#2a3f5f"
           }
          },
          "ternary": {
           "aaxis": {
            "gridcolor": "white",
            "linecolor": "white",
            "ticks": ""
           },
           "baxis": {
            "gridcolor": "white",
            "linecolor": "white",
            "ticks": ""
           },
           "bgcolor": "#E5ECF6",
           "caxis": {
            "gridcolor": "white",
            "linecolor": "white",
            "ticks": ""
           }
          },
          "title": {
           "x": 0.05
          },
          "xaxis": {
           "automargin": true,
           "gridcolor": "white",
           "linecolor": "white",
           "ticks": "",
           "title": {
            "standoff": 15
           },
           "zerolinecolor": "white",
           "zerolinewidth": 2
          },
          "yaxis": {
           "automargin": true,
           "gridcolor": "white",
           "linecolor": "white",
           "ticks": "",
           "title": {
            "standoff": 15
           },
           "zerolinecolor": "white",
           "zerolinewidth": 2
          }
         }
        },
        "xaxis": {
         "anchor": "y",
         "domain": [
          0,
          1
         ],
         "title": {
          "text": "x"
         }
        },
        "yaxis": {
         "anchor": "x",
         "domain": [
          0,
          1
         ],
         "title": {
          "text": "y"
         }
        }
       }
      }
     },
     "metadata": {},
     "output_type": "display_data"
    }
   ],
   "source": [
    "x, y, p = read_xypdata(\"data/tmp42\")\n",
    "\n",
    "x_pred = np.linspace(min(x), max(x), 20)\n",
    "f_pred = LeastSquare(x, y, p, 2)\n",
    "y_pred = [f_pred(xi) for xi in x_pred]\n",
    "\n",
    "f_coeffs = LeastSquaresCoefs(x, y, p, 3)\n",
    "str = \" + \".join([f\"{f_coeffs[i]} * x^{i}\" for i in range(3 + 1)])\n",
    "print(f\"Решение: {str}\")\n",
    "\n",
    "fig = px.line(x=x, y=y)\n",
    "fig.add_trace(go.Scatter(x=x_pred, y=y_pred))\n",
    "fig.show()"
   ]
  },
  {
   "cell_type": "markdown",
   "metadata": {},
   "source": [
    "### Тесты по функциям"
   ]
  },
  {
   "cell_type": "code",
   "execution_count": 45,
   "metadata": {},
   "outputs": [
    {
     "name": "stdout",
     "output_type": "stream",
     "text": [
      "Решение: 6.008095180059214e-15 * x^0 + 8.51722121746131e-15 * x^1 + 1.0 * x^2 + -9.721421820138407e-17 * x^3\n"
     ]
    },
    {
     "data": {
      "application/vnd.plotly.v1+json": {
       "config": {
        "plotlyServerURL": "https://plot.ly"
       },
       "data": [
        {
         "hovertemplate": "<extra></extra>",
         "legendgroup": "",
         "line": {
          "color": "#636efa",
          "dash": "solid"
         },
         "marker": {
          "symbol": "circle"
         },
         "mode": "lines",
         "name": "",
         "orientation": "v",
         "showlegend": false,
         "type": "scatter",
         "xaxis": "x",
         "yaxis": "y"
        },
        {
         "name": "Функция",
         "type": "scatter",
         "x": [
          -10,
          -9.551020408163266,
          -9.10204081632653,
          -8.653061224489797,
          -8.204081632653061,
          -7.755102040816327,
          -7.3061224489795915,
          -6.857142857142858,
          -6.408163265306122,
          -5.959183673469388,
          -5.510204081632653,
          -5.061224489795919,
          -4.612244897959184,
          -4.163265306122449,
          -3.7142857142857144,
          -3.2653061224489797,
          -2.816326530612245,
          -2.36734693877551,
          -1.9183673469387763,
          -1.4693877551020407,
          -1.0204081632653068,
          -0.5714285714285712,
          -0.12244897959183731,
          0.3265306122448983,
          0.7755102040816322,
          1.2244897959183678,
          1.6734693877551017,
          2.1224489795918373,
          2.571428571428571,
          3.020408163265307,
          3.4693877551020407,
          3.9183673469387763,
          4.36734693877551,
          4.816326530612244,
          5.26530612244898,
          5.7142857142857135,
          6.163265306122447,
          6.612244897959183,
          7.061224489795919,
          7.510204081632654,
          7.959183673469386,
          8.408163265306122,
          8.857142857142858,
          9.306122448979593,
          9.755102040816325,
          10.204081632653061,
          10.653061224489797,
          11.102040816326532,
          11.551020408163264,
          12
         ],
         "y": [
          100,
          91.2219908371512,
          82.84714702207414,
          74.87546855476886,
          67.30695543523531,
          60.141607663473565,
          53.379425239483545,
          47.020408163265316,
          41.06455643481882,
          35.51187005414411,
          30.362349021241155,
          25.615993336109955,
          21.272802998750524,
          17.33277800916285,
          13.795918367346939,
          10.662224073302792,
          7.931695127030404,
          5.604331528529779,
          3.6801332778009193,
          2.1591003748438147,
          1.041232819658477,
          0.32653061224489766,
          0.014993752603082191,
          0.10662224073302815,
          0.6014160766347348,
          1.499375260308206,
          2.8004997917534347,
          4.504789670970432,
          6.612244897959182,
          9.122865472719704,
          12.036651395251978,
          15.353602665556025,
          19.07371928363182,
          23.197001249479374,
          27.72344856309871,
          32.65306122448979,
          37.98583923365263,
          43.721782590587246,
          49.860891295293634,
          56.40316534777178,
          63.348604748021636,
          70.69720949604331,
          78.44897959183675,
          86.60391503540194,
          95.16201582673884,
          104.12328196584755,
          113.48771345272804,
          123.2553102873803,
          133.42607246980424,
          144
         ]
        },
        {
         "name": "Приближение",
         "type": "scatter",
         "x": [
          -10,
          -7.555555555555555,
          -5.111111111111111,
          -2.666666666666666,
          -0.22222222222222143,
          2.222222222222223,
          4.666666666666668,
          7.111111111111114,
          9.555555555555557,
          12
         ],
         "y": [
          100.0000000000001,
          57.08641975308635,
          26.123456790123388,
          7.1111111111111,
          0.049382716049427344,
          4.938271604938337,
          21.77777777777782,
          50.56790123456794,
          91.30864197530865,
          144.00000000000006
         ]
        }
       ],
       "layout": {
        "legend": {
         "tracegroupgap": 0
        },
        "margin": {
         "t": 60
        },
        "template": {
         "data": {
          "bar": [
           {
            "error_x": {
             "color": "#2a3f5f"
            },
            "error_y": {
             "color": "#2a3f5f"
            },
            "marker": {
             "line": {
              "color": "#E5ECF6",
              "width": 0.5
             },
             "pattern": {
              "fillmode": "overlay",
              "size": 10,
              "solidity": 0.2
             }
            },
            "type": "bar"
           }
          ],
          "barpolar": [
           {
            "marker": {
             "line": {
              "color": "#E5ECF6",
              "width": 0.5
             },
             "pattern": {
              "fillmode": "overlay",
              "size": 10,
              "solidity": 0.2
             }
            },
            "type": "barpolar"
           }
          ],
          "carpet": [
           {
            "aaxis": {
             "endlinecolor": "#2a3f5f",
             "gridcolor": "white",
             "linecolor": "white",
             "minorgridcolor": "white",
             "startlinecolor": "#2a3f5f"
            },
            "baxis": {
             "endlinecolor": "#2a3f5f",
             "gridcolor": "white",
             "linecolor": "white",
             "minorgridcolor": "white",
             "startlinecolor": "#2a3f5f"
            },
            "type": "carpet"
           }
          ],
          "choropleth": [
           {
            "colorbar": {
             "outlinewidth": 0,
             "ticks": ""
            },
            "type": "choropleth"
           }
          ],
          "contour": [
           {
            "colorbar": {
             "outlinewidth": 0,
             "ticks": ""
            },
            "colorscale": [
             [
              0,
              "#0d0887"
             ],
             [
              0.1111111111111111,
              "#46039f"
             ],
             [
              0.2222222222222222,
              "#7201a8"
             ],
             [
              0.3333333333333333,
              "#9c179e"
             ],
             [
              0.4444444444444444,
              "#bd3786"
             ],
             [
              0.5555555555555556,
              "#d8576b"
             ],
             [
              0.6666666666666666,
              "#ed7953"
             ],
             [
              0.7777777777777778,
              "#fb9f3a"
             ],
             [
              0.8888888888888888,
              "#fdca26"
             ],
             [
              1,
              "#f0f921"
             ]
            ],
            "type": "contour"
           }
          ],
          "contourcarpet": [
           {
            "colorbar": {
             "outlinewidth": 0,
             "ticks": ""
            },
            "type": "contourcarpet"
           }
          ],
          "heatmap": [
           {
            "colorbar": {
             "outlinewidth": 0,
             "ticks": ""
            },
            "colorscale": [
             [
              0,
              "#0d0887"
             ],
             [
              0.1111111111111111,
              "#46039f"
             ],
             [
              0.2222222222222222,
              "#7201a8"
             ],
             [
              0.3333333333333333,
              "#9c179e"
             ],
             [
              0.4444444444444444,
              "#bd3786"
             ],
             [
              0.5555555555555556,
              "#d8576b"
             ],
             [
              0.6666666666666666,
              "#ed7953"
             ],
             [
              0.7777777777777778,
              "#fb9f3a"
             ],
             [
              0.8888888888888888,
              "#fdca26"
             ],
             [
              1,
              "#f0f921"
             ]
            ],
            "type": "heatmap"
           }
          ],
          "heatmapgl": [
           {
            "colorbar": {
             "outlinewidth": 0,
             "ticks": ""
            },
            "colorscale": [
             [
              0,
              "#0d0887"
             ],
             [
              0.1111111111111111,
              "#46039f"
             ],
             [
              0.2222222222222222,
              "#7201a8"
             ],
             [
              0.3333333333333333,
              "#9c179e"
             ],
             [
              0.4444444444444444,
              "#bd3786"
             ],
             [
              0.5555555555555556,
              "#d8576b"
             ],
             [
              0.6666666666666666,
              "#ed7953"
             ],
             [
              0.7777777777777778,
              "#fb9f3a"
             ],
             [
              0.8888888888888888,
              "#fdca26"
             ],
             [
              1,
              "#f0f921"
             ]
            ],
            "type": "heatmapgl"
           }
          ],
          "histogram": [
           {
            "marker": {
             "pattern": {
              "fillmode": "overlay",
              "size": 10,
              "solidity": 0.2
             }
            },
            "type": "histogram"
           }
          ],
          "histogram2d": [
           {
            "colorbar": {
             "outlinewidth": 0,
             "ticks": ""
            },
            "colorscale": [
             [
              0,
              "#0d0887"
             ],
             [
              0.1111111111111111,
              "#46039f"
             ],
             [
              0.2222222222222222,
              "#7201a8"
             ],
             [
              0.3333333333333333,
              "#9c179e"
             ],
             [
              0.4444444444444444,
              "#bd3786"
             ],
             [
              0.5555555555555556,
              "#d8576b"
             ],
             [
              0.6666666666666666,
              "#ed7953"
             ],
             [
              0.7777777777777778,
              "#fb9f3a"
             ],
             [
              0.8888888888888888,
              "#fdca26"
             ],
             [
              1,
              "#f0f921"
             ]
            ],
            "type": "histogram2d"
           }
          ],
          "histogram2dcontour": [
           {
            "colorbar": {
             "outlinewidth": 0,
             "ticks": ""
            },
            "colorscale": [
             [
              0,
              "#0d0887"
             ],
             [
              0.1111111111111111,
              "#46039f"
             ],
             [
              0.2222222222222222,
              "#7201a8"
             ],
             [
              0.3333333333333333,
              "#9c179e"
             ],
             [
              0.4444444444444444,
              "#bd3786"
             ],
             [
              0.5555555555555556,
              "#d8576b"
             ],
             [
              0.6666666666666666,
              "#ed7953"
             ],
             [
              0.7777777777777778,
              "#fb9f3a"
             ],
             [
              0.8888888888888888,
              "#fdca26"
             ],
             [
              1,
              "#f0f921"
             ]
            ],
            "type": "histogram2dcontour"
           }
          ],
          "mesh3d": [
           {
            "colorbar": {
             "outlinewidth": 0,
             "ticks": ""
            },
            "type": "mesh3d"
           }
          ],
          "parcoords": [
           {
            "line": {
             "colorbar": {
              "outlinewidth": 0,
              "ticks": ""
             }
            },
            "type": "parcoords"
           }
          ],
          "pie": [
           {
            "automargin": true,
            "type": "pie"
           }
          ],
          "scatter": [
           {
            "fillpattern": {
             "fillmode": "overlay",
             "size": 10,
             "solidity": 0.2
            },
            "type": "scatter"
           }
          ],
          "scatter3d": [
           {
            "line": {
             "colorbar": {
              "outlinewidth": 0,
              "ticks": ""
             }
            },
            "marker": {
             "colorbar": {
              "outlinewidth": 0,
              "ticks": ""
             }
            },
            "type": "scatter3d"
           }
          ],
          "scattercarpet": [
           {
            "marker": {
             "colorbar": {
              "outlinewidth": 0,
              "ticks": ""
             }
            },
            "type": "scattercarpet"
           }
          ],
          "scattergeo": [
           {
            "marker": {
             "colorbar": {
              "outlinewidth": 0,
              "ticks": ""
             }
            },
            "type": "scattergeo"
           }
          ],
          "scattergl": [
           {
            "marker": {
             "colorbar": {
              "outlinewidth": 0,
              "ticks": ""
             }
            },
            "type": "scattergl"
           }
          ],
          "scattermapbox": [
           {
            "marker": {
             "colorbar": {
              "outlinewidth": 0,
              "ticks": ""
             }
            },
            "type": "scattermapbox"
           }
          ],
          "scatterpolar": [
           {
            "marker": {
             "colorbar": {
              "outlinewidth": 0,
              "ticks": ""
             }
            },
            "type": "scatterpolar"
           }
          ],
          "scatterpolargl": [
           {
            "marker": {
             "colorbar": {
              "outlinewidth": 0,
              "ticks": ""
             }
            },
            "type": "scatterpolargl"
           }
          ],
          "scatterternary": [
           {
            "marker": {
             "colorbar": {
              "outlinewidth": 0,
              "ticks": ""
             }
            },
            "type": "scatterternary"
           }
          ],
          "surface": [
           {
            "colorbar": {
             "outlinewidth": 0,
             "ticks": ""
            },
            "colorscale": [
             [
              0,
              "#0d0887"
             ],
             [
              0.1111111111111111,
              "#46039f"
             ],
             [
              0.2222222222222222,
              "#7201a8"
             ],
             [
              0.3333333333333333,
              "#9c179e"
             ],
             [
              0.4444444444444444,
              "#bd3786"
             ],
             [
              0.5555555555555556,
              "#d8576b"
             ],
             [
              0.6666666666666666,
              "#ed7953"
             ],
             [
              0.7777777777777778,
              "#fb9f3a"
             ],
             [
              0.8888888888888888,
              "#fdca26"
             ],
             [
              1,
              "#f0f921"
             ]
            ],
            "type": "surface"
           }
          ],
          "table": [
           {
            "cells": {
             "fill": {
              "color": "#EBF0F8"
             },
             "line": {
              "color": "white"
             }
            },
            "header": {
             "fill": {
              "color": "#C8D4E3"
             },
             "line": {
              "color": "white"
             }
            },
            "type": "table"
           }
          ]
         },
         "layout": {
          "annotationdefaults": {
           "arrowcolor": "#2a3f5f",
           "arrowhead": 0,
           "arrowwidth": 1
          },
          "autotypenumbers": "strict",
          "coloraxis": {
           "colorbar": {
            "outlinewidth": 0,
            "ticks": ""
           }
          },
          "colorscale": {
           "diverging": [
            [
             0,
             "#8e0152"
            ],
            [
             0.1,
             "#c51b7d"
            ],
            [
             0.2,
             "#de77ae"
            ],
            [
             0.3,
             "#f1b6da"
            ],
            [
             0.4,
             "#fde0ef"
            ],
            [
             0.5,
             "#f7f7f7"
            ],
            [
             0.6,
             "#e6f5d0"
            ],
            [
             0.7,
             "#b8e186"
            ],
            [
             0.8,
             "#7fbc41"
            ],
            [
             0.9,
             "#4d9221"
            ],
            [
             1,
             "#276419"
            ]
           ],
           "sequential": [
            [
             0,
             "#0d0887"
            ],
            [
             0.1111111111111111,
             "#46039f"
            ],
            [
             0.2222222222222222,
             "#7201a8"
            ],
            [
             0.3333333333333333,
             "#9c179e"
            ],
            [
             0.4444444444444444,
             "#bd3786"
            ],
            [
             0.5555555555555556,
             "#d8576b"
            ],
            [
             0.6666666666666666,
             "#ed7953"
            ],
            [
             0.7777777777777778,
             "#fb9f3a"
            ],
            [
             0.8888888888888888,
             "#fdca26"
            ],
            [
             1,
             "#f0f921"
            ]
           ],
           "sequentialminus": [
            [
             0,
             "#0d0887"
            ],
            [
             0.1111111111111111,
             "#46039f"
            ],
            [
             0.2222222222222222,
             "#7201a8"
            ],
            [
             0.3333333333333333,
             "#9c179e"
            ],
            [
             0.4444444444444444,
             "#bd3786"
            ],
            [
             0.5555555555555556,
             "#d8576b"
            ],
            [
             0.6666666666666666,
             "#ed7953"
            ],
            [
             0.7777777777777778,
             "#fb9f3a"
            ],
            [
             0.8888888888888888,
             "#fdca26"
            ],
            [
             1,
             "#f0f921"
            ]
           ]
          },
          "colorway": [
           "#636efa",
           "#EF553B",
           "#00cc96",
           "#ab63fa",
           "#FFA15A",
           "#19d3f3",
           "#FF6692",
           "#B6E880",
           "#FF97FF",
           "#FECB52"
          ],
          "font": {
           "color": "#2a3f5f"
          },
          "geo": {
           "bgcolor": "white",
           "lakecolor": "white",
           "landcolor": "#E5ECF6",
           "showlakes": true,
           "showland": true,
           "subunitcolor": "white"
          },
          "hoverlabel": {
           "align": "left"
          },
          "hovermode": "closest",
          "mapbox": {
           "style": "light"
          },
          "paper_bgcolor": "white",
          "plot_bgcolor": "#E5ECF6",
          "polar": {
           "angularaxis": {
            "gridcolor": "white",
            "linecolor": "white",
            "ticks": ""
           },
           "bgcolor": "#E5ECF6",
           "radialaxis": {
            "gridcolor": "white",
            "linecolor": "white",
            "ticks": ""
           }
          },
          "scene": {
           "xaxis": {
            "backgroundcolor": "#E5ECF6",
            "gridcolor": "white",
            "gridwidth": 2,
            "linecolor": "white",
            "showbackground": true,
            "ticks": "",
            "zerolinecolor": "white"
           },
           "yaxis": {
            "backgroundcolor": "#E5ECF6",
            "gridcolor": "white",
            "gridwidth": 2,
            "linecolor": "white",
            "showbackground": true,
            "ticks": "",
            "zerolinecolor": "white"
           },
           "zaxis": {
            "backgroundcolor": "#E5ECF6",
            "gridcolor": "white",
            "gridwidth": 2,
            "linecolor": "white",
            "showbackground": true,
            "ticks": "",
            "zerolinecolor": "white"
           }
          },
          "shapedefaults": {
           "line": {
            "color": "#2a3f5f"
           }
          },
          "ternary": {
           "aaxis": {
            "gridcolor": "white",
            "linecolor": "white",
            "ticks": ""
           },
           "baxis": {
            "gridcolor": "white",
            "linecolor": "white",
            "ticks": ""
           },
           "bgcolor": "#E5ECF6",
           "caxis": {
            "gridcolor": "white",
            "linecolor": "white",
            "ticks": ""
           }
          },
          "title": {
           "x": 0.05
          },
          "xaxis": {
           "automargin": true,
           "gridcolor": "white",
           "linecolor": "white",
           "ticks": "",
           "title": {
            "standoff": 15
           },
           "zerolinecolor": "white",
           "zerolinewidth": 2
          },
          "yaxis": {
           "automargin": true,
           "gridcolor": "white",
           "linecolor": "white",
           "ticks": "",
           "title": {
            "standoff": 15
           },
           "zerolinecolor": "white",
           "zerolinewidth": 2
          }
         }
        },
        "xaxis": {
         "anchor": "y",
         "domain": [
          0,
          1
         ]
        },
        "yaxis": {
         "anchor": "x",
         "domain": [
          0,
          1
         ]
        }
       }
      }
     },
     "metadata": {},
     "output_type": "display_data"
    }
   ],
   "source": [
    "def f(x):\n",
    "    return x ** 2\n",
    "\n",
    "x, y, p = get_xypdata(-10, 12, 50, 0, 1, f)\n",
    "\n",
    "x_pred = np.linspace(-10, 12, 10)\n",
    "f_pred = LeastSquare(x, y, p, 4)\n",
    "y_pred = [f_pred(xi) for xi in x_pred]\n",
    "\n",
    "f_coeffs = LeastSquaresCoefs(x, y, p, 3)\n",
    "str = \" + \".join([f\"{f_coeffs[i]} * x^{i}\" for i in range(3 + 1)])\n",
    "print(f\"Решение: {str}\")\n",
    "\n",
    "fig = px.line()\n",
    "fig.add_trace(go.Scatter(x=x, y=y, name=\"Функция\"))\n",
    "fig.add_trace(go.Scatter(x=x_pred, y=y_pred, name=\"Приближение\"))\n",
    "fig.show()"
   ]
  },
  {
   "cell_type": "code",
   "execution_count": 46,
   "metadata": {},
   "outputs": [
    {
     "name": "stdout",
     "output_type": "stream",
     "text": [
      "Решение: 0.3762379523852498 * x^0 + -0.4540937953595765 * x^1 + -0.6487967261040497 * x^2 + 1.233762200445716 * x^3\n"
     ]
    },
    {
     "data": {
      "application/vnd.plotly.v1+json": {
       "config": {
        "plotlyServerURL": "https://plot.ly"
       },
       "data": [
        {
         "hovertemplate": "<extra></extra>",
         "legendgroup": "",
         "line": {
          "color": "#636efa",
          "dash": "solid"
         },
         "marker": {
          "symbol": "circle"
         },
         "mode": "lines",
         "name": "",
         "orientation": "v",
         "showlegend": false,
         "type": "scatter",
         "xaxis": "x",
         "yaxis": "y"
        },
        {
         "name": "Функция",
         "type": "scatter",
         "x": [
          -2,
          -1.8775510204081634,
          -1.7551020408163265,
          -1.6326530612244898,
          -1.510204081632653,
          -1.3877551020408163,
          -1.2653061224489797,
          -1.1428571428571428,
          -1.0204081632653061,
          -0.8979591836734695,
          -0.7755102040816326,
          -0.653061224489796,
          -0.5306122448979593,
          -0.40816326530612246,
          -0.2857142857142858,
          -0.16326530612244894,
          -0.04081632653061229,
          0.08163265306122458,
          0.204081632653061,
          0.3265306122448979,
          0.44897959183673475,
          0.5714285714285712,
          0.693877551020408,
          0.8163265306122449,
          0.9387755102040813,
          1.0612244897959182,
          1.183673469387755,
          1.306122448979592,
          1.4285714285714284,
          1.5510204081632653,
          1.6734693877551021,
          1.7959183673469385,
          1.9183673469387754,
          2.040816326530612,
          2.163265306122449,
          2.2857142857142856,
          2.408163265306122,
          2.5306122448979593,
          2.6530612244897958,
          2.775510204081632,
          2.8979591836734695,
          3.020408163265306,
          3.1428571428571423,
          3.2653061224489797,
          3.387755102040816,
          3.5102040816326525,
          3.63265306122449,
          3.7551020408163263,
          3.8775510204081627,
          4
         ],
         "y": [
          -12.195357645382263,
          -11.60050582764888,
          -10.003139425830037,
          -7.482775766580113,
          -4.37309521201004,
          -1.1808885320875862,
          1.5357012898399751,
          3.3010123253555417,
          3.8363021903130257,
          3.127882433933457,
          1.4329275556464183,
          -0.7784072954818069,
          -2.9309493656539614,
          -4.477165414732866,
          -5.023319617828115,
          -4.419467200103996,
          -2.7921225010743296,
          -0.5119198269833652,
          1.8961286095261143,
          3.8786755145059026,
          4.986744111925125,
          4.983891826842386,
          3.9043982031497912,
          2.047794619306871,
          -0.088977903109136,
          -1.9258302340322453,
          -2.933338300964965,
          -2.754642760551124,
          -1.2867714153797252,
          1.29773795819934,
          4.593998811141397,
          8.06257203070205,
          11.158901138953672,
          13.463950799948996,
          14.785330005982573,
          15.205121611697475,
          15.06317147285553,
          14.879766618901034,
          15.235884086042706,
          16.639168966968334,
          19.40715589709344,
          23.595193537171617,
          28.9860200499619,
          35.14344081658805,
          41.51748649480704,
          47.576324319144405,
          52.933904725971615,
          57.44332819179409,
          61.2339777984363,
          64.68368609103916
         ]
        },
        {
         "name": "Приближение",
         "type": "scatter",
         "x": [
          -2,
          -1.9393939393939394,
          -1.878787878787879,
          -1.8181818181818181,
          -1.7575757575757576,
          -1.696969696969697,
          -1.6363636363636362,
          -1.5757575757575757,
          -1.5151515151515151,
          -1.4545454545454546,
          -1.393939393939394,
          -1.3333333333333333,
          -1.2727272727272727,
          -1.2121212121212122,
          -1.1515151515151514,
          -1.0909090909090908,
          -1.0303030303030303,
          -0.9696969696969697,
          -0.9090909090909092,
          -0.8484848484848484,
          -0.7878787878787878,
          -0.7272727272727273,
          -0.6666666666666665,
          -0.606060606060606,
          -0.5454545454545454,
          -0.48484848484848486,
          -0.4242424242424243,
          -0.36363636363636354,
          -0.303030303030303,
          -0.24242424242424243,
          -0.18181818181818166,
          -0.1212121212121211,
          -0.06060606060606055,
          0,
          0.06060606060606055,
          0.1212121212121211,
          0.18181818181818166,
          0.24242424242424265,
          0.3030303030303032,
          0.36363636363636376,
          0.4242424242424243,
          0.48484848484848486,
          0.5454545454545454,
          0.606060606060606,
          0.666666666666667,
          0.7272727272727275,
          0.7878787878787881,
          0.8484848484848486,
          0.9090909090909092,
          0.9696969696969697,
          1.0303030303030303,
          1.0909090909090908,
          1.1515151515151514,
          1.2121212121212124,
          1.272727272727273,
          1.3333333333333335,
          1.393939393939394,
          1.4545454545454546,
          1.5151515151515151,
          1.5757575757575757,
          1.6363636363636367,
          1.6969696969696972,
          1.7575757575757578,
          1.8181818181818183,
          1.878787878787879,
          1.9393939393939394,
          2,
          2.0606060606060606,
          2.121212121212121,
          2.1818181818181817,
          2.242424242424242,
          2.3030303030303028,
          2.3636363636363633,
          2.4242424242424248,
          2.4848484848484853,
          2.545454545454546,
          2.6060606060606064,
          2.666666666666667,
          2.7272727272727275,
          2.787878787878788,
          2.8484848484848486,
          2.909090909090909,
          2.9696969696969697,
          3.0303030303030303,
          3.090909090909091,
          3.1515151515151514,
          3.212121212121212,
          3.2727272727272725,
          3.333333333333334,
          3.3939393939393945,
          3.454545454545455,
          3.5151515151515156,
          3.575757575757576,
          3.6363636363636367,
          3.6969696969696972,
          3.757575757575758,
          3.8181818181818183,
          3.878787878787879,
          3.9393939393939394,
          4
         ],
         "y": [
          -11.441057375193978,
          -10.393459321641986,
          -9.407812084752289,
          -8.482257585797814,
          -7.614942062511887,
          -6.804016069088219,
          -6.047634476180917,
          -5.343956470904489,
          -4.691145556833823,
          -4.08736955400421,
          -3.530800598911332,
          -3.0196151445112576,
          -2.5519939602204618,
          -2.126122131915803,
          -1.7401890619345315,
          -1.3923884690743003,
          -1.0809183885931468,
          -0.8039811722095062,
          -0.5597834881022046,
          -0.34653632091046177,
          -0.1624549717338931,
          -0.005759058132504458,
          0.1253274858733043,
          0.23257640980273933,
          0.3177551467146142,
          0.3826268132073494,
          0.4289502094189717,
          0.458479819027115,
          0.47296580924901943,
          0.47415403084153257,
          0.46378601810110814,
          0.4435989888638071,
          0.4153258445052969,
          0.38069516994085173,
          0.3414312336253526,
          0.29925398755328736,
          0.2558790672587505,
          0.2130177918154429,
          0.1723771638366734,
          0.13565986947535635,
          0.10456427842401333,
          0.08078444391477269,
          0.06601010271936945,
          0.0619266751491455,
          0.07021526505504941,
          0.09255265982763658,
          0.13061133039706882,
          0.18605943123311527,
          0.26056080034515144,
          0.35577495928215963,
          0.47335711313272905,
          0.6149581505250555,
          0.7822246436269416,
          0.9767988481457981,
          1.2003187033286389,
          1.454417831962088,
          1.7407255403723747,
          2.060866818425335,
          2.416462339526414,
          2.809128460620659,
          3.2404772221927325,
          3.712116348266889,
          4.225649246407005,
          4.782675007716555,
          5.384788406838621,
          6.0335799019559,
          6.730635634790681,
          7.477537430604875,
          8.275862798199988,
          9.127184929917139,
          10.033072701637051,
          10.99509067278006,
          12.0147990863061,
          13.09375386871473,
          14.233506630045074,
          15.435604663875901,
          16.70159094732558,
          18.033004141052082,
          19.43137858925298,
          20.898244319665466,
          22.43512704356633,
          24.043548155771955,
          25.725024734638374,
          27.48106954206119,
          29.31319102347561,
          31.22289330785646,
          33.211676207718185,
          35.28103521911483,
          37.43246152164006,
          39.66744197842705,
          41.987459136148715,
          44.39399122501751,
          46.88851215878551,
          49.472491534744414,
          52.14739463372546,
          54.91468242009958,
          57.77581154177728,
          60.73223433020865,
          63.78539880038339,
          66.93674865083084
         ]
        }
       ],
       "layout": {
        "legend": {
         "tracegroupgap": 0
        },
        "margin": {
         "t": 60
        },
        "template": {
         "data": {
          "bar": [
           {
            "error_x": {
             "color": "#2a3f5f"
            },
            "error_y": {
             "color": "#2a3f5f"
            },
            "marker": {
             "line": {
              "color": "#E5ECF6",
              "width": 0.5
             },
             "pattern": {
              "fillmode": "overlay",
              "size": 10,
              "solidity": 0.2
             }
            },
            "type": "bar"
           }
          ],
          "barpolar": [
           {
            "marker": {
             "line": {
              "color": "#E5ECF6",
              "width": 0.5
             },
             "pattern": {
              "fillmode": "overlay",
              "size": 10,
              "solidity": 0.2
             }
            },
            "type": "barpolar"
           }
          ],
          "carpet": [
           {
            "aaxis": {
             "endlinecolor": "#2a3f5f",
             "gridcolor": "white",
             "linecolor": "white",
             "minorgridcolor": "white",
             "startlinecolor": "#2a3f5f"
            },
            "baxis": {
             "endlinecolor": "#2a3f5f",
             "gridcolor": "white",
             "linecolor": "white",
             "minorgridcolor": "white",
             "startlinecolor": "#2a3f5f"
            },
            "type": "carpet"
           }
          ],
          "choropleth": [
           {
            "colorbar": {
             "outlinewidth": 0,
             "ticks": ""
            },
            "type": "choropleth"
           }
          ],
          "contour": [
           {
            "colorbar": {
             "outlinewidth": 0,
             "ticks": ""
            },
            "colorscale": [
             [
              0,
              "#0d0887"
             ],
             [
              0.1111111111111111,
              "#46039f"
             ],
             [
              0.2222222222222222,
              "#7201a8"
             ],
             [
              0.3333333333333333,
              "#9c179e"
             ],
             [
              0.4444444444444444,
              "#bd3786"
             ],
             [
              0.5555555555555556,
              "#d8576b"
             ],
             [
              0.6666666666666666,
              "#ed7953"
             ],
             [
              0.7777777777777778,
              "#fb9f3a"
             ],
             [
              0.8888888888888888,
              "#fdca26"
             ],
             [
              1,
              "#f0f921"
             ]
            ],
            "type": "contour"
           }
          ],
          "contourcarpet": [
           {
            "colorbar": {
             "outlinewidth": 0,
             "ticks": ""
            },
            "type": "contourcarpet"
           }
          ],
          "heatmap": [
           {
            "colorbar": {
             "outlinewidth": 0,
             "ticks": ""
            },
            "colorscale": [
             [
              0,
              "#0d0887"
             ],
             [
              0.1111111111111111,
              "#46039f"
             ],
             [
              0.2222222222222222,
              "#7201a8"
             ],
             [
              0.3333333333333333,
              "#9c179e"
             ],
             [
              0.4444444444444444,
              "#bd3786"
             ],
             [
              0.5555555555555556,
              "#d8576b"
             ],
             [
              0.6666666666666666,
              "#ed7953"
             ],
             [
              0.7777777777777778,
              "#fb9f3a"
             ],
             [
              0.8888888888888888,
              "#fdca26"
             ],
             [
              1,
              "#f0f921"
             ]
            ],
            "type": "heatmap"
           }
          ],
          "heatmapgl": [
           {
            "colorbar": {
             "outlinewidth": 0,
             "ticks": ""
            },
            "colorscale": [
             [
              0,
              "#0d0887"
             ],
             [
              0.1111111111111111,
              "#46039f"
             ],
             [
              0.2222222222222222,
              "#7201a8"
             ],
             [
              0.3333333333333333,
              "#9c179e"
             ],
             [
              0.4444444444444444,
              "#bd3786"
             ],
             [
              0.5555555555555556,
              "#d8576b"
             ],
             [
              0.6666666666666666,
              "#ed7953"
             ],
             [
              0.7777777777777778,
              "#fb9f3a"
             ],
             [
              0.8888888888888888,
              "#fdca26"
             ],
             [
              1,
              "#f0f921"
             ]
            ],
            "type": "heatmapgl"
           }
          ],
          "histogram": [
           {
            "marker": {
             "pattern": {
              "fillmode": "overlay",
              "size": 10,
              "solidity": 0.2
             }
            },
            "type": "histogram"
           }
          ],
          "histogram2d": [
           {
            "colorbar": {
             "outlinewidth": 0,
             "ticks": ""
            },
            "colorscale": [
             [
              0,
              "#0d0887"
             ],
             [
              0.1111111111111111,
              "#46039f"
             ],
             [
              0.2222222222222222,
              "#7201a8"
             ],
             [
              0.3333333333333333,
              "#9c179e"
             ],
             [
              0.4444444444444444,
              "#bd3786"
             ],
             [
              0.5555555555555556,
              "#d8576b"
             ],
             [
              0.6666666666666666,
              "#ed7953"
             ],
             [
              0.7777777777777778,
              "#fb9f3a"
             ],
             [
              0.8888888888888888,
              "#fdca26"
             ],
             [
              1,
              "#f0f921"
             ]
            ],
            "type": "histogram2d"
           }
          ],
          "histogram2dcontour": [
           {
            "colorbar": {
             "outlinewidth": 0,
             "ticks": ""
            },
            "colorscale": [
             [
              0,
              "#0d0887"
             ],
             [
              0.1111111111111111,
              "#46039f"
             ],
             [
              0.2222222222222222,
              "#7201a8"
             ],
             [
              0.3333333333333333,
              "#9c179e"
             ],
             [
              0.4444444444444444,
              "#bd3786"
             ],
             [
              0.5555555555555556,
              "#d8576b"
             ],
             [
              0.6666666666666666,
              "#ed7953"
             ],
             [
              0.7777777777777778,
              "#fb9f3a"
             ],
             [
              0.8888888888888888,
              "#fdca26"
             ],
             [
              1,
              "#f0f921"
             ]
            ],
            "type": "histogram2dcontour"
           }
          ],
          "mesh3d": [
           {
            "colorbar": {
             "outlinewidth": 0,
             "ticks": ""
            },
            "type": "mesh3d"
           }
          ],
          "parcoords": [
           {
            "line": {
             "colorbar": {
              "outlinewidth": 0,
              "ticks": ""
             }
            },
            "type": "parcoords"
           }
          ],
          "pie": [
           {
            "automargin": true,
            "type": "pie"
           }
          ],
          "scatter": [
           {
            "fillpattern": {
             "fillmode": "overlay",
             "size": 10,
             "solidity": 0.2
            },
            "type": "scatter"
           }
          ],
          "scatter3d": [
           {
            "line": {
             "colorbar": {
              "outlinewidth": 0,
              "ticks": ""
             }
            },
            "marker": {
             "colorbar": {
              "outlinewidth": 0,
              "ticks": ""
             }
            },
            "type": "scatter3d"
           }
          ],
          "scattercarpet": [
           {
            "marker": {
             "colorbar": {
              "outlinewidth": 0,
              "ticks": ""
             }
            },
            "type": "scattercarpet"
           }
          ],
          "scattergeo": [
           {
            "marker": {
             "colorbar": {
              "outlinewidth": 0,
              "ticks": ""
             }
            },
            "type": "scattergeo"
           }
          ],
          "scattergl": [
           {
            "marker": {
             "colorbar": {
              "outlinewidth": 0,
              "ticks": ""
             }
            },
            "type": "scattergl"
           }
          ],
          "scattermapbox": [
           {
            "marker": {
             "colorbar": {
              "outlinewidth": 0,
              "ticks": ""
             }
            },
            "type": "scattermapbox"
           }
          ],
          "scatterpolar": [
           {
            "marker": {
             "colorbar": {
              "outlinewidth": 0,
              "ticks": ""
             }
            },
            "type": "scatterpolar"
           }
          ],
          "scatterpolargl": [
           {
            "marker": {
             "colorbar": {
              "outlinewidth": 0,
              "ticks": ""
             }
            },
            "type": "scatterpolargl"
           }
          ],
          "scatterternary": [
           {
            "marker": {
             "colorbar": {
              "outlinewidth": 0,
              "ticks": ""
             }
            },
            "type": "scatterternary"
           }
          ],
          "surface": [
           {
            "colorbar": {
             "outlinewidth": 0,
             "ticks": ""
            },
            "colorscale": [
             [
              0,
              "#0d0887"
             ],
             [
              0.1111111111111111,
              "#46039f"
             ],
             [
              0.2222222222222222,
              "#7201a8"
             ],
             [
              0.3333333333333333,
              "#9c179e"
             ],
             [
              0.4444444444444444,
              "#bd3786"
             ],
             [
              0.5555555555555556,
              "#d8576b"
             ],
             [
              0.6666666666666666,
              "#ed7953"
             ],
             [
              0.7777777777777778,
              "#fb9f3a"
             ],
             [
              0.8888888888888888,
              "#fdca26"
             ],
             [
              1,
              "#f0f921"
             ]
            ],
            "type": "surface"
           }
          ],
          "table": [
           {
            "cells": {
             "fill": {
              "color": "#EBF0F8"
             },
             "line": {
              "color": "white"
             }
            },
            "header": {
             "fill": {
              "color": "#C8D4E3"
             },
             "line": {
              "color": "white"
             }
            },
            "type": "table"
           }
          ]
         },
         "layout": {
          "annotationdefaults": {
           "arrowcolor": "#2a3f5f",
           "arrowhead": 0,
           "arrowwidth": 1
          },
          "autotypenumbers": "strict",
          "coloraxis": {
           "colorbar": {
            "outlinewidth": 0,
            "ticks": ""
           }
          },
          "colorscale": {
           "diverging": [
            [
             0,
             "#8e0152"
            ],
            [
             0.1,
             "#c51b7d"
            ],
            [
             0.2,
             "#de77ae"
            ],
            [
             0.3,
             "#f1b6da"
            ],
            [
             0.4,
             "#fde0ef"
            ],
            [
             0.5,
             "#f7f7f7"
            ],
            [
             0.6,
             "#e6f5d0"
            ],
            [
             0.7,
             "#b8e186"
            ],
            [
             0.8,
             "#7fbc41"
            ],
            [
             0.9,
             "#4d9221"
            ],
            [
             1,
             "#276419"
            ]
           ],
           "sequential": [
            [
             0,
             "#0d0887"
            ],
            [
             0.1111111111111111,
             "#46039f"
            ],
            [
             0.2222222222222222,
             "#7201a8"
            ],
            [
             0.3333333333333333,
             "#9c179e"
            ],
            [
             0.4444444444444444,
             "#bd3786"
            ],
            [
             0.5555555555555556,
             "#d8576b"
            ],
            [
             0.6666666666666666,
             "#ed7953"
            ],
            [
             0.7777777777777778,
             "#fb9f3a"
            ],
            [
             0.8888888888888888,
             "#fdca26"
            ],
            [
             1,
             "#f0f921"
            ]
           ],
           "sequentialminus": [
            [
             0,
             "#0d0887"
            ],
            [
             0.1111111111111111,
             "#46039f"
            ],
            [
             0.2222222222222222,
             "#7201a8"
            ],
            [
             0.3333333333333333,
             "#9c179e"
            ],
            [
             0.4444444444444444,
             "#bd3786"
            ],
            [
             0.5555555555555556,
             "#d8576b"
            ],
            [
             0.6666666666666666,
             "#ed7953"
            ],
            [
             0.7777777777777778,
             "#fb9f3a"
            ],
            [
             0.8888888888888888,
             "#fdca26"
            ],
            [
             1,
             "#f0f921"
            ]
           ]
          },
          "colorway": [
           "#636efa",
           "#EF553B",
           "#00cc96",
           "#ab63fa",
           "#FFA15A",
           "#19d3f3",
           "#FF6692",
           "#B6E880",
           "#FF97FF",
           "#FECB52"
          ],
          "font": {
           "color": "#2a3f5f"
          },
          "geo": {
           "bgcolor": "white",
           "lakecolor": "white",
           "landcolor": "#E5ECF6",
           "showlakes": true,
           "showland": true,
           "subunitcolor": "white"
          },
          "hoverlabel": {
           "align": "left"
          },
          "hovermode": "closest",
          "mapbox": {
           "style": "light"
          },
          "paper_bgcolor": "white",
          "plot_bgcolor": "#E5ECF6",
          "polar": {
           "angularaxis": {
            "gridcolor": "white",
            "linecolor": "white",
            "ticks": ""
           },
           "bgcolor": "#E5ECF6",
           "radialaxis": {
            "gridcolor": "white",
            "linecolor": "white",
            "ticks": ""
           }
          },
          "scene": {
           "xaxis": {
            "backgroundcolor": "#E5ECF6",
            "gridcolor": "white",
            "gridwidth": 2,
            "linecolor": "white",
            "showbackground": true,
            "ticks": "",
            "zerolinecolor": "white"
           },
           "yaxis": {
            "backgroundcolor": "#E5ECF6",
            "gridcolor": "white",
            "gridwidth": 2,
            "linecolor": "white",
            "showbackground": true,
            "ticks": "",
            "zerolinecolor": "white"
           },
           "zaxis": {
            "backgroundcolor": "#E5ECF6",
            "gridcolor": "white",
            "gridwidth": 2,
            "linecolor": "white",
            "showbackground": true,
            "ticks": "",
            "zerolinecolor": "white"
           }
          },
          "shapedefaults": {
           "line": {
            "color": "#2a3f5f"
           }
          },
          "ternary": {
           "aaxis": {
            "gridcolor": "white",
            "linecolor": "white",
            "ticks": ""
           },
           "baxis": {
            "gridcolor": "white",
            "linecolor": "white",
            "ticks": ""
           },
           "bgcolor": "#E5ECF6",
           "caxis": {
            "gridcolor": "white",
            "linecolor": "white",
            "ticks": ""
           }
          },
          "title": {
           "x": 0.05
          },
          "xaxis": {
           "automargin": true,
           "gridcolor": "white",
           "linecolor": "white",
           "ticks": "",
           "title": {
            "standoff": 15
           },
           "zerolinecolor": "white",
           "zerolinewidth": 2
          },
          "yaxis": {
           "automargin": true,
           "gridcolor": "white",
           "linecolor": "white",
           "ticks": "",
           "title": {
            "standoff": 15
           },
           "zerolinecolor": "white",
           "zerolinewidth": 2
          }
         }
        },
        "xaxis": {
         "anchor": "y",
         "domain": [
          0,
          1
         ]
        },
        "yaxis": {
         "anchor": "x",
         "domain": [
          0,
          1
         ]
        }
       }
      }
     },
     "metadata": {},
     "output_type": "display_data"
    }
   ],
   "source": [
    "def f(x):\n",
    "    return x ** 3 + np.cos(4 * x - 2) * 5 \n",
    "\n",
    "x, y, p = get_xypdata(-2, 4, 50, 0, 1, f)\n",
    "\n",
    "x_pred = np.linspace(-2, 4, 100)\n",
    "f_pred = LeastSquare(x, y, p, 4)\n",
    "y_pred = [f_pred(xi) for xi in x_pred]\n",
    "\n",
    "f_coeffs = LeastSquaresCoefs(x, y, p, 3)\n",
    "str = \" + \".join([f\"{f_coeffs[i]} * x^{i}\" for i in range(3 + 1)])\n",
    "print(f\"Решение: {str}\")\n",
    "\n",
    "fig = px.line()\n",
    "fig.add_trace(go.Scatter(x=x, y=y, name=\"Функция\"))\n",
    "fig.add_trace(go.Scatter(x=x_pred, y=y_pred, name=\"Приближение\"))\n",
    "fig.show()"
   ]
  },
  {
   "cell_type": "markdown",
   "metadata": {},
   "source": [
    "# Аппроксимация функций двух переменных"
   ]
  },
  {
   "cell_type": "markdown",
   "metadata": {},
   "source": [
    "### Тесты из файлов"
   ]
  },
  {
   "cell_type": "code",
   "execution_count": 47,
   "metadata": {},
   "outputs": [
    {
     "data": {
      "application/vnd.plotly.v1+json": {
       "config": {
        "plotlyServerURL": "https://plot.ly"
       },
       "data": [
        {
         "hovertemplate": "x=%{x}<br>y=%{y}<br>z=%{z}<extra></extra>",
         "legendgroup": "",
         "marker": {
          "color": "#636efa",
          "symbol": "circle"
         },
         "mode": "markers",
         "name": "",
         "scene": "scene",
         "showlegend": false,
         "type": "scatter3d",
         "x": [
          -1,
          0,
          1,
          2,
          -1,
          0,
          1,
          2,
          -1,
          0,
          1,
          2,
          -1,
          0,
          1,
          2,
          -1,
          0,
          1,
          2
         ],
         "y": [
          -2,
          -2,
          -2,
          -2,
          -1,
          -1,
          -1,
          -1,
          0,
          0,
          0,
          0,
          1,
          1,
          1,
          1,
          2,
          2,
          2,
          2
         ],
         "z": [
          -10,
          -12,
          -12,
          -10,
          -3,
          -4,
          -3,
          0,
          0,
          0,
          2,
          6,
          -1,
          0,
          3,
          8,
          -6,
          -4,
          0,
          6
         ]
        },
        {
         "type": "surface",
         "x": [
          -1,
          -0.9230769230769231,
          -0.8461538461538461,
          -0.7692307692307692,
          -0.6923076923076923,
          -0.6153846153846154,
          -0.5384615384615384,
          -0.46153846153846145,
          -0.3846153846153846,
          -0.3076923076923077,
          -0.23076923076923073,
          -0.15384615384615374,
          -0.07692307692307687,
          0,
          0.0769230769230771,
          0.15384615384615397,
          0.23076923076923084,
          0.3076923076923077,
          0.3846153846153846,
          0.4615384615384617,
          0.5384615384615385,
          0.6153846153846154,
          0.6923076923076925,
          0.7692307692307694,
          0.8461538461538463,
          0.9230769230769231,
          1,
          1.076923076923077,
          1.1538461538461542,
          1.2307692307692308,
          1.307692307692308,
          1.3846153846153846,
          1.4615384615384617,
          1.5384615384615388,
          1.6153846153846154,
          1.6923076923076925,
          1.7692307692307692,
          1.8461538461538463,
          1.9230769230769234,
          2
         ],
         "y": [
          -2,
          -1.8974358974358974,
          -1.794871794871795,
          -1.6923076923076923,
          -1.5897435897435899,
          -1.4871794871794872,
          -1.3846153846153846,
          -1.282051282051282,
          -1.1794871794871795,
          -1.076923076923077,
          -0.9743589743589745,
          -0.8717948717948718,
          -0.7692307692307692,
          -0.6666666666666667,
          -0.5641025641025641,
          -0.4615384615384617,
          -0.35897435897435903,
          -0.2564102564102564,
          -0.15384615384615397,
          -0.05128205128205132,
          0.0512820512820511,
          0.15384615384615374,
          0.2564102564102564,
          0.35897435897435903,
          0.4615384615384617,
          0.5641025641025639,
          0.6666666666666665,
          0.7692307692307692,
          0.8717948717948718,
          0.9743589743589745,
          1.0769230769230766,
          1.1794871794871793,
          1.282051282051282,
          1.3846153846153846,
          1.4871794871794872,
          1.5897435897435894,
          1.692307692307692,
          1.7948717948717947,
          1.8974358974358974,
          2
         ],
         "z": [
          [
           -10.000000000000004,
           -10.22485207100592,
           -10.437869822485212,
           -10.639053254437874,
           -10.828402366863907,
           -11.005917159763316,
           -11.171597633136097,
           -11.32544378698225,
           -11.467455621301777,
           -11.597633136094677,
           -11.715976331360947,
           -11.822485207100593,
           -11.917159763313611,
           -12.000000000000002,
           -12.071005917159766,
           -12.130177514792903,
           -12.177514792899409,
           -12.21301775147929,
           -12.236686390532547,
           -12.248520710059173,
           -12.248520710059173,
           -12.236686390532546,
           -12.213017751479292,
           -12.177514792899409,
           -12.130177514792901,
           -12.071005917159766,
           -12.000000000000004,
           -11.917159763313613,
           -11.822485207100595,
           -11.715976331360947,
           -11.597633136094677,
           -11.467455621301777,
           -11.325443786982248,
           -11.171597633136095,
           -11.005917159763314,
           -10.828402366863905,
           -10.639053254437872,
           -10.437869822485208,
           -10.22485207100592,
           -10.000000000000002
          ],
          [
           -9.09796186719264,
           -9.314924391847471,
           -9.520052596975678,
           -9.713346482577256,
           -9.894806048652205,
           -10.064431295200526,
           -10.222222222222223,
           -10.368178829717293,
           -10.502301117685736,
           -10.62458908612755,
           -10.735042735042736,
           -10.833662064431296,
           -10.920447074293229,
           -10.995397764628535,
           -11.058514135437214,
           -11.109796186719267,
           -11.149243918474689,
           -11.176857330703484,
           -11.192636423405656,
           -11.196581196581198,
           -11.188691650230114,
           -11.168967784352402,
           -11.137409598948063,
           -11.094017094017094,
           -11.038790269559502,
           -10.971729125575282,
           -10.892833662064435,
           -10.802103879026959,
           -10.699539776462856,
           -10.585141354372123,
           -10.458908612754767,
           -10.320841551610783,
           -10.17094017094017,
           -10.009204470742931,
           -9.835634451019065,
           -9.650230111768572,
           -9.452991452991455,
           -9.243918474687707,
           -9.023011176857333,
           -8.79026955950033
          ],
          [
           -8.238001314924395,
           -8.447074293228143,
           -8.644312952005263,
           -8.829717291255756,
           -9.003287310979621,
           -9.165023011176858,
           -9.314924391847471,
           -9.452991452991455,
           -9.579224194608813,
           -9.693622616699543,
           -9.796186719263643,
           -9.88691650230112,
           -9.965811965811968,
           -10.032873109796189,
           -10.088099934253783,
           -10.13149243918475,
           -10.163050624589086,
           -10.182774490466798,
           -10.190664036817886,
           -10.186719263642342,
           -10.170940170940174,
           -10.143326758711376,
           -10.103879026955951,
           -10.0525969756739,
           -9.989480604865223,
           -9.914529914529917,
           -9.827744904667986,
           -9.729125575279426,
           -9.618671926364236,
           -9.49638395792242,
           -9.362261669953979,
           -9.21630506245891,
           -9.058514135437214,
           -8.88888888888889,
           -8.707429322813937,
           -8.51413543721236,
           -8.309007232084156,
           -8.092044707429325,
           -7.863247863247865,
           -7.622616699539778
          ],
          [
           -7.420118343195269,
           -7.6213017751479315,
           -7.810650887573967,
           -7.988165680473375,
           -8.153846153846155,
           -8.307692307692308,
           -8.449704142011836,
           -8.579881656804735,
           -8.698224852071009,
           -8.804733727810653,
           -8.899408284023668,
           -8.98224852071006,
           -9.053254437869823,
           -9.11242603550296,
           -9.159763313609469,
           -9.195266272189352,
           -9.218934911242604,
           -9.23076923076923,
           -9.230769230769232,
           -9.218934911242604,
           -9.19526627218935,
           -9.159763313609469,
           -9.11242603550296,
           -9.053254437869825,
           -8.982248520710062,
           -8.89940828402367,
           -8.804733727810653,
           -8.698224852071007,
           -8.579881656804737,
           -8.449704142011838,
           -8.307692307692308,
           -8.153846153846155,
           -7.988165680473375,
           -7.810650887573965,
           -7.62130177514793,
           -7.420118343195267,
           -7.207100591715977,
           -6.98224852071006,
           -6.7455621301775155,
           -6.497041420118346
          ],
          [
           -6.644312952005262,
           -6.83760683760684,
           -7.019066403681791,
           -7.188691650230115,
           -7.34648257725181,
           -7.492439184746879,
           -7.62656147271532,
           -7.748849441157136,
           -7.859303090072323,
           -7.957922419460883,
           -8.044707429322814,
           -8.119658119658121,
           -8.1827744904668,
           -8.234056541748851,
           -8.273504273504276,
           -8.301117685733074,
           -8.31689677843524,
           -8.320841551610783,
           -8.3129520052597,
           -8.293228139381988,
           -8.261669953977648,
           -8.218277449046681,
           -8.163050624589088,
           -8.095989480604867,
           -8.01709401709402,
           -7.926364234056544,
           -7.823800131492441,
           -7.70940170940171,
           -7.583168967784354,
           -7.44510190664037,
           -7.295200525969758,
           -7.13346482577252,
           -6.959894806048655,
           -6.774490466798161,
           -6.57725180802104,
           -6.368178829717292,
           -6.1472715318869176,
           -5.914529914529917,
           -5.669953977646286,
           -5.4135437212360324
          ],
          [
           -5.910585141354374,
           -6.095989480604867,
           -6.269559500328734,
           -6.431295200525972,
           -6.581196581196583,
           -6.719263642340566,
           -6.845496383957923,
           -6.959894806048654,
           -7.062458908612756,
           -7.153188691650231,
           -7.23208415516108,
           -7.2991452991453,
           -7.354372123602893,
           -7.39776462853386,
           -7.429322813938199,
           -7.449046679815911,
           -7.456936226166997,
           -7.452991452991454,
           -7.4372123602892835,
           -7.409598948060487,
           -7.3701512163050635,
           -7.318869165023012,
           -7.255752794214334,
           -7.180802103879028,
           -7.094017094017095,
           -6.995397764628535,
           -6.884944115713348,
           -6.7626561472715325,
           -6.62853385930309,
           -6.4825772518080225,
           -6.324786324786325,
           -6.155161078238003,
           -5.973701512163053,
           -5.780407626561473,
           -5.575279421433269,
           -5.358316896778434,
           -5.129520052596976,
           -4.888888888888889,
           -4.636423405654175,
           -4.372123602892835
          ],
          [
           -5.218934911242605,
           -5.396449704142013,
           -5.562130177514794,
           -5.715976331360947,
           -5.857988165680474,
           -5.988165680473374,
           -6.106508875739645,
           -6.213017751479291,
           -6.307692307692308,
           -6.390532544378698,
           -6.461538461538462,
           -6.520710059171598,
           -6.568047337278106,
           -6.603550295857988,
           -6.627218934911242,
           -6.6390532544378695,
           -6.63905325443787,
           -6.627218934911244,
           -6.603550295857987,
           -6.568047337278106,
           -6.520710059171598,
           -6.461538461538462,
           -6.390532544378698,
           -6.307692307692308,
           -6.21301775147929,
           -6.106508875739646,
           -5.988165680473373,
           -5.8579881656804735,
           -5.715976331360946,
           -5.562130177514793,
           -5.396449704142011,
           -5.218934911242604,
           -5.029585798816568,
           -4.828402366863905,
           -4.615384615384615,
           -4.390532544378699,
           -4.153846153846154,
           -3.9053254437869818,
           -3.644970414201182,
           -3.3727810650887573
          ],
          [
           -4.569362261669955,
           -4.738987508218279,
           -4.896778435239975,
           -5.0427350427350435,
           -5.176857330703486,
           -5.299145299145301,
           -5.409598948060487,
           -5.508218277449048,
           -5.59500328731098,
           -5.669953977646285,
           -5.733070348454964,
           -5.784352399737015,
           -5.823800131492439,
           -5.851413543721236,
           -5.867192636423405,
           -5.871137409598948,
           -5.863247863247864,
           -5.843523997370152,
           -5.811965811965812,
           -5.7685733070348455,
           -5.713346482577252,
           -5.646285338593031,
           -5.567389875082183,
           -5.476660092044708,
           -5.374095989480605,
           -5.259697567389876,
           -5.133464825772519,
           -4.9953977646285335,
           -4.845496383957921,
           -4.683760683760684,
           -4.510190664036817,
           -4.3247863247863245,
           -4.127547666009205,
           -3.9184746877054564,
           -3.697567389875083,
           -3.4648257725180787,
           -3.220249835634451,
           -2.963839579224194,
           -2.695595003287311,
           -2.4155161078238008
          ],
          [
           -3.9618671926364253,
           -4.123602892833664,
           -4.273504273504276,
           -4.411571334648259,
           -4.537804076265616,
           -4.652202498356346,
           -4.754766600920448,
           -4.845496383957924,
           -4.924391847468772,
           -4.991452991452992,
           -5.046679815910586,
           -5.090072320841553,
           -5.121630506245891,
           -5.141354372123604,
           -5.149243918474688,
           -5.145299145299146,
           -5.129520052596977,
           -5.10190664036818,
           -5.062458908612755,
           -5.011176857330704,
           -4.948060486522026,
           -4.8731097961867205,
           -4.786324786324787,
           -4.687705456936228,
           -4.57725180802104,
           -4.454963839579226,
           -4.320841551610785,
           -4.174884944115714,
           -4.017094017094017,
           -3.847468770545696,
           -3.6660092044707437,
           -3.4727153188691657,
           -3.2675871137409613,
           -3.050624589086128,
           -2.82182774490467,
           -2.581196581196582,
           -2.3287310979618687,
           -2.064431295200526,
           -1.7882971729125587,
           -1.5003287310979634
          ],
          [
           -3.396449704142014,
           -3.550295857988168,
           -3.6923076923076943,
           -3.8224852071005935,
           -3.940828402366866,
           -4.047337278106511,
           -4.142011834319527,
           -4.224852071005919,
           -4.2958579881656815,
           -4.3550295857988175,
           -4.402366863905327,
           -4.437869822485208,
           -4.461538461538462,
           -4.473372781065089,
           -4.4733727810650885,
           -4.461538461538462,
           -4.437869822485208,
           -4.402366863905327,
           -4.355029585798817,
           -4.295857988165681,
           -4.224852071005918,
           -4.142011834319528,
           -4.04733727810651,
           -3.940828402366865,
           -3.8224852071005917,
           -3.6923076923076925,
           -3.5502958579881665,
           -3.3964497041420127,
           -3.2307692307692317,
           -3.0532544378698248,
           -2.863905325443788,
           -2.662721893491126,
           -2.4497041420118357,
           -2.2248520710059174,
           -1.9881656804733743,
           -1.7396449704142025,
           -1.4792899408284037,
           -1.2071005917159774,
           -0.923076923076924,
           -0.6272189349112438
          ],
          [
           -2.873109796186722,
           -3.01906640368179,
           -3.1531886916502314,
           -3.2754766600920466,
           -3.3859303090072337,
           -3.4845496383957935,
           -3.571334648257727,
           -3.6462853385930316,
           -3.7094017094017104,
           -3.7606837606837615,
           -3.8001314924391854,
           -3.8277449046679823,
           -3.8435239973701525,
           -3.8474687705456945,
           -3.83957922419461,
           -3.8198553583168975,
           -3.7882971729125585,
           -3.744904667981592,
           -3.6896778435239987,
           -3.6226166995397775,
           -3.5437212360289294,
           -3.452991452991454,
           -3.350427350427352,
           -3.236028928336622,
           -3.1097961867192647,
           -2.9717291255752802,
           -2.821827744904669,
           -2.6600920447074303,
           -2.486522024983564,
           -2.3011176857330717,
           -2.1038790269559513,
           -1.8948060486522045,
           -1.6738987508218286,
           -1.4411571334648265,
           -1.1965811965811979,
           -0.9401709401709414,
           -0.6719263642340587,
           -0.39184746877054694,
           -0.09993425378040836,
           0.20381328073635577
          ],
          [
           -2.391847468770547,
           -2.529914529914531,
           -2.656147271531889,
           -2.770545693622618,
           -2.8731097961867205,
           -2.963839579224195,
           -3.042735042735043,
           -3.1097961867192643,
           -3.165023011176858,
           -3.208415516107824,
           -3.239973701512163,
           -3.259697567389875,
           -3.2675871137409604,
           -3.2636423405654176,
           -3.2478632478632483,
           -3.220249835634451,
           -3.180802103879027,
           -3.1295200525969755,
           -3.0664036817882976,
           -2.991452991452992,
           -2.904667981591059,
           -2.8060486522024988,
           -2.6955950032873113,
           -2.573307034845497,
           -2.4391847468770553,
           -2.2932281393819856,
           -2.13543721236029,
           -1.9658119658119662,
           -1.7843523997370152,
           -1.591058514135438,
           -1.3859303090072326,
           -1.168967784352401,
           -0.9401709401709405,
           -0.6995397764628531,
           -0.44707429322814024,
           -0.18277449046679825,
           0.09335963182116926,
           0.38132807363576543,
           0.6811308349769885,
           0.9927679158448378
          ],
          [
           -1.9526627218934924,
           -2.082840236686392,
           -2.2011834319526637,
           -2.3076923076923084,
           -2.402366863905326,
           -2.485207100591716,
           -2.5562130177514795,
           -2.6153846153846154,
           -2.6627218934911245,
           -2.698224852071006,
           -2.72189349112426,
           -2.7337278106508873,
           -2.7337278106508878,
           -2.72189349112426,
           -2.698224852071006,
           -2.6627218934911236,
           -2.615384615384615,
           -2.5562130177514786,
           -2.485207100591716,
           -2.4023668639053253,
           -2.3076923076923075,
           -2.201183431952663,
           -2.0828402366863905,
           -1.9526627218934904,
           -1.8106508875739642,
           -1.6568047337278107,
           -1.4911242603550299,
           -1.3136094674556211,
           -1.1242603550295853,
           -0.923076923076923,
           -0.7100591715976329,
           -0.48520710059171684,
           -0.2485207100591717,
           9.581417234528717e-16,
           0.2603550295857987,
           0.5325443786982251,
           0.8165680473372774,
           1.1124260355029585,
           1.4201183431952666,
           1.7396449704142005
          ],
          [
           -1.555555555555557,
           -1.6778435239973715,
           -1.7882971729125585,
           -1.8869165023011187,
           -1.9737015121630517,
           -2.048652202498357,
           -2.1117685733070353,
           -2.163050624589087,
           -2.2024983563445106,
           -2.230111768573307,
           -2.245890861275477,
           -2.249835634451019,
           -2.241946088099935,
           -2.2222222222222223,
           -2.1906640368178834,
           -2.147271531886916,
           -2.0920447074293227,
           -2.024983563445102,
           -1.946088099934254,
           -1.8553583168967789,
           -1.752794214332676,
           -1.6383957922419465,
           -1.5121630506245893,
           -1.3740959894806049,
           -1.2241946088099935,
           -1.0624589086127552,
           -0.8888888888888896,
           -0.7034845496383964,
           -0.5062458908612752,
           -0.29717291255752853,
           -0.07626561472715362,
           0.1564760026298473,
           0.40105193951347723,
           0.6574621959237343,
           0.9257067718606169,
           1.2057856673241283,
           1.4976988823142656,
           1.8014464168310313,
           2.117028270874424,
           2.444444444444443
          ],
          [
           -1.2005259697567403,
           -1.3149243918474696,
           -1.4174884944115722,
           -1.5082182774490474,
           -1.5871137409598957,
           -1.6541748849441158,
           -1.709401709401709,
           -1.7527942143326758,
           -1.7843523997370148,
           -1.8040762656147271,
           -1.8119658119658117,
           -1.808021038790269,
           -1.7922419460880994,
           -1.7646285338593026,
           -1.7251808021038784,
           -1.6738987508218273,
           -1.6107823800131487,
           -1.5358316896778432,
           -1.4490466798159103,
           -1.35042735042735,
           -1.2399737015121626,
           -1.1176857330703485,
           -0.9835634451019064,
           -0.8376068376068371,
           -0.679815910585141,
           -0.5101906640368178,
           -0.32873109796186734,
           -0.1354372123602892,
           0.06969099276791646,
           0.2866535174227481,
           0.5154503616042081,
           0.7560815253122936,
           1.0085470085470087,
           1.2728468113083504,
           1.5489809335963178,
           1.8369493754109139,
           2.136752136752136,
           2.4483892176199866,
           2.7718606180144643,
           3.107166337935568
          ],
          [
           -0.8875739644970431,
           -0.9940828402366874,
           -1.0887573964497055,
           -1.171597633136096,
           -1.2426035502958588,
           -1.3017751479289947,
           -1.3491124260355036,
           -1.384615384615385,
           -1.4082840236686394,
           -1.4201183431952664,
           -1.4201183431952664,
           -1.4082840236686391,
           -1.3846153846153846,
           -1.349112426035503,
           -1.301775147928994,
           -1.2426035502958581,
           -1.1715976331360947,
           -1.0887573964497044,
           -0.9940828402366867,
           -0.8875739644970414,
           -0.7692307692307694,
           -0.63905325443787,
           -0.4970414201183433,
           -0.3431952662721895,
           -0.17751479289940866,
           -4.893732687790781e-16,
           0.18934911242603472,
           0.39053254437869783,
           0.6035502958579883,
           0.8284023668639044,
           1.065088757396449,
           1.3136094674556196,
           1.5739644970414193,
           1.8461538461538463,
           2.130177514792898,
           2.4260355029585794,
           2.7337278106508855,
           3.053254437869821,
           3.3846153846153837,
           3.7278106508875717
          ],
          [
           -0.6166995397764641,
           -0.7153188691650237,
           -0.8021038790269567,
           -0.8770545693622621,
           -0.9401709401709406,
           -0.9914529914529916,
           -1.0309007232084153,
           -1.0585141354372123,
           -1.0742932281393816,
           -1.078238001314924,
           -1.0703484549638393,
           -1.050624589086127,
           -1.0190664036817878,
           -0.9756738987508213,
           -0.9204470742932275,
           -0.8533859303090067,
           -0.7744904667981586,
           -0.6837606837606833,
           -0.5811965811965809,
           -0.4667981591058508,
           -0.340565417488494,
           -0.20249835634450988,
           -0.052596975673898205,
           0.10913872452334039,
           0.28270874424720605,
           0.468113083497699,
           0.665351742274819,
           0.8744247205785668,
           1.0953320184089421,
           1.3280736357659433,
           1.5726495726495726,
           1.829059829059828,
           2.0973044049967124,
           2.3773833004602243,
           2.6692965154503607,
           2.9730440499671267,
           3.288625904010518,
           3.6160420775805386,
           3.9552925706771855,
           4.306377383300459
          ],
          [
           -0.38790269559500423,
           -0.4786324786324794,
           -0.5575279421433271,
           -0.624589086127548,
           -0.6798159105851415,
           -0.7232084155161077,
           -0.7547666009204467,
           -0.7744904667981588,
           -0.7823800131492433,
           -0.7784352399737008,
           -0.7626561472715312,
           -0.7350427350427342,
           -0.69559500328731,
           -0.6443129520052588,
           -0.5811965811965801,
           -0.5062458908612745,
           -0.41946088099934165,
           -0.3208415516107816,
           -0.2103879026955942,
           -0.08809993425377947,
           0.046022353714662234,
           0.1919789612097311,
           0.3497698882314276,
           0.519395134779751,
           0.7008547008547016,
           0.8941485864562793,
           1.099276791584484,
           1.3162393162393167,
           1.545036160420777,
           1.7856673241288628,
           2.038132807363577,
           2.302432610124917,
           2.5785667324128863,
           2.8665351742274825,
           3.1663379355687042,
           3.4779750164365555,
           3.801446416831032,
           4.136752136752136,
           4.483892176199869,
           4.842866535174227
          ],
          [
           -0.2011834319526638,
           -0.28402366863905404,
           -0.3550295857988172,
           -0.414201183431953,
           -0.4615384615384616,
           -0.4970414201183432,
           -0.5207100591715974,
           -0.5325443786982246,
           -0.5325443786982245,
           -0.5207100591715971,
           -0.4970414201183426,
           -0.46153846153846084,
           -0.414201183431952,
           -0.35502958579881594,
           -0.2840236686390525,
           -0.20118343195266197,
           -0.1065088757396443,
           5.560042856499878e-16,
           0.11834319526627267,
           0.24852071005917228,
           0.3905325443786987,
           0.5443786982248524,
           0.7100591715976338,
           0.8875739644970418,
           1.0769230769230773,
           1.2781065088757397,
           1.4911242603550294,
           1.7159763313609468,
           1.9526627218934915,
           2.201183431952662,
           2.4615384615384617,
           2.733727810650886,
           3.0177514792899403,
           3.313609467455622,
           3.621301775147928,
           3.9408284023668636,
           4.272189349112424,
           4.615384615384614,
           4.970414201183432,
           5.337278106508874
          ],
          [
           -0.05654174884944207,
           -0.13149243918474743,
           -0.19460880999342575,
           -0.24589086127547682,
           -0.28533859303090053,
           -0.31295200525969713,
           -0.32873109796186667,
           -0.332675871137409,
           -0.3247863247863241,
           -0.30506245890861194,
           -0.27350427350427264,
           -0.23011176857330604,
           -0.17488494411571234,
           -0.10782380013149144,
           -0.028928336620643126,
           0.061801446416832176,
           0.16436554898093467,
           0.2787639710716643,
           0.40499671268902127,
           0.5430637738330056,
           0.6929651545036168,
           0.8547008547008556,
           1.0282708744247218,
           1.2136752136752147,
           1.410913872452335,
           1.6199868507560822,
           1.8408941485864565,
           2.0736357659434588,
           2.3182117028270883,
           2.574621959237344,
           2.842866535174228,
           3.1229454306377376,
           3.414858645627876,
           3.718606180144642,
           4.034188034188034,
           4.361604207758054,
           4.7008547008547,
           5.051939513477974,
           5.414858645627876,
           5.789612097304404
          ],
          [
           0.04602235371466055,
           -0.021038790269559966,
           -0.07626561472715365,
           -0.11965811965811984,
           -0.1512163050624588,
           -0.1709401709401707,
           -0.17882971729125535,
           -0.1748849441157128,
           -0.1591058514135431,
           -0.13149243918474612,
           -0.09204470742932197,
           -0.04076265614727059,
           0.0223537146614079,
           0.09730440499671358,
           0.18408941485864674,
           0.2827087442472068,
           0.3931623931623941,
           0.5154503616042087,
           0.6495726495726502,
           0.7955292570677195,
           0.9533201840894155,
           1.1229454306377389,
           1.3044049967126898,
           1.4976988823142678,
           1.7028270874424727,
           1.9197896120973046,
           2.148586456278764,
           2.389217619986851,
           2.6416831032215655,
           2.905982905982906,
           3.1821170282708744,
           3.470085470085469,
           3.769888231426693,
           4.081525312294543,
           4.4049967126890195,
           4.740302432610125,
           5.087442472057855,
           5.446416831032215,
           5.817225509533202,
           6.199868507560814
          ],
          [
           0.10650887573964433,
           0.04733727810650858,
           -1.330077199928776e-16,
           -0.03550295857988158,
           -0.059171597633135696,
           -0.07100591715976272,
           -0.07100591715976258,
           -0.059171597633135224,
           -0.03550295857988073,
           1.0538191000564891e-15,
           0.04733727810651001,
           0.10650887573964624,
           0.17751479289940955,
           0.26035502958580004,
           0.355029585798818,
           0.4615384615384629,
           0.579881656804735,
           0.7100591715976344,
           0.8520710059171608,
           1.0059171597633147,
           1.1715976331360958,
           1.3491124260355039,
           1.5384615384615397,
           1.7396449704142025,
           1.952662721893492,
           2.177514792899409,
           2.414201183431953,
           2.662721893491125,
           2.9230769230769242,
           3.195266272189349,
           3.4792899408284033,
           3.775147928994082,
           4.0828402366863905,
           4.402366863905326,
           4.733727810650888,
           5.0769230769230775,
           5.431952662721892,
           5.798816568047337,
           6.177514792899409,
           6.568047337278105
          ],
          [
           0.124917817225509,
           0.07363576594345811,
           0.03418803418803413,
           0.006574621959237653,
           -0.009204470742931835,
           -0.013149243918473996,
           -0.005259697567388999,
           0.014464168310323188,
           0.04602235371466253,
           0.08941485864562909,
           0.1446416831032229,
           0.21170282708744392,
           0.29059829059829206,
           0.3813280736357674,
           0.4838921761998702,
           0.5982905982905998,
           0.7245233399079567,
           0.8625904010519408,
           1.0124917817225523,
           1.174227481919791,
           1.3477975016436567,
           1.5332018408941497,
           1.7304404996712706,
           1.9395134779750178,
           2.160420775805392,
           2.3931623931623944,
           2.637738330046023,
           2.89414858645628,
           3.162393162393164,
           3.4424720578566737,
           3.7343852728468123,
           4.038132807363576,
           4.353714661406969,
           4.681130834976989,
           5.020381328073636,
           5.37146614069691,
           5.7343852728468105,
           6.10913872452334,
           6.495726495726497,
           6.894148586456278
          ],
          [
           0.10124917817225464,
           0.05785667324128848,
           0.026298487836949366,
           0.006574621959237633,
           -0.001314924391846887,
           0.002629848783695807,
           0.018408941485865606,
           0.04602235371466259,
           0.08547008547008675,
           0.13675213675213815,
           0.19986850756081678,
           0.2748191978961227,
           0.3616042077580556,
           0.4602235371466157,
           0.5706771860618033,
           0.6929651545036178,
           0.8270874424720595,
           0.9730440499671285,
           1.1308349769888246,
           1.3004602235371483,
           1.4819197896120988,
           1.6752136752136764,
           1.880341880341882,
           2.0973044049967142,
           2.3261012491781736,
           2.5667324128862608,
           2.8191978961209743,
           3.0834976988823155,
           3.3596318211702845,
           3.6476002629848794,
           3.9474030243261025,
           4.259040105193951,
           4.582511505588429,
           4.917817225509535,
           5.264957264957266,
           5.623931623931625,
           5.99474030243261,
           6.377383300460224,
           6.771860618014466,
           7.178172255095331
          ],
          [
           0.035502958579881345,
           4.5284058929015443e-17,
           -0.02366863905325421,
           -0.0355029585798812,
           -0.035502958579880964,
           -0.023668639053253476,
           1.1793285418700138e-15,
           0.03550295857988299,
           0.08284023668639197,
           0.14201183431952816,
           0.21301775147929164,
           0.2958579881656823,
           0.39053254437870005,
           0.497041420118345,
           0.6153846153846175,
           0.7455621301775168,
           0.8875739644970434,
           1.041420118343197,
           1.207100591715978,
           1.3846153846153866,
           1.573964497041422,
           1.7751479289940844,
           1.9881656804733747,
           2.213017751479292,
           2.4497041420118357,
           2.6982248520710077,
           2.958579881656806,
           3.2307692307692326,
           3.514792899408286,
           3.8106508875739653,
           4.118343195266275,
           4.437869822485207,
           4.769230769230771,
           5.112426035502961,
           5.4674556213017755,
           5.834319526627221,
           6.213017751479289,
           6.603550295857988,
           7.005917159763314,
           7.420118343195265
          ],
          [
           -0.07232084155161064,
           -0.09993425378040718,
           -0.11571334648257671,
           -0.11965811965811883,
           -0.11176857330703374,
           -0.09204470742932157,
           -0.06048652202498217,
           -0.017094017094015496,
           0.03813280736357825,
           0.10519395134779923,
           0.1840894148586475,
           0.274819197896123,
           0.3773833004602255,
           0.4917817225509552,
           0.6180144641683125,
           0.7560815253122966,
           0.905982905982908,
           1.0677186061801465,
           1.2412886259040123,
           1.4266929651545055,
           1.6239316239316257,
           1.8330046022353728,
           2.053911900065748,
           2.28665351742275,
           2.531229454306379,
           2.787639710716635,
           3.0558842866535185,
           3.33596318211703,
           3.6278763971071677,
           3.931623931623932,
           4.247205785667325,
           4.574621959237343,
           4.913872452333991,
           5.264957264957266,
           5.627876397107166,
           6.002629848783695,
           6.389217619986849,
           6.787639710716633,
           7.197896120973044,
           7.61998685075608
          ],
          [
           -0.222222222222222,
           -0.24194608809993381,
           -0.24983563445101845,
           -0.24589086127547574,
           -0.2301117685733059,
           -0.20249835634450875,
           -0.16305062458908454,
           -0.11176857330703306,
           -0.04865220249835453,
           0.026298487836951278,
           0.11308349769888436,
           0.21170282708744467,
           0.32215647600263203,
           0.44444444444444653,
           0.5785667324128887,
           0.7245233399079576,
           0.8823142669296538,
           1.051939513477977,
           1.2333990795529277,
           1.4266929651545057,
           1.6318211702827108,
           1.8487836949375427,
           2.0775805391190025,
           2.318211702827089,
           2.570677186061803,
           2.8349769888231444,
           3.1111111111111125,
           3.3990795529257083,
           3.6988823142669314,
           4.010519395134781,
           4.333990795529259,
           4.669296515450362,
           5.016436554898093,
           5.375410913872453,
           5.746219592373438,
           6.128862590401052,
           6.523339907955291,
           6.92965154503616,
           7.347797501643656,
           7.777777777777777
          ],
          [
           -0.4142011834319525,
           -0.42603550295857945,
           -0.4260355029585791,
           -0.41420118343195167,
           -0.39053254437869694,
           -0.35502958579881505,
           -0.30769230769230593,
           -0.24852071005916973,
           -0.17751479289940633,
           -0.09467455621301571,
           2.175051612834733e-15,
           0.10650887573964733,
           0.22485207100591947,
           0.3550295857988188,
           0.4970414201183458,
           0.6508875739644995,
           0.8165680473372804,
           0.9940828402366886,
           1.1834319526627242,
           1.384615384615387,
           1.5976331360946767,
           1.8224852071005937,
           2.059171597633138,
           2.3076923076923097,
           2.5680473372781085,
           2.8402366863905346,
           3.124260355029587,
           3.4201183431952678,
           3.727810650887576,
           4.04733727810651,
           4.378698224852073,
           4.72189349112426,
           5.0769230769230775,
           5.443786982248522,
           5.822485207100592,
           6.213017751479291,
           6.615384615384614,
           7.0295857988165675,
           7.455621301775149,
           7.893491124260354
          ],
          [
           -0.6482577251808022,
           -0.6522024983563441,
           -0.6443129520052593,
           -0.6245890861275469,
           -0.5930309007232073,
           -0.5496383957922406,
           -0.49441157133464664,
           -0.4273504273504256,
           -0.34845496383957747,
           -0.257725180802102,
           -0.15516107823799927,
           -0.04076265614726928,
           0.08547008547008768,
           0.22353714661407184,
           0.37343852728468363,
           0.5351742274819222,
           0.7087442472057879,
           0.8941485864562809,
           1.0913872452334012,
           1.300460223537149,
           1.5213675213675235,
           1.7541091387245251,
           1.998685075608155,
           2.255095332018411,
           2.523339907955294,
           2.803418803418805,
           3.0953320184089423,
           3.3990795529257083,
           3.7146614069691015,
           4.042077580539121,
           4.381328073635768,
           4.7324128862590396,
           5.095332018408942,
           5.470085470085471,
           5.856673241288626,
           6.25509533201841,
           6.665351742274818,
           7.087442472057856,
           7.521367521367522,
           7.967126890203812
          ],
          [
           -0.9243918474687707,
           -0.9204470742932278,
           -0.9046679815910581,
           -0.8770545693622609,
           -0.8376068376068364,
           -0.7863247863247853,
           -0.7232084155161063,
           -0.6482577251808004,
           -0.5614727153188673,
           -0.4628533859303072,
           -0.3523997370151196,
           -0.23011176857330481,
           -0.09598948060486302,
           0.04996712689020594,
           0.20775805391190255,
           0.37738330046022595,
           0.5588428665351765,
           0.7521367521367542,
           0.9572649572649593,
           1.174227481919792,
           1.4030243261012514,
           1.6436554898093374,
           1.8961209730440522,
           2.1604207758053935,
           2.436554898093361,
           2.724523339907957,
           3.0243261012491796,
           3.33596318211703,
           3.6594345825115075,
           3.9947403024326107,
           4.341880341880343,
           4.7008547008547,
           5.071663379355687,
           5.454306377383302,
           5.848783694937541,
           6.25509533201841,
           6.673241288625904,
           7.103221564760026,
           7.545036160420777,
           7.998685075608152
          ],
          [
           -1.2426035502958572,
           -1.230769230769229,
           -1.2071005917159747,
           -1.1715976331360927,
           -1.1242603550295838,
           -1.0650887573964474,
           -0.9940828402366839,
           -0.9112426035502932,
           -0.8165680473372753,
           -0.7100591715976301,
           -0.5917159763313579,
           -0.4615384615384583,
           -0.31952662721893177,
           -0.165680473372778,
           3.4258821669193885e-15,
           0.1775147928994116,
           0.36686390532544694,
           0.5680473372781095,
           0.7810650887573992,
           1.0059171597633167,
           1.2426035502958608,
           1.4911242603550319,
           1.7514792899408314,
           2.0236686390532572,
           2.3076923076923097,
           2.6035502958579904,
           2.9112426035502974,
           3.230769230769233,
           3.5621301775147955,
           3.9053254437869835,
           4.260355029585801,
           4.627218934911243,
           5.005917159763315,
           5.396449704142014,
           5.7988165680473385,
           6.213017751479291,
           6.6390532544378695,
           7.0769230769230775,
           7.526627218934912,
           7.988165680473371
          ],
          [
           -1.6028928336620631,
           -1.5831689677843501,
           -1.5516107823800112,
           -1.5082182774490445,
           -1.4529914529914503,
           -1.3859303090072292,
           -1.307034845496381,
           -1.216305062458905,
           -1.1137409598948025,
           -0.9993425378040729,
           -0.8731097961867155,
           -0.7350427350427312,
           -0.5851413543721198,
           -0.4234056541748813,
           -0.24983563445101503,
           -0.06443129520052208,
           0.13280736357659811,
           0.3418803418803454,
           0.5627876397107199,
           0.7955292570677224,
           1.0401051939513513,
           1.2965154503616072,
           1.5647600262984915,
           1.8448389217620023,
           2.1367521367521394,
           2.440499671268905,
           2.7560815253122968,
           3.0834976988823173,
           3.4227481919789646,
           3.7738330046022375,
           4.13675213675214,
           4.511505588428666,
           4.898093359631822,
           5.296515450361607,
           5.706771860618016,
           6.128862590401054,
           6.562787639710717,
           7.008547008547009,
           7.466140696909929,
           7.935568704799473
          ],
          [
           -2.005259697567389,
           -1.9776462853385917,
           -1.9381985535831672,
           -1.8869165023011156,
           -1.823800131492437,
           -1.7488494411571307,
           -1.662064431295198,
           -1.563445101906637,
           -1.4529914529914496,
           -1.3307034845496353,
           -1.1965811965811932,
           -1.0506245890861239,
           -0.8928336620644277,
           -0.7232084155161044,
           -0.5417488494411533,
           -0.3484549638395755,
           -0.14332675871137052,
           0.07363576594346158,
           0.302432610124921,
           0.5430637738330082,
           0.7955292570677219,
           1.0598290598290627,
           1.335963182117032,
           1.6239316239316275,
           1.92373438527285,
           2.2353714661406996,
           2.5588428665351763,
           2.8941485864562817,
           3.241288625904014,
           3.6002629848783716,
           3.971071663379358,
           4.353714661406969,
           4.748191978961211,
           5.15450361604208,
           5.572649572649574,
           6.002629848783697,
           6.444444444444445,
           6.8980933596318215,
           7.363576594345827,
           7.840894148586456
          ],
          [
           -2.4497041420118335,
           -2.4142011834319517,
           -2.3668639053254426,
           -2.3076923076923057,
           -2.236686390532542,
           -2.153846153846151,
           -2.0591715976331333,
           -1.9526627218934878,
           -1.834319526627216,
           -1.7041420118343165,
           -1.5621301775147898,
           -1.4082840236686358,
           -1.2426035502958546,
           -1.0650887573964465,
           -0.8757396449704106,
           -0.6745562130177479,
           -0.46153846153845823,
           -0.2366863905325413,
           2.9777834971198584e-15,
           0.24852071005917498,
           0.5088757396449736,
           0.7810650887573992,
           1.0650887573964531,
           1.3609467455621334,
           1.6686390532544408,
           1.9881656804733752,
           2.319526627218937,
           2.6627218934911268,
           3.0177514792899442,
           3.384615384615386,
           3.763313609467458,
           4.153846153846154,
           4.556213017751481,
           4.970414201183434,
           5.396449704142013,
           5.834319526627221,
           6.284023668639052,
           6.745562130177515,
           7.218934911242605,
           7.7041420118343185
          ],
          [
           -2.936226166995398,
           -2.8928336620644313,
           -2.8376068376068373,
           -2.7705456936226156,
           -2.6916502301117675,
           -2.6009204470742917,
           -2.498356344510189,
           -2.3839579224194587,
           -2.257725180802102,
           -2.1196581196581175,
           -1.969756738987506,
           -1.808021038790267,
           -1.6344510190664012,
           -1.4490466798159083,
           -1.2518080210387874,
           -1.0427350427350401,
           -0.8218277449046656,
           -0.5890861275476637,
           -0.3445101906640347,
           -0.08809993425377792,
           0.1801446416831055,
           0.460223537146616,
           0.7521367521367547,
           1.0558842866535199,
           1.3714661406969118,
           1.6988823142669311,
           2.038132807363578,
           2.3892176199868524,
           2.752136752136755,
           3.1268902038132813,
           3.513477975016438,
           3.9119000657462193,
           4.322156476002631,
           4.744247205785669,
           5.178172255095332,
           5.623931623931624,
           6.081525312294541,
           6.550953320184089,
           7.032215647600263,
           7.525312294543062
          ],
          [
           -3.4648257725180778,
           -3.4135437212360253,
           -3.3504273504273474,
           -3.275476660092041,
           -3.188691650230108,
           -3.090072320841547,
           -2.9796186719263598,
           -2.8573307034845445,
           -2.7232084155161034,
           -2.5772518080210336,
           -2.419460880999337,
           -2.249835634451014,
           -2.0683760683760632,
           -1.8750821827744855,
           -1.66995397764628,
           -1.4529914529914478,
           -1.2241946088099882,
           -0.9835634451019019,
           -0.731097961867188,
           -0.46679815910584616,
           -0.19066403681787833,
           0.09730440499671728,
           0.3971071663379405,
           0.7087442472057903,
           1.0322156476002673,
           1.3675213675213713,
           1.7146614069691029,
           2.0736357659434623,
           2.4444444444444486,
           2.827087442472061,
           3.221564760026302,
           3.627876397107168,
           4.0460223537146645,
           4.476002629848788,
           4.917817225509535,
           5.371466140696913,
           5.8369493754109145,
           6.314266929651546,
           6.803418803418806,
           7.304404996712689
          ],
          [
           -4.0355029585798805,
           -3.9763313609467428,
           -3.905325443786979,
           -3.8224852071005886,
           -3.727810650887571,
           -3.621301775147925,
           -3.502958579881653,
           -3.3727810650887533,
           -3.2307692307692264,
           -3.0769230769230727,
           -2.911242603550291,
           -2.7337278106508824,
           -2.5443786982248477,
           -2.343195266272185,
           -2.1301775147928947,
           -1.9053254437869773,
           -1.6686390532544333,
           -1.4201183431952618,
           -1.1597633136094634,
           -0.8875739644970371,
           -0.6035502958579838,
           -0.3076923076923038,
           4.289056141479658e-15,
           0.319526627218939,
           0.6508875739645008,
           0.9940828402366897,
           1.349112426035506,
           1.7159763313609502,
           2.0946745562130213,
           2.4852071005917185,
           2.8875739644970446,
           3.3017751479289954,
           3.727810650887576,
           4.165680473372785,
           4.615384615384617,
           5.076923076923078,
           5.550295857988166,
           6.035502958579882,
           6.532544378698227,
           7.041420118343195
          ],
          [
           -4.648257725180801,
           -4.581196581196579,
           -4.502301117685731,
           -4.411571334648254,
           -4.309007232084152,
           -4.194608809993421,
           -4.068376068376065,
           -3.9303090072320797,
           -3.780407626561469,
           -3.61867192636423,
           -3.445101906640364,
           -3.2596975673898703,
           -3.0624589086127507,
           -2.853385930309003,
           -2.632478632478628,
           -2.3997370151216257,
           -2.155161078237997,
           -1.8987508218277407,
           -1.6305062458908572,
           -1.3504273504273463,
           -1.0585141354372083,
           -0.7547666009204436,
           -0.43918474687705034,
           -0.1117685733070308,
           0.22748191978961535,
           0.5785667324128895,
           0.9414858645627904,
           1.3162393162393196,
           1.7028270874424758,
           2.101249178172257,
           2.5115055884286686,
           2.9335963182117037,
           3.3675213675213693,
           3.8132807363576626,
           4.27087442472058,
           4.740302432610127,
           5.221564760026299,
           5.7146614069691,
           6.219592373438529,
           6.7363576594345815
          ],
          [
           -5.303090072320841,
           -5.228139381985534,
           -5.141354372123602,
           -5.04273504273504,
           -4.932281393819853,
           -4.809993425378038,
           -4.675871137409596,
           -4.529914529914527,
           -4.37212360289283,
           -4.202498356344507,
           -4.021038790269556,
           -3.8277449046679775,
           -3.622616699539773,
           -3.4056541748849405,
           -3.1768573307034806,
           -2.9362261669953935,
           -2.68376068376068,
           -2.4194608809993388,
           -2.1433267587113707,
           -1.855358316896775,
           -1.555555555555552,
           -1.2439184746877026,
           -0.9204470742932247,
           -0.5851413543721202,
           -0.2380013149243885,
           0.12097304404996974,
           0.49178172255095515,
           0.8744247205785698,
           1.2689020381328104,
           1.6752136752136768,
           2.093359631821173,
           2.5233399079552927,
           2.965154503616043,
           3.4188034188034213,
           3.884286653517423,
           4.361604207758056,
           4.8507560815253115,
           5.351742274819198,
           5.864562787639711,
           6.38921761998685
          ],
          [
           -5.999999999999999,
           -5.917159763313609,
           -5.82248520710059,
           -5.715976331360944,
           -5.597633136094672,
           -5.467455621301773,
           -5.3254437869822455,
           -5.171597633136092,
           -5.00591715976331,
           -4.8284023668639025,
           -4.639053254437867,
           -4.437869822485204,
           -4.224852071005914,
           -3.999999999999997,
           -3.763313609467452,
           -3.51479289940828,
           -3.254437869822482,
           -2.9822485207100558,
           -2.6982248520710033,
           -2.402366863905322,
           -2.0946745562130147,
           -1.7751479289940804,
           -1.4437869822485174,
           -1.1005917159763283,
           -0.7455621301775124,
           -0.3786982248520688,
           1.7974385629629065e-15,
           0.3905325443787002,
           0.7928994082840268,
           1.2071005917159778,
           1.633136094674558,
           2.071005917159763,
           2.520710059171599,
           2.9822485207100615,
           3.455621301775148,
           3.940828402366865,
           4.437869822485206,
           4.946745562130176,
           5.4674556213017755,
           5.999999999999998
          ]
         ]
        }
       ],
       "layout": {
        "legend": {
         "tracegroupgap": 0
        },
        "margin": {
         "t": 60
        },
        "scene": {
         "domain": {
          "x": [
           0,
           1
          ],
          "y": [
           0,
           1
          ]
         },
         "xaxis": {
          "title": {
           "text": "x"
          }
         },
         "yaxis": {
          "title": {
           "text": "y"
          }
         },
         "zaxis": {
          "title": {
           "text": "z"
          }
         }
        },
        "template": {
         "data": {
          "bar": [
           {
            "error_x": {
             "color": "#2a3f5f"
            },
            "error_y": {
             "color": "#2a3f5f"
            },
            "marker": {
             "line": {
              "color": "#E5ECF6",
              "width": 0.5
             },
             "pattern": {
              "fillmode": "overlay",
              "size": 10,
              "solidity": 0.2
             }
            },
            "type": "bar"
           }
          ],
          "barpolar": [
           {
            "marker": {
             "line": {
              "color": "#E5ECF6",
              "width": 0.5
             },
             "pattern": {
              "fillmode": "overlay",
              "size": 10,
              "solidity": 0.2
             }
            },
            "type": "barpolar"
           }
          ],
          "carpet": [
           {
            "aaxis": {
             "endlinecolor": "#2a3f5f",
             "gridcolor": "white",
             "linecolor": "white",
             "minorgridcolor": "white",
             "startlinecolor": "#2a3f5f"
            },
            "baxis": {
             "endlinecolor": "#2a3f5f",
             "gridcolor": "white",
             "linecolor": "white",
             "minorgridcolor": "white",
             "startlinecolor": "#2a3f5f"
            },
            "type": "carpet"
           }
          ],
          "choropleth": [
           {
            "colorbar": {
             "outlinewidth": 0,
             "ticks": ""
            },
            "type": "choropleth"
           }
          ],
          "contour": [
           {
            "colorbar": {
             "outlinewidth": 0,
             "ticks": ""
            },
            "colorscale": [
             [
              0,
              "#0d0887"
             ],
             [
              0.1111111111111111,
              "#46039f"
             ],
             [
              0.2222222222222222,
              "#7201a8"
             ],
             [
              0.3333333333333333,
              "#9c179e"
             ],
             [
              0.4444444444444444,
              "#bd3786"
             ],
             [
              0.5555555555555556,
              "#d8576b"
             ],
             [
              0.6666666666666666,
              "#ed7953"
             ],
             [
              0.7777777777777778,
              "#fb9f3a"
             ],
             [
              0.8888888888888888,
              "#fdca26"
             ],
             [
              1,
              "#f0f921"
             ]
            ],
            "type": "contour"
           }
          ],
          "contourcarpet": [
           {
            "colorbar": {
             "outlinewidth": 0,
             "ticks": ""
            },
            "type": "contourcarpet"
           }
          ],
          "heatmap": [
           {
            "colorbar": {
             "outlinewidth": 0,
             "ticks": ""
            },
            "colorscale": [
             [
              0,
              "#0d0887"
             ],
             [
              0.1111111111111111,
              "#46039f"
             ],
             [
              0.2222222222222222,
              "#7201a8"
             ],
             [
              0.3333333333333333,
              "#9c179e"
             ],
             [
              0.4444444444444444,
              "#bd3786"
             ],
             [
              0.5555555555555556,
              "#d8576b"
             ],
             [
              0.6666666666666666,
              "#ed7953"
             ],
             [
              0.7777777777777778,
              "#fb9f3a"
             ],
             [
              0.8888888888888888,
              "#fdca26"
             ],
             [
              1,
              "#f0f921"
             ]
            ],
            "type": "heatmap"
           }
          ],
          "heatmapgl": [
           {
            "colorbar": {
             "outlinewidth": 0,
             "ticks": ""
            },
            "colorscale": [
             [
              0,
              "#0d0887"
             ],
             [
              0.1111111111111111,
              "#46039f"
             ],
             [
              0.2222222222222222,
              "#7201a8"
             ],
             [
              0.3333333333333333,
              "#9c179e"
             ],
             [
              0.4444444444444444,
              "#bd3786"
             ],
             [
              0.5555555555555556,
              "#d8576b"
             ],
             [
              0.6666666666666666,
              "#ed7953"
             ],
             [
              0.7777777777777778,
              "#fb9f3a"
             ],
             [
              0.8888888888888888,
              "#fdca26"
             ],
             [
              1,
              "#f0f921"
             ]
            ],
            "type": "heatmapgl"
           }
          ],
          "histogram": [
           {
            "marker": {
             "pattern": {
              "fillmode": "overlay",
              "size": 10,
              "solidity": 0.2
             }
            },
            "type": "histogram"
           }
          ],
          "histogram2d": [
           {
            "colorbar": {
             "outlinewidth": 0,
             "ticks": ""
            },
            "colorscale": [
             [
              0,
              "#0d0887"
             ],
             [
              0.1111111111111111,
              "#46039f"
             ],
             [
              0.2222222222222222,
              "#7201a8"
             ],
             [
              0.3333333333333333,
              "#9c179e"
             ],
             [
              0.4444444444444444,
              "#bd3786"
             ],
             [
              0.5555555555555556,
              "#d8576b"
             ],
             [
              0.6666666666666666,
              "#ed7953"
             ],
             [
              0.7777777777777778,
              "#fb9f3a"
             ],
             [
              0.8888888888888888,
              "#fdca26"
             ],
             [
              1,
              "#f0f921"
             ]
            ],
            "type": "histogram2d"
           }
          ],
          "histogram2dcontour": [
           {
            "colorbar": {
             "outlinewidth": 0,
             "ticks": ""
            },
            "colorscale": [
             [
              0,
              "#0d0887"
             ],
             [
              0.1111111111111111,
              "#46039f"
             ],
             [
              0.2222222222222222,
              "#7201a8"
             ],
             [
              0.3333333333333333,
              "#9c179e"
             ],
             [
              0.4444444444444444,
              "#bd3786"
             ],
             [
              0.5555555555555556,
              "#d8576b"
             ],
             [
              0.6666666666666666,
              "#ed7953"
             ],
             [
              0.7777777777777778,
              "#fb9f3a"
             ],
             [
              0.8888888888888888,
              "#fdca26"
             ],
             [
              1,
              "#f0f921"
             ]
            ],
            "type": "histogram2dcontour"
           }
          ],
          "mesh3d": [
           {
            "colorbar": {
             "outlinewidth": 0,
             "ticks": ""
            },
            "type": "mesh3d"
           }
          ],
          "parcoords": [
           {
            "line": {
             "colorbar": {
              "outlinewidth": 0,
              "ticks": ""
             }
            },
            "type": "parcoords"
           }
          ],
          "pie": [
           {
            "automargin": true,
            "type": "pie"
           }
          ],
          "scatter": [
           {
            "fillpattern": {
             "fillmode": "overlay",
             "size": 10,
             "solidity": 0.2
            },
            "type": "scatter"
           }
          ],
          "scatter3d": [
           {
            "line": {
             "colorbar": {
              "outlinewidth": 0,
              "ticks": ""
             }
            },
            "marker": {
             "colorbar": {
              "outlinewidth": 0,
              "ticks": ""
             }
            },
            "type": "scatter3d"
           }
          ],
          "scattercarpet": [
           {
            "marker": {
             "colorbar": {
              "outlinewidth": 0,
              "ticks": ""
             }
            },
            "type": "scattercarpet"
           }
          ],
          "scattergeo": [
           {
            "marker": {
             "colorbar": {
              "outlinewidth": 0,
              "ticks": ""
             }
            },
            "type": "scattergeo"
           }
          ],
          "scattergl": [
           {
            "marker": {
             "colorbar": {
              "outlinewidth": 0,
              "ticks": ""
             }
            },
            "type": "scattergl"
           }
          ],
          "scattermapbox": [
           {
            "marker": {
             "colorbar": {
              "outlinewidth": 0,
              "ticks": ""
             }
            },
            "type": "scattermapbox"
           }
          ],
          "scatterpolar": [
           {
            "marker": {
             "colorbar": {
              "outlinewidth": 0,
              "ticks": ""
             }
            },
            "type": "scatterpolar"
           }
          ],
          "scatterpolargl": [
           {
            "marker": {
             "colorbar": {
              "outlinewidth": 0,
              "ticks": ""
             }
            },
            "type": "scatterpolargl"
           }
          ],
          "scatterternary": [
           {
            "marker": {
             "colorbar": {
              "outlinewidth": 0,
              "ticks": ""
             }
            },
            "type": "scatterternary"
           }
          ],
          "surface": [
           {
            "colorbar": {
             "outlinewidth": 0,
             "ticks": ""
            },
            "colorscale": [
             [
              0,
              "#0d0887"
             ],
             [
              0.1111111111111111,
              "#46039f"
             ],
             [
              0.2222222222222222,
              "#7201a8"
             ],
             [
              0.3333333333333333,
              "#9c179e"
             ],
             [
              0.4444444444444444,
              "#bd3786"
             ],
             [
              0.5555555555555556,
              "#d8576b"
             ],
             [
              0.6666666666666666,
              "#ed7953"
             ],
             [
              0.7777777777777778,
              "#fb9f3a"
             ],
             [
              0.8888888888888888,
              "#fdca26"
             ],
             [
              1,
              "#f0f921"
             ]
            ],
            "type": "surface"
           }
          ],
          "table": [
           {
            "cells": {
             "fill": {
              "color": "#EBF0F8"
             },
             "line": {
              "color": "white"
             }
            },
            "header": {
             "fill": {
              "color": "#C8D4E3"
             },
             "line": {
              "color": "white"
             }
            },
            "type": "table"
           }
          ]
         },
         "layout": {
          "annotationdefaults": {
           "arrowcolor": "#2a3f5f",
           "arrowhead": 0,
           "arrowwidth": 1
          },
          "autotypenumbers": "strict",
          "coloraxis": {
           "colorbar": {
            "outlinewidth": 0,
            "ticks": ""
           }
          },
          "colorscale": {
           "diverging": [
            [
             0,
             "#8e0152"
            ],
            [
             0.1,
             "#c51b7d"
            ],
            [
             0.2,
             "#de77ae"
            ],
            [
             0.3,
             "#f1b6da"
            ],
            [
             0.4,
             "#fde0ef"
            ],
            [
             0.5,
             "#f7f7f7"
            ],
            [
             0.6,
             "#e6f5d0"
            ],
            [
             0.7,
             "#b8e186"
            ],
            [
             0.8,
             "#7fbc41"
            ],
            [
             0.9,
             "#4d9221"
            ],
            [
             1,
             "#276419"
            ]
           ],
           "sequential": [
            [
             0,
             "#0d0887"
            ],
            [
             0.1111111111111111,
             "#46039f"
            ],
            [
             0.2222222222222222,
             "#7201a8"
            ],
            [
             0.3333333333333333,
             "#9c179e"
            ],
            [
             0.4444444444444444,
             "#bd3786"
            ],
            [
             0.5555555555555556,
             "#d8576b"
            ],
            [
             0.6666666666666666,
             "#ed7953"
            ],
            [
             0.7777777777777778,
             "#fb9f3a"
            ],
            [
             0.8888888888888888,
             "#fdca26"
            ],
            [
             1,
             "#f0f921"
            ]
           ],
           "sequentialminus": [
            [
             0,
             "#0d0887"
            ],
            [
             0.1111111111111111,
             "#46039f"
            ],
            [
             0.2222222222222222,
             "#7201a8"
            ],
            [
             0.3333333333333333,
             "#9c179e"
            ],
            [
             0.4444444444444444,
             "#bd3786"
            ],
            [
             0.5555555555555556,
             "#d8576b"
            ],
            [
             0.6666666666666666,
             "#ed7953"
            ],
            [
             0.7777777777777778,
             "#fb9f3a"
            ],
            [
             0.8888888888888888,
             "#fdca26"
            ],
            [
             1,
             "#f0f921"
            ]
           ]
          },
          "colorway": [
           "#636efa",
           "#EF553B",
           "#00cc96",
           "#ab63fa",
           "#FFA15A",
           "#19d3f3",
           "#FF6692",
           "#B6E880",
           "#FF97FF",
           "#FECB52"
          ],
          "font": {
           "color": "#2a3f5f"
          },
          "geo": {
           "bgcolor": "white",
           "lakecolor": "white",
           "landcolor": "#E5ECF6",
           "showlakes": true,
           "showland": true,
           "subunitcolor": "white"
          },
          "hoverlabel": {
           "align": "left"
          },
          "hovermode": "closest",
          "mapbox": {
           "style": "light"
          },
          "paper_bgcolor": "white",
          "plot_bgcolor": "#E5ECF6",
          "polar": {
           "angularaxis": {
            "gridcolor": "white",
            "linecolor": "white",
            "ticks": ""
           },
           "bgcolor": "#E5ECF6",
           "radialaxis": {
            "gridcolor": "white",
            "linecolor": "white",
            "ticks": ""
           }
          },
          "scene": {
           "xaxis": {
            "backgroundcolor": "#E5ECF6",
            "gridcolor": "white",
            "gridwidth": 2,
            "linecolor": "white",
            "showbackground": true,
            "ticks": "",
            "zerolinecolor": "white"
           },
           "yaxis": {
            "backgroundcolor": "#E5ECF6",
            "gridcolor": "white",
            "gridwidth": 2,
            "linecolor": "white",
            "showbackground": true,
            "ticks": "",
            "zerolinecolor": "white"
           },
           "zaxis": {
            "backgroundcolor": "#E5ECF6",
            "gridcolor": "white",
            "gridwidth": 2,
            "linecolor": "white",
            "showbackground": true,
            "ticks": "",
            "zerolinecolor": "white"
           }
          },
          "shapedefaults": {
           "line": {
            "color": "#2a3f5f"
           }
          },
          "ternary": {
           "aaxis": {
            "gridcolor": "white",
            "linecolor": "white",
            "ticks": ""
           },
           "baxis": {
            "gridcolor": "white",
            "linecolor": "white",
            "ticks": ""
           },
           "bgcolor": "#E5ECF6",
           "caxis": {
            "gridcolor": "white",
            "linecolor": "white",
            "ticks": ""
           }
          },
          "title": {
           "x": 0.05
          },
          "xaxis": {
           "automargin": true,
           "gridcolor": "white",
           "linecolor": "white",
           "ticks": "",
           "title": {
            "standoff": 15
           },
           "zerolinecolor": "white",
           "zerolinewidth": 2
          },
          "yaxis": {
           "automargin": true,
           "gridcolor": "white",
           "linecolor": "white",
           "ticks": "",
           "title": {
            "standoff": 15
           },
           "zerolinecolor": "white",
           "zerolinewidth": 2
          }
         }
        }
       }
      }
     },
     "metadata": {},
     "output_type": "display_data"
    }
   ],
   "source": [
    "x, y, z, p = read_xypzdata(\"data/tmp43\")\n",
    "\n",
    "func, _ = LeastSquare2D(x, y, z, p, 3)\n",
    "\n",
    "x_pred = np.linspace(min(x), max(x), 40)\n",
    "y_pred = np.linspace(min(y), max(y), 40)\n",
    "z_graph = [[func(xi, yi) for xi in x_pred]for yi in y_pred]\n",
    "\n",
    "fcoeffs = LeastSquaresCoeffs2D(x, y, z, p, 1)\n",
    "\n",
    "\n",
    "fig = px.scatter_3d(x=x, y=y, z=z)\n",
    "fig.add_trace(go.Surface(x=x_pred, y=y_pred, z=z_graph))\n",
    "fig.show()"
   ]
  },
  {
   "cell_type": "code",
   "execution_count": 48,
   "metadata": {},
   "outputs": [
    {
     "name": "stdout",
     "output_type": "stream",
     "text": [
      "[0.49861325865194506, 3.109614561811726e-05, 2.000049004939749, -0.9999655788824446, -5.430003161995599e-06, 1.4382968487291466e-06]\n",
      "7.16950277294077e-05\n"
     ]
    },
    {
     "data": {
      "application/vnd.plotly.v1+json": {
       "config": {
        "plotlyServerURL": "https://plot.ly"
       },
       "data": [
        {
         "hovertemplate": "x=%{x}<br>y=%{y}<br>z=%{z}<extra></extra>",
         "legendgroup": "",
         "marker": {
          "color": "#636efa",
          "symbol": "circle"
         },
         "mode": "markers",
         "name": "",
         "scene": "scene",
         "showlegend": false,
         "type": "scatter3d",
         "x": [
          -1,
          0,
          1,
          2,
          -1,
          0,
          1,
          2,
          -1,
          0,
          1,
          2,
          -1,
          0,
          1,
          2,
          -1,
          0,
          1,
          2
         ],
         "y": [
          -2,
          -2,
          -2,
          -2,
          -1,
          -1,
          -1,
          -1,
          0,
          0,
          0,
          0,
          1,
          1,
          1,
          1,
          2,
          2,
          2,
          2
         ],
         "z": [
          8.13,
          7.5,
          5.78,
          1.11,
          2.13,
          1.5,
          -0.22,
          -4.89,
          0.13,
          -0.5,
          -2.22,
          -6.89,
          2.13,
          1.5,
          -0.22,
          -4.89,
          8.13,
          7.5,
          5.78,
          1.11
         ]
        },
        {
         "mode": "markers",
         "type": "scatter3d",
         "x": [
          -1,
          0,
          1,
          2,
          -1,
          0,
          1,
          2,
          -1,
          0,
          1,
          2,
          -1,
          0,
          1,
          2,
          -1,
          0,
          1,
          2
         ],
         "y": [
          -2,
          -2,
          -2,
          -2,
          -1,
          -1,
          -1,
          -1,
          0,
          0,
          0,
          0,
          1,
          1,
          1,
          1,
          2,
          2,
          2,
          2
         ],
         "z": [
          8.130884497595122,
          7.498793805540431,
          5.780598972172974,
          1.110104100300759,
          2.1307665813349645,
          1.4986724568636418,
          -0.21953170677957737,
          -4.89005194097085,
          0.1307466749543049,
          -0.5013508819336508,
          -2.2195643758526318,
          -6.890109972362962,
          2.1308247784531438,
          1.4987237891485543,
          -0.2194990350461883,
          -4.890069993875576,
          8.13100089183148,
          7.498896470110258,
          5.780664315639753,
          1.1100679944913074
         ]
        }
       ],
       "layout": {
        "legend": {
         "tracegroupgap": 0
        },
        "margin": {
         "t": 60
        },
        "scene": {
         "domain": {
          "x": [
           0,
           1
          ],
          "y": [
           0,
           1
          ]
         },
         "xaxis": {
          "title": {
           "text": "x"
          }
         },
         "yaxis": {
          "title": {
           "text": "y"
          }
         },
         "zaxis": {
          "title": {
           "text": "z"
          }
         }
        },
        "template": {
         "data": {
          "bar": [
           {
            "error_x": {
             "color": "#2a3f5f"
            },
            "error_y": {
             "color": "#2a3f5f"
            },
            "marker": {
             "line": {
              "color": "#E5ECF6",
              "width": 0.5
             },
             "pattern": {
              "fillmode": "overlay",
              "size": 10,
              "solidity": 0.2
             }
            },
            "type": "bar"
           }
          ],
          "barpolar": [
           {
            "marker": {
             "line": {
              "color": "#E5ECF6",
              "width": 0.5
             },
             "pattern": {
              "fillmode": "overlay",
              "size": 10,
              "solidity": 0.2
             }
            },
            "type": "barpolar"
           }
          ],
          "carpet": [
           {
            "aaxis": {
             "endlinecolor": "#2a3f5f",
             "gridcolor": "white",
             "linecolor": "white",
             "minorgridcolor": "white",
             "startlinecolor": "#2a3f5f"
            },
            "baxis": {
             "endlinecolor": "#2a3f5f",
             "gridcolor": "white",
             "linecolor": "white",
             "minorgridcolor": "white",
             "startlinecolor": "#2a3f5f"
            },
            "type": "carpet"
           }
          ],
          "choropleth": [
           {
            "colorbar": {
             "outlinewidth": 0,
             "ticks": ""
            },
            "type": "choropleth"
           }
          ],
          "contour": [
           {
            "colorbar": {
             "outlinewidth": 0,
             "ticks": ""
            },
            "colorscale": [
             [
              0,
              "#0d0887"
             ],
             [
              0.1111111111111111,
              "#46039f"
             ],
             [
              0.2222222222222222,
              "#7201a8"
             ],
             [
              0.3333333333333333,
              "#9c179e"
             ],
             [
              0.4444444444444444,
              "#bd3786"
             ],
             [
              0.5555555555555556,
              "#d8576b"
             ],
             [
              0.6666666666666666,
              "#ed7953"
             ],
             [
              0.7777777777777778,
              "#fb9f3a"
             ],
             [
              0.8888888888888888,
              "#fdca26"
             ],
             [
              1,
              "#f0f921"
             ]
            ],
            "type": "contour"
           }
          ],
          "contourcarpet": [
           {
            "colorbar": {
             "outlinewidth": 0,
             "ticks": ""
            },
            "type": "contourcarpet"
           }
          ],
          "heatmap": [
           {
            "colorbar": {
             "outlinewidth": 0,
             "ticks": ""
            },
            "colorscale": [
             [
              0,
              "#0d0887"
             ],
             [
              0.1111111111111111,
              "#46039f"
             ],
             [
              0.2222222222222222,
              "#7201a8"
             ],
             [
              0.3333333333333333,
              "#9c179e"
             ],
             [
              0.4444444444444444,
              "#bd3786"
             ],
             [
              0.5555555555555556,
              "#d8576b"
             ],
             [
              0.6666666666666666,
              "#ed7953"
             ],
             [
              0.7777777777777778,
              "#fb9f3a"
             ],
             [
              0.8888888888888888,
              "#fdca26"
             ],
             [
              1,
              "#f0f921"
             ]
            ],
            "type": "heatmap"
           }
          ],
          "heatmapgl": [
           {
            "colorbar": {
             "outlinewidth": 0,
             "ticks": ""
            },
            "colorscale": [
             [
              0,
              "#0d0887"
             ],
             [
              0.1111111111111111,
              "#46039f"
             ],
             [
              0.2222222222222222,
              "#7201a8"
             ],
             [
              0.3333333333333333,
              "#9c179e"
             ],
             [
              0.4444444444444444,
              "#bd3786"
             ],
             [
              0.5555555555555556,
              "#d8576b"
             ],
             [
              0.6666666666666666,
              "#ed7953"
             ],
             [
              0.7777777777777778,
              "#fb9f3a"
             ],
             [
              0.8888888888888888,
              "#fdca26"
             ],
             [
              1,
              "#f0f921"
             ]
            ],
            "type": "heatmapgl"
           }
          ],
          "histogram": [
           {
            "marker": {
             "pattern": {
              "fillmode": "overlay",
              "size": 10,
              "solidity": 0.2
             }
            },
            "type": "histogram"
           }
          ],
          "histogram2d": [
           {
            "colorbar": {
             "outlinewidth": 0,
             "ticks": ""
            },
            "colorscale": [
             [
              0,
              "#0d0887"
             ],
             [
              0.1111111111111111,
              "#46039f"
             ],
             [
              0.2222222222222222,
              "#7201a8"
             ],
             [
              0.3333333333333333,
              "#9c179e"
             ],
             [
              0.4444444444444444,
              "#bd3786"
             ],
             [
              0.5555555555555556,
              "#d8576b"
             ],
             [
              0.6666666666666666,
              "#ed7953"
             ],
             [
              0.7777777777777778,
              "#fb9f3a"
             ],
             [
              0.8888888888888888,
              "#fdca26"
             ],
             [
              1,
              "#f0f921"
             ]
            ],
            "type": "histogram2d"
           }
          ],
          "histogram2dcontour": [
           {
            "colorbar": {
             "outlinewidth": 0,
             "ticks": ""
            },
            "colorscale": [
             [
              0,
              "#0d0887"
             ],
             [
              0.1111111111111111,
              "#46039f"
             ],
             [
              0.2222222222222222,
              "#7201a8"
             ],
             [
              0.3333333333333333,
              "#9c179e"
             ],
             [
              0.4444444444444444,
              "#bd3786"
             ],
             [
              0.5555555555555556,
              "#d8576b"
             ],
             [
              0.6666666666666666,
              "#ed7953"
             ],
             [
              0.7777777777777778,
              "#fb9f3a"
             ],
             [
              0.8888888888888888,
              "#fdca26"
             ],
             [
              1,
              "#f0f921"
             ]
            ],
            "type": "histogram2dcontour"
           }
          ],
          "mesh3d": [
           {
            "colorbar": {
             "outlinewidth": 0,
             "ticks": ""
            },
            "type": "mesh3d"
           }
          ],
          "parcoords": [
           {
            "line": {
             "colorbar": {
              "outlinewidth": 0,
              "ticks": ""
             }
            },
            "type": "parcoords"
           }
          ],
          "pie": [
           {
            "automargin": true,
            "type": "pie"
           }
          ],
          "scatter": [
           {
            "fillpattern": {
             "fillmode": "overlay",
             "size": 10,
             "solidity": 0.2
            },
            "type": "scatter"
           }
          ],
          "scatter3d": [
           {
            "line": {
             "colorbar": {
              "outlinewidth": 0,
              "ticks": ""
             }
            },
            "marker": {
             "colorbar": {
              "outlinewidth": 0,
              "ticks": ""
             }
            },
            "type": "scatter3d"
           }
          ],
          "scattercarpet": [
           {
            "marker": {
             "colorbar": {
              "outlinewidth": 0,
              "ticks": ""
             }
            },
            "type": "scattercarpet"
           }
          ],
          "scattergeo": [
           {
            "marker": {
             "colorbar": {
              "outlinewidth": 0,
              "ticks": ""
             }
            },
            "type": "scattergeo"
           }
          ],
          "scattergl": [
           {
            "marker": {
             "colorbar": {
              "outlinewidth": 0,
              "ticks": ""
             }
            },
            "type": "scattergl"
           }
          ],
          "scattermapbox": [
           {
            "marker": {
             "colorbar": {
              "outlinewidth": 0,
              "ticks": ""
             }
            },
            "type": "scattermapbox"
           }
          ],
          "scatterpolar": [
           {
            "marker": {
             "colorbar": {
              "outlinewidth": 0,
              "ticks": ""
             }
            },
            "type": "scatterpolar"
           }
          ],
          "scatterpolargl": [
           {
            "marker": {
             "colorbar": {
              "outlinewidth": 0,
              "ticks": ""
             }
            },
            "type": "scatterpolargl"
           }
          ],
          "scatterternary": [
           {
            "marker": {
             "colorbar": {
              "outlinewidth": 0,
              "ticks": ""
             }
            },
            "type": "scatterternary"
           }
          ],
          "surface": [
           {
            "colorbar": {
             "outlinewidth": 0,
             "ticks": ""
            },
            "colorscale": [
             [
              0,
              "#0d0887"
             ],
             [
              0.1111111111111111,
              "#46039f"
             ],
             [
              0.2222222222222222,
              "#7201a8"
             ],
             [
              0.3333333333333333,
              "#9c179e"
             ],
             [
              0.4444444444444444,
              "#bd3786"
             ],
             [
              0.5555555555555556,
              "#d8576b"
             ],
             [
              0.6666666666666666,
              "#ed7953"
             ],
             [
              0.7777777777777778,
              "#fb9f3a"
             ],
             [
              0.8888888888888888,
              "#fdca26"
             ],
             [
              1,
              "#f0f921"
             ]
            ],
            "type": "surface"
           }
          ],
          "table": [
           {
            "cells": {
             "fill": {
              "color": "#EBF0F8"
             },
             "line": {
              "color": "white"
             }
            },
            "header": {
             "fill": {
              "color": "#C8D4E3"
             },
             "line": {
              "color": "white"
             }
            },
            "type": "table"
           }
          ]
         },
         "layout": {
          "annotationdefaults": {
           "arrowcolor": "#2a3f5f",
           "arrowhead": 0,
           "arrowwidth": 1
          },
          "autotypenumbers": "strict",
          "coloraxis": {
           "colorbar": {
            "outlinewidth": 0,
            "ticks": ""
           }
          },
          "colorscale": {
           "diverging": [
            [
             0,
             "#8e0152"
            ],
            [
             0.1,
             "#c51b7d"
            ],
            [
             0.2,
             "#de77ae"
            ],
            [
             0.3,
             "#f1b6da"
            ],
            [
             0.4,
             "#fde0ef"
            ],
            [
             0.5,
             "#f7f7f7"
            ],
            [
             0.6,
             "#e6f5d0"
            ],
            [
             0.7,
             "#b8e186"
            ],
            [
             0.8,
             "#7fbc41"
            ],
            [
             0.9,
             "#4d9221"
            ],
            [
             1,
             "#276419"
            ]
           ],
           "sequential": [
            [
             0,
             "#0d0887"
            ],
            [
             0.1111111111111111,
             "#46039f"
            ],
            [
             0.2222222222222222,
             "#7201a8"
            ],
            [
             0.3333333333333333,
             "#9c179e"
            ],
            [
             0.4444444444444444,
             "#bd3786"
            ],
            [
             0.5555555555555556,
             "#d8576b"
            ],
            [
             0.6666666666666666,
             "#ed7953"
            ],
            [
             0.7777777777777778,
             "#fb9f3a"
            ],
            [
             0.8888888888888888,
             "#fdca26"
            ],
            [
             1,
             "#f0f921"
            ]
           ],
           "sequentialminus": [
            [
             0,
             "#0d0887"
            ],
            [
             0.1111111111111111,
             "#46039f"
            ],
            [
             0.2222222222222222,
             "#7201a8"
            ],
            [
             0.3333333333333333,
             "#9c179e"
            ],
            [
             0.4444444444444444,
             "#bd3786"
            ],
            [
             0.5555555555555556,
             "#d8576b"
            ],
            [
             0.6666666666666666,
             "#ed7953"
            ],
            [
             0.7777777777777778,
             "#fb9f3a"
            ],
            [
             0.8888888888888888,
             "#fdca26"
            ],
            [
             1,
             "#f0f921"
            ]
           ]
          },
          "colorway": [
           "#636efa",
           "#EF553B",
           "#00cc96",
           "#ab63fa",
           "#FFA15A",
           "#19d3f3",
           "#FF6692",
           "#B6E880",
           "#FF97FF",
           "#FECB52"
          ],
          "font": {
           "color": "#2a3f5f"
          },
          "geo": {
           "bgcolor": "white",
           "lakecolor": "white",
           "landcolor": "#E5ECF6",
           "showlakes": true,
           "showland": true,
           "subunitcolor": "white"
          },
          "hoverlabel": {
           "align": "left"
          },
          "hovermode": "closest",
          "mapbox": {
           "style": "light"
          },
          "paper_bgcolor": "white",
          "plot_bgcolor": "#E5ECF6",
          "polar": {
           "angularaxis": {
            "gridcolor": "white",
            "linecolor": "white",
            "ticks": ""
           },
           "bgcolor": "#E5ECF6",
           "radialaxis": {
            "gridcolor": "white",
            "linecolor": "white",
            "ticks": ""
           }
          },
          "scene": {
           "xaxis": {
            "backgroundcolor": "#E5ECF6",
            "gridcolor": "white",
            "gridwidth": 2,
            "linecolor": "white",
            "showbackground": true,
            "ticks": "",
            "zerolinecolor": "white"
           },
           "yaxis": {
            "backgroundcolor": "#E5ECF6",
            "gridcolor": "white",
            "gridwidth": 2,
            "linecolor": "white",
            "showbackground": true,
            "ticks": "",
            "zerolinecolor": "white"
           },
           "zaxis": {
            "backgroundcolor": "#E5ECF6",
            "gridcolor": "white",
            "gridwidth": 2,
            "linecolor": "white",
            "showbackground": true,
            "ticks": "",
            "zerolinecolor": "white"
           }
          },
          "shapedefaults": {
           "line": {
            "color": "#2a3f5f"
           }
          },
          "ternary": {
           "aaxis": {
            "gridcolor": "white",
            "linecolor": "white",
            "ticks": ""
           },
           "baxis": {
            "gridcolor": "white",
            "linecolor": "white",
            "ticks": ""
           },
           "bgcolor": "#E5ECF6",
           "caxis": {
            "gridcolor": "white",
            "linecolor": "white",
            "ticks": ""
           }
          },
          "title": {
           "x": 0.05
          },
          "xaxis": {
           "automargin": true,
           "gridcolor": "white",
           "linecolor": "white",
           "ticks": "",
           "title": {
            "standoff": 15
           },
           "zerolinecolor": "white",
           "zerolinewidth": 2
          },
          "yaxis": {
           "automargin": true,
           "gridcolor": "white",
           "linecolor": "white",
           "ticks": "",
           "title": {
            "standoff": 15
           },
           "zerolinecolor": "white",
           "zerolinewidth": 2
          }
         }
        }
       }
      }
     },
     "metadata": {},
     "output_type": "display_data"
    }
   ],
   "source": [
    "x, y, z, p = read_xypzdata(\"data/tmp44\")\n",
    "\n",
    "# def func(x, y):\n",
    "#     return 2 * y ** 2 - np.exp(x) + 0.5\n",
    "\n",
    "\n",
    "def t(x):\n",
    "    return[np.exp(xp) for xp in x]\n",
    "\n",
    "tarr = t(x)\n",
    "\n",
    "def I(x, y, z, p, f):\n",
    "    return sum([p[i]*(f(x[i], y[i]) - z[i])**2 for i in range(len(x))])\n",
    "\n",
    "func, coeffs = LeastSquare2D(tarr, y, z, p, 2)\n",
    "print(coeffs)\n",
    "print(I(tarr, y, z, p, func))\n",
    "\n",
    "# x_pred = np.linspace(min(x), max(x), 40)\n",
    "# y_pred = np.linspace(min(y), max(y), 40)\n",
    "# z_graph = [[func(xi, yi) for xi in x]for yi in y]\n",
    "z_graph = [func(tarr[i], y[i]) for i in range(len(x))]\n",
    "\n",
    "fig = px.scatter_3d(x=x, y=y, z=z)\n",
    "fig.add_trace(go.Scatter3d(x=x, y=y, z=z_graph, mode=\"markers\"))\n",
    "fig.show()"
   ]
  },
  {
   "cell_type": "markdown",
   "metadata": {},
   "source": [
    "### Тесты по функциям"
   ]
  },
  {
   "cell_type": "code",
   "execution_count": 49,
   "metadata": {},
   "outputs": [
    {
     "ename": "TypeError",
     "evalue": "'tuple' object is not callable",
     "output_type": "error",
     "traceback": [
      "\u001b[0;31m---------------------------------------------------------------------------\u001b[0m",
      "\u001b[0;31mTypeError\u001b[0m                                 Traceback (most recent call last)",
      "Cell \u001b[0;32mIn[49], line 9\u001b[0m\n\u001b[1;32m      7\u001b[0m x_pred \u001b[38;5;241m=\u001b[39m np\u001b[38;5;241m.\u001b[39mlinspace(\u001b[38;5;28mmin\u001b[39m(x), \u001b[38;5;28mmax\u001b[39m(x), \u001b[38;5;241m40\u001b[39m)\n\u001b[1;32m      8\u001b[0m y_pred \u001b[38;5;241m=\u001b[39m np\u001b[38;5;241m.\u001b[39mlinspace(\u001b[38;5;28mmin\u001b[39m(y), \u001b[38;5;28mmax\u001b[39m(y), \u001b[38;5;241m40\u001b[39m)\n\u001b[0;32m----> 9\u001b[0m z_graph \u001b[38;5;241m=\u001b[39m \u001b[43m[\u001b[49m\u001b[43m[\u001b[49m\u001b[43mfunc\u001b[49m\u001b[43m(\u001b[49m\u001b[43mxi\u001b[49m\u001b[43m,\u001b[49m\u001b[43m \u001b[49m\u001b[43myi\u001b[49m\u001b[43m)\u001b[49m\u001b[43m \u001b[49m\u001b[38;5;28;43;01mfor\u001b[39;49;00m\u001b[43m \u001b[49m\u001b[43mxi\u001b[49m\u001b[43m \u001b[49m\u001b[38;5;129;43;01min\u001b[39;49;00m\u001b[43m \u001b[49m\u001b[43mx_pred\u001b[49m\u001b[43m]\u001b[49m\u001b[38;5;28;43;01mfor\u001b[39;49;00m\u001b[43m \u001b[49m\u001b[43myi\u001b[49m\u001b[43m \u001b[49m\u001b[38;5;129;43;01min\u001b[39;49;00m\u001b[43m \u001b[49m\u001b[43my_pred\u001b[49m\u001b[43m]\u001b[49m\n\u001b[1;32m     11\u001b[0m fig \u001b[38;5;241m=\u001b[39m px\u001b[38;5;241m.\u001b[39mscatter_3d(x\u001b[38;5;241m=\u001b[39mx, y\u001b[38;5;241m=\u001b[39my, z\u001b[38;5;241m=\u001b[39mz)\n\u001b[1;32m     12\u001b[0m fig\u001b[38;5;241m.\u001b[39madd_trace(go\u001b[38;5;241m.\u001b[39mSurface(x\u001b[38;5;241m=\u001b[39mx_pred, y\u001b[38;5;241m=\u001b[39my_pred, z\u001b[38;5;241m=\u001b[39mz_graph))\n",
      "Cell \u001b[0;32mIn[49], line 9\u001b[0m, in \u001b[0;36m<listcomp>\u001b[0;34m(.0)\u001b[0m\n\u001b[1;32m      7\u001b[0m x_pred \u001b[38;5;241m=\u001b[39m np\u001b[38;5;241m.\u001b[39mlinspace(\u001b[38;5;28mmin\u001b[39m(x), \u001b[38;5;28mmax\u001b[39m(x), \u001b[38;5;241m40\u001b[39m)\n\u001b[1;32m      8\u001b[0m y_pred \u001b[38;5;241m=\u001b[39m np\u001b[38;5;241m.\u001b[39mlinspace(\u001b[38;5;28mmin\u001b[39m(y), \u001b[38;5;28mmax\u001b[39m(y), \u001b[38;5;241m40\u001b[39m)\n\u001b[0;32m----> 9\u001b[0m z_graph \u001b[38;5;241m=\u001b[39m [\u001b[43m[\u001b[49m\u001b[43mfunc\u001b[49m\u001b[43m(\u001b[49m\u001b[43mxi\u001b[49m\u001b[43m,\u001b[49m\u001b[43m \u001b[49m\u001b[43myi\u001b[49m\u001b[43m)\u001b[49m\u001b[43m \u001b[49m\u001b[38;5;28;43;01mfor\u001b[39;49;00m\u001b[43m \u001b[49m\u001b[43mxi\u001b[49m\u001b[43m \u001b[49m\u001b[38;5;129;43;01min\u001b[39;49;00m\u001b[43m \u001b[49m\u001b[43mx_pred\u001b[49m\u001b[43m]\u001b[49m\u001b[38;5;28;01mfor\u001b[39;00m yi \u001b[38;5;129;01min\u001b[39;00m y_pred]\n\u001b[1;32m     11\u001b[0m fig \u001b[38;5;241m=\u001b[39m px\u001b[38;5;241m.\u001b[39mscatter_3d(x\u001b[38;5;241m=\u001b[39mx, y\u001b[38;5;241m=\u001b[39my, z\u001b[38;5;241m=\u001b[39mz)\n\u001b[1;32m     12\u001b[0m fig\u001b[38;5;241m.\u001b[39madd_trace(go\u001b[38;5;241m.\u001b[39mSurface(x\u001b[38;5;241m=\u001b[39mx_pred, y\u001b[38;5;241m=\u001b[39my_pred, z\u001b[38;5;241m=\u001b[39mz_graph))\n",
      "Cell \u001b[0;32mIn[49], line 9\u001b[0m, in \u001b[0;36m<listcomp>\u001b[0;34m(.0)\u001b[0m\n\u001b[1;32m      7\u001b[0m x_pred \u001b[38;5;241m=\u001b[39m np\u001b[38;5;241m.\u001b[39mlinspace(\u001b[38;5;28mmin\u001b[39m(x), \u001b[38;5;28mmax\u001b[39m(x), \u001b[38;5;241m40\u001b[39m)\n\u001b[1;32m      8\u001b[0m y_pred \u001b[38;5;241m=\u001b[39m np\u001b[38;5;241m.\u001b[39mlinspace(\u001b[38;5;28mmin\u001b[39m(y), \u001b[38;5;28mmax\u001b[39m(y), \u001b[38;5;241m40\u001b[39m)\n\u001b[0;32m----> 9\u001b[0m z_graph \u001b[38;5;241m=\u001b[39m [[\u001b[43mfunc\u001b[49m\u001b[43m(\u001b[49m\u001b[43mxi\u001b[49m\u001b[43m,\u001b[49m\u001b[43m \u001b[49m\u001b[43myi\u001b[49m\u001b[43m)\u001b[49m \u001b[38;5;28;01mfor\u001b[39;00m xi \u001b[38;5;129;01min\u001b[39;00m x_pred]\u001b[38;5;28;01mfor\u001b[39;00m yi \u001b[38;5;129;01min\u001b[39;00m y_pred]\n\u001b[1;32m     11\u001b[0m fig \u001b[38;5;241m=\u001b[39m px\u001b[38;5;241m.\u001b[39mscatter_3d(x\u001b[38;5;241m=\u001b[39mx, y\u001b[38;5;241m=\u001b[39my, z\u001b[38;5;241m=\u001b[39mz)\n\u001b[1;32m     12\u001b[0m fig\u001b[38;5;241m.\u001b[39madd_trace(go\u001b[38;5;241m.\u001b[39mSurface(x\u001b[38;5;241m=\u001b[39mx_pred, y\u001b[38;5;241m=\u001b[39my_pred, z\u001b[38;5;241m=\u001b[39mz_graph))\n",
      "\u001b[0;31mTypeError\u001b[0m: 'tuple' object is not callable"
     ]
    }
   ],
   "source": [
    "def f(x, y):\n",
    "    return np.cos(x) * np.sin(y)\n",
    "x, y, z, p = get_xyzpdata(-2, 3, 10, -2, 3, 10, 0, 1, f)\n",
    "\n",
    "func = LeastSquare2D(x, y, z, p, 4)\n",
    "\n",
    "x_pred = np.linspace(min(x), max(x), 40)\n",
    "y_pred = np.linspace(min(y), max(y), 40)\n",
    "z_graph = [[func(xi, yi) for xi in x_pred]for yi in y_pred]\n",
    "\n",
    "fig = px.scatter_3d(x=x, y=y, z=z)\n",
    "fig.add_trace(go.Surface(x=x_pred, y=y_pred, z=z_graph))\n",
    "fig.show()"
   ]
  },
  {
   "cell_type": "markdown",
   "metadata": {},
   "source": [
    "# Приближённое решение ОДУ"
   ]
  },
  {
   "cell_type": "code",
   "execution_count": null,
   "metadata": {},
   "outputs": [],
   "source": [
    "def ODESolution(x):\n",
    "    return ((-(np.exp(0.5) + 1) / erfi(1 / np.sqrt(2))) * erfi(x / np.sqrt(2)) + 1) / np.exp(x ** 2 / 2) + x\n",
    "\n",
    "def f0(x):\n",
    "    return 1 - x\n",
    "\n",
    "def f1(x):\n",
    "    return x * (1 - x)\n",
    "\n",
    "def f2(x):\n",
    "    return x ** 2 * (1 - x)\n",
    "\n",
    "def f3(x):\n",
    "    return x ** 3 * (1 - x)\n",
    "\n",
    "def f4(x):\n",
    "    return x**4 * (1 - x)\n",
    "\n",
    "def c0(x):\n",
    "    return 1 - 4 * x\n",
    "\n",
    "def c1(x):\n",
    "    return - 2 + 2 * x - 3 * x**2\n",
    "\n",
    "def c2(x):\n",
    "    return 2 - 6 * x + 3 * x**2 - 4 * x**3\n",
    "\n",
    "def c3(x):\n",
    "    return 6 * x - 12 * x**2 + 4 * x**3 - 5 * x**4\n",
    "\n",
    "def c4(x):\n",
    "    return 12 * x**2 - 20 * x**3 + 5 * x**4 + 6 * x**5\n",
    "\n",
    "x = np.linspace(0, 1, 100)\n",
    "y = [ODESolution(xp) for xp in x]\n",
    "\n",
    "x_pred = np.linspace(0, 1, 10)\n",
    "f_pred2, c_pred2 = GetApproximateODE(x_pred, 2, [f0, f1, f2], [c0, c1, c2])\n",
    "f_pred3, c_pred3 = GetApproximateODE(x_pred, 3, [f0, f1, f2, f3], [c0, c1, c2, c3])\n",
    "f_pred4, c_pred4 = GetApproximateODE(x_pred, 4, [f0, f1, f2, f3, f4], [c0, c1, c2, c3, c4])\n",
    "\n",
    "print(f\"Решение степени 2: 1 - x + {c_pred2[0]}x(1 - x) + {c_pred2[1]}x^2(1-x)\")\n",
    "print(f\"Решение степени 3: 1 - x + {c_pred3[0]}x(1 - x) + {c_pred3[1]}x^2(1-x) + {c_pred3[2]}x^3(1-x)\")\n",
    "print(f\"Решение степени 4: 1 - x + {c_pred4[0]}x(1 - x) + {c_pred4[1]}x^2(1-x) + {c_pred4[2]}x^3(1-x) + {c_pred4[3]}x^4(1-x)\")\n",
    "\n",
    "y_pred2 = [f_pred2(xp) for xp in x]\n",
    "y_pred3 = [f_pred3(xp) for xp in x]\n",
    "y_pred4 = [f_pred4(xp) for xp in x]\n",
    "\n",
    "fig = px.line()\n",
    "fig.add_trace(go.Scatter(x=x, y=y, name=\"Точное решение\"))\n",
    "fig.add_trace(go.Scatter(x=x, y=y_pred2, name=\"Приближенное при степени 2\"))\n",
    "fig.add_trace(go.Scatter(x=x, y=y_pred3, name=\"Приближенное при степени 3\"))\n",
    "fig.add_trace(go.Scatter(x=x, y=y_pred4, name=\"Приближенное при степени 4\"))\n",
    "\n",
    "fig.show()"
   ]
  }
 ],
 "metadata": {
  "kernelspec": {
   "display_name": "Python 3",
   "language": "python",
   "name": "python3"
  },
  "language_info": {
   "codemirror_mode": {
    "name": "ipython",
    "version": 3
   },
   "file_extension": ".py",
   "mimetype": "text/x-python",
   "name": "python",
   "nbconvert_exporter": "python",
   "pygments_lexer": "ipython3",
   "version": "3.11.6"
  }
 },
 "nbformat": 4,
 "nbformat_minor": 2
}
