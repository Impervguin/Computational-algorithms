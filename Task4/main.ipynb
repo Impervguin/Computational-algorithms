{
 "cells": [
  {
   "cell_type": "markdown",
   "metadata": {},
   "source": [
    "# Импорты"
   ]
  },
  {
   "cell_type": "code",
   "execution_count": 35,
   "metadata": {},
   "outputs": [],
   "source": [
    "import plotly.express as px\n",
    "import plotly.graph_objects as go\n",
    "from MathMethod import *\n",
    "from Utility import *\n",
    "import numpy as np\n",
    "from scipy.special import erfi"
   ]
  },
  {
   "cell_type": "markdown",
   "metadata": {},
   "source": [
    "# Аппроксимация функций Одной переменной"
   ]
  },
  {
   "cell_type": "markdown",
   "metadata": {},
   "source": [
    "### Тесты из файлов"
   ]
  },
  {
   "cell_type": "code",
   "execution_count": 36,
   "metadata": {},
   "outputs": [
    {
     "data": {
      "application/vnd.plotly.v1+json": {
       "config": {
        "plotlyServerURL": "https://plot.ly"
       },
       "data": [
        {
         "hovertemplate": "x=%{x}<br>y=%{y}<extra></extra>",
         "legendgroup": "",
         "line": {
          "color": "#636efa",
          "dash": "solid"
         },
         "marker": {
          "symbol": "circle"
         },
         "mode": "lines",
         "name": "",
         "orientation": "v",
         "showlegend": false,
         "type": "scatter",
         "x": [
          0,
          2.5,
          5,
          7.5,
          10
         ],
         "xaxis": "x",
         "y": [
          1,
          -0.048,
          -0.178,
          0.266,
          -0.246
         ],
         "yaxis": "y"
        },
        {
         "type": "scatter",
         "x": [
          0,
          0.5263157894736842,
          1.0526315789473684,
          1.5789473684210527,
          2.1052631578947367,
          2.631578947368421,
          3.1578947368421053,
          3.6842105263157894,
          4.2105263157894735,
          4.7368421052631575,
          5.263157894736842,
          5.789473684210526,
          6.315789473684211,
          6.842105263157895,
          7.368421052631579,
          7.894736842105263,
          8.421052631578947,
          8.947368421052632,
          9.473684210526315,
          10
         ],
         "y": [
          1.0000699681426741,
          0.6681538375309035,
          0.4007874587028515,
          0.1918019967014568,
          0.03502861656965878,
          -0.07570151664960423,
          -0.14655723791339337,
          -0.18370738217876953,
          -0.19332078440279354,
          -0.1815662795425267,
          -0.15461270255503123,
          -0.11862888839736696,
          -0.07978367202659609,
          -0.04424588839977961,
          -0.018184372473977195,
          -0.00776795920625073,
          -0.019165483553662988,
          -0.05854578047327408,
          -0.132077684922141,
          -0.2459300318573332
         ]
        }
       ],
       "layout": {
        "legend": {
         "tracegroupgap": 0
        },
        "margin": {
         "t": 60
        },
        "template": {
         "data": {
          "bar": [
           {
            "error_x": {
             "color": "#2a3f5f"
            },
            "error_y": {
             "color": "#2a3f5f"
            },
            "marker": {
             "line": {
              "color": "#E5ECF6",
              "width": 0.5
             },
             "pattern": {
              "fillmode": "overlay",
              "size": 10,
              "solidity": 0.2
             }
            },
            "type": "bar"
           }
          ],
          "barpolar": [
           {
            "marker": {
             "line": {
              "color": "#E5ECF6",
              "width": 0.5
             },
             "pattern": {
              "fillmode": "overlay",
              "size": 10,
              "solidity": 0.2
             }
            },
            "type": "barpolar"
           }
          ],
          "carpet": [
           {
            "aaxis": {
             "endlinecolor": "#2a3f5f",
             "gridcolor": "white",
             "linecolor": "white",
             "minorgridcolor": "white",
             "startlinecolor": "#2a3f5f"
            },
            "baxis": {
             "endlinecolor": "#2a3f5f",
             "gridcolor": "white",
             "linecolor": "white",
             "minorgridcolor": "white",
             "startlinecolor": "#2a3f5f"
            },
            "type": "carpet"
           }
          ],
          "choropleth": [
           {
            "colorbar": {
             "outlinewidth": 0,
             "ticks": ""
            },
            "type": "choropleth"
           }
          ],
          "contour": [
           {
            "colorbar": {
             "outlinewidth": 0,
             "ticks": ""
            },
            "colorscale": [
             [
              0,
              "#0d0887"
             ],
             [
              0.1111111111111111,
              "#46039f"
             ],
             [
              0.2222222222222222,
              "#7201a8"
             ],
             [
              0.3333333333333333,
              "#9c179e"
             ],
             [
              0.4444444444444444,
              "#bd3786"
             ],
             [
              0.5555555555555556,
              "#d8576b"
             ],
             [
              0.6666666666666666,
              "#ed7953"
             ],
             [
              0.7777777777777778,
              "#fb9f3a"
             ],
             [
              0.8888888888888888,
              "#fdca26"
             ],
             [
              1,
              "#f0f921"
             ]
            ],
            "type": "contour"
           }
          ],
          "contourcarpet": [
           {
            "colorbar": {
             "outlinewidth": 0,
             "ticks": ""
            },
            "type": "contourcarpet"
           }
          ],
          "heatmap": [
           {
            "colorbar": {
             "outlinewidth": 0,
             "ticks": ""
            },
            "colorscale": [
             [
              0,
              "#0d0887"
             ],
             [
              0.1111111111111111,
              "#46039f"
             ],
             [
              0.2222222222222222,
              "#7201a8"
             ],
             [
              0.3333333333333333,
              "#9c179e"
             ],
             [
              0.4444444444444444,
              "#bd3786"
             ],
             [
              0.5555555555555556,
              "#d8576b"
             ],
             [
              0.6666666666666666,
              "#ed7953"
             ],
             [
              0.7777777777777778,
              "#fb9f3a"
             ],
             [
              0.8888888888888888,
              "#fdca26"
             ],
             [
              1,
              "#f0f921"
             ]
            ],
            "type": "heatmap"
           }
          ],
          "heatmapgl": [
           {
            "colorbar": {
             "outlinewidth": 0,
             "ticks": ""
            },
            "colorscale": [
             [
              0,
              "#0d0887"
             ],
             [
              0.1111111111111111,
              "#46039f"
             ],
             [
              0.2222222222222222,
              "#7201a8"
             ],
             [
              0.3333333333333333,
              "#9c179e"
             ],
             [
              0.4444444444444444,
              "#bd3786"
             ],
             [
              0.5555555555555556,
              "#d8576b"
             ],
             [
              0.6666666666666666,
              "#ed7953"
             ],
             [
              0.7777777777777778,
              "#fb9f3a"
             ],
             [
              0.8888888888888888,
              "#fdca26"
             ],
             [
              1,
              "#f0f921"
             ]
            ],
            "type": "heatmapgl"
           }
          ],
          "histogram": [
           {
            "marker": {
             "pattern": {
              "fillmode": "overlay",
              "size": 10,
              "solidity": 0.2
             }
            },
            "type": "histogram"
           }
          ],
          "histogram2d": [
           {
            "colorbar": {
             "outlinewidth": 0,
             "ticks": ""
            },
            "colorscale": [
             [
              0,
              "#0d0887"
             ],
             [
              0.1111111111111111,
              "#46039f"
             ],
             [
              0.2222222222222222,
              "#7201a8"
             ],
             [
              0.3333333333333333,
              "#9c179e"
             ],
             [
              0.4444444444444444,
              "#bd3786"
             ],
             [
              0.5555555555555556,
              "#d8576b"
             ],
             [
              0.6666666666666666,
              "#ed7953"
             ],
             [
              0.7777777777777778,
              "#fb9f3a"
             ],
             [
              0.8888888888888888,
              "#fdca26"
             ],
             [
              1,
              "#f0f921"
             ]
            ],
            "type": "histogram2d"
           }
          ],
          "histogram2dcontour": [
           {
            "colorbar": {
             "outlinewidth": 0,
             "ticks": ""
            },
            "colorscale": [
             [
              0,
              "#0d0887"
             ],
             [
              0.1111111111111111,
              "#46039f"
             ],
             [
              0.2222222222222222,
              "#7201a8"
             ],
             [
              0.3333333333333333,
              "#9c179e"
             ],
             [
              0.4444444444444444,
              "#bd3786"
             ],
             [
              0.5555555555555556,
              "#d8576b"
             ],
             [
              0.6666666666666666,
              "#ed7953"
             ],
             [
              0.7777777777777778,
              "#fb9f3a"
             ],
             [
              0.8888888888888888,
              "#fdca26"
             ],
             [
              1,
              "#f0f921"
             ]
            ],
            "type": "histogram2dcontour"
           }
          ],
          "mesh3d": [
           {
            "colorbar": {
             "outlinewidth": 0,
             "ticks": ""
            },
            "type": "mesh3d"
           }
          ],
          "parcoords": [
           {
            "line": {
             "colorbar": {
              "outlinewidth": 0,
              "ticks": ""
             }
            },
            "type": "parcoords"
           }
          ],
          "pie": [
           {
            "automargin": true,
            "type": "pie"
           }
          ],
          "scatter": [
           {
            "fillpattern": {
             "fillmode": "overlay",
             "size": 10,
             "solidity": 0.2
            },
            "type": "scatter"
           }
          ],
          "scatter3d": [
           {
            "line": {
             "colorbar": {
              "outlinewidth": 0,
              "ticks": ""
             }
            },
            "marker": {
             "colorbar": {
              "outlinewidth": 0,
              "ticks": ""
             }
            },
            "type": "scatter3d"
           }
          ],
          "scattercarpet": [
           {
            "marker": {
             "colorbar": {
              "outlinewidth": 0,
              "ticks": ""
             }
            },
            "type": "scattercarpet"
           }
          ],
          "scattergeo": [
           {
            "marker": {
             "colorbar": {
              "outlinewidth": 0,
              "ticks": ""
             }
            },
            "type": "scattergeo"
           }
          ],
          "scattergl": [
           {
            "marker": {
             "colorbar": {
              "outlinewidth": 0,
              "ticks": ""
             }
            },
            "type": "scattergl"
           }
          ],
          "scattermapbox": [
           {
            "marker": {
             "colorbar": {
              "outlinewidth": 0,
              "ticks": ""
             }
            },
            "type": "scattermapbox"
           }
          ],
          "scatterpolar": [
           {
            "marker": {
             "colorbar": {
              "outlinewidth": 0,
              "ticks": ""
             }
            },
            "type": "scatterpolar"
           }
          ],
          "scatterpolargl": [
           {
            "marker": {
             "colorbar": {
              "outlinewidth": 0,
              "ticks": ""
             }
            },
            "type": "scatterpolargl"
           }
          ],
          "scatterternary": [
           {
            "marker": {
             "colorbar": {
              "outlinewidth": 0,
              "ticks": ""
             }
            },
            "type": "scatterternary"
           }
          ],
          "surface": [
           {
            "colorbar": {
             "outlinewidth": 0,
             "ticks": ""
            },
            "colorscale": [
             [
              0,
              "#0d0887"
             ],
             [
              0.1111111111111111,
              "#46039f"
             ],
             [
              0.2222222222222222,
              "#7201a8"
             ],
             [
              0.3333333333333333,
              "#9c179e"
             ],
             [
              0.4444444444444444,
              "#bd3786"
             ],
             [
              0.5555555555555556,
              "#d8576b"
             ],
             [
              0.6666666666666666,
              "#ed7953"
             ],
             [
              0.7777777777777778,
              "#fb9f3a"
             ],
             [
              0.8888888888888888,
              "#fdca26"
             ],
             [
              1,
              "#f0f921"
             ]
            ],
            "type": "surface"
           }
          ],
          "table": [
           {
            "cells": {
             "fill": {
              "color": "#EBF0F8"
             },
             "line": {
              "color": "white"
             }
            },
            "header": {
             "fill": {
              "color": "#C8D4E3"
             },
             "line": {
              "color": "white"
             }
            },
            "type": "table"
           }
          ]
         },
         "layout": {
          "annotationdefaults": {
           "arrowcolor": "#2a3f5f",
           "arrowhead": 0,
           "arrowwidth": 1
          },
          "autotypenumbers": "strict",
          "coloraxis": {
           "colorbar": {
            "outlinewidth": 0,
            "ticks": ""
           }
          },
          "colorscale": {
           "diverging": [
            [
             0,
             "#8e0152"
            ],
            [
             0.1,
             "#c51b7d"
            ],
            [
             0.2,
             "#de77ae"
            ],
            [
             0.3,
             "#f1b6da"
            ],
            [
             0.4,
             "#fde0ef"
            ],
            [
             0.5,
             "#f7f7f7"
            ],
            [
             0.6,
             "#e6f5d0"
            ],
            [
             0.7,
             "#b8e186"
            ],
            [
             0.8,
             "#7fbc41"
            ],
            [
             0.9,
             "#4d9221"
            ],
            [
             1,
             "#276419"
            ]
           ],
           "sequential": [
            [
             0,
             "#0d0887"
            ],
            [
             0.1111111111111111,
             "#46039f"
            ],
            [
             0.2222222222222222,
             "#7201a8"
            ],
            [
             0.3333333333333333,
             "#9c179e"
            ],
            [
             0.4444444444444444,
             "#bd3786"
            ],
            [
             0.5555555555555556,
             "#d8576b"
            ],
            [
             0.6666666666666666,
             "#ed7953"
            ],
            [
             0.7777777777777778,
             "#fb9f3a"
            ],
            [
             0.8888888888888888,
             "#fdca26"
            ],
            [
             1,
             "#f0f921"
            ]
           ],
           "sequentialminus": [
            [
             0,
             "#0d0887"
            ],
            [
             0.1111111111111111,
             "#46039f"
            ],
            [
             0.2222222222222222,
             "#7201a8"
            ],
            [
             0.3333333333333333,
             "#9c179e"
            ],
            [
             0.4444444444444444,
             "#bd3786"
            ],
            [
             0.5555555555555556,
             "#d8576b"
            ],
            [
             0.6666666666666666,
             "#ed7953"
            ],
            [
             0.7777777777777778,
             "#fb9f3a"
            ],
            [
             0.8888888888888888,
             "#fdca26"
            ],
            [
             1,
             "#f0f921"
            ]
           ]
          },
          "colorway": [
           "#636efa",
           "#EF553B",
           "#00cc96",
           "#ab63fa",
           "#FFA15A",
           "#19d3f3",
           "#FF6692",
           "#B6E880",
           "#FF97FF",
           "#FECB52"
          ],
          "font": {
           "color": "#2a3f5f"
          },
          "geo": {
           "bgcolor": "white",
           "lakecolor": "white",
           "landcolor": "#E5ECF6",
           "showlakes": true,
           "showland": true,
           "subunitcolor": "white"
          },
          "hoverlabel": {
           "align": "left"
          },
          "hovermode": "closest",
          "mapbox": {
           "style": "light"
          },
          "paper_bgcolor": "white",
          "plot_bgcolor": "#E5ECF6",
          "polar": {
           "angularaxis": {
            "gridcolor": "white",
            "linecolor": "white",
            "ticks": ""
           },
           "bgcolor": "#E5ECF6",
           "radialaxis": {
            "gridcolor": "white",
            "linecolor": "white",
            "ticks": ""
           }
          },
          "scene": {
           "xaxis": {
            "backgroundcolor": "#E5ECF6",
            "gridcolor": "white",
            "gridwidth": 2,
            "linecolor": "white",
            "showbackground": true,
            "ticks": "",
            "zerolinecolor": "white"
           },
           "yaxis": {
            "backgroundcolor": "#E5ECF6",
            "gridcolor": "white",
            "gridwidth": 2,
            "linecolor": "white",
            "showbackground": true,
            "ticks": "",
            "zerolinecolor": "white"
           },
           "zaxis": {
            "backgroundcolor": "#E5ECF6",
            "gridcolor": "white",
            "gridwidth": 2,
            "linecolor": "white",
            "showbackground": true,
            "ticks": "",
            "zerolinecolor": "white"
           }
          },
          "shapedefaults": {
           "line": {
            "color": "#2a3f5f"
           }
          },
          "ternary": {
           "aaxis": {
            "gridcolor": "white",
            "linecolor": "white",
            "ticks": ""
           },
           "baxis": {
            "gridcolor": "white",
            "linecolor": "white",
            "ticks": ""
           },
           "bgcolor": "#E5ECF6",
           "caxis": {
            "gridcolor": "white",
            "linecolor": "white",
            "ticks": ""
           }
          },
          "title": {
           "x": 0.05
          },
          "xaxis": {
           "automargin": true,
           "gridcolor": "white",
           "linecolor": "white",
           "ticks": "",
           "title": {
            "standoff": 15
           },
           "zerolinecolor": "white",
           "zerolinewidth": 2
          },
          "yaxis": {
           "automargin": true,
           "gridcolor": "white",
           "linecolor": "white",
           "ticks": "",
           "title": {
            "standoff": 15
           },
           "zerolinecolor": "white",
           "zerolinewidth": 2
          }
         }
        },
        "xaxis": {
         "anchor": "y",
         "domain": [
          0,
          1
         ],
         "title": {
          "text": "x"
         }
        },
        "yaxis": {
         "anchor": "x",
         "domain": [
          0,
          1
         ],
         "title": {
          "text": "y"
         }
        }
       }
      }
     },
     "metadata": {},
     "output_type": "display_data"
    }
   ],
   "source": [
    "x, y, p = read_xypdata(\"data/tmp41\")\n",
    "\n",
    "x_pred = np.linspace(min(x), max(x), 20)\n",
    "f_pred = LeastSquare(x, y, p, 3)\n",
    "y_pred = [f_pred(xi) for xi in x_pred]\n",
    "\n",
    "fig = px.line(x=x, y=y)\n",
    "fig.add_trace(go.Scatter(x=x_pred, y=y_pred))\n",
    "fig.show()"
   ]
  },
  {
   "cell_type": "code",
   "execution_count": 37,
   "metadata": {},
   "outputs": [
    {
     "data": {
      "application/vnd.plotly.v1+json": {
       "config": {
        "plotlyServerURL": "https://plot.ly"
       },
       "data": [
        {
         "hovertemplate": "x=%{x}<br>y=%{y}<extra></extra>",
         "legendgroup": "",
         "line": {
          "color": "#636efa",
          "dash": "solid"
         },
         "marker": {
          "symbol": "circle"
         },
         "mode": "lines",
         "name": "",
         "orientation": "v",
         "showlegend": false,
         "type": "scatter",
         "x": [
          0,
          0.524,
          1.047,
          1.571,
          2.094,
          2.618,
          3.142
         ],
         "xaxis": "x",
         "y": [
          -0.648,
          -0.576,
          -0.074,
          1.29,
          3.946,
          8.324,
          14.855
         ],
         "yaxis": "y"
        },
        {
         "type": "scatter",
         "x": [
          0,
          0.16536842105263158,
          0.33073684210526316,
          0.4961052631578947,
          0.6614736842105263,
          0.8268421052631579,
          0.9922105263157894,
          1.157578947368421,
          1.3229473684210526,
          1.4883157894736843,
          1.6536842105263159,
          1.8190526315789475,
          1.9844210526315789,
          2.1497894736842107,
          2.315157894736842,
          2.480526315789474,
          2.6458947368421053,
          2.8112631578947367,
          2.9766315789473685,
          3.142
         ],
         "y": [
          0.2216601392724505,
          -0.2297956175771284,
          -0.5489130465764942,
          -0.735692147725647,
          -0.7901329210245869,
          -0.7122353664733132,
          -0.5019994840718267,
          -0.15942527382012717,
          0.315487264281785,
          0.9227381302339115,
          1.6623273240362506,
          2.534254845688803,
          3.5385206951915666,
          4.675124872544545,
          5.944067377747736,
          7.345348210801143,
          8.878967371704757,
          10.544924860458588,
          12.343220677062634,
          14.273854821516888
         ]
        }
       ],
       "layout": {
        "legend": {
         "tracegroupgap": 0
        },
        "margin": {
         "t": 60
        },
        "template": {
         "data": {
          "bar": [
           {
            "error_x": {
             "color": "#2a3f5f"
            },
            "error_y": {
             "color": "#2a3f5f"
            },
            "marker": {
             "line": {
              "color": "#E5ECF6",
              "width": 0.5
             },
             "pattern": {
              "fillmode": "overlay",
              "size": 10,
              "solidity": 0.2
             }
            },
            "type": "bar"
           }
          ],
          "barpolar": [
           {
            "marker": {
             "line": {
              "color": "#E5ECF6",
              "width": 0.5
             },
             "pattern": {
              "fillmode": "overlay",
              "size": 10,
              "solidity": 0.2
             }
            },
            "type": "barpolar"
           }
          ],
          "carpet": [
           {
            "aaxis": {
             "endlinecolor": "#2a3f5f",
             "gridcolor": "white",
             "linecolor": "white",
             "minorgridcolor": "white",
             "startlinecolor": "#2a3f5f"
            },
            "baxis": {
             "endlinecolor": "#2a3f5f",
             "gridcolor": "white",
             "linecolor": "white",
             "minorgridcolor": "white",
             "startlinecolor": "#2a3f5f"
            },
            "type": "carpet"
           }
          ],
          "choropleth": [
           {
            "colorbar": {
             "outlinewidth": 0,
             "ticks": ""
            },
            "type": "choropleth"
           }
          ],
          "contour": [
           {
            "colorbar": {
             "outlinewidth": 0,
             "ticks": ""
            },
            "colorscale": [
             [
              0,
              "#0d0887"
             ],
             [
              0.1111111111111111,
              "#46039f"
             ],
             [
              0.2222222222222222,
              "#7201a8"
             ],
             [
              0.3333333333333333,
              "#9c179e"
             ],
             [
              0.4444444444444444,
              "#bd3786"
             ],
             [
              0.5555555555555556,
              "#d8576b"
             ],
             [
              0.6666666666666666,
              "#ed7953"
             ],
             [
              0.7777777777777778,
              "#fb9f3a"
             ],
             [
              0.8888888888888888,
              "#fdca26"
             ],
             [
              1,
              "#f0f921"
             ]
            ],
            "type": "contour"
           }
          ],
          "contourcarpet": [
           {
            "colorbar": {
             "outlinewidth": 0,
             "ticks": ""
            },
            "type": "contourcarpet"
           }
          ],
          "heatmap": [
           {
            "colorbar": {
             "outlinewidth": 0,
             "ticks": ""
            },
            "colorscale": [
             [
              0,
              "#0d0887"
             ],
             [
              0.1111111111111111,
              "#46039f"
             ],
             [
              0.2222222222222222,
              "#7201a8"
             ],
             [
              0.3333333333333333,
              "#9c179e"
             ],
             [
              0.4444444444444444,
              "#bd3786"
             ],
             [
              0.5555555555555556,
              "#d8576b"
             ],
             [
              0.6666666666666666,
              "#ed7953"
             ],
             [
              0.7777777777777778,
              "#fb9f3a"
             ],
             [
              0.8888888888888888,
              "#fdca26"
             ],
             [
              1,
              "#f0f921"
             ]
            ],
            "type": "heatmap"
           }
          ],
          "heatmapgl": [
           {
            "colorbar": {
             "outlinewidth": 0,
             "ticks": ""
            },
            "colorscale": [
             [
              0,
              "#0d0887"
             ],
             [
              0.1111111111111111,
              "#46039f"
             ],
             [
              0.2222222222222222,
              "#7201a8"
             ],
             [
              0.3333333333333333,
              "#9c179e"
             ],
             [
              0.4444444444444444,
              "#bd3786"
             ],
             [
              0.5555555555555556,
              "#d8576b"
             ],
             [
              0.6666666666666666,
              "#ed7953"
             ],
             [
              0.7777777777777778,
              "#fb9f3a"
             ],
             [
              0.8888888888888888,
              "#fdca26"
             ],
             [
              1,
              "#f0f921"
             ]
            ],
            "type": "heatmapgl"
           }
          ],
          "histogram": [
           {
            "marker": {
             "pattern": {
              "fillmode": "overlay",
              "size": 10,
              "solidity": 0.2
             }
            },
            "type": "histogram"
           }
          ],
          "histogram2d": [
           {
            "colorbar": {
             "outlinewidth": 0,
             "ticks": ""
            },
            "colorscale": [
             [
              0,
              "#0d0887"
             ],
             [
              0.1111111111111111,
              "#46039f"
             ],
             [
              0.2222222222222222,
              "#7201a8"
             ],
             [
              0.3333333333333333,
              "#9c179e"
             ],
             [
              0.4444444444444444,
              "#bd3786"
             ],
             [
              0.5555555555555556,
              "#d8576b"
             ],
             [
              0.6666666666666666,
              "#ed7953"
             ],
             [
              0.7777777777777778,
              "#fb9f3a"
             ],
             [
              0.8888888888888888,
              "#fdca26"
             ],
             [
              1,
              "#f0f921"
             ]
            ],
            "type": "histogram2d"
           }
          ],
          "histogram2dcontour": [
           {
            "colorbar": {
             "outlinewidth": 0,
             "ticks": ""
            },
            "colorscale": [
             [
              0,
              "#0d0887"
             ],
             [
              0.1111111111111111,
              "#46039f"
             ],
             [
              0.2222222222222222,
              "#7201a8"
             ],
             [
              0.3333333333333333,
              "#9c179e"
             ],
             [
              0.4444444444444444,
              "#bd3786"
             ],
             [
              0.5555555555555556,
              "#d8576b"
             ],
             [
              0.6666666666666666,
              "#ed7953"
             ],
             [
              0.7777777777777778,
              "#fb9f3a"
             ],
             [
              0.8888888888888888,
              "#fdca26"
             ],
             [
              1,
              "#f0f921"
             ]
            ],
            "type": "histogram2dcontour"
           }
          ],
          "mesh3d": [
           {
            "colorbar": {
             "outlinewidth": 0,
             "ticks": ""
            },
            "type": "mesh3d"
           }
          ],
          "parcoords": [
           {
            "line": {
             "colorbar": {
              "outlinewidth": 0,
              "ticks": ""
             }
            },
            "type": "parcoords"
           }
          ],
          "pie": [
           {
            "automargin": true,
            "type": "pie"
           }
          ],
          "scatter": [
           {
            "fillpattern": {
             "fillmode": "overlay",
             "size": 10,
             "solidity": 0.2
            },
            "type": "scatter"
           }
          ],
          "scatter3d": [
           {
            "line": {
             "colorbar": {
              "outlinewidth": 0,
              "ticks": ""
             }
            },
            "marker": {
             "colorbar": {
              "outlinewidth": 0,
              "ticks": ""
             }
            },
            "type": "scatter3d"
           }
          ],
          "scattercarpet": [
           {
            "marker": {
             "colorbar": {
              "outlinewidth": 0,
              "ticks": ""
             }
            },
            "type": "scattercarpet"
           }
          ],
          "scattergeo": [
           {
            "marker": {
             "colorbar": {
              "outlinewidth": 0,
              "ticks": ""
             }
            },
            "type": "scattergeo"
           }
          ],
          "scattergl": [
           {
            "marker": {
             "colorbar": {
              "outlinewidth": 0,
              "ticks": ""
             }
            },
            "type": "scattergl"
           }
          ],
          "scattermapbox": [
           {
            "marker": {
             "colorbar": {
              "outlinewidth": 0,
              "ticks": ""
             }
            },
            "type": "scattermapbox"
           }
          ],
          "scatterpolar": [
           {
            "marker": {
             "colorbar": {
              "outlinewidth": 0,
              "ticks": ""
             }
            },
            "type": "scatterpolar"
           }
          ],
          "scatterpolargl": [
           {
            "marker": {
             "colorbar": {
              "outlinewidth": 0,
              "ticks": ""
             }
            },
            "type": "scatterpolargl"
           }
          ],
          "scatterternary": [
           {
            "marker": {
             "colorbar": {
              "outlinewidth": 0,
              "ticks": ""
             }
            },
            "type": "scatterternary"
           }
          ],
          "surface": [
           {
            "colorbar": {
             "outlinewidth": 0,
             "ticks": ""
            },
            "colorscale": [
             [
              0,
              "#0d0887"
             ],
             [
              0.1111111111111111,
              "#46039f"
             ],
             [
              0.2222222222222222,
              "#7201a8"
             ],
             [
              0.3333333333333333,
              "#9c179e"
             ],
             [
              0.4444444444444444,
              "#bd3786"
             ],
             [
              0.5555555555555556,
              "#d8576b"
             ],
             [
              0.6666666666666666,
              "#ed7953"
             ],
             [
              0.7777777777777778,
              "#fb9f3a"
             ],
             [
              0.8888888888888888,
              "#fdca26"
             ],
             [
              1,
              "#f0f921"
             ]
            ],
            "type": "surface"
           }
          ],
          "table": [
           {
            "cells": {
             "fill": {
              "color": "#EBF0F8"
             },
             "line": {
              "color": "white"
             }
            },
            "header": {
             "fill": {
              "color": "#C8D4E3"
             },
             "line": {
              "color": "white"
             }
            },
            "type": "table"
           }
          ]
         },
         "layout": {
          "annotationdefaults": {
           "arrowcolor": "#2a3f5f",
           "arrowhead": 0,
           "arrowwidth": 1
          },
          "autotypenumbers": "strict",
          "coloraxis": {
           "colorbar": {
            "outlinewidth": 0,
            "ticks": ""
           }
          },
          "colorscale": {
           "diverging": [
            [
             0,
             "#8e0152"
            ],
            [
             0.1,
             "#c51b7d"
            ],
            [
             0.2,
             "#de77ae"
            ],
            [
             0.3,
             "#f1b6da"
            ],
            [
             0.4,
             "#fde0ef"
            ],
            [
             0.5,
             "#f7f7f7"
            ],
            [
             0.6,
             "#e6f5d0"
            ],
            [
             0.7,
             "#b8e186"
            ],
            [
             0.8,
             "#7fbc41"
            ],
            [
             0.9,
             "#4d9221"
            ],
            [
             1,
             "#276419"
            ]
           ],
           "sequential": [
            [
             0,
             "#0d0887"
            ],
            [
             0.1111111111111111,
             "#46039f"
            ],
            [
             0.2222222222222222,
             "#7201a8"
            ],
            [
             0.3333333333333333,
             "#9c179e"
            ],
            [
             0.4444444444444444,
             "#bd3786"
            ],
            [
             0.5555555555555556,
             "#d8576b"
            ],
            [
             0.6666666666666666,
             "#ed7953"
            ],
            [
             0.7777777777777778,
             "#fb9f3a"
            ],
            [
             0.8888888888888888,
             "#fdca26"
            ],
            [
             1,
             "#f0f921"
            ]
           ],
           "sequentialminus": [
            [
             0,
             "#0d0887"
            ],
            [
             0.1111111111111111,
             "#46039f"
            ],
            [
             0.2222222222222222,
             "#7201a8"
            ],
            [
             0.3333333333333333,
             "#9c179e"
            ],
            [
             0.4444444444444444,
             "#bd3786"
            ],
            [
             0.5555555555555556,
             "#d8576b"
            ],
            [
             0.6666666666666666,
             "#ed7953"
            ],
            [
             0.7777777777777778,
             "#fb9f3a"
            ],
            [
             0.8888888888888888,
             "#fdca26"
            ],
            [
             1,
             "#f0f921"
            ]
           ]
          },
          "colorway": [
           "#636efa",
           "#EF553B",
           "#00cc96",
           "#ab63fa",
           "#FFA15A",
           "#19d3f3",
           "#FF6692",
           "#B6E880",
           "#FF97FF",
           "#FECB52"
          ],
          "font": {
           "color": "#2a3f5f"
          },
          "geo": {
           "bgcolor": "white",
           "lakecolor": "white",
           "landcolor": "#E5ECF6",
           "showlakes": true,
           "showland": true,
           "subunitcolor": "white"
          },
          "hoverlabel": {
           "align": "left"
          },
          "hovermode": "closest",
          "mapbox": {
           "style": "light"
          },
          "paper_bgcolor": "white",
          "plot_bgcolor": "#E5ECF6",
          "polar": {
           "angularaxis": {
            "gridcolor": "white",
            "linecolor": "white",
            "ticks": ""
           },
           "bgcolor": "#E5ECF6",
           "radialaxis": {
            "gridcolor": "white",
            "linecolor": "white",
            "ticks": ""
           }
          },
          "scene": {
           "xaxis": {
            "backgroundcolor": "#E5ECF6",
            "gridcolor": "white",
            "gridwidth": 2,
            "linecolor": "white",
            "showbackground": true,
            "ticks": "",
            "zerolinecolor": "white"
           },
           "yaxis": {
            "backgroundcolor": "#E5ECF6",
            "gridcolor": "white",
            "gridwidth": 2,
            "linecolor": "white",
            "showbackground": true,
            "ticks": "",
            "zerolinecolor": "white"
           },
           "zaxis": {
            "backgroundcolor": "#E5ECF6",
            "gridcolor": "white",
            "gridwidth": 2,
            "linecolor": "white",
            "showbackground": true,
            "ticks": "",
            "zerolinecolor": "white"
           }
          },
          "shapedefaults": {
           "line": {
            "color": "#2a3f5f"
           }
          },
          "ternary": {
           "aaxis": {
            "gridcolor": "white",
            "linecolor": "white",
            "ticks": ""
           },
           "baxis": {
            "gridcolor": "white",
            "linecolor": "white",
            "ticks": ""
           },
           "bgcolor": "#E5ECF6",
           "caxis": {
            "gridcolor": "white",
            "linecolor": "white",
            "ticks": ""
           }
          },
          "title": {
           "x": 0.05
          },
          "xaxis": {
           "automargin": true,
           "gridcolor": "white",
           "linecolor": "white",
           "ticks": "",
           "title": {
            "standoff": 15
           },
           "zerolinecolor": "white",
           "zerolinewidth": 2
          },
          "yaxis": {
           "automargin": true,
           "gridcolor": "white",
           "linecolor": "white",
           "ticks": "",
           "title": {
            "standoff": 15
           },
           "zerolinecolor": "white",
           "zerolinewidth": 2
          }
         }
        },
        "xaxis": {
         "anchor": "y",
         "domain": [
          0,
          1
         ],
         "title": {
          "text": "x"
         }
        },
        "yaxis": {
         "anchor": "x",
         "domain": [
          0,
          1
         ],
         "title": {
          "text": "y"
         }
        }
       }
      }
     },
     "metadata": {},
     "output_type": "display_data"
    }
   ],
   "source": [
    "x, y, p = read_xypdata(\"data/tmp42\")\n",
    "\n",
    "x_pred = np.linspace(min(x), max(x), 20)\n",
    "f_pred = LeastSquare(x, y, p, 2)\n",
    "y_pred = [f_pred(xi) for xi in x_pred]\n",
    "\n",
    "fig = px.line(x=x, y=y)\n",
    "fig.add_trace(go.Scatter(x=x_pred, y=y_pred))\n",
    "fig.show()"
   ]
  },
  {
   "cell_type": "markdown",
   "metadata": {},
   "source": [
    "### Тесты по функциям"
   ]
  },
  {
   "cell_type": "code",
   "execution_count": 38,
   "metadata": {},
   "outputs": [
    {
     "data": {
      "application/vnd.plotly.v1+json": {
       "config": {
        "plotlyServerURL": "https://plot.ly"
       },
       "data": [
        {
         "hovertemplate": "x=%{x}<br>y=%{y}<extra></extra>",
         "legendgroup": "",
         "line": {
          "color": "#636efa",
          "dash": "solid"
         },
         "marker": {
          "symbol": "circle"
         },
         "mode": "lines",
         "name": "",
         "orientation": "v",
         "showlegend": false,
         "type": "scatter",
         "x": [
          -10,
          -9.551020408163266,
          -9.10204081632653,
          -8.653061224489797,
          -8.204081632653061,
          -7.755102040816327,
          -7.3061224489795915,
          -6.857142857142858,
          -6.408163265306122,
          -5.959183673469388,
          -5.510204081632653,
          -5.061224489795919,
          -4.612244897959184,
          -4.163265306122449,
          -3.7142857142857144,
          -3.2653061224489797,
          -2.816326530612245,
          -2.36734693877551,
          -1.9183673469387763,
          -1.4693877551020407,
          -1.0204081632653068,
          -0.5714285714285712,
          -0.12244897959183731,
          0.3265306122448983,
          0.7755102040816322,
          1.2244897959183678,
          1.6734693877551017,
          2.1224489795918373,
          2.571428571428571,
          3.020408163265307,
          3.4693877551020407,
          3.9183673469387763,
          4.36734693877551,
          4.816326530612244,
          5.26530612244898,
          5.7142857142857135,
          6.163265306122447,
          6.612244897959183,
          7.061224489795919,
          7.510204081632654,
          7.959183673469386,
          8.408163265306122,
          8.857142857142858,
          9.306122448979593,
          9.755102040816325,
          10.204081632653061,
          10.653061224489797,
          11.102040816326532,
          11.551020408163264,
          12
         ],
         "xaxis": "x",
         "y": [
          100,
          91.2219908371512,
          82.84714702207414,
          74.87546855476886,
          67.30695543523531,
          60.141607663473565,
          53.379425239483545,
          47.020408163265316,
          41.06455643481882,
          35.51187005414411,
          30.362349021241155,
          25.615993336109955,
          21.272802998750524,
          17.33277800916285,
          13.795918367346939,
          10.662224073302792,
          7.931695127030404,
          5.604331528529779,
          3.6801332778009193,
          2.1591003748438147,
          1.041232819658477,
          0.32653061224489766,
          0.014993752603082191,
          0.10662224073302815,
          0.6014160766347348,
          1.499375260308206,
          2.8004997917534347,
          4.504789670970432,
          6.612244897959182,
          9.122865472719704,
          12.036651395251978,
          15.353602665556025,
          19.07371928363182,
          23.197001249479374,
          27.72344856309871,
          32.65306122448979,
          37.98583923365263,
          43.721782590587246,
          49.860891295293634,
          56.40316534777178,
          63.348604748021636,
          70.69720949604331,
          78.44897959183675,
          86.60391503540194,
          95.16201582673884,
          104.12328196584755,
          113.48771345272804,
          123.2553102873803,
          133.42607246980424,
          144
         ],
         "yaxis": "y"
        },
        {
         "type": "scatter",
         "x": [
          -10,
          -7.555555555555555,
          -5.111111111111111,
          -2.666666666666666,
          -0.22222222222222143,
          2.222222222222223,
          4.666666666666668,
          7.111111111111114,
          9.555555555555557,
          12
         ],
         "y": [
          100.0000000000001,
          57.086419753086375,
          26.123456790123406,
          7.11111111111111,
          0.04938271604941342,
          4.938271604938293,
          21.777777777777757,
          50.56790123456787,
          91.30864197530863,
          144.00000000000014
         ]
        }
       ],
       "layout": {
        "legend": {
         "tracegroupgap": 0
        },
        "margin": {
         "t": 60
        },
        "template": {
         "data": {
          "bar": [
           {
            "error_x": {
             "color": "#2a3f5f"
            },
            "error_y": {
             "color": "#2a3f5f"
            },
            "marker": {
             "line": {
              "color": "#E5ECF6",
              "width": 0.5
             },
             "pattern": {
              "fillmode": "overlay",
              "size": 10,
              "solidity": 0.2
             }
            },
            "type": "bar"
           }
          ],
          "barpolar": [
           {
            "marker": {
             "line": {
              "color": "#E5ECF6",
              "width": 0.5
             },
             "pattern": {
              "fillmode": "overlay",
              "size": 10,
              "solidity": 0.2
             }
            },
            "type": "barpolar"
           }
          ],
          "carpet": [
           {
            "aaxis": {
             "endlinecolor": "#2a3f5f",
             "gridcolor": "white",
             "linecolor": "white",
             "minorgridcolor": "white",
             "startlinecolor": "#2a3f5f"
            },
            "baxis": {
             "endlinecolor": "#2a3f5f",
             "gridcolor": "white",
             "linecolor": "white",
             "minorgridcolor": "white",
             "startlinecolor": "#2a3f5f"
            },
            "type": "carpet"
           }
          ],
          "choropleth": [
           {
            "colorbar": {
             "outlinewidth": 0,
             "ticks": ""
            },
            "type": "choropleth"
           }
          ],
          "contour": [
           {
            "colorbar": {
             "outlinewidth": 0,
             "ticks": ""
            },
            "colorscale": [
             [
              0,
              "#0d0887"
             ],
             [
              0.1111111111111111,
              "#46039f"
             ],
             [
              0.2222222222222222,
              "#7201a8"
             ],
             [
              0.3333333333333333,
              "#9c179e"
             ],
             [
              0.4444444444444444,
              "#bd3786"
             ],
             [
              0.5555555555555556,
              "#d8576b"
             ],
             [
              0.6666666666666666,
              "#ed7953"
             ],
             [
              0.7777777777777778,
              "#fb9f3a"
             ],
             [
              0.8888888888888888,
              "#fdca26"
             ],
             [
              1,
              "#f0f921"
             ]
            ],
            "type": "contour"
           }
          ],
          "contourcarpet": [
           {
            "colorbar": {
             "outlinewidth": 0,
             "ticks": ""
            },
            "type": "contourcarpet"
           }
          ],
          "heatmap": [
           {
            "colorbar": {
             "outlinewidth": 0,
             "ticks": ""
            },
            "colorscale": [
             [
              0,
              "#0d0887"
             ],
             [
              0.1111111111111111,
              "#46039f"
             ],
             [
              0.2222222222222222,
              "#7201a8"
             ],
             [
              0.3333333333333333,
              "#9c179e"
             ],
             [
              0.4444444444444444,
              "#bd3786"
             ],
             [
              0.5555555555555556,
              "#d8576b"
             ],
             [
              0.6666666666666666,
              "#ed7953"
             ],
             [
              0.7777777777777778,
              "#fb9f3a"
             ],
             [
              0.8888888888888888,
              "#fdca26"
             ],
             [
              1,
              "#f0f921"
             ]
            ],
            "type": "heatmap"
           }
          ],
          "heatmapgl": [
           {
            "colorbar": {
             "outlinewidth": 0,
             "ticks": ""
            },
            "colorscale": [
             [
              0,
              "#0d0887"
             ],
             [
              0.1111111111111111,
              "#46039f"
             ],
             [
              0.2222222222222222,
              "#7201a8"
             ],
             [
              0.3333333333333333,
              "#9c179e"
             ],
             [
              0.4444444444444444,
              "#bd3786"
             ],
             [
              0.5555555555555556,
              "#d8576b"
             ],
             [
              0.6666666666666666,
              "#ed7953"
             ],
             [
              0.7777777777777778,
              "#fb9f3a"
             ],
             [
              0.8888888888888888,
              "#fdca26"
             ],
             [
              1,
              "#f0f921"
             ]
            ],
            "type": "heatmapgl"
           }
          ],
          "histogram": [
           {
            "marker": {
             "pattern": {
              "fillmode": "overlay",
              "size": 10,
              "solidity": 0.2
             }
            },
            "type": "histogram"
           }
          ],
          "histogram2d": [
           {
            "colorbar": {
             "outlinewidth": 0,
             "ticks": ""
            },
            "colorscale": [
             [
              0,
              "#0d0887"
             ],
             [
              0.1111111111111111,
              "#46039f"
             ],
             [
              0.2222222222222222,
              "#7201a8"
             ],
             [
              0.3333333333333333,
              "#9c179e"
             ],
             [
              0.4444444444444444,
              "#bd3786"
             ],
             [
              0.5555555555555556,
              "#d8576b"
             ],
             [
              0.6666666666666666,
              "#ed7953"
             ],
             [
              0.7777777777777778,
              "#fb9f3a"
             ],
             [
              0.8888888888888888,
              "#fdca26"
             ],
             [
              1,
              "#f0f921"
             ]
            ],
            "type": "histogram2d"
           }
          ],
          "histogram2dcontour": [
           {
            "colorbar": {
             "outlinewidth": 0,
             "ticks": ""
            },
            "colorscale": [
             [
              0,
              "#0d0887"
             ],
             [
              0.1111111111111111,
              "#46039f"
             ],
             [
              0.2222222222222222,
              "#7201a8"
             ],
             [
              0.3333333333333333,
              "#9c179e"
             ],
             [
              0.4444444444444444,
              "#bd3786"
             ],
             [
              0.5555555555555556,
              "#d8576b"
             ],
             [
              0.6666666666666666,
              "#ed7953"
             ],
             [
              0.7777777777777778,
              "#fb9f3a"
             ],
             [
              0.8888888888888888,
              "#fdca26"
             ],
             [
              1,
              "#f0f921"
             ]
            ],
            "type": "histogram2dcontour"
           }
          ],
          "mesh3d": [
           {
            "colorbar": {
             "outlinewidth": 0,
             "ticks": ""
            },
            "type": "mesh3d"
           }
          ],
          "parcoords": [
           {
            "line": {
             "colorbar": {
              "outlinewidth": 0,
              "ticks": ""
             }
            },
            "type": "parcoords"
           }
          ],
          "pie": [
           {
            "automargin": true,
            "type": "pie"
           }
          ],
          "scatter": [
           {
            "fillpattern": {
             "fillmode": "overlay",
             "size": 10,
             "solidity": 0.2
            },
            "type": "scatter"
           }
          ],
          "scatter3d": [
           {
            "line": {
             "colorbar": {
              "outlinewidth": 0,
              "ticks": ""
             }
            },
            "marker": {
             "colorbar": {
              "outlinewidth": 0,
              "ticks": ""
             }
            },
            "type": "scatter3d"
           }
          ],
          "scattercarpet": [
           {
            "marker": {
             "colorbar": {
              "outlinewidth": 0,
              "ticks": ""
             }
            },
            "type": "scattercarpet"
           }
          ],
          "scattergeo": [
           {
            "marker": {
             "colorbar": {
              "outlinewidth": 0,
              "ticks": ""
             }
            },
            "type": "scattergeo"
           }
          ],
          "scattergl": [
           {
            "marker": {
             "colorbar": {
              "outlinewidth": 0,
              "ticks": ""
             }
            },
            "type": "scattergl"
           }
          ],
          "scattermapbox": [
           {
            "marker": {
             "colorbar": {
              "outlinewidth": 0,
              "ticks": ""
             }
            },
            "type": "scattermapbox"
           }
          ],
          "scatterpolar": [
           {
            "marker": {
             "colorbar": {
              "outlinewidth": 0,
              "ticks": ""
             }
            },
            "type": "scatterpolar"
           }
          ],
          "scatterpolargl": [
           {
            "marker": {
             "colorbar": {
              "outlinewidth": 0,
              "ticks": ""
             }
            },
            "type": "scatterpolargl"
           }
          ],
          "scatterternary": [
           {
            "marker": {
             "colorbar": {
              "outlinewidth": 0,
              "ticks": ""
             }
            },
            "type": "scatterternary"
           }
          ],
          "surface": [
           {
            "colorbar": {
             "outlinewidth": 0,
             "ticks": ""
            },
            "colorscale": [
             [
              0,
              "#0d0887"
             ],
             [
              0.1111111111111111,
              "#46039f"
             ],
             [
              0.2222222222222222,
              "#7201a8"
             ],
             [
              0.3333333333333333,
              "#9c179e"
             ],
             [
              0.4444444444444444,
              "#bd3786"
             ],
             [
              0.5555555555555556,
              "#d8576b"
             ],
             [
              0.6666666666666666,
              "#ed7953"
             ],
             [
              0.7777777777777778,
              "#fb9f3a"
             ],
             [
              0.8888888888888888,
              "#fdca26"
             ],
             [
              1,
              "#f0f921"
             ]
            ],
            "type": "surface"
           }
          ],
          "table": [
           {
            "cells": {
             "fill": {
              "color": "#EBF0F8"
             },
             "line": {
              "color": "white"
             }
            },
            "header": {
             "fill": {
              "color": "#C8D4E3"
             },
             "line": {
              "color": "white"
             }
            },
            "type": "table"
           }
          ]
         },
         "layout": {
          "annotationdefaults": {
           "arrowcolor": "#2a3f5f",
           "arrowhead": 0,
           "arrowwidth": 1
          },
          "autotypenumbers": "strict",
          "coloraxis": {
           "colorbar": {
            "outlinewidth": 0,
            "ticks": ""
           }
          },
          "colorscale": {
           "diverging": [
            [
             0,
             "#8e0152"
            ],
            [
             0.1,
             "#c51b7d"
            ],
            [
             0.2,
             "#de77ae"
            ],
            [
             0.3,
             "#f1b6da"
            ],
            [
             0.4,
             "#fde0ef"
            ],
            [
             0.5,
             "#f7f7f7"
            ],
            [
             0.6,
             "#e6f5d0"
            ],
            [
             0.7,
             "#b8e186"
            ],
            [
             0.8,
             "#7fbc41"
            ],
            [
             0.9,
             "#4d9221"
            ],
            [
             1,
             "#276419"
            ]
           ],
           "sequential": [
            [
             0,
             "#0d0887"
            ],
            [
             0.1111111111111111,
             "#46039f"
            ],
            [
             0.2222222222222222,
             "#7201a8"
            ],
            [
             0.3333333333333333,
             "#9c179e"
            ],
            [
             0.4444444444444444,
             "#bd3786"
            ],
            [
             0.5555555555555556,
             "#d8576b"
            ],
            [
             0.6666666666666666,
             "#ed7953"
            ],
            [
             0.7777777777777778,
             "#fb9f3a"
            ],
            [
             0.8888888888888888,
             "#fdca26"
            ],
            [
             1,
             "#f0f921"
            ]
           ],
           "sequentialminus": [
            [
             0,
             "#0d0887"
            ],
            [
             0.1111111111111111,
             "#46039f"
            ],
            [
             0.2222222222222222,
             "#7201a8"
            ],
            [
             0.3333333333333333,
             "#9c179e"
            ],
            [
             0.4444444444444444,
             "#bd3786"
            ],
            [
             0.5555555555555556,
             "#d8576b"
            ],
            [
             0.6666666666666666,
             "#ed7953"
            ],
            [
             0.7777777777777778,
             "#fb9f3a"
            ],
            [
             0.8888888888888888,
             "#fdca26"
            ],
            [
             1,
             "#f0f921"
            ]
           ]
          },
          "colorway": [
           "#636efa",
           "#EF553B",
           "#00cc96",
           "#ab63fa",
           "#FFA15A",
           "#19d3f3",
           "#FF6692",
           "#B6E880",
           "#FF97FF",
           "#FECB52"
          ],
          "font": {
           "color": "#2a3f5f"
          },
          "geo": {
           "bgcolor": "white",
           "lakecolor": "white",
           "landcolor": "#E5ECF6",
           "showlakes": true,
           "showland": true,
           "subunitcolor": "white"
          },
          "hoverlabel": {
           "align": "left"
          },
          "hovermode": "closest",
          "mapbox": {
           "style": "light"
          },
          "paper_bgcolor": "white",
          "plot_bgcolor": "#E5ECF6",
          "polar": {
           "angularaxis": {
            "gridcolor": "white",
            "linecolor": "white",
            "ticks": ""
           },
           "bgcolor": "#E5ECF6",
           "radialaxis": {
            "gridcolor": "white",
            "linecolor": "white",
            "ticks": ""
           }
          },
          "scene": {
           "xaxis": {
            "backgroundcolor": "#E5ECF6",
            "gridcolor": "white",
            "gridwidth": 2,
            "linecolor": "white",
            "showbackground": true,
            "ticks": "",
            "zerolinecolor": "white"
           },
           "yaxis": {
            "backgroundcolor": "#E5ECF6",
            "gridcolor": "white",
            "gridwidth": 2,
            "linecolor": "white",
            "showbackground": true,
            "ticks": "",
            "zerolinecolor": "white"
           },
           "zaxis": {
            "backgroundcolor": "#E5ECF6",
            "gridcolor": "white",
            "gridwidth": 2,
            "linecolor": "white",
            "showbackground": true,
            "ticks": "",
            "zerolinecolor": "white"
           }
          },
          "shapedefaults": {
           "line": {
            "color": "#2a3f5f"
           }
          },
          "ternary": {
           "aaxis": {
            "gridcolor": "white",
            "linecolor": "white",
            "ticks": ""
           },
           "baxis": {
            "gridcolor": "white",
            "linecolor": "white",
            "ticks": ""
           },
           "bgcolor": "#E5ECF6",
           "caxis": {
            "gridcolor": "white",
            "linecolor": "white",
            "ticks": ""
           }
          },
          "title": {
           "x": 0.05
          },
          "xaxis": {
           "automargin": true,
           "gridcolor": "white",
           "linecolor": "white",
           "ticks": "",
           "title": {
            "standoff": 15
           },
           "zerolinecolor": "white",
           "zerolinewidth": 2
          },
          "yaxis": {
           "automargin": true,
           "gridcolor": "white",
           "linecolor": "white",
           "ticks": "",
           "title": {
            "standoff": 15
           },
           "zerolinecolor": "white",
           "zerolinewidth": 2
          }
         }
        },
        "xaxis": {
         "anchor": "y",
         "domain": [
          0,
          1
         ],
         "title": {
          "text": "x"
         }
        },
        "yaxis": {
         "anchor": "x",
         "domain": [
          0,
          1
         ],
         "title": {
          "text": "y"
         }
        }
       }
      }
     },
     "metadata": {},
     "output_type": "display_data"
    }
   ],
   "source": [
    "def f(x):\n",
    "    return x ** 2\n",
    "\n",
    "x, y, p = get_xypdata(-10, 12, 50, 0, 1, f)\n",
    "\n",
    "x_pred = np.linspace(-10, 12, 10)\n",
    "f_pred = LeastSquare(x, y, p, 4)\n",
    "y_pred = [f_pred(xi) for xi in x_pred]\n",
    "\n",
    "fig = px.line()\n",
    "fig.add_trace(go.Scatter(x=x, y=y, name=\"Функция\"))\n",
    "fig.add_trace(go.Scatter(x=x_pred, y=y_pred, name=\"Приближение\"))\n",
    "fig.show()"
   ]
  },
  {
   "cell_type": "code",
   "execution_count": 39,
   "metadata": {},
   "outputs": [
    {
     "data": {
      "application/vnd.plotly.v1+json": {
       "config": {
        "plotlyServerURL": "https://plot.ly"
       },
       "data": [
        {
         "hovertemplate": "<extra></extra>",
         "legendgroup": "",
         "line": {
          "color": "#636efa",
          "dash": "solid"
         },
         "marker": {
          "symbol": "circle"
         },
         "mode": "lines",
         "name": "",
         "orientation": "v",
         "showlegend": false,
         "type": "scatter",
         "xaxis": "x",
         "yaxis": "y"
        },
        {
         "name": "Функция",
         "type": "scatter",
         "x": [
          -2,
          -1.8775510204081634,
          -1.7551020408163265,
          -1.6326530612244898,
          -1.510204081632653,
          -1.3877551020408163,
          -1.2653061224489797,
          -1.1428571428571428,
          -1.0204081632653061,
          -0.8979591836734695,
          -0.7755102040816326,
          -0.653061224489796,
          -0.5306122448979593,
          -0.40816326530612246,
          -0.2857142857142858,
          -0.16326530612244894,
          -0.04081632653061229,
          0.08163265306122458,
          0.204081632653061,
          0.3265306122448979,
          0.44897959183673475,
          0.5714285714285712,
          0.693877551020408,
          0.8163265306122449,
          0.9387755102040813,
          1.0612244897959182,
          1.183673469387755,
          1.306122448979592,
          1.4285714285714284,
          1.5510204081632653,
          1.6734693877551021,
          1.7959183673469385,
          1.9183673469387754,
          2.040816326530612,
          2.163265306122449,
          2.2857142857142856,
          2.408163265306122,
          2.5306122448979593,
          2.6530612244897958,
          2.775510204081632,
          2.8979591836734695,
          3.020408163265306,
          3.1428571428571423,
          3.2653061224489797,
          3.387755102040816,
          3.5102040816326525,
          3.63265306122449,
          3.7551020408163263,
          3.8775510204081627,
          4
         ],
         "y": [
          -12.195357645382263,
          -11.60050582764888,
          -10.003139425830037,
          -7.482775766580113,
          -4.37309521201004,
          -1.1808885320875862,
          1.5357012898399751,
          3.3010123253555417,
          3.8363021903130257,
          3.127882433933457,
          1.4329275556464183,
          -0.7784072954818069,
          -2.9309493656539614,
          -4.477165414732866,
          -5.023319617828115,
          -4.419467200103996,
          -2.7921225010743296,
          -0.5119198269833652,
          1.8961286095261143,
          3.8786755145059026,
          4.986744111925125,
          4.983891826842386,
          3.9043982031497912,
          2.047794619306871,
          -0.088977903109136,
          -1.9258302340322453,
          -2.933338300964965,
          -2.754642760551124,
          -1.2867714153797252,
          1.29773795819934,
          4.593998811141397,
          8.06257203070205,
          11.158901138953672,
          13.463950799948996,
          14.785330005982573,
          15.205121611697475,
          15.06317147285553,
          14.879766618901034,
          15.235884086042706,
          16.639168966968334,
          19.40715589709344,
          23.595193537171617,
          28.9860200499619,
          35.14344081658805,
          41.51748649480704,
          47.576324319144405,
          52.933904725971615,
          57.44332819179409,
          61.2339777984363,
          64.68368609103916
         ]
        },
        {
         "name": "Приближение",
         "type": "scatter",
         "x": [
          -2,
          -1.9393939393939394,
          -1.878787878787879,
          -1.8181818181818181,
          -1.7575757575757576,
          -1.696969696969697,
          -1.6363636363636362,
          -1.5757575757575757,
          -1.5151515151515151,
          -1.4545454545454546,
          -1.393939393939394,
          -1.3333333333333333,
          -1.2727272727272727,
          -1.2121212121212122,
          -1.1515151515151514,
          -1.0909090909090908,
          -1.0303030303030303,
          -0.9696969696969697,
          -0.9090909090909092,
          -0.8484848484848484,
          -0.7878787878787878,
          -0.7272727272727273,
          -0.6666666666666665,
          -0.606060606060606,
          -0.5454545454545454,
          -0.48484848484848486,
          -0.4242424242424243,
          -0.36363636363636354,
          -0.303030303030303,
          -0.24242424242424243,
          -0.18181818181818166,
          -0.1212121212121211,
          -0.06060606060606055,
          0,
          0.06060606060606055,
          0.1212121212121211,
          0.18181818181818166,
          0.24242424242424265,
          0.3030303030303032,
          0.36363636363636376,
          0.4242424242424243,
          0.48484848484848486,
          0.5454545454545454,
          0.606060606060606,
          0.666666666666667,
          0.7272727272727275,
          0.7878787878787881,
          0.8484848484848486,
          0.9090909090909092,
          0.9696969696969697,
          1.0303030303030303,
          1.0909090909090908,
          1.1515151515151514,
          1.2121212121212124,
          1.272727272727273,
          1.3333333333333335,
          1.393939393939394,
          1.4545454545454546,
          1.5151515151515151,
          1.5757575757575757,
          1.6363636363636367,
          1.6969696969696972,
          1.7575757575757578,
          1.8181818181818183,
          1.878787878787879,
          1.9393939393939394,
          2,
          2.0606060606060606,
          2.121212121212121,
          2.1818181818181817,
          2.242424242424242,
          2.3030303030303028,
          2.3636363636363633,
          2.4242424242424248,
          2.4848484848484853,
          2.545454545454546,
          2.6060606060606064,
          2.666666666666667,
          2.7272727272727275,
          2.787878787878788,
          2.8484848484848486,
          2.909090909090909,
          2.9696969696969697,
          3.0303030303030303,
          3.090909090909091,
          3.1515151515151514,
          3.212121212121212,
          3.2727272727272725,
          3.333333333333334,
          3.3939393939393945,
          3.454545454545455,
          3.5151515151515156,
          3.575757575757576,
          3.6363636363636367,
          3.6969696969696972,
          3.757575757575758,
          3.8181818181818183,
          3.878787878787879,
          3.9393939393939394,
          4
         ],
         "y": [
          -12.064893759584393,
          -10.864957694938937,
          -9.739642263157377,
          -8.686475801808182,
          -7.703004431610331,
          -6.7867920564332715,
          -5.935420363296948,
          -5.1464888223718015,
          -4.417614686978754,
          -3.746432993589222,
          -3.130596561825107,
          -2.567775994458802,
          -2.0556596774131943,
          -1.5919537797616559,
          -1.1743822537280475,
          -0.8006868346867244,
          -0.4686270411625276,
          -0.17598017483078882,
          0.079458679482671,
          0.2998766538015408,
          0.48744309699901905,
          0.6443095747978157,
          0.7726098697701512,
          0.8744599813377553,
          0.9519581257718688,
          1.0071847361932433,
          1.0422024625721396,
          1.05905617172833,
          1.0597729473310964,
          1.0463620898992312,
          1.0208151168010375,
          0.9851057622543281,
          0.9411899773264268,
          0.8910059299341678,
          0.8364740048438949,
          0.779496803671463,
          0.7219591448822369,
          0.6657280637910915,
          0.6126528125624136,
          0.5645648602100986,
          0.5232778925975528,
          0.49058781243769284,
          0.4682727392929463,
          0.4580930095752503,
          0.46179117654605273,
          0.4810920103163118,
          0.5177024978464958,
          0.5733118429465841,
          0.6495914662760656,
          0.7481950053439395,
          0.8707583145087163,
          1.018899464978416,
          1.1942187448105697,
          1.398298658912219,
          1.6327039290399137,
          1.8989814937997158,
          2.1986605086471975,
          2.533252345887442,
          2.9042505946750405,
          3.313131061014098,
          3.761351767758231,
          4.2503529546105545,
          4.7815570781237104,
          5.356368811699839,
          5.976175045590596,
          6.642344886897146,
          7.35622965957017,
          8.119162904409848,
          8.93246037906588,
          9.797420058037465,
          10.715322132673332,
          11.687429011171702,
          12.71498531858031,
          13.799217896796426,
          14.941335804566776,
          16.142530317487633,
          17.4039749280048,
          18.726825345413545,
          20.112219495858675,
          21.561277522334496,
          23.07510178468484,
          24.65477685960303,
          26.301369540631903,
          28.01592883816382,
          29.799485979440632,
          31.65305440855373,
          33.57762978644397,
          35.57418999090178,
          37.64369511656706,
          39.78708747492918,
          42.0052915943271,
          44.29921421994923,
          46.66974431383354,
          49.11775305486748,
          51.644093838787995,
          54.249602278181584,
          56.93509620248423,
          59.701375657981416,
          62.549222907808186,
          65.47940243194901
         ]
        }
       ],
       "layout": {
        "legend": {
         "tracegroupgap": 0
        },
        "margin": {
         "t": 60
        },
        "template": {
         "data": {
          "bar": [
           {
            "error_x": {
             "color": "#2a3f5f"
            },
            "error_y": {
             "color": "#2a3f5f"
            },
            "marker": {
             "line": {
              "color": "#E5ECF6",
              "width": 0.5
             },
             "pattern": {
              "fillmode": "overlay",
              "size": 10,
              "solidity": 0.2
             }
            },
            "type": "bar"
           }
          ],
          "barpolar": [
           {
            "marker": {
             "line": {
              "color": "#E5ECF6",
              "width": 0.5
             },
             "pattern": {
              "fillmode": "overlay",
              "size": 10,
              "solidity": 0.2
             }
            },
            "type": "barpolar"
           }
          ],
          "carpet": [
           {
            "aaxis": {
             "endlinecolor": "#2a3f5f",
             "gridcolor": "white",
             "linecolor": "white",
             "minorgridcolor": "white",
             "startlinecolor": "#2a3f5f"
            },
            "baxis": {
             "endlinecolor": "#2a3f5f",
             "gridcolor": "white",
             "linecolor": "white",
             "minorgridcolor": "white",
             "startlinecolor": "#2a3f5f"
            },
            "type": "carpet"
           }
          ],
          "choropleth": [
           {
            "colorbar": {
             "outlinewidth": 0,
             "ticks": ""
            },
            "type": "choropleth"
           }
          ],
          "contour": [
           {
            "colorbar": {
             "outlinewidth": 0,
             "ticks": ""
            },
            "colorscale": [
             [
              0,
              "#0d0887"
             ],
             [
              0.1111111111111111,
              "#46039f"
             ],
             [
              0.2222222222222222,
              "#7201a8"
             ],
             [
              0.3333333333333333,
              "#9c179e"
             ],
             [
              0.4444444444444444,
              "#bd3786"
             ],
             [
              0.5555555555555556,
              "#d8576b"
             ],
             [
              0.6666666666666666,
              "#ed7953"
             ],
             [
              0.7777777777777778,
              "#fb9f3a"
             ],
             [
              0.8888888888888888,
              "#fdca26"
             ],
             [
              1,
              "#f0f921"
             ]
            ],
            "type": "contour"
           }
          ],
          "contourcarpet": [
           {
            "colorbar": {
             "outlinewidth": 0,
             "ticks": ""
            },
            "type": "contourcarpet"
           }
          ],
          "heatmap": [
           {
            "colorbar": {
             "outlinewidth": 0,
             "ticks": ""
            },
            "colorscale": [
             [
              0,
              "#0d0887"
             ],
             [
              0.1111111111111111,
              "#46039f"
             ],
             [
              0.2222222222222222,
              "#7201a8"
             ],
             [
              0.3333333333333333,
              "#9c179e"
             ],
             [
              0.4444444444444444,
              "#bd3786"
             ],
             [
              0.5555555555555556,
              "#d8576b"
             ],
             [
              0.6666666666666666,
              "#ed7953"
             ],
             [
              0.7777777777777778,
              "#fb9f3a"
             ],
             [
              0.8888888888888888,
              "#fdca26"
             ],
             [
              1,
              "#f0f921"
             ]
            ],
            "type": "heatmap"
           }
          ],
          "heatmapgl": [
           {
            "colorbar": {
             "outlinewidth": 0,
             "ticks": ""
            },
            "colorscale": [
             [
              0,
              "#0d0887"
             ],
             [
              0.1111111111111111,
              "#46039f"
             ],
             [
              0.2222222222222222,
              "#7201a8"
             ],
             [
              0.3333333333333333,
              "#9c179e"
             ],
             [
              0.4444444444444444,
              "#bd3786"
             ],
             [
              0.5555555555555556,
              "#d8576b"
             ],
             [
              0.6666666666666666,
              "#ed7953"
             ],
             [
              0.7777777777777778,
              "#fb9f3a"
             ],
             [
              0.8888888888888888,
              "#fdca26"
             ],
             [
              1,
              "#f0f921"
             ]
            ],
            "type": "heatmapgl"
           }
          ],
          "histogram": [
           {
            "marker": {
             "pattern": {
              "fillmode": "overlay",
              "size": 10,
              "solidity": 0.2
             }
            },
            "type": "histogram"
           }
          ],
          "histogram2d": [
           {
            "colorbar": {
             "outlinewidth": 0,
             "ticks": ""
            },
            "colorscale": [
             [
              0,
              "#0d0887"
             ],
             [
              0.1111111111111111,
              "#46039f"
             ],
             [
              0.2222222222222222,
              "#7201a8"
             ],
             [
              0.3333333333333333,
              "#9c179e"
             ],
             [
              0.4444444444444444,
              "#bd3786"
             ],
             [
              0.5555555555555556,
              "#d8576b"
             ],
             [
              0.6666666666666666,
              "#ed7953"
             ],
             [
              0.7777777777777778,
              "#fb9f3a"
             ],
             [
              0.8888888888888888,
              "#fdca26"
             ],
             [
              1,
              "#f0f921"
             ]
            ],
            "type": "histogram2d"
           }
          ],
          "histogram2dcontour": [
           {
            "colorbar": {
             "outlinewidth": 0,
             "ticks": ""
            },
            "colorscale": [
             [
              0,
              "#0d0887"
             ],
             [
              0.1111111111111111,
              "#46039f"
             ],
             [
              0.2222222222222222,
              "#7201a8"
             ],
             [
              0.3333333333333333,
              "#9c179e"
             ],
             [
              0.4444444444444444,
              "#bd3786"
             ],
             [
              0.5555555555555556,
              "#d8576b"
             ],
             [
              0.6666666666666666,
              "#ed7953"
             ],
             [
              0.7777777777777778,
              "#fb9f3a"
             ],
             [
              0.8888888888888888,
              "#fdca26"
             ],
             [
              1,
              "#f0f921"
             ]
            ],
            "type": "histogram2dcontour"
           }
          ],
          "mesh3d": [
           {
            "colorbar": {
             "outlinewidth": 0,
             "ticks": ""
            },
            "type": "mesh3d"
           }
          ],
          "parcoords": [
           {
            "line": {
             "colorbar": {
              "outlinewidth": 0,
              "ticks": ""
             }
            },
            "type": "parcoords"
           }
          ],
          "pie": [
           {
            "automargin": true,
            "type": "pie"
           }
          ],
          "scatter": [
           {
            "fillpattern": {
             "fillmode": "overlay",
             "size": 10,
             "solidity": 0.2
            },
            "type": "scatter"
           }
          ],
          "scatter3d": [
           {
            "line": {
             "colorbar": {
              "outlinewidth": 0,
              "ticks": ""
             }
            },
            "marker": {
             "colorbar": {
              "outlinewidth": 0,
              "ticks": ""
             }
            },
            "type": "scatter3d"
           }
          ],
          "scattercarpet": [
           {
            "marker": {
             "colorbar": {
              "outlinewidth": 0,
              "ticks": ""
             }
            },
            "type": "scattercarpet"
           }
          ],
          "scattergeo": [
           {
            "marker": {
             "colorbar": {
              "outlinewidth": 0,
              "ticks": ""
             }
            },
            "type": "scattergeo"
           }
          ],
          "scattergl": [
           {
            "marker": {
             "colorbar": {
              "outlinewidth": 0,
              "ticks": ""
             }
            },
            "type": "scattergl"
           }
          ],
          "scattermapbox": [
           {
            "marker": {
             "colorbar": {
              "outlinewidth": 0,
              "ticks": ""
             }
            },
            "type": "scattermapbox"
           }
          ],
          "scatterpolar": [
           {
            "marker": {
             "colorbar": {
              "outlinewidth": 0,
              "ticks": ""
             }
            },
            "type": "scatterpolar"
           }
          ],
          "scatterpolargl": [
           {
            "marker": {
             "colorbar": {
              "outlinewidth": 0,
              "ticks": ""
             }
            },
            "type": "scatterpolargl"
           }
          ],
          "scatterternary": [
           {
            "marker": {
             "colorbar": {
              "outlinewidth": 0,
              "ticks": ""
             }
            },
            "type": "scatterternary"
           }
          ],
          "surface": [
           {
            "colorbar": {
             "outlinewidth": 0,
             "ticks": ""
            },
            "colorscale": [
             [
              0,
              "#0d0887"
             ],
             [
              0.1111111111111111,
              "#46039f"
             ],
             [
              0.2222222222222222,
              "#7201a8"
             ],
             [
              0.3333333333333333,
              "#9c179e"
             ],
             [
              0.4444444444444444,
              "#bd3786"
             ],
             [
              0.5555555555555556,
              "#d8576b"
             ],
             [
              0.6666666666666666,
              "#ed7953"
             ],
             [
              0.7777777777777778,
              "#fb9f3a"
             ],
             [
              0.8888888888888888,
              "#fdca26"
             ],
             [
              1,
              "#f0f921"
             ]
            ],
            "type": "surface"
           }
          ],
          "table": [
           {
            "cells": {
             "fill": {
              "color": "#EBF0F8"
             },
             "line": {
              "color": "white"
             }
            },
            "header": {
             "fill": {
              "color": "#C8D4E3"
             },
             "line": {
              "color": "white"
             }
            },
            "type": "table"
           }
          ]
         },
         "layout": {
          "annotationdefaults": {
           "arrowcolor": "#2a3f5f",
           "arrowhead": 0,
           "arrowwidth": 1
          },
          "autotypenumbers": "strict",
          "coloraxis": {
           "colorbar": {
            "outlinewidth": 0,
            "ticks": ""
           }
          },
          "colorscale": {
           "diverging": [
            [
             0,
             "#8e0152"
            ],
            [
             0.1,
             "#c51b7d"
            ],
            [
             0.2,
             "#de77ae"
            ],
            [
             0.3,
             "#f1b6da"
            ],
            [
             0.4,
             "#fde0ef"
            ],
            [
             0.5,
             "#f7f7f7"
            ],
            [
             0.6,
             "#e6f5d0"
            ],
            [
             0.7,
             "#b8e186"
            ],
            [
             0.8,
             "#7fbc41"
            ],
            [
             0.9,
             "#4d9221"
            ],
            [
             1,
             "#276419"
            ]
           ],
           "sequential": [
            [
             0,
             "#0d0887"
            ],
            [
             0.1111111111111111,
             "#46039f"
            ],
            [
             0.2222222222222222,
             "#7201a8"
            ],
            [
             0.3333333333333333,
             "#9c179e"
            ],
            [
             0.4444444444444444,
             "#bd3786"
            ],
            [
             0.5555555555555556,
             "#d8576b"
            ],
            [
             0.6666666666666666,
             "#ed7953"
            ],
            [
             0.7777777777777778,
             "#fb9f3a"
            ],
            [
             0.8888888888888888,
             "#fdca26"
            ],
            [
             1,
             "#f0f921"
            ]
           ],
           "sequentialminus": [
            [
             0,
             "#0d0887"
            ],
            [
             0.1111111111111111,
             "#46039f"
            ],
            [
             0.2222222222222222,
             "#7201a8"
            ],
            [
             0.3333333333333333,
             "#9c179e"
            ],
            [
             0.4444444444444444,
             "#bd3786"
            ],
            [
             0.5555555555555556,
             "#d8576b"
            ],
            [
             0.6666666666666666,
             "#ed7953"
            ],
            [
             0.7777777777777778,
             "#fb9f3a"
            ],
            [
             0.8888888888888888,
             "#fdca26"
            ],
            [
             1,
             "#f0f921"
            ]
           ]
          },
          "colorway": [
           "#636efa",
           "#EF553B",
           "#00cc96",
           "#ab63fa",
           "#FFA15A",
           "#19d3f3",
           "#FF6692",
           "#B6E880",
           "#FF97FF",
           "#FECB52"
          ],
          "font": {
           "color": "#2a3f5f"
          },
          "geo": {
           "bgcolor": "white",
           "lakecolor": "white",
           "landcolor": "#E5ECF6",
           "showlakes": true,
           "showland": true,
           "subunitcolor": "white"
          },
          "hoverlabel": {
           "align": "left"
          },
          "hovermode": "closest",
          "mapbox": {
           "style": "light"
          },
          "paper_bgcolor": "white",
          "plot_bgcolor": "#E5ECF6",
          "polar": {
           "angularaxis": {
            "gridcolor": "white",
            "linecolor": "white",
            "ticks": ""
           },
           "bgcolor": "#E5ECF6",
           "radialaxis": {
            "gridcolor": "white",
            "linecolor": "white",
            "ticks": ""
           }
          },
          "scene": {
           "xaxis": {
            "backgroundcolor": "#E5ECF6",
            "gridcolor": "white",
            "gridwidth": 2,
            "linecolor": "white",
            "showbackground": true,
            "ticks": "",
            "zerolinecolor": "white"
           },
           "yaxis": {
            "backgroundcolor": "#E5ECF6",
            "gridcolor": "white",
            "gridwidth": 2,
            "linecolor": "white",
            "showbackground": true,
            "ticks": "",
            "zerolinecolor": "white"
           },
           "zaxis": {
            "backgroundcolor": "#E5ECF6",
            "gridcolor": "white",
            "gridwidth": 2,
            "linecolor": "white",
            "showbackground": true,
            "ticks": "",
            "zerolinecolor": "white"
           }
          },
          "shapedefaults": {
           "line": {
            "color": "#2a3f5f"
           }
          },
          "ternary": {
           "aaxis": {
            "gridcolor": "white",
            "linecolor": "white",
            "ticks": ""
           },
           "baxis": {
            "gridcolor": "white",
            "linecolor": "white",
            "ticks": ""
           },
           "bgcolor": "#E5ECF6",
           "caxis": {
            "gridcolor": "white",
            "linecolor": "white",
            "ticks": ""
           }
          },
          "title": {
           "x": 0.05
          },
          "xaxis": {
           "automargin": true,
           "gridcolor": "white",
           "linecolor": "white",
           "ticks": "",
           "title": {
            "standoff": 15
           },
           "zerolinecolor": "white",
           "zerolinewidth": 2
          },
          "yaxis": {
           "automargin": true,
           "gridcolor": "white",
           "linecolor": "white",
           "ticks": "",
           "title": {
            "standoff": 15
           },
           "zerolinecolor": "white",
           "zerolinewidth": 2
          }
         }
        },
        "xaxis": {
         "anchor": "y",
         "domain": [
          0,
          1
         ]
        },
        "yaxis": {
         "anchor": "x",
         "domain": [
          0,
          1
         ]
        }
       }
      }
     },
     "metadata": {},
     "output_type": "display_data"
    }
   ],
   "source": [
    "def f(x):\n",
    "    return x ** 3 + np.cos(4 * x - 2) * 5 \n",
    "\n",
    "x, y, p = get_xypdata(-2, 4, 50, 0, 1, f)\n",
    "\n",
    "x_pred = np.linspace(-2, 4, 100)\n",
    "f_pred = LeastSquare(x, y, p, 4)\n",
    "y_pred = [f_pred(xi) for xi in x_pred]\n",
    "\n",
    "fig = px.line()\n",
    "fig.add_trace(go.Scatter(x=x, y=y, name=\"Функция\"))\n",
    "fig.add_trace(go.Scatter(x=x_pred, y=y_pred, name=\"Приближение\"))\n",
    "fig.show()"
   ]
  },
  {
   "cell_type": "markdown",
   "metadata": {},
   "source": [
    "# Аппроксимация функций двух переменных"
   ]
  },
  {
   "cell_type": "markdown",
   "metadata": {},
   "source": [
    "### Тесты из файлов"
   ]
  },
  {
   "cell_type": "code",
   "execution_count": 40,
   "metadata": {},
   "outputs": [
    {
     "data": {
      "application/vnd.plotly.v1+json": {
       "config": {
        "plotlyServerURL": "https://plot.ly"
       },
       "data": [
        {
         "hovertemplate": "<extra></extra>",
         "legendgroup": "",
         "line": {
          "color": "#636efa",
          "dash": "solid"
         },
         "marker": {
          "symbol": "circle"
         },
         "mode": "lines",
         "name": "",
         "orientation": "v",
         "showlegend": false,
         "type": "scatter",
         "xaxis": "x",
         "yaxis": "y"
        },
        {
         "name": "Функция",
         "type": "scatter",
         "x": [
          -1,
          0,
          1,
          2,
          -1,
          0,
          1,
          2,
          -1,
          0,
          1,
          2,
          -1,
          0,
          1,
          2,
          -1,
          0,
          1,
          2
         ],
         "y": [
          -2,
          -2,
          -2,
          -2,
          -1,
          -1,
          -1,
          -1,
          0,
          0,
          0,
          0,
          1,
          1,
          1,
          1,
          2,
          2,
          2,
          2
         ]
        },
        {
         "name": "Приближение",
         "type": "scatter",
         "x": [
          -1,
          -0.9230769230769231,
          -0.8461538461538461,
          -0.7692307692307692,
          -0.6923076923076923,
          -0.6153846153846154,
          -0.5384615384615384,
          -0.46153846153846145,
          -0.3846153846153846,
          -0.3076923076923077,
          -0.23076923076923073,
          -0.15384615384615374,
          -0.07692307692307687,
          0,
          0.0769230769230771,
          0.15384615384615397,
          0.23076923076923084,
          0.3076923076923077,
          0.3846153846153846,
          0.4615384615384617,
          0.5384615384615385,
          0.6153846153846154,
          0.6923076923076925,
          0.7692307692307694,
          0.8461538461538463,
          0.9230769230769231,
          1,
          1.076923076923077,
          1.1538461538461542,
          1.2307692307692308,
          1.307692307692308,
          1.3846153846153846,
          1.4615384615384617,
          1.5384615384615388,
          1.6153846153846154,
          1.6923076923076925,
          1.7692307692307692,
          1.8461538461538463,
          1.9230769230769234,
          2
         ],
         "y": [
          -2,
          -1.8974358974358974,
          -1.794871794871795,
          -1.6923076923076923,
          -1.5897435897435899,
          -1.4871794871794872,
          -1.3846153846153846,
          -1.282051282051282,
          -1.1794871794871795,
          -1.076923076923077,
          -0.9743589743589745,
          -0.8717948717948718,
          -0.7692307692307692,
          -0.6666666666666667,
          -0.5641025641025641,
          -0.4615384615384617,
          -0.35897435897435903,
          -0.2564102564102564,
          -0.15384615384615397,
          -0.05128205128205132,
          0.0512820512820511,
          0.15384615384615374,
          0.2564102564102564,
          0.35897435897435903,
          0.4615384615384617,
          0.5641025641025639,
          0.6666666666666665,
          0.7692307692307692,
          0.8717948717948718,
          0.9743589743589745,
          1.0769230769230766,
          1.1794871794871793,
          1.282051282051282,
          1.3846153846153846,
          1.4871794871794872,
          1.5897435897435894,
          1.692307692307692,
          1.7948717948717947,
          1.8974358974358974,
          2
         ]
        }
       ],
       "layout": {
        "legend": {
         "tracegroupgap": 0
        },
        "margin": {
         "t": 60
        },
        "template": {
         "data": {
          "bar": [
           {
            "error_x": {
             "color": "#2a3f5f"
            },
            "error_y": {
             "color": "#2a3f5f"
            },
            "marker": {
             "line": {
              "color": "#E5ECF6",
              "width": 0.5
             },
             "pattern": {
              "fillmode": "overlay",
              "size": 10,
              "solidity": 0.2
             }
            },
            "type": "bar"
           }
          ],
          "barpolar": [
           {
            "marker": {
             "line": {
              "color": "#E5ECF6",
              "width": 0.5
             },
             "pattern": {
              "fillmode": "overlay",
              "size": 10,
              "solidity": 0.2
             }
            },
            "type": "barpolar"
           }
          ],
          "carpet": [
           {
            "aaxis": {
             "endlinecolor": "#2a3f5f",
             "gridcolor": "white",
             "linecolor": "white",
             "minorgridcolor": "white",
             "startlinecolor": "#2a3f5f"
            },
            "baxis": {
             "endlinecolor": "#2a3f5f",
             "gridcolor": "white",
             "linecolor": "white",
             "minorgridcolor": "white",
             "startlinecolor": "#2a3f5f"
            },
            "type": "carpet"
           }
          ],
          "choropleth": [
           {
            "colorbar": {
             "outlinewidth": 0,
             "ticks": ""
            },
            "type": "choropleth"
           }
          ],
          "contour": [
           {
            "colorbar": {
             "outlinewidth": 0,
             "ticks": ""
            },
            "colorscale": [
             [
              0,
              "#0d0887"
             ],
             [
              0.1111111111111111,
              "#46039f"
             ],
             [
              0.2222222222222222,
              "#7201a8"
             ],
             [
              0.3333333333333333,
              "#9c179e"
             ],
             [
              0.4444444444444444,
              "#bd3786"
             ],
             [
              0.5555555555555556,
              "#d8576b"
             ],
             [
              0.6666666666666666,
              "#ed7953"
             ],
             [
              0.7777777777777778,
              "#fb9f3a"
             ],
             [
              0.8888888888888888,
              "#fdca26"
             ],
             [
              1,
              "#f0f921"
             ]
            ],
            "type": "contour"
           }
          ],
          "contourcarpet": [
           {
            "colorbar": {
             "outlinewidth": 0,
             "ticks": ""
            },
            "type": "contourcarpet"
           }
          ],
          "heatmap": [
           {
            "colorbar": {
             "outlinewidth": 0,
             "ticks": ""
            },
            "colorscale": [
             [
              0,
              "#0d0887"
             ],
             [
              0.1111111111111111,
              "#46039f"
             ],
             [
              0.2222222222222222,
              "#7201a8"
             ],
             [
              0.3333333333333333,
              "#9c179e"
             ],
             [
              0.4444444444444444,
              "#bd3786"
             ],
             [
              0.5555555555555556,
              "#d8576b"
             ],
             [
              0.6666666666666666,
              "#ed7953"
             ],
             [
              0.7777777777777778,
              "#fb9f3a"
             ],
             [
              0.8888888888888888,
              "#fdca26"
             ],
             [
              1,
              "#f0f921"
             ]
            ],
            "type": "heatmap"
           }
          ],
          "heatmapgl": [
           {
            "colorbar": {
             "outlinewidth": 0,
             "ticks": ""
            },
            "colorscale": [
             [
              0,
              "#0d0887"
             ],
             [
              0.1111111111111111,
              "#46039f"
             ],
             [
              0.2222222222222222,
              "#7201a8"
             ],
             [
              0.3333333333333333,
              "#9c179e"
             ],
             [
              0.4444444444444444,
              "#bd3786"
             ],
             [
              0.5555555555555556,
              "#d8576b"
             ],
             [
              0.6666666666666666,
              "#ed7953"
             ],
             [
              0.7777777777777778,
              "#fb9f3a"
             ],
             [
              0.8888888888888888,
              "#fdca26"
             ],
             [
              1,
              "#f0f921"
             ]
            ],
            "type": "heatmapgl"
           }
          ],
          "histogram": [
           {
            "marker": {
             "pattern": {
              "fillmode": "overlay",
              "size": 10,
              "solidity": 0.2
             }
            },
            "type": "histogram"
           }
          ],
          "histogram2d": [
           {
            "colorbar": {
             "outlinewidth": 0,
             "ticks": ""
            },
            "colorscale": [
             [
              0,
              "#0d0887"
             ],
             [
              0.1111111111111111,
              "#46039f"
             ],
             [
              0.2222222222222222,
              "#7201a8"
             ],
             [
              0.3333333333333333,
              "#9c179e"
             ],
             [
              0.4444444444444444,
              "#bd3786"
             ],
             [
              0.5555555555555556,
              "#d8576b"
             ],
             [
              0.6666666666666666,
              "#ed7953"
             ],
             [
              0.7777777777777778,
              "#fb9f3a"
             ],
             [
              0.8888888888888888,
              "#fdca26"
             ],
             [
              1,
              "#f0f921"
             ]
            ],
            "type": "histogram2d"
           }
          ],
          "histogram2dcontour": [
           {
            "colorbar": {
             "outlinewidth": 0,
             "ticks": ""
            },
            "colorscale": [
             [
              0,
              "#0d0887"
             ],
             [
              0.1111111111111111,
              "#46039f"
             ],
             [
              0.2222222222222222,
              "#7201a8"
             ],
             [
              0.3333333333333333,
              "#9c179e"
             ],
             [
              0.4444444444444444,
              "#bd3786"
             ],
             [
              0.5555555555555556,
              "#d8576b"
             ],
             [
              0.6666666666666666,
              "#ed7953"
             ],
             [
              0.7777777777777778,
              "#fb9f3a"
             ],
             [
              0.8888888888888888,
              "#fdca26"
             ],
             [
              1,
              "#f0f921"
             ]
            ],
            "type": "histogram2dcontour"
           }
          ],
          "mesh3d": [
           {
            "colorbar": {
             "outlinewidth": 0,
             "ticks": ""
            },
            "type": "mesh3d"
           }
          ],
          "parcoords": [
           {
            "line": {
             "colorbar": {
              "outlinewidth": 0,
              "ticks": ""
             }
            },
            "type": "parcoords"
           }
          ],
          "pie": [
           {
            "automargin": true,
            "type": "pie"
           }
          ],
          "scatter": [
           {
            "fillpattern": {
             "fillmode": "overlay",
             "size": 10,
             "solidity": 0.2
            },
            "type": "scatter"
           }
          ],
          "scatter3d": [
           {
            "line": {
             "colorbar": {
              "outlinewidth": 0,
              "ticks": ""
             }
            },
            "marker": {
             "colorbar": {
              "outlinewidth": 0,
              "ticks": ""
             }
            },
            "type": "scatter3d"
           }
          ],
          "scattercarpet": [
           {
            "marker": {
             "colorbar": {
              "outlinewidth": 0,
              "ticks": ""
             }
            },
            "type": "scattercarpet"
           }
          ],
          "scattergeo": [
           {
            "marker": {
             "colorbar": {
              "outlinewidth": 0,
              "ticks": ""
             }
            },
            "type": "scattergeo"
           }
          ],
          "scattergl": [
           {
            "marker": {
             "colorbar": {
              "outlinewidth": 0,
              "ticks": ""
             }
            },
            "type": "scattergl"
           }
          ],
          "scattermapbox": [
           {
            "marker": {
             "colorbar": {
              "outlinewidth": 0,
              "ticks": ""
             }
            },
            "type": "scattermapbox"
           }
          ],
          "scatterpolar": [
           {
            "marker": {
             "colorbar": {
              "outlinewidth": 0,
              "ticks": ""
             }
            },
            "type": "scatterpolar"
           }
          ],
          "scatterpolargl": [
           {
            "marker": {
             "colorbar": {
              "outlinewidth": 0,
              "ticks": ""
             }
            },
            "type": "scatterpolargl"
           }
          ],
          "scatterternary": [
           {
            "marker": {
             "colorbar": {
              "outlinewidth": 0,
              "ticks": ""
             }
            },
            "type": "scatterternary"
           }
          ],
          "surface": [
           {
            "colorbar": {
             "outlinewidth": 0,
             "ticks": ""
            },
            "colorscale": [
             [
              0,
              "#0d0887"
             ],
             [
              0.1111111111111111,
              "#46039f"
             ],
             [
              0.2222222222222222,
              "#7201a8"
             ],
             [
              0.3333333333333333,
              "#9c179e"
             ],
             [
              0.4444444444444444,
              "#bd3786"
             ],
             [
              0.5555555555555556,
              "#d8576b"
             ],
             [
              0.6666666666666666,
              "#ed7953"
             ],
             [
              0.7777777777777778,
              "#fb9f3a"
             ],
             [
              0.8888888888888888,
              "#fdca26"
             ],
             [
              1,
              "#f0f921"
             ]
            ],
            "type": "surface"
           }
          ],
          "table": [
           {
            "cells": {
             "fill": {
              "color": "#EBF0F8"
             },
             "line": {
              "color": "white"
             }
            },
            "header": {
             "fill": {
              "color": "#C8D4E3"
             },
             "line": {
              "color": "white"
             }
            },
            "type": "table"
           }
          ]
         },
         "layout": {
          "annotationdefaults": {
           "arrowcolor": "#2a3f5f",
           "arrowhead": 0,
           "arrowwidth": 1
          },
          "autotypenumbers": "strict",
          "coloraxis": {
           "colorbar": {
            "outlinewidth": 0,
            "ticks": ""
           }
          },
          "colorscale": {
           "diverging": [
            [
             0,
             "#8e0152"
            ],
            [
             0.1,
             "#c51b7d"
            ],
            [
             0.2,
             "#de77ae"
            ],
            [
             0.3,
             "#f1b6da"
            ],
            [
             0.4,
             "#fde0ef"
            ],
            [
             0.5,
             "#f7f7f7"
            ],
            [
             0.6,
             "#e6f5d0"
            ],
            [
             0.7,
             "#b8e186"
            ],
            [
             0.8,
             "#7fbc41"
            ],
            [
             0.9,
             "#4d9221"
            ],
            [
             1,
             "#276419"
            ]
           ],
           "sequential": [
            [
             0,
             "#0d0887"
            ],
            [
             0.1111111111111111,
             "#46039f"
            ],
            [
             0.2222222222222222,
             "#7201a8"
            ],
            [
             0.3333333333333333,
             "#9c179e"
            ],
            [
             0.4444444444444444,
             "#bd3786"
            ],
            [
             0.5555555555555556,
             "#d8576b"
            ],
            [
             0.6666666666666666,
             "#ed7953"
            ],
            [
             0.7777777777777778,
             "#fb9f3a"
            ],
            [
             0.8888888888888888,
             "#fdca26"
            ],
            [
             1,
             "#f0f921"
            ]
           ],
           "sequentialminus": [
            [
             0,
             "#0d0887"
            ],
            [
             0.1111111111111111,
             "#46039f"
            ],
            [
             0.2222222222222222,
             "#7201a8"
            ],
            [
             0.3333333333333333,
             "#9c179e"
            ],
            [
             0.4444444444444444,
             "#bd3786"
            ],
            [
             0.5555555555555556,
             "#d8576b"
            ],
            [
             0.6666666666666666,
             "#ed7953"
            ],
            [
             0.7777777777777778,
             "#fb9f3a"
            ],
            [
             0.8888888888888888,
             "#fdca26"
            ],
            [
             1,
             "#f0f921"
            ]
           ]
          },
          "colorway": [
           "#636efa",
           "#EF553B",
           "#00cc96",
           "#ab63fa",
           "#FFA15A",
           "#19d3f3",
           "#FF6692",
           "#B6E880",
           "#FF97FF",
           "#FECB52"
          ],
          "font": {
           "color": "#2a3f5f"
          },
          "geo": {
           "bgcolor": "white",
           "lakecolor": "white",
           "landcolor": "#E5ECF6",
           "showlakes": true,
           "showland": true,
           "subunitcolor": "white"
          },
          "hoverlabel": {
           "align": "left"
          },
          "hovermode": "closest",
          "mapbox": {
           "style": "light"
          },
          "paper_bgcolor": "white",
          "plot_bgcolor": "#E5ECF6",
          "polar": {
           "angularaxis": {
            "gridcolor": "white",
            "linecolor": "white",
            "ticks": ""
           },
           "bgcolor": "#E5ECF6",
           "radialaxis": {
            "gridcolor": "white",
            "linecolor": "white",
            "ticks": ""
           }
          },
          "scene": {
           "xaxis": {
            "backgroundcolor": "#E5ECF6",
            "gridcolor": "white",
            "gridwidth": 2,
            "linecolor": "white",
            "showbackground": true,
            "ticks": "",
            "zerolinecolor": "white"
           },
           "yaxis": {
            "backgroundcolor": "#E5ECF6",
            "gridcolor": "white",
            "gridwidth": 2,
            "linecolor": "white",
            "showbackground": true,
            "ticks": "",
            "zerolinecolor": "white"
           },
           "zaxis": {
            "backgroundcolor": "#E5ECF6",
            "gridcolor": "white",
            "gridwidth": 2,
            "linecolor": "white",
            "showbackground": true,
            "ticks": "",
            "zerolinecolor": "white"
           }
          },
          "shapedefaults": {
           "line": {
            "color": "#2a3f5f"
           }
          },
          "ternary": {
           "aaxis": {
            "gridcolor": "white",
            "linecolor": "white",
            "ticks": ""
           },
           "baxis": {
            "gridcolor": "white",
            "linecolor": "white",
            "ticks": ""
           },
           "bgcolor": "#E5ECF6",
           "caxis": {
            "gridcolor": "white",
            "linecolor": "white",
            "ticks": ""
           }
          },
          "title": {
           "x": 0.05
          },
          "xaxis": {
           "automargin": true,
           "gridcolor": "white",
           "linecolor": "white",
           "ticks": "",
           "title": {
            "standoff": 15
           },
           "zerolinecolor": "white",
           "zerolinewidth": 2
          },
          "yaxis": {
           "automargin": true,
           "gridcolor": "white",
           "linecolor": "white",
           "ticks": "",
           "title": {
            "standoff": 15
           },
           "zerolinecolor": "white",
           "zerolinewidth": 2
          }
         }
        },
        "xaxis": {
         "anchor": "y",
         "domain": [
          0,
          1
         ]
        },
        "yaxis": {
         "anchor": "x",
         "domain": [
          0,
          1
         ]
        }
       }
      }
     },
     "metadata": {},
     "output_type": "display_data"
    }
   ],
   "source": [
    "x, y, z, p = read_xypzdata(\"data/tmp43\")\n",
    "\n",
    "func = LeastSquare2D(x, y, z, p, 1)\n",
    "\n",
    "x_pred = np.linspace(min(x), max(x), 40)\n",
    "y_pred = np.linspace(min(y), max(y), 40)\n",
    "z_graph = [[func(xi, yi) for xi in x_pred]for yi in y_pred]\n",
    "\n",
    "fig = px.scatter_3d(x=x, y=y, z=z)\n",
    "fig.add_trace(go.Surface(x=x_pred, y=y_pred, z=z_graph))\n",
    "fig.show()"
   ]
  },
  {
   "cell_type": "code",
   "execution_count": 41,
   "metadata": {},
   "outputs": [
    {
     "data": {
      "application/vnd.plotly.v1+json": {
       "config": {
        "plotlyServerURL": "https://plot.ly"
       },
       "data": [
        {
         "hovertemplate": "x=%{x}<br>y=%{y}<br>z=%{z}<extra></extra>",
         "legendgroup": "",
         "marker": {
          "color": "#636efa",
          "symbol": "circle"
         },
         "mode": "markers",
         "name": "",
         "scene": "scene",
         "showlegend": false,
         "type": "scatter3d",
         "x": [
          -1,
          0,
          1,
          2,
          -1,
          0,
          1,
          2,
          -1,
          0,
          1,
          2,
          -1,
          0,
          1,
          2,
          -1,
          0,
          1,
          2
         ],
         "y": [
          -2,
          -2,
          -2,
          -2,
          -1,
          -1,
          -1,
          -1,
          0,
          0,
          0,
          0,
          1,
          1,
          1,
          1,
          2,
          2,
          2,
          2
         ],
         "z": [
          8.13,
          7.5,
          5.78,
          1.11,
          2.13,
          1.5,
          -0.22,
          -4.89,
          0.13,
          -0.5,
          -2.22,
          -6.89,
          2.13,
          1.5,
          -0.22,
          -4.89,
          8.13,
          7.5,
          5.78,
          1.11
         ]
        },
        {
         "type": "surface",
         "x": [
          -1,
          -0.9230769230769231,
          -0.8461538461538461,
          -0.7692307692307692,
          -0.6923076923076923,
          -0.6153846153846154,
          -0.5384615384615384,
          -0.46153846153846145,
          -0.3846153846153846,
          -0.3076923076923077,
          -0.23076923076923073,
          -0.15384615384615374,
          -0.07692307692307687,
          0,
          0.0769230769230771,
          0.15384615384615397,
          0.23076923076923084,
          0.3076923076923077,
          0.3846153846153846,
          0.4615384615384617,
          0.5384615384615385,
          0.6153846153846154,
          0.6923076923076925,
          0.7692307692307694,
          0.8461538461538463,
          0.9230769230769231,
          1,
          1.076923076923077,
          1.1538461538461542,
          1.2307692307692308,
          1.307692307692308,
          1.3846153846153846,
          1.4615384615384617,
          1.5384615384615388,
          1.6153846153846154,
          1.6923076923076925,
          1.7692307692307692,
          1.8461538461538463,
          1.9230769230769234,
          2
         ],
         "y": [
          -2,
          -1.8974358974358974,
          -1.794871794871795,
          -1.6923076923076923,
          -1.5897435897435899,
          -1.4871794871794872,
          -1.3846153846153846,
          -1.282051282051282,
          -1.1794871794871795,
          -1.076923076923077,
          -0.9743589743589745,
          -0.8717948717948718,
          -0.7692307692307692,
          -0.6666666666666667,
          -0.5641025641025641,
          -0.4615384615384617,
          -0.35897435897435903,
          -0.2564102564102564,
          -0.15384615384615397,
          -0.05128205128205132,
          0.0512820512820511,
          0.15384615384615374,
          0.2564102564102564,
          0.35897435897435903,
          0.4615384615384617,
          0.5641025641025639,
          0.6666666666666665,
          0.7692307692307692,
          0.8717948717948718,
          0.9743589743589745,
          1.0769230769230766,
          1.1794871794871793,
          1.282051282051282,
          1.3846153846153846,
          1.4871794871794872,
          1.5897435897435894,
          1.692307692307692,
          1.7948717948717947,
          1.8974358974358974,
          2
         ],
         "z": [
          [
           5.586743031550888,
           5.365336267139719,
           5.143929502728549,
           4.9225227383173795,
           4.701115973906211,
           4.479709209495042,
           4.2583024450838725,
           4.036895680672703,
           3.8154889162615344,
           3.5940821518503654,
           3.372675387439196,
           3.1512686230280265,
           2.9298618586168574,
           2.7084550942056884,
           2.4870483297945185,
           2.2656415653833495,
           2.0442348009721805,
           1.8228280365610114,
           1.6014212721498426,
           1.380014507738673,
           1.158607743327504,
           0.9372009789163347,
           0.715794214505165,
           0.494387450093996,
           0.27298068568282696,
           0.05157392127165794,
           -0.16983284313951108,
           -0.39123960755068055,
           -0.6126463719618505,
           -0.834053136373019,
           -1.0554599007841885,
           -1.276866665195357,
           -1.4982734296065265,
           -1.7196801940176965,
           -1.9410869584288646,
           -2.1624937228400345,
           -2.3839004872512026,
           -2.6053072516623725,
           -2.8267140160735424,
           -3.0481207804847106
          ],
          [
           5.594070033350068,
           5.372663268938899,
           5.15125650452773,
           4.929849740116561,
           4.708442975705392,
           4.487036211294223,
           4.265629446883053,
           4.044222682471884,
           3.822815918060715,
           3.601409153649546,
           3.3800023892383764,
           3.158595624827207,
           2.937188860416038,
           2.715782096004869,
           2.494375331593699,
           2.27296856718253,
           2.051561802771361,
           1.8301550383601919,
           1.608748273949023,
           1.3873415095378534,
           1.1659347451266844,
           0.9445279807155151,
           0.7231212163043454,
           0.5017144518931764,
           0.2803076874820074,
           0.058900923070838385,
           -0.16250584134033064,
           -0.3839126057515001,
           -0.60531937016267,
           -0.8267261345738386,
           -1.048132898985008,
           -1.2695396633961766,
           -1.490946427807346,
           -1.712353192218516,
           -1.9337599566296841,
           -2.155166721040854,
           -2.376573485452022,
           -2.597980249863192,
           -2.819387014274362,
           -3.04079377868553
          ],
          [
           5.601397035149249,
           5.37999027073808,
           5.15858350632691,
           4.93717674191574,
           4.715769977504572,
           4.494363213093403,
           4.272956448682233,
           4.051549684271064,
           3.8301429198598953,
           3.6087361554487263,
           3.387329391037557,
           3.1659226266263873,
           2.9445158622152183,
           2.7231090978040493,
           2.5017023333928794,
           2.2802955689817104,
           2.0588888045705414,
           1.8374820401593723,
           1.6160752757482035,
           1.3946685113370338,
           1.1732617469258648,
           0.9518549825146956,
           0.7304482181035259,
           0.5090414536923569,
           0.28763468928118785,
           0.06622792487001883,
           -0.1551788395411502,
           -0.37658560395231966,
           -0.5979923683634896,
           -0.8193991327746581,
           -1.0408058971858276,
           -1.2622126615969962,
           -1.4836194260081657,
           -1.7050261904193356,
           -1.9264329548305037,
           -2.1478397192416736,
           -2.3692464836528417,
           -2.5906532480640116,
           -2.8120600124751816,
           -3.0334667768863497
          ],
          [
           5.608724036948429,
           5.38731727253726,
           5.165910508126091,
           4.944503743714922,
           4.723096979303753,
           4.501690214892584,
           4.280283450481414,
           4.058876686070245,
           3.8374699216590757,
           3.6160631572479067,
           3.3946563928367373,
           3.173249628425568,
           2.9518428640143988,
           2.7304360996032297,
           2.50902933519206,
           2.287622570780891,
           2.066215806369722,
           1.8448090419585528,
           1.623402277547384,
           1.4019955131362143,
           1.1805887487250453,
           0.959181984313876,
           0.7377752199027063,
           0.5163684554915373,
           0.2949616910803683,
           0.07355492666919927,
           -0.14785183774196975,
           -0.3692586021531392,
           -0.5906653665643091,
           -0.8120721309754777,
           -1.0334788953866472,
           -1.2548856597978157,
           -1.4762924242089852,
           -1.6976991886201551,
           -1.9191059530313233,
           -2.140512717442493,
           -2.3619194818536613,
           -2.583326246264831,
           -2.804733010676001,
           -3.0261397750871692
          ],
          [
           5.61605103874761,
           5.394644274336441,
           5.173237509925271,
           4.951830745514101,
           4.730423981102933,
           4.509017216691764,
           4.287610452280594,
           4.066203687869425,
           3.844796923458256,
           3.623390159047087,
           3.4019833946359177,
           3.1805766302247482,
           2.959169865813579,
           2.73776310140241,
           2.5163563369912403,
           2.2949495725800713,
           2.0735428081689022,
           1.8521360437577332,
           1.6307292793465644,
           1.4093225149353947,
           1.1879157505242257,
           0.9665089861130565,
           0.7451022217018868,
           0.5236954572907178,
           0.30228869287954874,
           0.08088192846837972,
           -0.1405248359427893,
           -0.36193160035395877,
           -0.5833383647651287,
           -0.8047451291762973,
           -1.0261518935874667,
           -1.2475586579986353,
           -1.4689654224098048,
           -1.6903721868209747,
           -1.9117789512321428,
           -2.1331857156433127,
           -2.354592480054481,
           -2.5759992444656508,
           -2.7974060088768207,
           -3.018812773287989
          ],
          [
           5.62337804054679,
           5.401971276135621,
           5.180564511724452,
           4.959157747313283,
           4.737750982902114,
           4.516344218490945,
           4.294937454079775,
           4.073530689668606,
           3.8521239252574366,
           3.6307171608462676,
           3.409310396435098,
           3.1879036320239287,
           2.9664968676127597,
           2.7450901032015906,
           2.5236833387904207,
           2.3022765743792517,
           2.0808698099680827,
           1.8594630455569137,
           1.6380562811457449,
           1.4166495167345752,
           1.1952427523234062,
           0.9738359879122369,
           0.7524292235010672,
           0.5310224590898982,
           0.3096156946787292,
           0.08820893026756016,
           -0.13319783414360886,
           -0.3546045985547783,
           -0.5760113629659482,
           -0.7974181273771168,
           -1.0188248917882863,
           -1.2402316561994549,
           -1.4616384206106243,
           -1.6830451850217942,
           -1.9044519494329624,
           -2.1258587138441323,
           -2.3472654782553004,
           -2.5686722426664703,
           -2.7900790070776402,
           -3.0114857714888084
          ],
          [
           5.630705042345971,
           5.409298277934802,
           5.187891513523632,
           4.966484749112462,
           4.745077984701294,
           4.523671220290125,
           4.302264455878955,
           4.080857691467786,
           3.859450927056617,
           3.638044162645448,
           3.4166373982342786,
           3.195230633823109,
           2.97382386941194,
           2.752417105000771,
           2.531010340589601,
           2.309603576178432,
           2.088196811767263,
           1.866790047356094,
           1.6453832829449253,
           1.4239765185337556,
           1.2025697541225866,
           0.9811629897114174,
           0.7597562253002477,
           0.5383494608890786,
           0.3169426964779096,
           0.0955359320667406,
           -0.12587083234442842,
           -0.3472775967555979,
           -0.5686843611667678,
           -0.7900911255779364,
           -1.0114978899891058,
           -1.2329046544002744,
           -1.4543114188114439,
           -1.6757181832226138,
           -1.897124947633782,
           -2.118531712044952,
           -2.33993847645612,
           -2.56134524086729,
           -2.78275200527846,
           -3.004158769689628
          ],
          [
           5.638032044145151,
           5.416625279733982,
           5.1952185153228125,
           4.9738117509116435,
           4.7524049865004745,
           4.5309982220893055,
           4.309591457678136,
           4.0881846932669665,
           3.8667779288557975,
           3.6453711644446285,
           3.423964400033459,
           3.2025576356222896,
           2.9811508712111205,
           2.7597441067999515,
           2.5383373423887816,
           2.3169305779776126,
           2.0955238135664436,
           1.8741170491552746,
           1.6527102847441058,
           1.431303520332936,
           1.209896755921767,
           0.9884899915105978,
           0.7670832270994281,
           0.5456764626882591,
           0.32426969827709007,
           0.10286293386592105,
           -0.11854383054524797,
           -0.33995059495641744,
           -0.5613573593675873,
           -0.7827641237787559,
           -1.0041708881899254,
           -1.225577652601094,
           -1.4469844170122634,
           -1.6683911814234333,
           -1.8897979458346015,
           -2.1112047102457714,
           -2.3326114746569395,
           -2.5540182390681094,
           -2.7754250034792793,
           -2.9968317678904475
          ],
          [
           5.645359045944332,
           5.423952281533163,
           5.202545517121993,
           4.981138752710823,
           4.759731988299655,
           4.538325223888486,
           4.316918459477316,
           4.095511695066147,
           3.874104930654978,
           3.652698166243809,
           3.4312914018326395,
           3.20988463742147,
           2.988477873010301,
           2.767071108599132,
           2.545664344187962,
           2.324257579776793,
           2.102850815365624,
           1.881444050954455,
           1.6600372865432862,
           1.4386305221321165,
           1.2172237577209475,
           0.9958169933097782,
           0.7744102288986086,
           0.5530034644874395,
           0.3315967000762705,
           0.11018993566510149,
           -0.11121682874606753,
           -0.332623593157237,
           -0.5540303575684069,
           -0.7754371219795755,
           -0.996843886390745,
           -1.2182506508019135,
           -1.439657415213083,
           -1.661064179624253,
           -1.882470944035421,
           -2.103877708446591,
           -2.325284472857759,
           -2.546691237268929,
           -2.768098001680099,
           -2.989504766091267
          ],
          [
           5.6526860477435115,
           5.4312792833323424,
           5.209872518921173,
           4.988465754510004,
           4.767058990098835,
           4.545652225687666,
           4.3242454612764964,
           4.102838696865327,
           3.8814319324541584,
           3.6600251680429894,
           3.43861840363182,
           3.2172116392206505,
           2.9958048748094814,
           2.7743981103983124,
           2.5529913459871425,
           2.3315845815759735,
           2.1101778171648045,
           1.8887710527536354,
           1.6673642883424666,
           1.445957523931297,
           1.224550759520128,
           1.0031439951089587,
           0.781737230697789,
           0.56033046628662,
           0.33892370187545096,
           0.11751693746428193,
           -0.10388982694688709,
           -0.32529659135805655,
           -0.5467033557692265,
           -0.768110120180395,
           -0.9895168845915645,
           -1.210923649002733,
           -1.4323304134139025,
           -1.6537371778250725,
           -1.8751439422362406,
           -2.0965507066474105,
           -2.3179574710585786,
           -2.5393642354697485,
           -2.7607709998809185,
           -2.9821777642920866
          ],
          [
           5.660013049542693,
           5.438606285131524,
           5.217199520720354,
           4.995792756309184,
           4.774385991898016,
           4.552979227486847,
           4.331572463075677,
           4.110165698664508,
           3.888758934253339,
           3.66735216984217,
           3.4459454054310004,
           3.224538641019831,
           3.003131876608662,
           2.781725112197493,
           2.560318347786323,
           2.338911583375154,
           2.117504818963985,
           1.8960980545528159,
           1.674691290141647,
           1.4532845257304774,
           1.2318777613193084,
           1.0104709969081391,
           0.7890642324969694,
           0.5676574680858004,
           0.3462507036746314,
           0.12484393926346238,
           -0.09656282514770664,
           -0.3179695895588761,
           -0.539376353970046,
           -0.7607831183812146,
           -0.9821898827923841,
           -1.2035966472035526,
           -1.425003411614722,
           -1.646410176025892,
           -1.8678169404370601,
           -2.08922370484823,
           -2.310630469259398,
           -2.532037233670568,
           -2.753443998081738,
           -2.974850762492906
          ],
          [
           5.667340051341872,
           5.445933286930703,
           5.224526522519534,
           5.003119758108365,
           4.781712993697196,
           4.560306229286027,
           4.338899464874857,
           4.117492700463688,
           3.8960859360525193,
           3.6746791716413503,
           3.453272407230181,
           3.2318656428190113,
           3.0104588784078423,
           2.7890521139966733,
           2.5676453495855034,
           2.3462385851743344,
           2.1248318207631653,
           1.9034250563519963,
           1.6820182919408275,
           1.4606115275296578,
           1.2392047631184888,
           1.0177979987073196,
           0.7963912342961499,
           0.5749844698849809,
           0.35357770547381184,
           0.13217094106264282,
           -0.0892358233485262,
           -0.31064258775969567,
           -0.5320493521708656,
           -0.7534561165820342,
           -0.9748628809932036,
           -1.1962696454043722,
           -1.4176764098155417,
           -1.6390831742267116,
           -1.8604899386378797,
           -2.0818967030490496,
           -2.3033034674602177,
           -2.5247102318713877,
           -2.7461169962825576,
           -2.9675237606937257
          ],
          [
           5.674667053141054,
           5.453260288729885,
           5.231853524318715,
           5.010446759907545,
           4.789039995496377,
           4.567633231085208,
           4.346226466674038,
           4.124819702262869,
           3.9034129378516997,
           3.6820061734405307,
           3.4605994090293613,
           3.239192644618192,
           3.0177858802070228,
           2.7963791157958537,
           2.574972351384684,
           2.353565586973515,
           2.132158822562346,
           1.9107520581511768,
           1.689345293740008,
           1.4679385293288383,
           1.2465317649176693,
           1.0251250005065,
           0.8037182360953303,
           0.5823114716841613,
           0.3609047072729923,
           0.13949794286182327,
           -0.08190882154934576,
           -0.3033155859605152,
           -0.5247223503716851,
           -0.7461291147828537,
           -0.9675358791940232,
           -1.1889426436051918,
           -1.4103494080163612,
           -1.6317561724275311,
           -1.8531629368386993,
           -2.074569701249869,
           -2.2959764656610373,
           -2.517383230072207,
           -2.738789994483377,
           -2.9601967588945453
          ],
          [
           5.681994054940233,
           5.460587290529064,
           5.239180526117895,
           5.017773761706726,
           4.796366997295557,
           4.574960232884388,
           4.353553468473218,
           4.132146704062049,
           3.91073993965088,
           3.689333175239711,
           3.4679264108285417,
           3.2465196464173722,
           3.025112882006203,
           2.803706117595034,
           2.5822993531838643,
           2.3608925887726953,
           2.1394858243615262,
           1.9180790599503572,
           1.6966722955391884,
           1.4752655311280187,
           1.2538587667168497,
           1.0324520023056805,
           0.8110452378945108,
           0.5896384734833418,
           0.36823170907217273,
           0.1468249446610037,
           -0.07458181975016531,
           -0.2959885841613348,
           -0.5173953485725047,
           -0.7388021129836733,
           -0.9602088773948427,
           -1.1816156418060113,
           -1.4030224062171808,
           -1.6244291706283507,
           -1.8458359350395188,
           -2.0672426994506887,
           -2.288649463861857,
           -2.5100562282730268,
           -2.7314629926841967,
           -2.952869757095365
          ],
          [
           5.689321056739415,
           5.4679142923282456,
           5.246507527917076,
           5.025100763505906,
           4.803693999094738,
           4.582287234683569,
           4.360880470272399,
           4.13947370586123,
           3.9180669414500606,
           3.6966601770388916,
           3.475253412627722,
           3.2538466482165527,
           3.0324398838053837,
           2.8110331193942146,
           2.5896263549830447,
           2.3682195905718757,
           2.1468128261607067,
           1.9254060617495377,
           1.7039992973383689,
           1.4825925329271992,
           1.2611857685160301,
           1.039779004104861,
           0.8183722396936912,
           0.5969654752825222,
           0.3755587108713532,
           0.15415194646018415,
           -0.06725481795098487,
           -0.28866158236215433,
           -0.5100683467733242,
           -0.7314751111844928,
           -0.9528818755956623,
           -1.1742886400068309,
           -1.3956954044180003,
           -1.6171021688291702,
           -1.8385089332403384,
           -2.0599156976515083,
           -2.2813224620626764,
           -2.5027292264738463,
           -2.7241359908850162,
           -2.9455427552961844
          ],
          [
           5.696648058538594,
           5.475241294127425,
           5.253834529716256,
           5.032427765305087,
           4.811021000893918,
           4.589614236482749,
           4.368207472071579,
           4.14680070766041,
           3.925393943249241,
           3.703987178838072,
           3.4825804144269026,
           3.261173650015733,
           3.039766885604564,
           2.818360121193395,
           2.596953356782225,
           2.375546592371056,
           2.154139827959887,
           1.932733063548718,
           1.7113262991375493,
           1.4899195347263796,
           1.2685127703152106,
           1.0471060059040413,
           0.8256992414928717,
           0.6042924770817026,
           0.3828857126705336,
           0.1614789482593646,
           -0.059927816151804425,
           -0.2813345805629739,
           -0.5027413449741438,
           -0.7241481093853124,
           -0.9455548737964818,
           -1.1669616382076504,
           -1.3883684026188199,
           -1.6097751670299898,
           -1.831181931441158,
           -2.052588695852328,
           -2.273995460263496,
           -2.495402224674666,
           -2.716808989085836,
           -2.938215753497004
          ],
          [
           5.7039750603377755,
           5.482568295926606,
           5.2611615315154365,
           5.039754767104267,
           4.8183480026930985,
           4.5969412382819295,
           4.3755344738707596,
           4.1541277094595905,
           3.9327209450484215,
           3.7113141806372525,
           3.489907416226083,
           3.2685006518149136,
           3.0470938874037445,
           2.8256871229925755,
           2.6042803585814056,
           2.3828735941702366,
           2.1614668297590676,
           1.9400600653478985,
           1.7186533009367297,
           1.49724653652556,
           1.275839772114391,
           1.0544330077032218,
           0.8330262432920521,
           0.6116194788808831,
           0.39021271446971406,
           0.16880595005854504,
           -0.05260081435262398,
           -0.27400757876379345,
           -0.49541434317496336,
           -0.7168211075861319,
           -0.9382278719973014,
           -1.15963463640847,
           -1.3810414008196394,
           -1.6024481652308094,
           -1.8238549296419775,
           -2.0452616940531474,
           -2.2666684584643155,
           -2.4880752228754854,
           -2.7094819872866553,
           -2.9308887516978235
          ],
          [
           5.711302062136955,
           5.489895297725786,
           5.268488533314617,
           5.047081768903448,
           4.825675004492279,
           4.60426824008111,
           4.38286147566994,
           4.161454711258771,
           3.940047946847602,
           3.718641182436433,
           3.4972344180252635,
           3.275827653614094,
           3.054420889202925,
           2.833014124791756,
           2.611607360380586,
           2.390200595969417,
           2.168793831558248,
           1.947387067147079,
           1.7259803027359102,
           1.5045735383247405,
           1.2831667739135715,
           1.0617600095024022,
           0.8403532450912325,
           0.6189464806800635,
           0.3975397162688945,
           0.17613295185772548,
           -0.04527381255344354,
           -0.266680576964613,
           -0.4880873413757829,
           -0.7094941057869515,
           -0.930900870198121,
           -1.1523076346092895,
           -1.373714399020459,
           -1.595121163431629,
           -1.816527927842797,
           -2.037934692253967,
           -2.259341456665135,
           -2.480748221076305,
           -2.702154985487475,
           -2.923561749898643
          ],
          [
           5.718629063936136,
           5.497222299524967,
           5.275815535113797,
           5.0544087707026275,
           4.833002006291459,
           4.61159524188029,
           4.39018847746912,
           4.168781713057951,
           3.9473749486467824,
           3.7259681842356134,
           3.504561419824444,
           3.2831546554132744,
           3.0617478910021054,
           2.8403411265909364,
           2.6189343621797665,
           2.3975275977685975,
           2.1761208333574285,
           1.9547140689462594,
           1.7333073045350906,
           1.511900540123921,
           1.290493775712752,
           1.0690870113015827,
           0.847680246890413,
           0.626273482479244,
           0.40486671806807495,
           0.18345995365690593,
           -0.037946810754263094,
           -0.25935357516543256,
           -0.48076033957660247,
           -0.702167103987771,
           -0.9235738683989405,
           -1.144980632810109,
           -1.3663873972212786,
           -1.5877941616324485,
           -1.8092009260436166,
           -2.0306076904547865,
           -2.2520144548659546,
           -2.4734212192771245,
           -2.6948279836882945,
           -2.9162347480994626
          ],
          [
           5.725956065735316,
           5.504549301324147,
           5.283142536912978,
           5.061735772501809,
           4.84032900809064,
           4.618922243679471,
           4.397515479268301,
           4.176108714857132,
           3.954701950445963,
           3.733295186034794,
           3.5118884216236244,
           3.290481657212455,
           3.069074892801286,
           2.847668128390117,
           2.626261363978947,
           2.404854599567778,
           2.183447835156609,
           1.9620410707454399,
           1.740634306334271,
           1.5192275419231014,
           1.2978207775119324,
           1.0764140131007631,
           0.8550072486895934,
           0.6336004842784244,
           0.4121937198672554,
           0.19078695545608637,
           -0.03061980895508265,
           -0.2520265733662521,
           -0.473433337777422,
           -0.6948401021885906,
           -0.9162468665997601,
           -1.1376536310109286,
           -1.359060395422098,
           -1.580467159833268,
           -1.8018739242444362,
           -2.023280688655606,
           -2.244687453066774,
           -2.466094217477944,
           -2.687500981889114,
           -2.908907746300282
          ],
          [
           5.733283067534497,
           5.511876303123328,
           5.290469538712158,
           5.069062774300988,
           4.84765600988982,
           4.626249245478651,
           4.404842481067481,
           4.183435716656312,
           3.9620289522451433,
           3.7406221878339743,
           3.519215423422805,
           3.2978086590116353,
           3.0764018946004663,
           2.8549951301892973,
           2.6335883657781274,
           2.4121816013669584,
           2.1907748369557893,
           1.9693680725446203,
           1.7479613081334515,
           1.5265545437222818,
           1.3051477793111128,
           1.0837410148999436,
           0.8623342504887739,
           0.6409274860776049,
           0.41952072166643584,
           0.19811395725526681,
           -0.023292807155902207,
           -0.24469957156707167,
           -0.4661063359782416,
           -0.6875131003894102,
           -0.9089198648005796,
           -1.1303266292117482,
           -1.3517333936229177,
           -1.5731401580340876,
           -1.7945469224452557,
           -2.0159536868564256,
           -2.2373604512675938,
           -2.4587672156787637,
           -2.6801739800899336,
           -2.9015807445011017
          ],
          [
           5.740610069333677,
           5.519203304922508,
           5.297796540511339,
           5.07638977610017,
           4.854983011689001,
           4.633576247277832,
           4.412169482866662,
           4.190762718455493,
           3.9693559540443237,
           3.7479491896331547,
           3.5265424252219852,
           3.305135660810816,
           3.0837288963996468,
           2.8623221319884777,
           2.640915367577308,
           2.419508603166139,
           2.19810183875497,
           1.9766950743438008,
           1.755288309932632,
           1.5338815455214623,
           1.3124747811102933,
           1.091068016699124,
           0.8696612522879543,
           0.6482544878767853,
           0.4268477234656163,
           0.20544095905444726,
           -0.015965805356721763,
           -0.23737256976789123,
           -0.45877933417906114,
           -0.6801860985902297,
           -0.9015928630013992,
           -1.1229996274125678,
           -1.3444063918237372,
           -1.5658131562349071,
           -1.7872199206460753,
           -2.008626685057245,
           -2.2300334494684133,
           -2.451440213879583,
           -2.672846978290753,
           -2.8942537427019213
          ],
          [
           5.747937071132858,
           5.526530306721689,
           5.305123542310519,
           5.083716777899349,
           4.862310013488181,
           4.640903249077012,
           4.419496484665842,
           4.198089720254673,
           3.976682955843504,
           3.755276191432335,
           3.5338694270211657,
           3.3124626626099962,
           3.091055898198827,
           2.869649133787658,
           2.6482423693764883,
           2.4268356049653192,
           2.2054288405541502,
           1.9840220761429812,
           1.7626153117318124,
           1.5412085473206427,
           1.3198017829094737,
           1.0983950184983045,
           0.8769882540871348,
           0.6555814896759657,
           0.4341747252647967,
           0.2127679608536277,
           -0.008638803557541319,
           -0.23004556796871078,
           -0.4514523323798807,
           -0.6728590967910493,
           -0.8942658612022187,
           -1.1156726256133873,
           -1.3370793900245568,
           -1.5584861544357267,
           -1.7798929188468948,
           -2.0012996832580647,
           -2.222706447669233,
           -2.4441132120804028,
           -2.6655199764915727,
           -2.886926740902741
          ],
          [
           5.755264072932038,
           5.533857308520869,
           5.3124505441097,
           5.091043779698531,
           4.869637015287362,
           4.648230250876193,
           4.426823486465023,
           4.205416722053854,
           3.9840099576426846,
           3.7626031932315156,
           3.541196428820346,
           3.3197896644091767,
           3.0983828999980076,
           2.8769761355868386,
           2.6555693711756687,
           2.4341626067644997,
           2.2127558423533307,
           1.9913490779421616,
           1.7699423135309929,
           1.5485355491198232,
           1.3271287847086541,
           1.105722020297485,
           0.8843152558863152,
           0.6629084914751462,
           0.44150172706397717,
           0.22009496265280815,
           -0.0013118017583608754,
           -0.22271856616953034,
           -0.44412533058070025,
           -0.6655320949918688,
           -0.8869388594030383,
           -1.1083456238142069,
           -1.3297523882253763,
           -1.5511591526365462,
           -1.7725659170477144,
           -1.9939726814588843,
           -2.2153794458700524,
           -2.4367862102812223,
           -2.6581929746923922,
           -2.8795997391035604
          ],
          [
           5.762591074731219,
           5.54118431032005,
           5.31977754590888,
           5.09837078149771,
           4.876964017086542,
           4.655557252675373,
           4.434150488264203,
           4.212743723853034,
           3.991336959441865,
           3.769930195030696,
           3.5485234306195266,
           3.327116666208357,
           3.105709901797188,
           2.884303137386019,
           2.662896372974849,
           2.44148960856368,
           2.220082844152511,
           1.998676079741342,
           1.7772693153301733,
           1.5558625509190036,
           1.3344557865078346,
           1.1130490220966653,
           0.8916422576854957,
           0.6702354932743266,
           0.4488287288631576,
           0.2274219644519886,
           0.006015200040819568,
           -0.2153915643703499,
           -0.4367983287815198,
           -0.6582050931926884,
           -0.8796118576038578,
           -1.1010186220150264,
           -1.322425386426196,
           -1.5438321508373658,
           -1.765238915248534,
           -1.9866456796597038,
           -2.208052444070872,
           -2.429459208482042,
           -2.650865972893212,
           -2.87227273730438
          ],
          [
           5.769918076530399,
           5.5485113121192295,
           5.3271045477080605,
           5.1056977832968915,
           4.8842910188857225,
           4.6628842544745535,
           4.4414774900633835,
           4.2200707256522145,
           3.9986639612410455,
           3.7772571968298765,
           3.555850432418707,
           3.3344436680075376,
           3.1130369035963685,
           2.8916301391851995,
           2.6702233747740296,
           2.4488166103628606,
           2.2274098459516916,
           2.0060030815405225,
           1.7845963171293537,
           1.563189552718184,
           1.341782788307015,
           1.1203760238958458,
           0.8989692594846761,
           0.6775624950735071,
           0.45615573066233805,
           0.23474896625116903,
           0.013342201840000012,
           -0.20806456257116945,
           -0.42947132698233936,
           -0.6508780913935079,
           -0.8722848558046774,
           -1.093691620215846,
           -1.3150983846270154,
           -1.5365051490381854,
           -1.7579119134493535,
           -1.9793186778605234,
           -2.2007254422716915,
           -2.4221322066828614,
           -2.6435389710940314,
           -2.8649457355051995
          ],
          [
           5.77724507832958,
           5.555838313918411,
           5.334431549507241,
           5.113024785096071,
           4.891618020684903,
           4.670211256273734,
           4.448804491862564,
           4.227397727451395,
           4.005990963040226,
           3.784584198629057,
           3.5631774342178875,
           3.341770669806718,
           3.120363905395549,
           2.89895714098438,
           2.67755037657321,
           2.456143612162041,
           2.234736847750872,
           2.013330083339703,
           1.7919233189285342,
           1.5705165545173645,
           1.3491097901061955,
           1.1277030256950262,
           0.9062962612838565,
           0.6848894968726875,
           0.4634827324615185,
           0.24207596805034948,
           0.020669203639180456,
           -0.200737560771989,
           -0.4221443251831589,
           -0.6435510895943275,
           -0.864957854005497,
           -1.0863646184166655,
           -1.307771382827835,
           -1.529178147239005,
           -1.750584911650173,
           -1.971991676061343,
           -2.193398440472511,
           -2.414805204883681,
           -2.636211969294851,
           -2.857618733706019
          ],
          [
           5.7845720801287595,
           5.56316531571759,
           5.341758551306421,
           5.120351786895252,
           4.898945022484083,
           4.677538258072914,
           4.456131493661744,
           4.234724729250575,
           4.013317964839406,
           3.7919112004282374,
           3.570504436017068,
           3.3490976716058984,
           3.1276909071947294,
           2.9062841427835604,
           2.6848773783723905,
           2.4634706139612215,
           2.2420638495500524,
           2.0206570851388834,
           1.7992503207277146,
           1.577843556316545,
           1.356436791905376,
           1.1350300274942067,
           0.913623263083037,
           0.692216498671868,
           0.47080973426069894,
           0.24940296984952992,
           0.0279962054383609,
           -0.19341055897280857,
           -0.4148173233839785,
           -0.636224087795147,
           -0.8576308522063165,
           -1.079037616617485,
           -1.3004443810286546,
           -1.5218511454398245,
           -1.7432579098509926,
           -1.9646646742621625,
           -2.1860714386733306,
           -2.4074782030845006,
           -2.6288849674956705,
           -2.8502917319068386
          ],
          [
           5.791899081927941,
           5.570492317516772,
           5.349085553105602,
           5.127678788694432,
           4.906272024283264,
           4.684865259872095,
           4.463458495460925,
           4.242051731049756,
           4.020644966638587,
           3.799238202227418,
           3.5778314378162484,
           3.356424673405079,
           3.13501790899391,
           2.913611144582741,
           2.692204380171571,
           2.470797615760402,
           2.249390851349233,
           2.027984086938064,
           1.806577322526895,
           1.5851705581157254,
           1.3637637937045564,
           1.1423570292933871,
           0.9209502648822174,
           0.6995435004710484,
           0.4781367360598794,
           0.25672997164871036,
           0.03532320723754134,
           -0.18608355717362812,
           -0.40749032158479803,
           -0.6288970859959666,
           -0.8503038504071361,
           -1.0717106148183047,
           -1.2931173792294741,
           -1.514524143640644,
           -1.7359309080518122,
           -1.957337672462982,
           -2.17874443687415,
           -2.40015120128532,
           -2.62155796569649,
           -2.842964730107658
          ],
          [
           5.79922608372712,
           5.577819319315951,
           5.356412554904782,
           5.135005790493613,
           4.913599026082444,
           4.692192261671275,
           4.470785497260105,
           4.249378732848936,
           4.027971968437767,
           3.8065652040265983,
           3.585158439615429,
           3.3637516752042593,
           3.1423449107930903,
           2.9209381463819213,
           2.6995313819707514,
           2.4781246175595824,
           2.2567178531484133,
           2.0353110887372443,
           1.8139043243260755,
           1.5924975599149058,
           1.3710907955037368,
           1.1496840310925676,
           0.9282772666813979,
           0.7068705022702289,
           0.48546373785905983,
           0.2640569734478908,
           0.04265020903672179,
           -0.17875655537444768,
           -0.4001633197856176,
           -0.6215700841967862,
           -0.8429768486079556,
           -1.0643836130191242,
           -1.2857903774302937,
           -1.5071971418414636,
           -1.7286039062526317,
           -1.9500106706638016,
           -2.1714174350749698,
           -2.3928241994861397,
           -2.6142309638973096,
           -2.8356377283084777
          ],
          [
           5.806553085526302,
           5.585146321115133,
           5.363739556703963,
           5.142332792292793,
           4.920926027881625,
           4.699519263470456,
           4.478112499059286,
           4.256705734648117,
           4.035298970236948,
           3.8138922058257787,
           3.5924854414146092,
           3.3710786770034398,
           3.1496719125922708,
           2.9282651481811017,
           2.706858383769932,
           2.485451619358763,
           2.2640448549475938,
           2.0426380905364248,
           1.821231326125256,
           1.5998245617140863,
           1.3784177973029172,
           1.157011032891748,
           0.9356042684805783,
           0.7141975040694093,
           0.4927907396582403,
           0.27138397524707125,
           0.04997721083590223,
           -0.17142955357526724,
           -0.39283631798643714,
           -0.6142430823976057,
           -0.8356498468087752,
           -1.0570566112199438,
           -1.2784633756311132,
           -1.4998701400422831,
           -1.7212769044534513,
           -1.9426836688646212,
           -2.1640904332757893,
           -2.3854971976869592,
           -2.606903962098129,
           -2.8283107265092973
          ],
          [
           5.813880087325481,
           5.592473322914312,
           5.371066558503143,
           5.149659794091974,
           4.928253029680805,
           4.706846265269636,
           4.485439500858466,
           4.264032736447297,
           4.042625972036128,
           3.821219207624959,
           3.5998124432137897,
           3.37840567880262,
           3.156998914391451,
           2.935592149980282,
           2.7141853855691123,
           2.4927786211579432,
           2.271371856746774,
           2.049965092335605,
           1.8285583279244364,
           1.6071515635132667,
           1.3857447991020977,
           1.1643380346909284,
           0.9429312702797588,
           0.7215245058685897,
           0.5001177414574207,
           0.2787109770462517,
           0.057304212635082674,
           -0.1641025517760868,
           -0.3855093161872567,
           -0.6069160805984253,
           -0.8283228450095947,
           -1.0497296094207633,
           -1.2711363738319328,
           -1.4925431382431027,
           -1.7139499026542708,
           -1.9353566670654407,
           -2.156763431476609,
           -2.378170195887779,
           -2.5995769602989487,
           -2.820983724710117
          ],
          [
           5.821207089124663,
           5.5998003247134935,
           5.378393560302324,
           5.156986795891154,
           4.935580031479986,
           4.714173267068817,
           4.492766502657647,
           4.271359738246478,
           4.049952973835309,
           3.8285462094241396,
           3.60713944501297,
           3.3857326806018007,
           3.1643259161906316,
           2.9429191517794626,
           2.7215123873682927,
           2.5001056229571237,
           2.2786988585459547,
           2.0572920941347856,
           1.8358853297236168,
           1.6144785653124472,
           1.3930718009012781,
           1.171665036490109,
           0.9502582720789392,
           0.7288515076677702,
           0.5074447432566012,
           0.28603797884543214,
           0.06463121443426312,
           -0.15677554997690635,
           -0.37818231438807626,
           -0.5995890787992448,
           -0.8209958432104143,
           -1.0424026076215829,
           -1.2638093720327523,
           -1.4852161364439223,
           -1.7066229008550904,
           -1.9280296652662603,
           -2.1494364296774284,
           -2.3708431940885983,
           -2.5922499584997682,
           -2.8136567229109364
          ],
          [
           5.828534090923842,
           5.607127326512673,
           5.385720562101504,
           5.164313797690335,
           4.942907033279166,
           4.721500268867997,
           4.500093504456827,
           4.278686740045658,
           4.057279975634489,
           3.83587321122332,
           3.6144664468121506,
           3.393059682400981,
           3.171652917989812,
           2.950246153578643,
           2.728839389167473,
           2.507432624756304,
           2.286025860345135,
           2.064619095933966,
           1.8432123315227973,
           1.6218055671116276,
           1.4003988027004586,
           1.1789920382892893,
           0.9575852738781196,
           0.7361785094669506,
           0.5147717450557816,
           0.2933649806446126,
           0.07195821623344356,
           -0.1494485481777259,
           -0.3708553125888958,
           -0.5922620770000644,
           -0.8136688414112339,
           -1.0350756058224024,
           -1.256482370233572,
           -1.4778891346447418,
           -1.69929589905591,
           -1.9207026634670799,
           -2.142109427878248,
           -2.363516192289418,
           -2.584922956700588,
           -2.806329721111756
          ],
          [
           5.8358610927230234,
           5.614454328311854,
           5.3930475639006845,
           5.171640799489515,
           4.9502340350783465,
           4.7288272706671775,
           4.5074205062560075,
           4.2860137418448385,
           4.0646069774336695,
           3.8432002130225005,
           3.621793448611331,
           3.4003866842001615,
           3.1789799197889925,
           2.9575731553778235,
           2.7361663909666536,
           2.5147596265554846,
           2.2933528621443156,
           2.0719460977331465,
           1.8505393333219777,
           1.629132568910808,
           1.407725804499639,
           1.1863190400884698,
           0.9649122756773001,
           0.7435055112661311,
           0.522098746854962,
           0.300691982443793,
           0.079285218032624,
           -0.14212154637854546,
           -0.36352831078971537,
           -0.584935075200884,
           -0.8063418396120534,
           -1.027748604023222,
           -1.2491553684343915,
           -1.4705621328455614,
           -1.6919688972567295,
           -1.9133756616678994,
           -2.1347824260790675,
           -2.3561891904902375,
           -2.5775959549014074,
           -2.7990027193125755
          ],
          [
           5.843188094522203,
           5.621781330111034,
           5.400374565699865,
           5.178967801288696,
           4.957561036877527,
           4.736154272466358,
           4.514747508055188,
           4.293340743644019,
           4.07193397923285,
           3.850527214821681,
           3.6291204504105115,
           3.407713685999342,
           3.186306921588173,
           2.964900157177004,
           2.743493392765834,
           2.522086628354665,
           2.300679863943496,
           2.079273099532327,
           1.8578663351211582,
           1.6364595707099885,
           1.4150528062988195,
           1.1936460418876502,
           0.9722392774764805,
           0.7508325130653115,
           0.5294257486541425,
           0.30801898424297347,
           0.08661221983180445,
           -0.13479454457936502,
           -0.3562013089905349,
           -0.5776080734017035,
           -0.799014837812873,
           -1.0204216022240415,
           -1.241828366635211,
           -1.463235131046381,
           -1.684641895457549,
           -1.906048659868719,
           -2.127455424279887,
           -2.348862188691057,
           -2.570268953102227,
           -2.791675717513395
          ],
          [
           5.850515096321384,
           5.629108331910215,
           5.407701567499045,
           5.1862948030878755,
           4.964888038676707,
           4.743481274265538,
           4.522074509854368,
           4.300667745443199,
           4.07926098103203,
           3.8578542166208614,
           3.636447452209692,
           3.4150406877985224,
           3.1936339233873534,
           2.9722271589761844,
           2.7508203945650145,
           2.5294136301538455,
           2.3080068657426764,
           2.0866001013315074,
           1.8651933369203386,
           1.643786572509169,
           1.422379808098,
           1.2009730436868307,
           0.979566279275661,
           0.758159514864492,
           0.5367527504533229,
           0.3153459860421539,
           0.09393922163098489,
           -0.12746754278018457,
           -0.3488743071913545,
           -0.5702810716025231,
           -0.7916878360136925,
           -1.013094600424861,
           -1.2345013648360306,
           -1.4559081292472005,
           -1.6773148936583686,
           -1.8987216580695385,
           -2.1201284224807067,
           -2.3415351868918766,
           -2.5629419513030465,
           -2.7843487157142146
          ],
          [
           5.857842098120564,
           5.636435333709395,
           5.415028569298226,
           5.193621804887057,
           4.972215040475888,
           4.750808276064719,
           4.529401511653549,
           4.30799474724238,
           4.086587982831211,
           3.865181218420042,
           3.6437744540088723,
           3.422367689597703,
           3.200960925186534,
           2.979554160775365,
           2.758147396364195,
           2.536740631953026,
           2.315333867541857,
           2.093927103130688,
           1.872520338719519,
           1.6511135743083494,
           1.4297068098971804,
           1.208300045486011,
           0.9868932810748414,
           0.7654865166636724,
           0.5440797522525034,
           0.32267298784133436,
           0.10126622343016534,
           -0.12014054098100413,
           -0.34154730539217404,
           -0.5629540698033426,
           -0.7843608342145121,
           -1.0057675986256807,
           -1.2271743630368501,
           -1.44858112744802,
           -1.6699878918591882,
           -1.891394656270358,
           -2.112801420681526,
           -2.334208185092696,
           -2.555614949503866,
           -2.777021713915034
          ],
          [
           5.865169099919745,
           5.643762335508576,
           5.422355571097406,
           5.200948806686236,
           4.979542042275068,
           4.758135277863899,
           4.536728513452729,
           4.31532174904156,
           4.093914984630391,
           3.8725082202192223,
           3.651101455808053,
           3.4296946913968833,
           3.2082879269857143,
           2.9868811625745453,
           2.7654743981633754,
           2.5440676337522063,
           2.3226608693410373,
           2.1012541049298683,
           1.8798473405186995,
           1.6584405761075298,
           1.4370338116963608,
           1.2156270472851916,
           0.9942202828740219,
           0.7728135184628528,
           0.5514067540516838,
           0.3299999896405148,
           0.10859322522934578,
           -0.11281353918182369,
           -0.3342203035929936,
           -0.5556270680041622,
           -0.7770338324153316,
           -0.9984405968265002,
           -1.2198473612376697,
           -1.4412541256488396,
           -1.6626608900600077,
           -1.8840676544711776,
           -2.1054744188823458,
           -2.3268811832935157,
           -2.5482879477046856,
           -2.7696947121158537
          ],
          [
           5.872496101718925,
           5.651089337307756,
           5.429682572896587,
           5.208275808485418,
           4.986869044074249,
           4.76546227966308,
           4.54405551525191,
           4.322648750840741,
           4.101241986429572,
           3.8798352220184027,
           3.6584284576072332,
           3.4370216931960638,
           3.2156149287848947,
           2.9942081643737257,
           2.772801399962556,
           2.551394635551387,
           2.3299878711402178,
           2.1085811067290487,
           1.88717434231788,
           1.6657675779067103,
           1.4443608134955412,
           1.222954049084372,
           1.0015472846732023,
           0.7801405202620333,
           0.5587337558508643,
           0.33732699143969525,
           0.11592022702852622,
           -0.10548653738264324,
           -0.32689330179381315,
           -0.5483000662049817,
           -0.7697068306161512,
           -0.9911135950273198,
           -1.2125203594384892,
           -1.4339271238496591,
           -1.6553338882608273,
           -1.8767406526719972,
           -2.0981474170831653,
           -2.3195541814943352,
           -2.540960945905505,
           -2.7623677103166733
          ]
         ]
        }
       ],
       "layout": {
        "legend": {
         "tracegroupgap": 0
        },
        "margin": {
         "t": 60
        },
        "scene": {
         "domain": {
          "x": [
           0,
           1
          ],
          "y": [
           0,
           1
          ]
         },
         "xaxis": {
          "title": {
           "text": "x"
          }
         },
         "yaxis": {
          "title": {
           "text": "y"
          }
         },
         "zaxis": {
          "title": {
           "text": "z"
          }
         }
        },
        "template": {
         "data": {
          "bar": [
           {
            "error_x": {
             "color": "#2a3f5f"
            },
            "error_y": {
             "color": "#2a3f5f"
            },
            "marker": {
             "line": {
              "color": "#E5ECF6",
              "width": 0.5
             },
             "pattern": {
              "fillmode": "overlay",
              "size": 10,
              "solidity": 0.2
             }
            },
            "type": "bar"
           }
          ],
          "barpolar": [
           {
            "marker": {
             "line": {
              "color": "#E5ECF6",
              "width": 0.5
             },
             "pattern": {
              "fillmode": "overlay",
              "size": 10,
              "solidity": 0.2
             }
            },
            "type": "barpolar"
           }
          ],
          "carpet": [
           {
            "aaxis": {
             "endlinecolor": "#2a3f5f",
             "gridcolor": "white",
             "linecolor": "white",
             "minorgridcolor": "white",
             "startlinecolor": "#2a3f5f"
            },
            "baxis": {
             "endlinecolor": "#2a3f5f",
             "gridcolor": "white",
             "linecolor": "white",
             "minorgridcolor": "white",
             "startlinecolor": "#2a3f5f"
            },
            "type": "carpet"
           }
          ],
          "choropleth": [
           {
            "colorbar": {
             "outlinewidth": 0,
             "ticks": ""
            },
            "type": "choropleth"
           }
          ],
          "contour": [
           {
            "colorbar": {
             "outlinewidth": 0,
             "ticks": ""
            },
            "colorscale": [
             [
              0,
              "#0d0887"
             ],
             [
              0.1111111111111111,
              "#46039f"
             ],
             [
              0.2222222222222222,
              "#7201a8"
             ],
             [
              0.3333333333333333,
              "#9c179e"
             ],
             [
              0.4444444444444444,
              "#bd3786"
             ],
             [
              0.5555555555555556,
              "#d8576b"
             ],
             [
              0.6666666666666666,
              "#ed7953"
             ],
             [
              0.7777777777777778,
              "#fb9f3a"
             ],
             [
              0.8888888888888888,
              "#fdca26"
             ],
             [
              1,
              "#f0f921"
             ]
            ],
            "type": "contour"
           }
          ],
          "contourcarpet": [
           {
            "colorbar": {
             "outlinewidth": 0,
             "ticks": ""
            },
            "type": "contourcarpet"
           }
          ],
          "heatmap": [
           {
            "colorbar": {
             "outlinewidth": 0,
             "ticks": ""
            },
            "colorscale": [
             [
              0,
              "#0d0887"
             ],
             [
              0.1111111111111111,
              "#46039f"
             ],
             [
              0.2222222222222222,
              "#7201a8"
             ],
             [
              0.3333333333333333,
              "#9c179e"
             ],
             [
              0.4444444444444444,
              "#bd3786"
             ],
             [
              0.5555555555555556,
              "#d8576b"
             ],
             [
              0.6666666666666666,
              "#ed7953"
             ],
             [
              0.7777777777777778,
              "#fb9f3a"
             ],
             [
              0.8888888888888888,
              "#fdca26"
             ],
             [
              1,
              "#f0f921"
             ]
            ],
            "type": "heatmap"
           }
          ],
          "heatmapgl": [
           {
            "colorbar": {
             "outlinewidth": 0,
             "ticks": ""
            },
            "colorscale": [
             [
              0,
              "#0d0887"
             ],
             [
              0.1111111111111111,
              "#46039f"
             ],
             [
              0.2222222222222222,
              "#7201a8"
             ],
             [
              0.3333333333333333,
              "#9c179e"
             ],
             [
              0.4444444444444444,
              "#bd3786"
             ],
             [
              0.5555555555555556,
              "#d8576b"
             ],
             [
              0.6666666666666666,
              "#ed7953"
             ],
             [
              0.7777777777777778,
              "#fb9f3a"
             ],
             [
              0.8888888888888888,
              "#fdca26"
             ],
             [
              1,
              "#f0f921"
             ]
            ],
            "type": "heatmapgl"
           }
          ],
          "histogram": [
           {
            "marker": {
             "pattern": {
              "fillmode": "overlay",
              "size": 10,
              "solidity": 0.2
             }
            },
            "type": "histogram"
           }
          ],
          "histogram2d": [
           {
            "colorbar": {
             "outlinewidth": 0,
             "ticks": ""
            },
            "colorscale": [
             [
              0,
              "#0d0887"
             ],
             [
              0.1111111111111111,
              "#46039f"
             ],
             [
              0.2222222222222222,
              "#7201a8"
             ],
             [
              0.3333333333333333,
              "#9c179e"
             ],
             [
              0.4444444444444444,
              "#bd3786"
             ],
             [
              0.5555555555555556,
              "#d8576b"
             ],
             [
              0.6666666666666666,
              "#ed7953"
             ],
             [
              0.7777777777777778,
              "#fb9f3a"
             ],
             [
              0.8888888888888888,
              "#fdca26"
             ],
             [
              1,
              "#f0f921"
             ]
            ],
            "type": "histogram2d"
           }
          ],
          "histogram2dcontour": [
           {
            "colorbar": {
             "outlinewidth": 0,
             "ticks": ""
            },
            "colorscale": [
             [
              0,
              "#0d0887"
             ],
             [
              0.1111111111111111,
              "#46039f"
             ],
             [
              0.2222222222222222,
              "#7201a8"
             ],
             [
              0.3333333333333333,
              "#9c179e"
             ],
             [
              0.4444444444444444,
              "#bd3786"
             ],
             [
              0.5555555555555556,
              "#d8576b"
             ],
             [
              0.6666666666666666,
              "#ed7953"
             ],
             [
              0.7777777777777778,
              "#fb9f3a"
             ],
             [
              0.8888888888888888,
              "#fdca26"
             ],
             [
              1,
              "#f0f921"
             ]
            ],
            "type": "histogram2dcontour"
           }
          ],
          "mesh3d": [
           {
            "colorbar": {
             "outlinewidth": 0,
             "ticks": ""
            },
            "type": "mesh3d"
           }
          ],
          "parcoords": [
           {
            "line": {
             "colorbar": {
              "outlinewidth": 0,
              "ticks": ""
             }
            },
            "type": "parcoords"
           }
          ],
          "pie": [
           {
            "automargin": true,
            "type": "pie"
           }
          ],
          "scatter": [
           {
            "fillpattern": {
             "fillmode": "overlay",
             "size": 10,
             "solidity": 0.2
            },
            "type": "scatter"
           }
          ],
          "scatter3d": [
           {
            "line": {
             "colorbar": {
              "outlinewidth": 0,
              "ticks": ""
             }
            },
            "marker": {
             "colorbar": {
              "outlinewidth": 0,
              "ticks": ""
             }
            },
            "type": "scatter3d"
           }
          ],
          "scattercarpet": [
           {
            "marker": {
             "colorbar": {
              "outlinewidth": 0,
              "ticks": ""
             }
            },
            "type": "scattercarpet"
           }
          ],
          "scattergeo": [
           {
            "marker": {
             "colorbar": {
              "outlinewidth": 0,
              "ticks": ""
             }
            },
            "type": "scattergeo"
           }
          ],
          "scattergl": [
           {
            "marker": {
             "colorbar": {
              "outlinewidth": 0,
              "ticks": ""
             }
            },
            "type": "scattergl"
           }
          ],
          "scattermapbox": [
           {
            "marker": {
             "colorbar": {
              "outlinewidth": 0,
              "ticks": ""
             }
            },
            "type": "scattermapbox"
           }
          ],
          "scatterpolar": [
           {
            "marker": {
             "colorbar": {
              "outlinewidth": 0,
              "ticks": ""
             }
            },
            "type": "scatterpolar"
           }
          ],
          "scatterpolargl": [
           {
            "marker": {
             "colorbar": {
              "outlinewidth": 0,
              "ticks": ""
             }
            },
            "type": "scatterpolargl"
           }
          ],
          "scatterternary": [
           {
            "marker": {
             "colorbar": {
              "outlinewidth": 0,
              "ticks": ""
             }
            },
            "type": "scatterternary"
           }
          ],
          "surface": [
           {
            "colorbar": {
             "outlinewidth": 0,
             "ticks": ""
            },
            "colorscale": [
             [
              0,
              "#0d0887"
             ],
             [
              0.1111111111111111,
              "#46039f"
             ],
             [
              0.2222222222222222,
              "#7201a8"
             ],
             [
              0.3333333333333333,
              "#9c179e"
             ],
             [
              0.4444444444444444,
              "#bd3786"
             ],
             [
              0.5555555555555556,
              "#d8576b"
             ],
             [
              0.6666666666666666,
              "#ed7953"
             ],
             [
              0.7777777777777778,
              "#fb9f3a"
             ],
             [
              0.8888888888888888,
              "#fdca26"
             ],
             [
              1,
              "#f0f921"
             ]
            ],
            "type": "surface"
           }
          ],
          "table": [
           {
            "cells": {
             "fill": {
              "color": "#EBF0F8"
             },
             "line": {
              "color": "white"
             }
            },
            "header": {
             "fill": {
              "color": "#C8D4E3"
             },
             "line": {
              "color": "white"
             }
            },
            "type": "table"
           }
          ]
         },
         "layout": {
          "annotationdefaults": {
           "arrowcolor": "#2a3f5f",
           "arrowhead": 0,
           "arrowwidth": 1
          },
          "autotypenumbers": "strict",
          "coloraxis": {
           "colorbar": {
            "outlinewidth": 0,
            "ticks": ""
           }
          },
          "colorscale": {
           "diverging": [
            [
             0,
             "#8e0152"
            ],
            [
             0.1,
             "#c51b7d"
            ],
            [
             0.2,
             "#de77ae"
            ],
            [
             0.3,
             "#f1b6da"
            ],
            [
             0.4,
             "#fde0ef"
            ],
            [
             0.5,
             "#f7f7f7"
            ],
            [
             0.6,
             "#e6f5d0"
            ],
            [
             0.7,
             "#b8e186"
            ],
            [
             0.8,
             "#7fbc41"
            ],
            [
             0.9,
             "#4d9221"
            ],
            [
             1,
             "#276419"
            ]
           ],
           "sequential": [
            [
             0,
             "#0d0887"
            ],
            [
             0.1111111111111111,
             "#46039f"
            ],
            [
             0.2222222222222222,
             "#7201a8"
            ],
            [
             0.3333333333333333,
             "#9c179e"
            ],
            [
             0.4444444444444444,
             "#bd3786"
            ],
            [
             0.5555555555555556,
             "#d8576b"
            ],
            [
             0.6666666666666666,
             "#ed7953"
            ],
            [
             0.7777777777777778,
             "#fb9f3a"
            ],
            [
             0.8888888888888888,
             "#fdca26"
            ],
            [
             1,
             "#f0f921"
            ]
           ],
           "sequentialminus": [
            [
             0,
             "#0d0887"
            ],
            [
             0.1111111111111111,
             "#46039f"
            ],
            [
             0.2222222222222222,
             "#7201a8"
            ],
            [
             0.3333333333333333,
             "#9c179e"
            ],
            [
             0.4444444444444444,
             "#bd3786"
            ],
            [
             0.5555555555555556,
             "#d8576b"
            ],
            [
             0.6666666666666666,
             "#ed7953"
            ],
            [
             0.7777777777777778,
             "#fb9f3a"
            ],
            [
             0.8888888888888888,
             "#fdca26"
            ],
            [
             1,
             "#f0f921"
            ]
           ]
          },
          "colorway": [
           "#636efa",
           "#EF553B",
           "#00cc96",
           "#ab63fa",
           "#FFA15A",
           "#19d3f3",
           "#FF6692",
           "#B6E880",
           "#FF97FF",
           "#FECB52"
          ],
          "font": {
           "color": "#2a3f5f"
          },
          "geo": {
           "bgcolor": "white",
           "lakecolor": "white",
           "landcolor": "#E5ECF6",
           "showlakes": true,
           "showland": true,
           "subunitcolor": "white"
          },
          "hoverlabel": {
           "align": "left"
          },
          "hovermode": "closest",
          "mapbox": {
           "style": "light"
          },
          "paper_bgcolor": "white",
          "plot_bgcolor": "#E5ECF6",
          "polar": {
           "angularaxis": {
            "gridcolor": "white",
            "linecolor": "white",
            "ticks": ""
           },
           "bgcolor": "#E5ECF6",
           "radialaxis": {
            "gridcolor": "white",
            "linecolor": "white",
            "ticks": ""
           }
          },
          "scene": {
           "xaxis": {
            "backgroundcolor": "#E5ECF6",
            "gridcolor": "white",
            "gridwidth": 2,
            "linecolor": "white",
            "showbackground": true,
            "ticks": "",
            "zerolinecolor": "white"
           },
           "yaxis": {
            "backgroundcolor": "#E5ECF6",
            "gridcolor": "white",
            "gridwidth": 2,
            "linecolor": "white",
            "showbackground": true,
            "ticks": "",
            "zerolinecolor": "white"
           },
           "zaxis": {
            "backgroundcolor": "#E5ECF6",
            "gridcolor": "white",
            "gridwidth": 2,
            "linecolor": "white",
            "showbackground": true,
            "ticks": "",
            "zerolinecolor": "white"
           }
          },
          "shapedefaults": {
           "line": {
            "color": "#2a3f5f"
           }
          },
          "ternary": {
           "aaxis": {
            "gridcolor": "white",
            "linecolor": "white",
            "ticks": ""
           },
           "baxis": {
            "gridcolor": "white",
            "linecolor": "white",
            "ticks": ""
           },
           "bgcolor": "#E5ECF6",
           "caxis": {
            "gridcolor": "white",
            "linecolor": "white",
            "ticks": ""
           }
          },
          "title": {
           "x": 0.05
          },
          "xaxis": {
           "automargin": true,
           "gridcolor": "white",
           "linecolor": "white",
           "ticks": "",
           "title": {
            "standoff": 15
           },
           "zerolinecolor": "white",
           "zerolinewidth": 2
          },
          "yaxis": {
           "automargin": true,
           "gridcolor": "white",
           "linecolor": "white",
           "ticks": "",
           "title": {
            "standoff": 15
           },
           "zerolinecolor": "white",
           "zerolinewidth": 2
          }
         }
        }
       }
      }
     },
     "metadata": {},
     "output_type": "display_data"
    }
   ],
   "source": [
    "x, y, z, p = read_xypzdata(\"data/tmp44\")\n",
    "\n",
    "func = LeastSquare2D(x, y, z, p, 1)\n",
    "\n",
    "x_pred = np.linspace(min(x), max(x), 40)\n",
    "y_pred = np.linspace(min(y), max(y), 40)\n",
    "z_graph = [[func(xi, yi) for xi in x_pred]for yi in y_pred]\n",
    "\n",
    "fig = px.scatter_3d(x=x, y=y, z=z)\n",
    "fig.add_trace(go.Surface(x=x_pred, y=y_pred, z=z_graph))\n",
    "fig.show()"
   ]
  },
  {
   "cell_type": "markdown",
   "metadata": {},
   "source": [
    "### Тесты по функциям"
   ]
  },
  {
   "cell_type": "code",
   "execution_count": 42,
   "metadata": {},
   "outputs": [
    {
     "data": {
      "application/vnd.plotly.v1+json": {
       "config": {
        "plotlyServerURL": "https://plot.ly"
       },
       "data": [
        {
         "hovertemplate": "x=%{x}<br>y=%{y}<br>z=%{z}<extra></extra>",
         "legendgroup": "",
         "marker": {
          "color": "#636efa",
          "symbol": "circle"
         },
         "mode": "markers",
         "name": "",
         "scene": "scene",
         "showlegend": false,
         "type": "scatter3d",
         "x": [
          -2,
          -2,
          -2,
          -2,
          -2,
          -2,
          -2,
          -2,
          -2,
          -2,
          -1.4444444444444444,
          -1.4444444444444444,
          -1.4444444444444444,
          -1.4444444444444444,
          -1.4444444444444444,
          -1.4444444444444444,
          -1.4444444444444444,
          -1.4444444444444444,
          -1.4444444444444444,
          -1.4444444444444444,
          -0.8888888888888888,
          -0.8888888888888888,
          -0.8888888888888888,
          -0.8888888888888888,
          -0.8888888888888888,
          -0.8888888888888888,
          -0.8888888888888888,
          -0.8888888888888888,
          -0.8888888888888888,
          -0.8888888888888888,
          -0.33333333333333326,
          -0.33333333333333326,
          -0.33333333333333326,
          -0.33333333333333326,
          -0.33333333333333326,
          -0.33333333333333326,
          -0.33333333333333326,
          -0.33333333333333326,
          -0.33333333333333326,
          -0.33333333333333326,
          0.22222222222222232,
          0.22222222222222232,
          0.22222222222222232,
          0.22222222222222232,
          0.22222222222222232,
          0.22222222222222232,
          0.22222222222222232,
          0.22222222222222232,
          0.22222222222222232,
          0.22222222222222232,
          0.7777777777777777,
          0.7777777777777777,
          0.7777777777777777,
          0.7777777777777777,
          0.7777777777777777,
          0.7777777777777777,
          0.7777777777777777,
          0.7777777777777777,
          0.7777777777777777,
          0.7777777777777777,
          1.3333333333333335,
          1.3333333333333335,
          1.3333333333333335,
          1.3333333333333335,
          1.3333333333333335,
          1.3333333333333335,
          1.3333333333333335,
          1.3333333333333335,
          1.3333333333333335,
          1.3333333333333335,
          1.8888888888888893,
          1.8888888888888893,
          1.8888888888888893,
          1.8888888888888893,
          1.8888888888888893,
          1.8888888888888893,
          1.8888888888888893,
          1.8888888888888893,
          1.8888888888888893,
          1.8888888888888893,
          2.4444444444444446,
          2.4444444444444446,
          2.4444444444444446,
          2.4444444444444446,
          2.4444444444444446,
          2.4444444444444446,
          2.4444444444444446,
          2.4444444444444446,
          2.4444444444444446,
          2.4444444444444446,
          3,
          3,
          3,
          3,
          3,
          3,
          3,
          3,
          3,
          3
         ],
         "y": [
          -2,
          -1.4444444444444444,
          -0.8888888888888888,
          -0.33333333333333326,
          0.22222222222222232,
          0.7777777777777777,
          1.3333333333333335,
          1.8888888888888893,
          2.4444444444444446,
          3,
          -2,
          -1.4444444444444444,
          -0.8888888888888888,
          -0.33333333333333326,
          0.22222222222222232,
          0.7777777777777777,
          1.3333333333333335,
          1.8888888888888893,
          2.4444444444444446,
          3,
          -2,
          -1.4444444444444444,
          -0.8888888888888888,
          -0.33333333333333326,
          0.22222222222222232,
          0.7777777777777777,
          1.3333333333333335,
          1.8888888888888893,
          2.4444444444444446,
          3,
          -2,
          -1.4444444444444444,
          -0.8888888888888888,
          -0.33333333333333326,
          0.22222222222222232,
          0.7777777777777777,
          1.3333333333333335,
          1.8888888888888893,
          2.4444444444444446,
          3,
          -2,
          -1.4444444444444444,
          -0.8888888888888888,
          -0.33333333333333326,
          0.22222222222222232,
          0.7777777777777777,
          1.3333333333333335,
          1.8888888888888893,
          2.4444444444444446,
          3,
          -2,
          -1.4444444444444444,
          -0.8888888888888888,
          -0.33333333333333326,
          0.22222222222222232,
          0.7777777777777777,
          1.3333333333333335,
          1.8888888888888893,
          2.4444444444444446,
          3,
          -2,
          -1.4444444444444444,
          -0.8888888888888888,
          -0.33333333333333326,
          0.22222222222222232,
          0.7777777777777777,
          1.3333333333333335,
          1.8888888888888893,
          2.4444444444444446,
          3,
          -2,
          -1.4444444444444444,
          -0.8888888888888888,
          -0.33333333333333326,
          0.22222222222222232,
          0.7777777777777777,
          1.3333333333333335,
          1.8888888888888893,
          2.4444444444444446,
          3,
          -2,
          -1.4444444444444444,
          -0.8888888888888888,
          -0.33333333333333326,
          0.22222222222222232,
          0.7777777777777777,
          1.3333333333333335,
          1.8888888888888893,
          2.4444444444444446,
          3,
          -2,
          -1.4444444444444444,
          -0.8888888888888888,
          -0.33333333333333326,
          0.22222222222222232,
          0.7777777777777777,
          1.3333333333333335,
          1.8888888888888893,
          2.4444444444444446,
          3
         ],
         "z": [
          0.37840124765396416,
          0.4128294034568874,
          0.32308471903329683,
          0.13616103800672014,
          -0.09171782372139398,
          -0.29200935137031236,
          -0.40446888297261113,
          -0.39527029245134954,
          -0.2671803767002112,
          -0.05872664492762098,
          -0.11458598231497819,
          -0.12501138148168137,
          -0.09783524798322957,
          -0.04123175171794035,
          0.027773631805037308,
          0.08842512697665608,
          0.12247968144555635,
          0.11969420032643519,
          0.08090651420757515,
          0.01778337238266208,
          -0.5731074819966595,
          -0.625250633755095,
          -0.4893278522329185,
          -0.2062226541849124,
          0.13891119898010973,
          0.44226266462090597,
          0.6125882102757024,
          0.598656488104481,
          0.40465794940930844,
          0.08894442026617923,
          -0.8592469197450449,
          -0.9374239527478967,
          -0.733638039956778,
          -0.30918490153486844,
          0.20826637863095634,
          0.6630742822791559,
          0.9184394712798308,
          0.8975519593585757,
          0.6066943941630849,
          0.1333523318801633,
          -0.8869378807444431,
          -0.9676343259467277,
          -0.7572810020498466,
          -0.31914900714090916,
          0.21497818176417788,
          0.6844431852898809,
          0.9480380313620294,
          0.9264773773384347,
          0.6262463418294303,
          0.1376498791118346,
          -0.647851342771378,
          -0.7067949300463932,
          -0.553145293130859,
          -0.23311791875080032,
          0.15702779951801557,
          0.49994193084705113,
          0.6924810913484851,
          0.676732413832884,
          0.45743286228718416,
          0.10054442475731254,
          -0.21390092009712575,
          -0.23336230995550916,
          -0.18263184674734667,
          -0.07696848647193416,
          0.05184583033207299,
          0.16506570557661945,
          0.2286363133179058,
          0.2234365762972344,
          0.151030496760766,
          0.03319672824050144,
          0.284387663941397,
          0.3102621632019208,
          0.24281449670341573,
          0.10233190233552669,
          -0.06893058041333026,
          -0.2194597871970725,
          -0.30397880947463135,
          -0.29706560375421237,
          -0.20079955774944844,
          -0.04413604200733152,
          0.6971367402285671,
          0.7605644706003215,
          0.5952259122847939,
          0.25085240276201953,
          -0.16897371519361876,
          -0.5379750954645808,
          -0.7451617042691904,
          -0.7282149435213139,
          -0.49223214252230957,
          -0.10819335840784802,
          0.9001976297355174,
          0.9821004893114402,
          0.7686023766589254,
          0.32392029475564843,
          -0.21819211228923108,
          -0.6946756322657365,
          -0.9622112295112635,
          -0.9403282430372877,
          -0.6356087441797132,
          -0.13970774909946293
         ]
        },
        {
         "type": "surface",
         "x": [
          -2,
          -1.8717948717948718,
          -1.7435897435897436,
          -1.6153846153846154,
          -1.4871794871794872,
          -1.358974358974359,
          -1.2307692307692308,
          -1.1025641025641026,
          -0.9743589743589745,
          -0.8461538461538463,
          -0.7179487179487181,
          -0.5897435897435899,
          -0.4615384615384617,
          -0.3333333333333335,
          -0.2051282051282053,
          -0.0769230769230771,
          0.0512820512820511,
          0.1794871794871793,
          0.3076923076923075,
          0.4358974358974357,
          0.5641025641025639,
          0.6923076923076921,
          0.8205128205128203,
          0.9487179487179485,
          1.0769230769230766,
          1.2051282051282048,
          1.333333333333333,
          1.4615384615384612,
          1.5897435897435894,
          1.7179487179487176,
          1.8461538461538458,
          1.974358974358974,
          2.102564102564102,
          2.23076923076923,
          2.3589743589743586,
          2.4871794871794872,
          2.615384615384615,
          2.7435897435897427,
          2.8717948717948714,
          3
         ],
         "y": [
          -2,
          -1.8717948717948718,
          -1.7435897435897436,
          -1.6153846153846154,
          -1.4871794871794872,
          -1.358974358974359,
          -1.2307692307692308,
          -1.1025641025641026,
          -0.9743589743589745,
          -0.8461538461538463,
          -0.7179487179487181,
          -0.5897435897435899,
          -0.4615384615384617,
          -0.3333333333333335,
          -0.2051282051282053,
          -0.0769230769230771,
          0.0512820512820511,
          0.1794871794871793,
          0.3076923076923075,
          0.4358974358974357,
          0.5641025641025639,
          0.6923076923076921,
          0.8205128205128203,
          0.9487179487179485,
          1.0769230769230766,
          1.2051282051282048,
          1.333333333333333,
          1.4615384615384612,
          1.5897435897435894,
          1.7179487179487176,
          1.8461538461538458,
          1.974358974358974,
          2.102564102564102,
          2.23076923076923,
          2.3589743589743586,
          2.4871794871794872,
          2.615384615384615,
          2.7435897435897427,
          2.8717948717948714,
          3
         ],
         "z": [
          [
           0.5640928226301448,
           0.39627727784669053,
           0.23303209833581975,
           0.07583702406506733,
           -0.07393135334151933,
           -0.21500242656879137,
           -0.34621440857589897,
           -0.46651716856170256,
           -0.5749750679301755,
           -0.6707697962558119,
           -0.7532032072490317,
           -0.8217001547215869,
           -0.8758113285519672,
           -0.9152160906508074,
           -0.9397253109262917,
           -0.9492842032495615,
           -0.9439751614201194,
           -0.9240205951312367,
           -0.8897857659353597,
           -0.8417816232095142,
           -0.7806676401207122,
           -0.7072546495913596,
           -0.6225076802646586,
           -0.5275487924700178,
           -0.4236599141884552,
           -0.3122856770180064,
           -0.19503625213912784,
           -0.07369018628010603,
           0.049802762317538184,
           0.1733187879336437,
           0.2945572014040029,
           0.41103759415495367,
           0.5200970022379774,
           0.6188870703642901,
           0.7043712159394369,
           0.7733217930978847,
           0.8223172567376185,
           0.847739326554737,
           0.8457701510780394,
           0.8123894717036257
          ],
          [
           0.5205536012308113,
           0.35632084806296077,
           0.19659822907698682,
           0.042792393652792644,
           -0.10378439933265475,
           -0.2419171174707337,
           -0.37049079078657127,
           -0.4884933477044501,
           -0.5950184510132159,
           -0.6892683338316812,
           -0.7705566355740326,
           -0.8383112379152373,
           -0.8920771007564474,
           -0.9315190981904065,
           -0.9564248544668585,
           -0.9667075799579499,
           -0.9624089071236364,
           -0.9437017264770917,
           -0.9108930225501097,
           -0.8644267098585142,
           -0.8048864688675618,
           -0.7329985819573501,
           -0.6496347693882225,
           -0.5558150252661758,
           -0.45271045350826267,
           -0.34164610380800237,
           -0.2241038076007843,
           -0.10172501402927299,
           0.023686374091184036,
           0.1501611643071504,
           0.27556203856169514,
           0.39758071722898725,
           0.5137351231488899,
           0.621366545661552,
           0.7176368046420053,
           0.7995254145347565,
           0.8638267483883802,
           0.9071472018901174,
           0.9259023574004649,
           0.9163141479877674
          ],
          [
           0.48015781932111906,
           0.32118010634727084,
           0.16655087110108802,
           0.017600924862990676,
           -0.1244245537489838,
           -0.2583688547445924,
           -0.38316657272678806,
           -0.49784644285712804,
           -0.6015341768211792,
           -0.6934552987939228,
           -0.7729379814051643,
           -0.8394158817049339,
           -0.8924309771288982,
           -0.931636401463761,
           -0.9567992808126738,
           -0.9678035695606402,
           -0.9646528863399197,
           -0.9474733499954364,
           -0.9165164155501858,
           -0.8721617101706376,
           -0.8149198691321438,
           -0.7454353717843452,
           -0.6644893775165759,
           -0.57300256172327,
           -0.4720379517693678,
           -0.36280376295572236,
           -0.24665623448450386,
           -0.1251024654246075,
           0.00019674932294160875,
           0.12742408305958294,
           0.2546028413238124,
           0.3795941259257782,
           0.5000939989818731,
           0.6136306469493324,
           0.7175615446608233,
           0.8090706193590396,
           0.8851654147312968,
           0.9426742549441278,
           0.9782434086778745,
           0.9883342531612791
          ],
          [
           0.4422011431482048,
           0.29003882600663206,
           0.14197212293003195,
           -0.0007467404125083765,
           -0.13694241317373468,
           -0.2655192552936307,
           -0.3854641734648268,
           -0.4958494570980039,
           -0.5958356142873009,
           -0.6846742077757199,
           -0.7617106909205327,
           -0.8263872436586859,
           -0.8782456084722083,
           -0.9169299263536157,
           -0.9421895727713183,
           -0.9538819936350251,
           -0.9519755412611511,
           -0.9365523103382228,
           -0.9078109738922847,
           -0.8660696192523045,
           -0.81176858401558,
           -0.7454732920131447,
           -0.6678770892751743,
           -0.5798040799963918,
           -0.4822119625014737,
           -0.37619486521045786,
           -0.26298618260414647,
           -0.14396141118951522,
           -0.02064098546511601,
           0.10530688611351408,
           0.2320633851684481,
           0.35765624743396246,
           0.47995692679113255,
           0.5966777593024254,
           0.7053691272462943,
           0.8034166231517699,
           0.8880382138330586,
           0.9562814044241357,
           1.005020402413336,
           1.0309532816779514
          ],
          [
           0.40605180891508014,
           0.26215046833487843,
           0.12201088910349533,
           -0.013196036233164933,
           -0.14236753211047865,
           -0.26447177591051046,
           -0.37855073392741617,
           -0.4837229973328523,
           -0.5791866181413797,
           -0.6642219451758706,
           -0.7381944600329153,
           -0.8005576130482259,
           -0.8508556592620452,
           -0.88872649438455,
           -0.9139044907612597,
           -0.9262233333384409,
           -0.9256188556285124,
           -0.912131875675454,
           -0.8859110320202098,
           -0.8472156196660968,
           -0.7964184260442074,
           -0.7340085669788199,
           -0.6605943226528005,
           -0.576905973573012,
           -0.48379863653571825,
           -0.38225510059199136,
           -0.27338866301311626,
           -0.15844596525599935,
           -0.038809828928570246,
           0.08399790824480743,
           0.20831355645793312,
           0.33232873785736194,
           0.45408755057700023,
           0.5714837327726965,
           0.6822578266568403,
           0.7839943425329496,
           0.8741189228302697,
           0.9498955061383687,
           1.0084234912417238,
           1.0466349011543237
          ],
          [
           0.3711493876222769,
           0.23683694745430697,
           0.10588164502056438,
           -0.02062970776808063,
           -0.1416696581414861,
           -0.25627294843564613,
           -0.36353935205809346,
           -0.4626365094533103,
           -0.55280276406813,
           -0.633349998317146,
           -0.703666469548116,
           -0.7632196460073694,
           -0.8115590428052124,
           -0.8483190578813341,
           -0.8732218079702129,
           -0.886079964566523,
           -0.8867995898905389,
           -0.8753829728535425,
           -0.8519314650232294,
           -0.8166483165891142,
           -0.769841512327937,
           -0.7119266075690689,
           -0.6434295641599186,
           -0.5649895864313386,
           -0.47736195716303015,
           -0.38142087354895027,
           -0.2781622831627176,
           -0.1687067199230185,
           -0.05430214005901216,
           0.06367324192426217,
           0.18370811728047928,
           0.3041552470566228,
           0.4232286261275787,
           0.5390006472307287,
           0.6493992650005459,
           0.7522051600031868,
           0.8450489027710849,
           0.9254081178375477,
           0.9906046477713509,
           1.0378017172113232
          ],
          [
           0.33700354990949355,
           0.2134873951573277,
           0.09286320178138266,
           -0.02386904645435635,
           -0.13575996708607868,
           -0.24191361491555843,
           -0.3414903179755572,
           -0.433709513495231,
           -0.5178525838655376,
           -0.593265692604641,
           -0.6593626203233184,
           -0.7156276006903651,
           -0.7616181563980021,
           -0.7969679351272808,
           -0.8213895455134896,
           -0.8346773931115603,
           -0.836710516361473,
           -0.8274554225536627,
           -0.806968923794427,
           -0.7754009729713286,
           -0.7329974997186047,
           -0.680103246382571,
           -0.6171646039870282,
           -0.5447324481986691,
           -0.46346497529248276,
           -0.37413053811716174,
           -0.27761048206050853,
           -0.17490198101484034,
           -0.06712087334239508,
           0.04449550215926015,
           0.15858547029182676,
           0.27366018349086524,
           0.3881007858603917,
           0.5001555772074697,
           0.6079371770768066,
           0.7094196887853458,
           0.802435863456859,
           0.884674264056545,
           0.9536764294256214,
           1.0068340383159156
          ],
          [
           0.30319283089724025,
           0.19155692574810798,
           0.08229747102879595,
           -0.023675125155443948,
           -0.12549229815898472,
           -0.22233016276123058,
           -0.3134123491320206,
           -0.39801283879703764,
           -0.47545880060321283,
           -0.5451334266841317,
           -0.6064787684254399,
           -0.6589985724302512,
           -0.7022611164845505,
           -0.7359020455226019,
           -0.7596272075923545,
           -0.7732154898208481,
           -0.776521654379619,
           -0.7694791744501058,
           -0.7521030701890576,
           -0.724492744693937,
           -0.6868348199683275,
           -0.63940597288734,
           -0.5825757711630182,
           -0.5168095093097453,
           -0.4426710446096482,
           -0.36082563307800614,
           -0.27204276542865513,
           -0.17719900303939412,
           -0.07728081391739039,
           0.026612591335411967,
           0.13326642355688878,
           0.24134747905932805,
           0.3494013036640256,
           0.45584935673587623,
           0.5589861752179717,
           0.6569765376661906,
           0.7478526282837932,
           0.8295112009560199,
           0.8997107432846799,
           0.9560686406227445
          ],
          [
           0.26936339502848416,
           0.17056540088421684,
           0.07358822978999917,
           -0.02075003331950264,
           -0.11166438912869438,
           -0.19840575990646026,
           -0.28026382547156903,
           -0.3565698591580792,
           -0.426699563780746,
           -0.4900759076004268,
           -0.546171960289488,
           -0.594513728897209,
           -0.6346829938151917,
           -0.6663201447427619,
           -0.6891270166523801,
           -0.702869725755045,
           -0.7073815054656988,
           -0.7025655423686347,
           -0.688397812182903,
           -0.6649299157277168,
           -0.632291914887857,
           -0.59069516857908,
           -0.5404351687135225,
           -0.4818943761651077,
           -0.4155450567349527,
           -0.3419521171167723,
           -0.26177594086228695,
           -0.1757752243466274,
           -0.0848098127337414,
           0.01015646405819978,
           0.10805295539139678,
           0.20769935394301398,
           0.30780285973977606,
           0.4069553441925599,
           0.5036305141309899,
           0.5961810758380302,
           0.6828358990845805,
           0.7616971811640694,
           0.8307376109270487,
           0.887797532815785
          ],
          [
           0.2352278009102952,
           0.15009619441827218,
           0.06619988531817918,
           -0.015738112137752808,
           -0.09501911147581256,
           -0.1709715899662168,
           -0.24295402458851206,
           -0.3103577279969839,
           -0.37260968448606213,
           -0.4291753859557262,
           -0.4795616678769124,
           -0.5233195452569189,
           -0.5600470486048125,
           -0.5893920598968327,
           -0.6110551485418011,
           -0.6247924073465256,
           -0.630418288481205,
           -0.6278084394448373,
           -0.6169025390306252,
           -0.5977071332913817,
           -0.5702984715049357,
           -0.5348253421395396,
           -0.49151190881927315,
           -0.4406605462894517,
           -0.3826546763820308,
           -0.317961603981012,
           -0.24713535298785058,
           -0.17081950228686027,
           -0.08975002171061822,
           -0.004758108005374311,
           0.08322697920354628,
           0.17317508144633484,
           0.2639523054432941,
           0.3543181871394317,
           0.4429228557390561,
           0.5283041977403654,
           0.6088850209700476,
           0.6829702186178701,
           0.7487439332712778,
           0.8042667209499815
          ],
          [
           0.2005637661554917,
           0.12979495723958487,
           0.059656239934162685,
           -0.009227189702830249,
           -0.07624570555141667,
           -0.1408080873949942,
           -0.20234435688573912,
           -0.2603086135100144,
           -0.31418187055377444,
           -0.36347489106797154,
           -0.4077310238339625,
           -0.4465290393289136,
           -0.47948596569120744,
           -0.5062599246858486,
           -0.5265529676698689,
           -0.5401139115577359,
           -0.5467411747867563,
           -0.5462856132824829,
           -0.538653356424121,
           -0.5238086430099341,
           -0.5017766572226497,
           -0.47264636459486636,
           -0.43657334797445735,
           -0.39378264348998004,
           -0.3445715765160791,
           -0.2893125976388942,
           -0.22845611862146542,
           -0.16253334836913866,
           -0.09215912889497266,
           -0.018034771285145093,
           0.059049108335642427,
           0.1382097528387571,
           0.21846942812623016,
           0.2987525871653496,
           0.37788303402325557,
           0.45458108790153273,
           0.5274607471708045,
           0.5950268534053287,
           0.655672255417591,
           0.7076749732928956
          ],
          [
           0.1652129322242845,
           0.10936838211580469,
           0.053539255868060104,
           -0.0017498161671414816,
           -0.05598101573540715,
           -0.10864617264516584,
           -0.1592496007330742,
           -0.20731093382942228,
           -0.2523679617235401,
           -0.29397946612920334,
           -0.3317280566500392,
           -0.36522300674493285,
           -0.3941030896934332,
           -0.4180394145611593,
           -0.4367382621652053,
           -0.44994392103954817,
           -0.4574415234004522,
           -0.4590598811118758,
           -0.45467432165087734,
           -0.4442095240730214,
           -0.4276423549777843,
           -0.40500470447396053,
           -0.37638632214506884,
           -0.3419376530147581,
           -0.3018726735122129,
           -0.25647172743756075,
           -0.20608436192727653,
           -0.15113216341959043,
           -0.09211159361989171,
           -0.029596825466136983,
           0.035757420905745525,
           0.10321304219644858,
           0.1719457159778812,
           0.24104206472776096,
           0.3094968198642112,
           0.37620998578035003,
           0.43998400387888825,
           0.4995209166067223,
           0.5534195314895288,
           0.6001725851663555
          ],
          [
           0.12907962926592442,
           0.08858296853456657,
           0.04748782010091206,
           0.006215501098782447,
           -0.03481072559486413,
           -0.07516848732533911,
           -0.11443913762562903,
           -0.1522105921818022,
           -0.18808016479841422,
           -0.2216574033639142,
           -0.2525669258160507,
           -0.2804512561072782,
           -0.3049736601701622,
           -0.32582098188278674,
           -0.3427064790341582,
           -0.35537265928961376,
           -0.36359411615622583,
           -0.3671803649482088,
           -0.3659786787523245,
           -0.3598769243932886,
           -0.34880639839917715,
           -0.3327446629668315,
           -0.31171838192726486,
           -0.2858061567110685,
           -0.255141362313818,
           -0.2199149832614782,
           -0.18037844957581056,
           -0.13684647273977843,
           -0.08969988166295303,
           -0.0393884586469197,
           0.013566224649315823,
           0.06856797124392189,
           0.12494312286683455,
           0.1819377239943514,
           0.23871468588372696,
           0.29435095060776395,
           0.34783465508940903,
           0.39806229513634744,
           0.44383588947559616,
           0.48386014378809605
          ],
          [
           0.09212964096034718,
           0.06726378754513457,
           0.041196509206334525,
           0.014243062347931247,
           -0.013270593042402218,
           -0.04101062935870996,
           -0.06863818734215917,
           -0.0958122120464465,
           -0.12219228880320358,
           -0.14744147918740375,
           -0.1712291569827671,
           -0.1932338441471675,
           -0.21314604677803814,
           -0.23067109107777747,
           -0.24553195931915556,
           -0.2574721258107197,
           -0.2662583928622007,
           -0.27168372674991964,
           -0.2735700936821919,
           -0.2717712957647352,
           -0.2661758069660749,
           -0.25670960908295026,
           -0.24333902770571902,
           -0.22607356818376584,
           -0.20496875159090686,
           -0.18012895069079543,
           -0.15171022590232935,
           -0.11992316126505602,
           -0.0850357004045786,
           -0.04737598249796217,
           -0.0073351782391397145,
           0.03462967419568161,
           0.07799283318261506,
           0.12215701768468773,
           0.16645057128643476,
           0.21012462622849307,
           0.25235026744219513,
           0.29221569658416385,
           0.3287233960709066,
           0.36078729311340674
          ],
          [
           0.05438896935981743,
           0.045293246600048416,
           0.03441435419216386,
           0.0219587402984604,
           0.00815231450547568,
           -0.006762388141417688,
           -0.02252904310341781,
           -0.03888037231370013,
           -0.055540980142822896,
           -0.07223018936413356,
           -0.08866487711917463,
           -0.1045623108830898,
           -0.11964298443002987,
           -0.1336334537985589,
           -0.14626917325706007,
           -0.15729733126914197,
           -0.16647968645904423,
           -0.17359540357704417,
           -0.17844388946486206,
           -0.1808476290210678,
           -0.18065502116648652,
           -0.17774321480960498,
           -0.17202094481197724,
           -0.16343136795363092,
           -0.15195489889847316,
           -0.1376120461596965,
           -0.1204662480651854,
           -0.10062670872292166,
           -0.07825123398639071,
           -0.05354906741998771,
           -0.026783726264423723,
           0.0017241625978688425,
           0.031594026677329454,
           0.06238251191186416,
           0.09358064670143897,
           0.12461100594267399,
           0.1548248750634374,
           0.18349941405743964,
           0.2098348215188277,
           0.23295149867677742
          ],
          [
           0.015942599730576462,
           0.022609854396769227,
           0.026943605342103487,
           0.02903874497533786,
           0.029018384970024135,
           0.02703102029910144,
           0.023247693269490097,
           0.017859157556685636,
           0.011073042239352756,
           0.003111015833919285,
           -0.005794049670829856,
           -0.015400914779158646,
           -0.02546280845378603,
           -0.03573026408129192,
           -0.04595395543752324,
           -0.055887532653000005,
           -0.06529045817832121,
           -0.07393084274957103,
           -0.08158828135372473,
           -0.08805668919405472,
           -0.09314713765553669,
           -0.09669069027025538,
           -0.09854123868281098,
           -0.09857833861572479,
           -0.09671004583484547,
           -0.09287575211475511,
           -0.08704902120417504,
           -0.07924042479137207,
           -0.06950037846956433,
           -0.05792197770232752,
           -0.0446438337890008,
           -0.029852909830092762,
           -0.013787356692687706,
           0.003260651024148624,
           0.020942079023962973,
           0.03884819734750826,
           0.05650774440733755,
           0.07338409102239876,
           0.0888724044526279,
           0.10229681243354286
          ],
          [
           -0.023066734605514234,
           -0.0007930142806762096,
           0.018638497057367833,
           0.03520838855198795,
           0.04893422645189976,
           0.05986771814575843,
           0.06809187619675242,
           0.07371818237719767,
           0.07688375170313155,
           0.0777484964689067,
           0.07649229028178507,
           0.07331213209653197,
           0.06841931025000995,
           0.0620365664957727,
           0.05439526003865933,
           0.04573253156938789,
           0.036288467299149654,
           0.02630326299420311,
           0.0160143880104677,
           0.00565374932811794,
           -0.0045551444138225705,
           -0.014400018882887286,
           -0.023682670018572667,
           -0.03222179999774428,
           -0.03985585320004273,
           -0.046445852173289774,
           -0.051878233598894326,
           -0.0560676842572585,
           -0.05895997699318358,
           -0.06053480668127606,
           -0.060808626191353875,
           -0.059837482353852056,
           -0.05771985192522913,
           -0.0545994775533728,
           -0.05066820374300636,
           -0.046168812821094425,
           -0.04139786090224897,
           -0.036708513854135635,
           -0.03251338326287943,
           -0.029287362398471017
          ],
          [
           -0.06243978742932623,
           -0.024868353720048753,
           0.009404012698328851,
           0.04024085019193791,
           0.06755143207280746,
           0.09128793063345804,
           0.11144258118149601,
           0.1280448460742073,
           0.14115857875315155,
           0.15087918777875567,
           0.15733080086490842,
           0.16066342891355395,
           0.16105013004928576,
           0.15868417365394097,
           0.15377620440119405,
           0.14655140629115082,
           0.13724666668494265,
           0.12610774033931982,
           0.11338641344124634,
           0.09933766764249331,
           0.08421684409423302,
           0.06827680748163309,
           0.05176511005845016,
           0.03492115568162418,
           0.01797336384587214,
           0.0011363337182821072,
           -0.015391991827092732,
           -0.0314331621746402,
           -0.04683105493259513,
           -0.06145471189844541,
           -0.0752011750243379,
           -0.08799832238248452,
           -0.09980770413056851,
           -0.11062737847715007,
           -0.12049474764707258,
           -0.12948939384686886,
           -0.13773591523016648,
           -0.14540676186309476,
           -0.1527250716896901,
           -0.15996750649730251
          ],
          [
           -0.10192203478281928,
           -0.04951676243925208,
           -0.000805350573838624,
           0.04395594089046322,
           0.08456534481714544,
           0.1208727508907438,
           0.15277686965143192,
           0.18022239652961547,
           0.20319717588052563,
           0.22172936501881352,
           0.2358845982531444,
           0.24576315092079018,
           0.25149710342222575,
           0.25324750525572065,
           0.25120153905193465,
           0.24556968460851078,
           0.23658288292466986,
           0.22448970023580403,
           0.20955349204807128,
           0.19204956717298857,
           0.17226235176202695,
           0.1504825533412044,
           0.12700432484568042,
           0.10212242865434988,
           0.07612940062443715,
           0.04931271412608965,
           0.021951944076972152,
           -0.005684069023139255,
           -0.033340055057763246,
           -0.06077715025911942,
           -0.08777573317353424,
           -0.11413826062684684,
           -0.13969210368981552,
           -0.16429238364352328,
           -0.1878248079447844,
           -0.2102085061915498,
           -0.23139886608831328,
           -0.2513903694115185,
           -0.2702194279749635,
           -0.28796721959520755
          ],
          [
           -0.14120491012739564,
           -0.07458767834468708,
           -0.011986816955511797,
           0.04621886831623276,
           0.09971382237365098,
           0.14824290478144359,
           0.19160855380050099,
           0.22966795042249805,
           0.2623301824044874,
           0.2895534083034937,
           0.3113420215111079,
           0.3277438142880806,
           0.3388471417989161,
           0.344778086146467,
           0.3456976204065275,
           0.3417987726624275,
           0.333303790039627,
           0.3204613027403095,
           0.30354348807797643,
           0.2828432345120408,
           0.258671305682421,
           0.23135350444413563,
           0.2012278369018966,
           0.16864167644470326,
           0.13394892778043668,
           0.09750719097045357,
           0.059674925464179865,
           0.02080861413370504,
           -0.01874007269162395,
           -0.05862711319060871,
           -0.09851897001560571,
           -0.13809542625793164,
           -0.1770524214132704,
           -0.21510488734707797,
           -0.25198958425999024,
           -0.28746793665322656,
           -0.3213288692939973,
           -0.3533916431809108,
           -0.3835086915093769,
           -0.4115684556370155
          ],
          [
           -0.1799270395022551,
           -0.09988061388960648,
           -0.024090567158973925,
           0.04693900165295448,
           0.11277600197704599,
           0.17305751574631492,
           0.227486961430519,
           0.2758312580707513,
           0.31791798931403603,
           0.35363256744792065,
           0.38291539743507147,
           0.40575904094786686,
           0.42220538040299094,
           0.4323427829960282,
           0.43630326473605724,
           0.43425965448024484,
           0.4264227579684391,
           0.41303852185776474,
           0.39438519775721603,
           0.3707705062622518,
           0.3425288009893877,
           0.3100182326107918,
           0.2736179128888787,
           0.23372507871090142,
           0.1907522561235476,
           0.1451244243675325,
           0.09727617991219298,
           0.04764890049008153,
           -0.0033120908684396554,
           -0.0551603618006048,
           -0.10745120657665047,
           -0.15974448206522154,
           -0.2116074436987779,
           -0.26261758143899894,
           -0.3123654557421925,
           -0.36045753352469656,
           -0.4065190241282891,
           -0.4501967152855927,
           -0.49116180908548035,
           -0.5291127579384818
          ],
          [
           -0.21767547668274798,
           -0.12514639123246843,
           -0.03702097357076959,
           0.04606863644102127,
           0.12357106524968185,
           0.19501286964469136,
           0.25999570079282297,
           0.31819346827273864,
           0.36934950410958256,
           0.41327372680957586,
           0.44983980539460905,
           0.478982323436838,
           0.5006939430932764,
           0.5150225691403907,
           0.5220685130086927,
           0.5219816568173351,
           0.514958617408705,
           0.5012399103830175,
           0.48110711413290935,
           0.45488003387803416,
           0.42291386569965517,
           0.3855963605752396,
           0.3433449884130533,
           0.29660410208675353,
           0.24584210146998384,
           0.1915485974709677,
           0.13423157606710212,
           0.07441456233955261,
           0.01263378450784604,
           -0.05056466203553486,
           -0.11462765069055707,
           -0.17899785961504436,
           -0.24311660769008253,
           -0.3064266904854255,
           -0.36837521622490244,
           -0.4284164417518217,
           -0.4860146084943774,
           -0.5406467784310582,
           -0.5918056700560512,
           -0.6390024943446447
          ],
          [
           -0.25398693833873165,
           -0.15008837739529327,
           -0.05063783541005811,
           0.043601759419154985,
           0.13195700304318558,
           0.2138411795961258,
           0.2887514254299152,
           0.35626589314893337,
           0.41604091564459467,
           0.46780817012994264,
           0.5113718421742425,
           0.5466057897375768,
           0.5734507072054378,
           0.5919112894233243,
           0.6020533957313309,
           0.6040012139987458,
           0.5979344246586441,
           0.5840853647424811,
           0.5627361919146862,
           0.5342160485072567,
           0.49889822555435326,
           0.4571973268268915,
           0.4095664328671393,
           0.3564942650233065,
           0.29850234948414267,
           0.23614218131352863,
           0.1699923884850719,
           0.10065589591669981,
           0.028757089505254164,
           -0.04506101983891618,
           -0.12013963215735902,
           -0.19580699440892715,
           -0.271381236435183,
           -0.34617320692580494,
           -0.4194893093839945,
           -0.49063433809188006,
           -0.5589143140759238,
           -0.6236393210723297,
           -0.684126341492448,
           -0.7397020923881794
          ],
          [
           -0.2883490391929238,
           -0.17436371942201487,
           -0.06475761388696878,
           0.039572813366054574,
           0.13782938028010538,
           0.2293093508220393,
           0.3134025990171109,
           0.38958877298356726,
           0.45743445896724283,
           0.5165903453761529,
           0.566788386815087,
           0.6078389681202039,
           0.6396280683936253,
           0.662114425038029,
           0.6753266977912442,
           0.6793606327608439,
           0.6743762264587411,
           0.6605948898357803,
           0.6382966123163327,
           0.6078171258328898,
           0.5695450688606589,
           0.5239191504521542,
           0.47142531427179357,
           0.4125939026304905,
           0.3479968205202495,
           0.2782446996487591,
           0.20398406247398604,
           0.1258944862387696,
           0.04468576700541577,
           -0.03890491630971048,
           -0.12411583790158881,
           -0.21016356104195044,
           -0.2962457740446858,
           -0.3815441262312477,
           -0.4652270638960607,
           -0.5464526662719233,
           -0.6243714814954159,
           -0.6981293625723093,
           -0.7668703033429667,
           -0.8297392744477499
          ],
          [
           -0.32020152717925743,
           -0.19758457953683814,
           -0.07915466736095592,
           0.034055461942038456,
           0.14112010079555534,
           0.2412177454873631,
           0.3336282602041811,
           0.4177300410662739,
           0.49299718016204486,
           0.5589966295826313,
           0.6153853654564964,
           0.6619075519840247,
           0.6983917054721157,
           0.7247478583687791,
           0.7409647232977253,
           0.747106857092963,
           0.7433118248333915,
           0.7297873638773951,
           0.7068085478974362,
           0.674714950914651,
           0.6339078113334412,
           0.58484719597607,
           0.5280491641172557,
           0.4640829315187639,
           0.3935680344640041,
           0.3171714937926218,
           0.23560497893509302,
           0.14962197194731824,
           0.06001493154521719,
           -0.03238754286067912,
           -0.12672354713063227,
           -0.2221007083611036,
           -0.3175990208501611,
           -0.4122736820628826,
           -0.5051579285967659,
           -0.59526587214713,
           -0.6815953354725242,
           -0.7631306883601354,
           -0.8388456835911926,
           -0.9077062929063678
          ],
          [
           -0.34893751860123434,
           -0.21931937030259166,
           -0.09356248649915146,
           0.027161354530692884,
           0.14179617217886198,
           0.2493989475421865,
           0.34913678745700055,
           0.44028408853373513,
           0.5222197011915128,
           0.5944240936927417,
           0.6564765161777083,
           0.7080521646991732,
           0.7489193452569639,
           0.7789366378325692,
           0.7980500604237326,
           0.8062902330790466,
           0.8037695419325475,
           0.7906793032383086,
           0.7672869274050329,
           0.73393308303065,
           0.6910288609369076,
           0.6390529382039664,
           0.5785487422049943,
           0.5101216146407593,
           0.4344359755742256,
           0.35221248746514466,
           0.26422521920465153,
           0.17129881014985787,
           0.07430563415844658,
           -0.025837036376736275,
           -0.12816986649308412,
           -0.23169429462363902,
           -0.33537536856249595,
           -0.43814458143020923,
           -0.5389027076392,
           -0.6365226388591586,
           -0.729852219982453,
           -0.8177170850895383,
           -0.8989234934143563,
           -0.9722611653097422
          ],
          [
           -0.37390473329028256,
           -0.2390939897790835,
           -0.10767492943472254,
           0.019038891080514396,
           0.13985847061520817,
           0.2537165275634013,
           0.35966466389919094,
           0.45687052921132576,
           0.5446149847377961,
           0.6222892674004311,
           0.6893921538394903,
           0.7455271244482593,
           0.7903995274076427,
           0.8238137427207595,
           0.8456703462475347,
           0.8559632737392948,
           0.8547769848733626,
           0.8422836272876492,
           0.8187402006152495,
           0.7844857205190348,
           0.7399383827262486,
           0.6855927270630984,
           0.6220168014893518,
           0.5498493261329291,
           0.46979685732449733,
           0.3826309516320654,
           0.2891853298955756,
           0.1903530412615011,
           0.08708362721743709,
           -0.01961971437330537,
           -0.12870296523710215,
           -0.23906412265542587,
           -0.3495560354302503,
           -0.4589892398494557,
           -0.566134795652237,
           -0.6697271219945059,
           -0.768466833414301,
           -0.861023575797192,
           -0.9460388623416889,
           -1.0221289095246386
          ],
          [
           -0.3944067297641056,
           -0.2563930566814538,
           -0.1211474569252225,
           0.00987198694655924,
           0.13534050572728115,
           0.2540638075963475,
           0.3649752421537693,
           0.4671329644547606,
           0.5597170990443304,
           0.6420269039918779,
           0.7134779349257853,
           0.7735992090680129,
           0.8220303692686928,
           0.858518848040722,
           0.8829170315943582,
           0.8951794238718107,
           0.8953598105818384,
           0.8836084232343411,
           0.8601691031749523,
           0.8253764656196373,
           0.7796530636892839,
           0.7235065524442963,
           0.6575268529191913,
           0.5823833161571904,
           0.49882188724481474,
           0.4076622693464781,
           0.3097950877390816,
           0.20617905384660828,
           0.09783812927471518,
           -0.01414131015467124,
           -0.1286133103687604,
           -0.24437517500930558,
           -0.36017030139800993,
           -0.4746910165019289,
           -0.5865814128988827,
           -0.6944401847428562,
           -0.7968234637294064,
           -0.8922476550610712,
           -0.9791922734127746,
           -1.05610277889723
          ],
          [
           -0.40970414038504344,
           -0.2706611455385319,
           -0.13359836751094836,
           -0.00012116226791573145,
           0.12830718541691455,
           0.2503626259964582,
           0.36485750918478926,
           0.4707377479917371,
           0.5670799827574792,
           0.6530887451871338,
           0.7280936223853559,
           0.7915464208909293,
           0.8430183307113639,
           0.8821970893574846,
           0.90888414587803,
           0.9229918248942436,
           0.9245404906344689,
           0.9136557109687428,
           0.8905654214433902,
           0.8555970893156175,
           0.8091748775881065,
           0.7518168090436087,
           0.6841319302795393,
           0.6068174757425705,
           0.520656031763227,
           0.4265127005904774,
           0.32533226442633095,
           0.2181363494604298,
           0.10602058990464361,
           -0.0098482079723371,
           -0.12823490181040553,
           -0.24783884912344675,
           -0.3672967432647415,
           -0.48518544939237424,
           -0.600024840434639,
           -0.7102806330554418,
           -0.8143672236197118,
           -0.9106505241588048,
           -0.9974507983359108,
           -1.0730454974114543
          ],
          [
           -0.4190159065184214,
           -0.28130402185118764,
           -0.14461003267329278,
           -0.010689315869803033,
           0.11885358070673833,
           0.24256210227090774,
           0.35912485113899184,
           0.46737275076358575,
           0.5662762097681836,
           0.6549422859817734,
           0.7326118504734321,
           0.7986567515869177,
           0.8525769789752649,
           0.8939978276353786,
           0.9226670619426272,
           0.9384520796854371,
           0.9413370760998866,
           0.9314202079043007,
           0.9089107573338427,
           0.874126296175111,
           0.8274898498007318,
           0.769527061203952,
           0.7008633550332354,
           0.6222211016268545,
           0.5344167810474869,
           0.4383581471168061,
           0.3350413914500787,
           0.22554830749075616,
           0.11104345454506952,
           -0.007228678183376859,
           -0.12794650755900983,
           -0.2497141924796966,
           -0.37106446984214814,
           -0.4904614905073241,
           -0.6063036552658462,
           -0.7169264508033921,
           -0.8206052856661112,
           -0.9155583262260287,
           -0.99994933264645,
           -1.0718904948473653
          ],
          [
           -0.4215205136909087,
           -0.2876898772506899,
           -0.15373013199310165,
           -0.021549423234503533,
           0.10710369058181902,
           0.23063740192025212,
           0.34761381818744563,
           0.4567461257669092,
           0.5568957540536034,
           0.6470695394885356,
           0.7264168895933543,
           0.7942269470049407,
           0.8499257535100055,
           0.8930734140796817,
           0.9233612609041175,
           0.9406090174270719,
           0.9447619623805079,
           0.9358880938191871,
           0.9141752931552619,
           0.8799284891928725,
           0.8335668221627376,
           0.7756208077567502,
           0.7067295011625723,
           0.6276376610982263,
           0.5391929138466918,
           0.4423429172904979,
           0.3381325249463161,
           0.22770094999955837,
           0.11227892933896653,
           -0.00681411240879168,
           -0.12817289884452807,
           -0.25030913776194086,
           -0.3716543571130219,
           -0.4905627409734591,
           -0.6053139655080486,
           -0.7141160349360911,
           -0.8151081174968086,
           -0.906363381414744,
           -0.9858918308651704,
           -1.05164314193949
          ],
          [
           -0.4163572267488719,
           -0.289150564657059,
           -0.1604728883090262,
           -0.03238785896427767,
           0.09320920683130869,
           0.21458850128007922,
           0.33018288936719553,
           0.43858507289523163,
           0.538544754518765,
           0.6289658017789713,
           0.7089034111382198,
           0.7775612720146651,
           0.8342887308168434,
           0.8785779549782647,
           0.910061096992008,
           0.9285074584453131,
           0.9338206540541779,
           0.9260357756979501,
           0.9053165564539214,
           0.8719525346319218,
           0.8263562178089139,
           0.7690602468635855,
           0.7007145600109462,
           0.6220835568369185,
           0.5340432623329331,
           0.43757849093052353,
           0.33378001053591866,
           0.2238417065646373,
           0.10905774597608331,
           -0.009180258691862982,
           -0.12938608528824827,
           -0.24998173801445403,
           -0.369300283389601,
           -0.48558868621595647,
           -0.5970106455443407,
           -0.7016494306395319,
           -0.7975107169456699,
           -0.882525422051669,
           -0.9545525416566182,
           -1.0113819855351858
          ],
          [
           -0.40262732501672543,
           -0.28498283343741876,
           -0.1643203028758773,
           -0.04286165804660046,
           0.07734827889009045,
           0.1944389523626524,
           0.3067112374229083,
           0.4126346037806451,
           0.5108442798382071,
           0.6001384167250887,
           0.6794752523325289,
           0.7479702753481058,
           0.8048933892903299,
           0.8496660765432386,
           0.8818585623909899,
           0.9011869790524555,
           0.9075105297158172,
           0.9008286525731586,
           0.8812781848550597,
           0.8491305268651903,
           0.8047888060149065,
           0.748785040857841,
           0.6817773051245002,
           0.604546891756855,
           0.5179954769429393,
           0.42314228415143906,
           0.32112124816628945,
           0.2131781791212677,
           0.10066792653458767,
           -0.01494845665650807,
           -0.13210655006115046,
           -0.2491414018002546,
           -0.36429036447192226,
           -0.47569593111684855,
           -0.5814085711837308,
           -0.6793895664946706,
           -0.7675138472105806,
           -0.8435728277965939,
           -0.9052772429874684,
           -0.9502599837529868
          ],
          [
           -0.3793953374552924,
           -0.274449564564355,
           -0.16472339052298124,
           -0.05259975101251762,
           0.059724278680423355,
           0.17023464769855662,
           0.27709749364851605,
           0.37865630663545313,
           0.4734290932976268,
           0.560105540841,
           0.6375441810738315,
           0.7047695544412717,
           0.7609693740599556,
           0.8054916897525974,
           0.8378420520825844,
           0.8576806763885693,
           0.8648196068190672,
           0.8592198803670471,
           0.8409886909045269,
           0.8103765532171671,
           0.7677744670388652,
           0.7137110810863485,
           0.64884985709377,
           0.5739862338473001,
           0.4900447912197228,
           0.3980764142050287,
           0.2992554569530072,
           0.19487690680384398,
           0.08635354832271236,
           -0.024786872665632037,
           -0.13690448504225727,
           -0.24825012835945978,
           -0.35696818880617454,
           -0.4610994351733742,
           -0.5585838548194841,
           -0.6472634896357791,
           -0.724885272011795,
           -0.7891038608007352,
           -0.837484477284875,
           -0.8675057411409628
          ],
          [
           -0.3456902778201556,
           -0.25678100577426766,
           -0.1611034148125353,
           -0.06120419909499782,
           0.04056456545358655,
           0.14204258517834206,
           0.24125851272886353,
           0.33642711109381523,
           0.4259464176355216,
           0.5083949081245629,
           0.5825286607743676,
           0.6472785202758081,
           0.7017472618317936,
           0.7452067551918647,
           0.7770951286867868,
           0.7970139332631436,
           0.8047253065179332,
           0.8001491367331601,
           0.783360226910429,
           0.7545854588055404,
           0.7142009569630832,
           0.6627292527510296,
           0.6008364483953282,
           0.5293293810144981,
           0.4491527866542243,
           0.36138646432194893,
           0.2672424400214682,
           0.1680621307875243,
           0.06531350872040013,
           -0.03941173497948719,
           -0.14440102597699045,
           -0.2478237427676417,
           -0.34773405264305624,
           -0.4420737476563374,
           -0.5286750805874865,
           -0.6052636009088035,
           -0.6694609907502972,
           -0.7187879008650913,
           -0.750666786594829,
           -0.7624247438350775
          ],
          [
           -0.30050687982001256,
           -0.23117600672572866,
           -0.15285312319795874,
           -0.06825142938729041,
           0.020119250631525733,
           0.10994963289417126,
           0.19912813758135206,
           0.28573805305339445,
           0.36805469988483797,
           0.44454259489903,
           0.5138526152027182,
           0.5748191622206467,
           0.6264573257301478,
           0.6679600478957387,
           0.6986952873037126,
           0.7182031829967337,
           0.7261932185084329,
           0.7225413858979988,
           0.7072873497847737,
           0.680631611382847,
           0.6429326725356493,
           0.5947041997505459,
           0.5366121882334319,
           0.46947212592332416,
           0.39424615752695785,
           0.31204024855337775,
           0.2241013493485347,
           0.131814559129878,
           0.03670029002094961,
           -0.05958856891402256,
           -0.15526948763552706,
           -0.2484331310941806,
           -0.33704619519612944,
           -0.4189542427684582,
           -0.49188453952459504,
           -0.5534488900297149,
           -0.6011464736661517,
           -0.6323666805987973,
           -0.6443919477405161,
           -0.6344005947175388
          ],
          [
           -0.242806832275032,
           -0.19680325415783115,
           -0.13933798218225144,
           -0.07329347000127572,
           -0.0013400373515000596,
           0.07406129398146571,
           0.1506559641975872,
           0.2263930395170031,
           0.2994223762146173,
           0.3680917846546938,
           0.4309441933254492,
           0.4867148128736487,
           0.5343283001391983,
           0.5728959221897402,
           0.6017127203552454,
           0.6202546742626082,
           0.6281758658702414,
           0.6253056435026684,
           0.6116457858851174,
           0.5873676661781178,
           0.5528094160120902,
           0.5084730895219434,
           0.45502182738166785,
           0.393277020838928,
           0.3242154757496592,
           0.24896657661265864,
           0.16880945060418015,
           0.08517013161253065,
           -0.0003812757273394581,
           -0.08613343199924064,
           -0.17023659897115034,
           -0.2507054755606176,
           -0.3254220338001723,
           -0.39213835480272935,
           -0.4484794647269951,
           -0.4919461707428677,
           -0.5199178969968593,
           -0.5296555205774782,
           -0.5183042074806611,
           -0.4828962485751551
          ],
          [
           -0.17152001427520222,
           -0.15280250704854711,
           -0.11989741247634414,
           -0.07585918522582309,
           -0.0235213882072745,
           0.034500471460549194,
           0.09580610648502245,
           0.15820761343424683,
           0.21972663677163948,
           0.2785915328905307,
           0.3332345341487562,
           0.3822889129032513,
           0.4245861455446453,
           0.45915307653185455,
           0.4852090824266786,
           0.5021632359283908,
           0.5096114699083358,
           0.5073337414445205,
           0.49529119585621023,
           0.4736233307385214,
           0.44264515999701626,
           0.4028443778822961,
           0.3548785230245965,
           0.2995721424683795,
           0.23791395570692905,
           0.17105401871694442,
           0.10030088799313396,
           0.02711878458281,
           -0.04687524187951928,
           -0.11991414913755297,
           -0.19008373827860536,
           -0.2553254896990114,
           -0.3134393990695339,
           -0.3620868133007677,
           -0.3987932665085467,
           -0.42095131597934954,
           -0.42582337813570514,
           -0.41054456450160176,
           -0.3721255176678887,
           -0.30745524725768525
          ],
          [
           -0.08554573033869425,
           -0.09828583177308323,
           -0.09384602415745827,
           -0.07545551068514526,
           -0.04611384495198003,
           -0.008593766921709135,
           0.03455596110860254,
           0.08100771854316725,
           0.12865219052206547,
           0.1755955319558441,
           0.22015653156010637,
           0.26086377589010795,
           0.29645281337535084,
           0.32586331835417603,
           0.3482362551083596,
           0.3629110418977049,
           0.36942271499463664,
           0.3674990927187964,
           0.3570579394716346,
           0.3382041297710063,
           0.3112268122857633,
           0.27659657387034964,
           0.23496260359939547,
           0.18714985680230958,
           0.1341562190978751,
           0.07714967042884227,
           0.01746544909652327,
           -0.04339678420461411,
           -0.10377578235235363,
           -0.16185154776213398,
           -0.21564816835245793,
           -0.2630366535102955,
           -0.3017377700564926,
           -0.3293248782111739,
           -0.34322676755915466,
           -0.34073049301533753,
           -0.31898421079013006,
           -0.2750000143548362,
           -0.20565677040708075,
           -0.1077029548361976
          ],
          [
           0.01624605442979197,
           -0.03233883726223178,
           -0.060474851827454025,
           -0.07156868849714822,
           -0.06878863906454734,
           -0.05506742385023986,
           -0.03310502766758309,
           -0.005371535788103673,
           0.025890030093093156,
           0.05866087589191866,
           0.09114359916989433,
           0.12175935316874553,
           0.149145010844996,
           0.17215032890456164,
           0.18983511183734464,
           0.20146637595182693,
           0.20651551340966476,
           0.2046554562602822,
           0.19575784047546557,
           0.1798901699839569,
           0.1573129807060484,
           0.1284770045881758,
           0.09402033363751336,
           0.054765583956566326,
           0.01171705977776675,
           -0.03394208250193433,
           -0.08085267028647175,
           -0.12748235074607298,
           -0.17212842678266307,
           -0.21292069299527225,
           -0.24782427164543985,
           -0.2746424486226241,
           -0.2910195094096023,
           -0.2944435750478825,
           -0.28224943810310704,
           -0.25162139863045685,
           -0.19959610014006293,
           -0.12306536556240727,
           -0.018779033213725982,
           0.1166522072385712
          ]
         ]
        }
       ],
       "layout": {
        "legend": {
         "tracegroupgap": 0
        },
        "margin": {
         "t": 60
        },
        "scene": {
         "domain": {
          "x": [
           0,
           1
          ],
          "y": [
           0,
           1
          ]
         },
         "xaxis": {
          "title": {
           "text": "x"
          }
         },
         "yaxis": {
          "title": {
           "text": "y"
          }
         },
         "zaxis": {
          "title": {
           "text": "z"
          }
         }
        },
        "template": {
         "data": {
          "bar": [
           {
            "error_x": {
             "color": "#2a3f5f"
            },
            "error_y": {
             "color": "#2a3f5f"
            },
            "marker": {
             "line": {
              "color": "#E5ECF6",
              "width": 0.5
             },
             "pattern": {
              "fillmode": "overlay",
              "size": 10,
              "solidity": 0.2
             }
            },
            "type": "bar"
           }
          ],
          "barpolar": [
           {
            "marker": {
             "line": {
              "color": "#E5ECF6",
              "width": 0.5
             },
             "pattern": {
              "fillmode": "overlay",
              "size": 10,
              "solidity": 0.2
             }
            },
            "type": "barpolar"
           }
          ],
          "carpet": [
           {
            "aaxis": {
             "endlinecolor": "#2a3f5f",
             "gridcolor": "white",
             "linecolor": "white",
             "minorgridcolor": "white",
             "startlinecolor": "#2a3f5f"
            },
            "baxis": {
             "endlinecolor": "#2a3f5f",
             "gridcolor": "white",
             "linecolor": "white",
             "minorgridcolor": "white",
             "startlinecolor": "#2a3f5f"
            },
            "type": "carpet"
           }
          ],
          "choropleth": [
           {
            "colorbar": {
             "outlinewidth": 0,
             "ticks": ""
            },
            "type": "choropleth"
           }
          ],
          "contour": [
           {
            "colorbar": {
             "outlinewidth": 0,
             "ticks": ""
            },
            "colorscale": [
             [
              0,
              "#0d0887"
             ],
             [
              0.1111111111111111,
              "#46039f"
             ],
             [
              0.2222222222222222,
              "#7201a8"
             ],
             [
              0.3333333333333333,
              "#9c179e"
             ],
             [
              0.4444444444444444,
              "#bd3786"
             ],
             [
              0.5555555555555556,
              "#d8576b"
             ],
             [
              0.6666666666666666,
              "#ed7953"
             ],
             [
              0.7777777777777778,
              "#fb9f3a"
             ],
             [
              0.8888888888888888,
              "#fdca26"
             ],
             [
              1,
              "#f0f921"
             ]
            ],
            "type": "contour"
           }
          ],
          "contourcarpet": [
           {
            "colorbar": {
             "outlinewidth": 0,
             "ticks": ""
            },
            "type": "contourcarpet"
           }
          ],
          "heatmap": [
           {
            "colorbar": {
             "outlinewidth": 0,
             "ticks": ""
            },
            "colorscale": [
             [
              0,
              "#0d0887"
             ],
             [
              0.1111111111111111,
              "#46039f"
             ],
             [
              0.2222222222222222,
              "#7201a8"
             ],
             [
              0.3333333333333333,
              "#9c179e"
             ],
             [
              0.4444444444444444,
              "#bd3786"
             ],
             [
              0.5555555555555556,
              "#d8576b"
             ],
             [
              0.6666666666666666,
              "#ed7953"
             ],
             [
              0.7777777777777778,
              "#fb9f3a"
             ],
             [
              0.8888888888888888,
              "#fdca26"
             ],
             [
              1,
              "#f0f921"
             ]
            ],
            "type": "heatmap"
           }
          ],
          "heatmapgl": [
           {
            "colorbar": {
             "outlinewidth": 0,
             "ticks": ""
            },
            "colorscale": [
             [
              0,
              "#0d0887"
             ],
             [
              0.1111111111111111,
              "#46039f"
             ],
             [
              0.2222222222222222,
              "#7201a8"
             ],
             [
              0.3333333333333333,
              "#9c179e"
             ],
             [
              0.4444444444444444,
              "#bd3786"
             ],
             [
              0.5555555555555556,
              "#d8576b"
             ],
             [
              0.6666666666666666,
              "#ed7953"
             ],
             [
              0.7777777777777778,
              "#fb9f3a"
             ],
             [
              0.8888888888888888,
              "#fdca26"
             ],
             [
              1,
              "#f0f921"
             ]
            ],
            "type": "heatmapgl"
           }
          ],
          "histogram": [
           {
            "marker": {
             "pattern": {
              "fillmode": "overlay",
              "size": 10,
              "solidity": 0.2
             }
            },
            "type": "histogram"
           }
          ],
          "histogram2d": [
           {
            "colorbar": {
             "outlinewidth": 0,
             "ticks": ""
            },
            "colorscale": [
             [
              0,
              "#0d0887"
             ],
             [
              0.1111111111111111,
              "#46039f"
             ],
             [
              0.2222222222222222,
              "#7201a8"
             ],
             [
              0.3333333333333333,
              "#9c179e"
             ],
             [
              0.4444444444444444,
              "#bd3786"
             ],
             [
              0.5555555555555556,
              "#d8576b"
             ],
             [
              0.6666666666666666,
              "#ed7953"
             ],
             [
              0.7777777777777778,
              "#fb9f3a"
             ],
             [
              0.8888888888888888,
              "#fdca26"
             ],
             [
              1,
              "#f0f921"
             ]
            ],
            "type": "histogram2d"
           }
          ],
          "histogram2dcontour": [
           {
            "colorbar": {
             "outlinewidth": 0,
             "ticks": ""
            },
            "colorscale": [
             [
              0,
              "#0d0887"
             ],
             [
              0.1111111111111111,
              "#46039f"
             ],
             [
              0.2222222222222222,
              "#7201a8"
             ],
             [
              0.3333333333333333,
              "#9c179e"
             ],
             [
              0.4444444444444444,
              "#bd3786"
             ],
             [
              0.5555555555555556,
              "#d8576b"
             ],
             [
              0.6666666666666666,
              "#ed7953"
             ],
             [
              0.7777777777777778,
              "#fb9f3a"
             ],
             [
              0.8888888888888888,
              "#fdca26"
             ],
             [
              1,
              "#f0f921"
             ]
            ],
            "type": "histogram2dcontour"
           }
          ],
          "mesh3d": [
           {
            "colorbar": {
             "outlinewidth": 0,
             "ticks": ""
            },
            "type": "mesh3d"
           }
          ],
          "parcoords": [
           {
            "line": {
             "colorbar": {
              "outlinewidth": 0,
              "ticks": ""
             }
            },
            "type": "parcoords"
           }
          ],
          "pie": [
           {
            "automargin": true,
            "type": "pie"
           }
          ],
          "scatter": [
           {
            "fillpattern": {
             "fillmode": "overlay",
             "size": 10,
             "solidity": 0.2
            },
            "type": "scatter"
           }
          ],
          "scatter3d": [
           {
            "line": {
             "colorbar": {
              "outlinewidth": 0,
              "ticks": ""
             }
            },
            "marker": {
             "colorbar": {
              "outlinewidth": 0,
              "ticks": ""
             }
            },
            "type": "scatter3d"
           }
          ],
          "scattercarpet": [
           {
            "marker": {
             "colorbar": {
              "outlinewidth": 0,
              "ticks": ""
             }
            },
            "type": "scattercarpet"
           }
          ],
          "scattergeo": [
           {
            "marker": {
             "colorbar": {
              "outlinewidth": 0,
              "ticks": ""
             }
            },
            "type": "scattergeo"
           }
          ],
          "scattergl": [
           {
            "marker": {
             "colorbar": {
              "outlinewidth": 0,
              "ticks": ""
             }
            },
            "type": "scattergl"
           }
          ],
          "scattermapbox": [
           {
            "marker": {
             "colorbar": {
              "outlinewidth": 0,
              "ticks": ""
             }
            },
            "type": "scattermapbox"
           }
          ],
          "scatterpolar": [
           {
            "marker": {
             "colorbar": {
              "outlinewidth": 0,
              "ticks": ""
             }
            },
            "type": "scatterpolar"
           }
          ],
          "scatterpolargl": [
           {
            "marker": {
             "colorbar": {
              "outlinewidth": 0,
              "ticks": ""
             }
            },
            "type": "scatterpolargl"
           }
          ],
          "scatterternary": [
           {
            "marker": {
             "colorbar": {
              "outlinewidth": 0,
              "ticks": ""
             }
            },
            "type": "scatterternary"
           }
          ],
          "surface": [
           {
            "colorbar": {
             "outlinewidth": 0,
             "ticks": ""
            },
            "colorscale": [
             [
              0,
              "#0d0887"
             ],
             [
              0.1111111111111111,
              "#46039f"
             ],
             [
              0.2222222222222222,
              "#7201a8"
             ],
             [
              0.3333333333333333,
              "#9c179e"
             ],
             [
              0.4444444444444444,
              "#bd3786"
             ],
             [
              0.5555555555555556,
              "#d8576b"
             ],
             [
              0.6666666666666666,
              "#ed7953"
             ],
             [
              0.7777777777777778,
              "#fb9f3a"
             ],
             [
              0.8888888888888888,
              "#fdca26"
             ],
             [
              1,
              "#f0f921"
             ]
            ],
            "type": "surface"
           }
          ],
          "table": [
           {
            "cells": {
             "fill": {
              "color": "#EBF0F8"
             },
             "line": {
              "color": "white"
             }
            },
            "header": {
             "fill": {
              "color": "#C8D4E3"
             },
             "line": {
              "color": "white"
             }
            },
            "type": "table"
           }
          ]
         },
         "layout": {
          "annotationdefaults": {
           "arrowcolor": "#2a3f5f",
           "arrowhead": 0,
           "arrowwidth": 1
          },
          "autotypenumbers": "strict",
          "coloraxis": {
           "colorbar": {
            "outlinewidth": 0,
            "ticks": ""
           }
          },
          "colorscale": {
           "diverging": [
            [
             0,
             "#8e0152"
            ],
            [
             0.1,
             "#c51b7d"
            ],
            [
             0.2,
             "#de77ae"
            ],
            [
             0.3,
             "#f1b6da"
            ],
            [
             0.4,
             "#fde0ef"
            ],
            [
             0.5,
             "#f7f7f7"
            ],
            [
             0.6,
             "#e6f5d0"
            ],
            [
             0.7,
             "#b8e186"
            ],
            [
             0.8,
             "#7fbc41"
            ],
            [
             0.9,
             "#4d9221"
            ],
            [
             1,
             "#276419"
            ]
           ],
           "sequential": [
            [
             0,
             "#0d0887"
            ],
            [
             0.1111111111111111,
             "#46039f"
            ],
            [
             0.2222222222222222,
             "#7201a8"
            ],
            [
             0.3333333333333333,
             "#9c179e"
            ],
            [
             0.4444444444444444,
             "#bd3786"
            ],
            [
             0.5555555555555556,
             "#d8576b"
            ],
            [
             0.6666666666666666,
             "#ed7953"
            ],
            [
             0.7777777777777778,
             "#fb9f3a"
            ],
            [
             0.8888888888888888,
             "#fdca26"
            ],
            [
             1,
             "#f0f921"
            ]
           ],
           "sequentialminus": [
            [
             0,
             "#0d0887"
            ],
            [
             0.1111111111111111,
             "#46039f"
            ],
            [
             0.2222222222222222,
             "#7201a8"
            ],
            [
             0.3333333333333333,
             "#9c179e"
            ],
            [
             0.4444444444444444,
             "#bd3786"
            ],
            [
             0.5555555555555556,
             "#d8576b"
            ],
            [
             0.6666666666666666,
             "#ed7953"
            ],
            [
             0.7777777777777778,
             "#fb9f3a"
            ],
            [
             0.8888888888888888,
             "#fdca26"
            ],
            [
             1,
             "#f0f921"
            ]
           ]
          },
          "colorway": [
           "#636efa",
           "#EF553B",
           "#00cc96",
           "#ab63fa",
           "#FFA15A",
           "#19d3f3",
           "#FF6692",
           "#B6E880",
           "#FF97FF",
           "#FECB52"
          ],
          "font": {
           "color": "#2a3f5f"
          },
          "geo": {
           "bgcolor": "white",
           "lakecolor": "white",
           "landcolor": "#E5ECF6",
           "showlakes": true,
           "showland": true,
           "subunitcolor": "white"
          },
          "hoverlabel": {
           "align": "left"
          },
          "hovermode": "closest",
          "mapbox": {
           "style": "light"
          },
          "paper_bgcolor": "white",
          "plot_bgcolor": "#E5ECF6",
          "polar": {
           "angularaxis": {
            "gridcolor": "white",
            "linecolor": "white",
            "ticks": ""
           },
           "bgcolor": "#E5ECF6",
           "radialaxis": {
            "gridcolor": "white",
            "linecolor": "white",
            "ticks": ""
           }
          },
          "scene": {
           "xaxis": {
            "backgroundcolor": "#E5ECF6",
            "gridcolor": "white",
            "gridwidth": 2,
            "linecolor": "white",
            "showbackground": true,
            "ticks": "",
            "zerolinecolor": "white"
           },
           "yaxis": {
            "backgroundcolor": "#E5ECF6",
            "gridcolor": "white",
            "gridwidth": 2,
            "linecolor": "white",
            "showbackground": true,
            "ticks": "",
            "zerolinecolor": "white"
           },
           "zaxis": {
            "backgroundcolor": "#E5ECF6",
            "gridcolor": "white",
            "gridwidth": 2,
            "linecolor": "white",
            "showbackground": true,
            "ticks": "",
            "zerolinecolor": "white"
           }
          },
          "shapedefaults": {
           "line": {
            "color": "#2a3f5f"
           }
          },
          "ternary": {
           "aaxis": {
            "gridcolor": "white",
            "linecolor": "white",
            "ticks": ""
           },
           "baxis": {
            "gridcolor": "white",
            "linecolor": "white",
            "ticks": ""
           },
           "bgcolor": "#E5ECF6",
           "caxis": {
            "gridcolor": "white",
            "linecolor": "white",
            "ticks": ""
           }
          },
          "title": {
           "x": 0.05
          },
          "xaxis": {
           "automargin": true,
           "gridcolor": "white",
           "linecolor": "white",
           "ticks": "",
           "title": {
            "standoff": 15
           },
           "zerolinecolor": "white",
           "zerolinewidth": 2
          },
          "yaxis": {
           "automargin": true,
           "gridcolor": "white",
           "linecolor": "white",
           "ticks": "",
           "title": {
            "standoff": 15
           },
           "zerolinecolor": "white",
           "zerolinewidth": 2
          }
         }
        }
       }
      }
     },
     "metadata": {},
     "output_type": "display_data"
    }
   ],
   "source": [
    "def f(x, y):\n",
    "    return np.cos(x) * np.sin(y)\n",
    "x, y, z, p = get_xyzpdata(-2, 3, 10, -2, 3, 10, 0, 1, f)\n",
    "\n",
    "func = LeastSquare2D(x, y, z, p, 5)\n",
    "\n",
    "x_pred = np.linspace(min(x), max(x), 40)\n",
    "y_pred = np.linspace(min(y), max(y), 40)\n",
    "z_graph = [[func(xi, yi) for xi in x_pred]for yi in y_pred]\n",
    "\n",
    "fig = px.scatter_3d(x=x, y=y, z=z)\n",
    "fig.add_trace(go.Surface(x=x_pred, y=y_pred, z=z_graph))\n",
    "fig.show()"
   ]
  },
  {
   "cell_type": "markdown",
   "metadata": {},
   "source": [
    "# Приближённое решение ОДУ"
   ]
  },
  {
   "cell_type": "code",
   "execution_count": 43,
   "metadata": {},
   "outputs": [
    {
     "data": {
      "application/vnd.plotly.v1+json": {
       "config": {
        "plotlyServerURL": "https://plot.ly"
       },
       "data": [
        {
         "hovertemplate": "<extra></extra>",
         "legendgroup": "",
         "line": {
          "color": "#636efa",
          "dash": "solid"
         },
         "marker": {
          "symbol": "circle"
         },
         "mode": "lines",
         "name": "",
         "orientation": "v",
         "showlegend": false,
         "type": "scatter",
         "xaxis": "x",
         "yaxis": "y"
        },
        {
         "name": "Точное решение",
         "type": "scatter",
         "x": [
          0,
          0.010101010101010102,
          0.020202020202020204,
          0.030303030303030304,
          0.04040404040404041,
          0.05050505050505051,
          0.06060606060606061,
          0.07070707070707072,
          0.08080808080808081,
          0.09090909090909091,
          0.10101010101010102,
          0.11111111111111112,
          0.12121212121212122,
          0.13131313131313133,
          0.14141414141414144,
          0.15151515151515152,
          0.16161616161616163,
          0.17171717171717174,
          0.18181818181818182,
          0.19191919191919193,
          0.20202020202020204,
          0.21212121212121213,
          0.22222222222222224,
          0.23232323232323235,
          0.24242424242424243,
          0.25252525252525254,
          0.26262626262626265,
          0.27272727272727276,
          0.2828282828282829,
          0.29292929292929293,
          0.30303030303030304,
          0.31313131313131315,
          0.32323232323232326,
          0.33333333333333337,
          0.3434343434343435,
          0.3535353535353536,
          0.36363636363636365,
          0.37373737373737376,
          0.38383838383838387,
          0.393939393939394,
          0.4040404040404041,
          0.4141414141414142,
          0.42424242424242425,
          0.43434343434343436,
          0.4444444444444445,
          0.4545454545454546,
          0.4646464646464647,
          0.4747474747474748,
          0.48484848484848486,
          0.494949494949495,
          0.5050505050505051,
          0.5151515151515152,
          0.5252525252525253,
          0.5353535353535354,
          0.5454545454545455,
          0.5555555555555556,
          0.5656565656565657,
          0.5757575757575758,
          0.5858585858585859,
          0.595959595959596,
          0.6060606060606061,
          0.6161616161616162,
          0.6262626262626263,
          0.6363636363636365,
          0.6464646464646465,
          0.6565656565656566,
          0.6666666666666667,
          0.6767676767676768,
          0.686868686868687,
          0.696969696969697,
          0.7070707070707072,
          0.7171717171717172,
          0.7272727272727273,
          0.7373737373737375,
          0.7474747474747475,
          0.7575757575757577,
          0.7676767676767677,
          0.7777777777777778,
          0.787878787878788,
          0.797979797979798,
          0.8080808080808082,
          0.8181818181818182,
          0.8282828282828284,
          0.8383838383838385,
          0.8484848484848485,
          0.8585858585858587,
          0.8686868686868687,
          0.8787878787878789,
          0.888888888888889,
          0.8989898989898991,
          0.9090909090909092,
          0.9191919191919192,
          0.9292929292929294,
          0.9393939393939394,
          0.9494949494949496,
          0.9595959595959597,
          0.9696969696969697,
          0.9797979797979799,
          0.98989898989899,
          1
         ],
         "y": [
          1,
          0.9876610436464756,
          0.9752246435014205,
          0.9626954129315781,
          0.9500779927723911,
          0.937377049427359,
          0.9245972729549341,
          0.9117433751441356,
          0.8988200875800619,
          0.8858321597004934,
          0.8727843568447762,
          0.859681458296194,
          0.8465282553190242,
          0.8333295491914856,
          0.8200901492357923,
          0.8068148708465124,
          0.7935085335184473,
          0.7801759588752336,
          0.7668219686998781,
          0.7534513829684202,
          0.7400690178879239,
          0.7266796839399922,
          0.7132881839309873,
          0.6998993110501338,
          0.6865178469366829,
          0.6731485597572937,
          0.6597962022947819,
          0.6464655100493861,
          0.6331611993536712,
          0.6198879655021939,
          0.6066504808970234,
          0.5934533932102235,
          0.5803013235643517,
          0.5671988647320417,
          0.5541505793557158,
          0.5411609981884353,
          0.5282346183569144,
          0.5153759016476608,
          0.5025892728172316,
          0.48987911792752825,
          0.47724978270707274,
          0.46470557093915554,
          0.4522507428777399,
          0.4398895136919744,
          0.42762605194015224,
          0.41546447807391684,
          0.40340886297350936,
          0.39146322651479054,
          0.37963153616880896,
          0.3679177056345653,
          0.3563255935057154,
          0.34485900197179153,
          0.3335216755546324,
          0.322317299880561,
          0.3112495004889152,
          0.3003218416774413,
          0.2895378253850757,
          0.27890089011258634,
          0.2684144098815184,
          0.2580816932318771,
          0.2479059822589184,
          0.23789045168942424,
          0.22803820799777874,
          0.21835228856214894,
          0.2088356608610396,
          0.19949122171045613,
          0.19032179654188414,
          0.1813301387212657,
          0.1725189289091127,
          0.16389077446188105,
          0.15544820887468647,
          0.1471936912654176,
          0.13912960590027934,
          0.1312582617607555,
          0.12358189215196314,
          0.11610265435233358,
          0.1088226293045298,
          0.10174382134748317,
          0.09486815798940007,
          0.08819748972155605,
          0.08173358987268764,
          0.07547815450373918,
          0.06943280234271121,
          0.06359907475932258,
          0.057978435779189486,
          0.052572272137159204,
          0.04738189336947263,
          0.042408531944332695,
          0.037653343430506525,
          0.033117406703492835,
          0.028801724188828093,
          0.024707222142036245,
          0.020834750964725868,
          0.017185085556314483,
          0.01375892570084325,
          0.010556896488306267,
          0.007579548769931055,
          0.004827359646797369,
          0.002300732991183052,
          0
         ]
        },
        {
         "name": "Приближенное при степени 2",
         "type": "scatter",
         "x": [
          0,
          0.010101010101010102,
          0.020202020202020204,
          0.030303030303030304,
          0.04040404040404041,
          0.05050505050505051,
          0.06060606060606061,
          0.07070707070707072,
          0.08080808080808081,
          0.09090909090909091,
          0.10101010101010102,
          0.11111111111111112,
          0.12121212121212122,
          0.13131313131313133,
          0.14141414141414144,
          0.15151515151515152,
          0.16161616161616163,
          0.17171717171717174,
          0.18181818181818182,
          0.19191919191919193,
          0.20202020202020204,
          0.21212121212121213,
          0.22222222222222224,
          0.23232323232323235,
          0.24242424242424243,
          0.25252525252525254,
          0.26262626262626265,
          0.27272727272727276,
          0.2828282828282829,
          0.29292929292929293,
          0.30303030303030304,
          0.31313131313131315,
          0.32323232323232326,
          0.33333333333333337,
          0.3434343434343435,
          0.3535353535353536,
          0.36363636363636365,
          0.37373737373737376,
          0.38383838383838387,
          0.393939393939394,
          0.4040404040404041,
          0.4141414141414142,
          0.42424242424242425,
          0.43434343434343436,
          0.4444444444444445,
          0.4545454545454546,
          0.4646464646464647,
          0.4747474747474748,
          0.48484848484848486,
          0.494949494949495,
          0.5050505050505051,
          0.5151515151515152,
          0.5252525252525253,
          0.5353535353535354,
          0.5454545454545455,
          0.5555555555555556,
          0.5656565656565657,
          0.5757575757575758,
          0.5858585858585859,
          0.595959595959596,
          0.6060606060606061,
          0.6161616161616162,
          0.6262626262626263,
          0.6363636363636365,
          0.6464646464646465,
          0.6565656565656566,
          0.6666666666666667,
          0.6767676767676768,
          0.686868686868687,
          0.696969696969697,
          0.7070707070707072,
          0.7171717171717172,
          0.7272727272727273,
          0.7373737373737375,
          0.7474747474747475,
          0.7575757575757577,
          0.7676767676767677,
          0.7777777777777778,
          0.787878787878788,
          0.797979797979798,
          0.8080808080808082,
          0.8181818181818182,
          0.8282828282828284,
          0.8383838383838385,
          0.8484848484848485,
          0.8585858585858587,
          0.8686868686868687,
          0.8787878787878789,
          0.888888888888889,
          0.8989898989898991,
          0.9090909090909092,
          0.9191919191919192,
          0.9292929292929294,
          0.9393939393939394,
          0.9494949494949496,
          0.9595959595959597,
          0.9696969696969697,
          0.9797979797979799,
          0.98989898989899,
          1
         ],
         "y": [
          0,
          0.024847354618503226,
          0.04911438294705213,
          0.0728010849856467,
          0.09590746073428696,
          0.1184335101929729,
          0.1403792333617045,
          0.1617446302404818,
          0.18252970082930473,
          0.20273444512817337,
          0.22235886313708766,
          0.24140295485604768,
          0.2598667202850533,
          0.27775015942410464,
          0.2950532722732017,
          0.3117760588323444,
          0.32791851910153275,
          0.3434806530807668,
          0.3584624607700465,
          0.37286394216937185,
          0.38668509727874295,
          0.3999259260981597,
          0.4125864286276221,
          0.4246666048671302,
          0.436166454816684,
          0.4470859784762834,
          0.45742517584592857,
          0.46718404692561943,
          0.4763625917153559,
          0.48496081021513804,
          0.49297870242496583,
          0.5004162683448393,
          0.5072735079747586,
          0.5135504213147233,
          0.5192470083647339,
          0.5243632691247901,
          0.5288992035948921,
          0.5328548117750396,
          0.5362300936652327,
          0.5390250492654717,
          0.5412396785757563,
          0.5428739815960866,
          0.5439279583264625,
          0.5444016087668841,
          0.5442949329173514,
          0.5436079307778644,
          0.542340602348423,
          0.5404929476290273,
          0.5380649666196773,
          0.535056659320373,
          0.5314680257311143,
          0.5272990658519012,
          0.522549779682734,
          0.5172201672236124,
          0.5113102284745367,
          0.5048199634355061,
          0.4977493721065216,
          0.4900984544875827,
          0.48186721057868964,
          0.4730556403798418,
          0.46366374389104004,
          0.45369152111228384,
          0.4431389720435732,
          0.4320060966849082,
          0.4202928950362892,
          0.40799936709771556,
          0.39512551286918773,
          0.3816713323507055,
          0.36763682554226906,
          0.35302199244387844,
          0.3378268330555332,
          0.32205134737723373,
          0.3056955354089801,
          0.2887593971507718,
          0.27124293260260934,
          0.25314614176449246,
          0.23446902463642139,
          0.21521158121839612,
          0.19537381151041644,
          0.17495571551248257,
          0.15395729322459384,
          0.13237854464675136,
          0.11021946977895425,
          0.08748006862120272,
          0.06416034117349723,
          0.040260287435837316,
          0.015779907408222993,
          -0.009280798909345744,
          -0.03492183151686845,
          -0.061143190414346016,
          -0.08794487560177755,
          -0.1153268870791635,
          -0.14328922484650386,
          -0.1718318889037982,
          -0.20095487925104738,
          -0.23065819588825098,
          -0.2609418388154081,
          -0.2918058080325201,
          -0.32325010353958605,
          -0.3552747253366064
         ]
        },
        {
         "name": "Приближенное при степени 3",
         "type": "scatter",
         "x": [
          0,
          0.010101010101010102,
          0.020202020202020204,
          0.030303030303030304,
          0.04040404040404041,
          0.05050505050505051,
          0.06060606060606061,
          0.07070707070707072,
          0.08080808080808081,
          0.09090909090909091,
          0.10101010101010102,
          0.11111111111111112,
          0.12121212121212122,
          0.13131313131313133,
          0.14141414141414144,
          0.15151515151515152,
          0.16161616161616163,
          0.17171717171717174,
          0.18181818181818182,
          0.19191919191919193,
          0.20202020202020204,
          0.21212121212121213,
          0.22222222222222224,
          0.23232323232323235,
          0.24242424242424243,
          0.25252525252525254,
          0.26262626262626265,
          0.27272727272727276,
          0.2828282828282829,
          0.29292929292929293,
          0.30303030303030304,
          0.31313131313131315,
          0.32323232323232326,
          0.33333333333333337,
          0.3434343434343435,
          0.3535353535353536,
          0.36363636363636365,
          0.37373737373737376,
          0.38383838383838387,
          0.393939393939394,
          0.4040404040404041,
          0.4141414141414142,
          0.42424242424242425,
          0.43434343434343436,
          0.4444444444444445,
          0.4545454545454546,
          0.4646464646464647,
          0.4747474747474748,
          0.48484848484848486,
          0.494949494949495,
          0.5050505050505051,
          0.5151515151515152,
          0.5252525252525253,
          0.5353535353535354,
          0.5454545454545455,
          0.5555555555555556,
          0.5656565656565657,
          0.5757575757575758,
          0.5858585858585859,
          0.595959595959596,
          0.6060606060606061,
          0.6161616161616162,
          0.6262626262626263,
          0.6363636363636365,
          0.6464646464646465,
          0.6565656565656566,
          0.6666666666666667,
          0.6767676767676768,
          0.686868686868687,
          0.696969696969697,
          0.7070707070707072,
          0.7171717171717172,
          0.7272727272727273,
          0.7373737373737375,
          0.7474747474747475,
          0.7575757575757577,
          0.7676767676767677,
          0.7777777777777778,
          0.787878787878788,
          0.797979797979798,
          0.8080808080808082,
          0.8181818181818182,
          0.8282828282828284,
          0.8383838383838385,
          0.8484848484848485,
          0.8585858585858587,
          0.8686868686868687,
          0.8787878787878789,
          0.888888888888889,
          0.8989898989898991,
          0.9090909090909092,
          0.9191919191919192,
          0.9292929292929294,
          0.9393939393939394,
          0.9494949494949496,
          0.9595959595959597,
          0.9696969696969697,
          0.9797979797979799,
          0.98989898989899,
          1
         ],
         "y": [
          0,
          0.06124041871331379,
          0.11943510074037196,
          0.174641090354509,
          0.22691543182905946,
          0.2763151694373578,
          0.3228973474527384,
          0.36671901014853586,
          0.40783720179808475,
          0.44630896667471937,
          0.4821913490517744,
          0.5155413932025843,
          0.5464161434004833,
          0.5748726439188062,
          0.6009679390308874,
          0.6247590730100614,
          0.6463030901296628,
          0.6656570346630257,
          0.6828779508834851,
          0.6980228830643751,
          0.7111488754790306,
          0.7223129724007855,
          0.731572218102975,
          0.7389836568589329,
          0.7446043329419942,
          0.748491290625493,
          0.7507015741827642,
          0.7512922278871422,
          0.7503202960119609,
          0.7478428228305558,
          0.7439168526162607,
          0.7385994296424105,
          0.7319475981823391,
          0.7240184025093814,
          0.7148688868968716,
          0.704556095618145,
          0.6931370729465354,
          0.680668863155377,
          0.6672085105180048,
          0.6528130593077537,
          0.6375395537979573,
          0.6214450382619505,
          0.6045865569730676,
          0.5870211542046432,
          0.5688058742300133,
          0.5499977613225097,
          0.5306538597554676,
          0.5108312138022231,
          0.4905868677361094,
          0.469977865830461,
          0.4490612523586124,
          0.4278940715938986,
          0.40653336780965366,
          0.385036185279213,
          0.36345956827590964,
          0.3418605610730785,
          0.32029620794405367,
          0.2988235531621717,
          0.27749964100076596,
          0.2563815157331697,
          0.23552622163271897,
          0.2149908029727472,
          0.19483230402659002,
          0.1751077690675804,
          0.155874242369054,
          0.13718876820434422,
          0.11910839084678804,
          0.1016901545697162,
          0.08499110364646656,
          0.06906828235037343,
          0.053978734954768015,
          0.03977950573298861,
          0.026527638958367294,
          0.014280178904237939,
          0.003094169843938399,
          -0.006973343949200128,
          -0.01586531820184156,
          -0.02352470864065026,
          -0.029894470992294586,
          -0.03491756098343668,
          -0.038536934340746676,
          -0.040695546790886716,
          -0.041336354060522496,
          -0.04040231187631882,
          -0.03783637596494582,
          -0.033581502053062096,
          -0.027580645867340436,
          -0.01977676313443677,
          -0.010112809581024784,
          0.0014682590662298267,
          0.015023487080667586,
          0.03060991873561658,
          0.04828459830441467,
          0.06810457006039794,
          0.09012687827689803,
          0.11440856722724568,
          0.14100668118478943,
          0.1699782644228467,
          0.20138036121476333,
          0.2352700158338692
         ]
        }
       ],
       "layout": {
        "legend": {
         "tracegroupgap": 0
        },
        "margin": {
         "t": 60
        },
        "template": {
         "data": {
          "bar": [
           {
            "error_x": {
             "color": "#2a3f5f"
            },
            "error_y": {
             "color": "#2a3f5f"
            },
            "marker": {
             "line": {
              "color": "#E5ECF6",
              "width": 0.5
             },
             "pattern": {
              "fillmode": "overlay",
              "size": 10,
              "solidity": 0.2
             }
            },
            "type": "bar"
           }
          ],
          "barpolar": [
           {
            "marker": {
             "line": {
              "color": "#E5ECF6",
              "width": 0.5
             },
             "pattern": {
              "fillmode": "overlay",
              "size": 10,
              "solidity": 0.2
             }
            },
            "type": "barpolar"
           }
          ],
          "carpet": [
           {
            "aaxis": {
             "endlinecolor": "#2a3f5f",
             "gridcolor": "white",
             "linecolor": "white",
             "minorgridcolor": "white",
             "startlinecolor": "#2a3f5f"
            },
            "baxis": {
             "endlinecolor": "#2a3f5f",
             "gridcolor": "white",
             "linecolor": "white",
             "minorgridcolor": "white",
             "startlinecolor": "#2a3f5f"
            },
            "type": "carpet"
           }
          ],
          "choropleth": [
           {
            "colorbar": {
             "outlinewidth": 0,
             "ticks": ""
            },
            "type": "choropleth"
           }
          ],
          "contour": [
           {
            "colorbar": {
             "outlinewidth": 0,
             "ticks": ""
            },
            "colorscale": [
             [
              0,
              "#0d0887"
             ],
             [
              0.1111111111111111,
              "#46039f"
             ],
             [
              0.2222222222222222,
              "#7201a8"
             ],
             [
              0.3333333333333333,
              "#9c179e"
             ],
             [
              0.4444444444444444,
              "#bd3786"
             ],
             [
              0.5555555555555556,
              "#d8576b"
             ],
             [
              0.6666666666666666,
              "#ed7953"
             ],
             [
              0.7777777777777778,
              "#fb9f3a"
             ],
             [
              0.8888888888888888,
              "#fdca26"
             ],
             [
              1,
              "#f0f921"
             ]
            ],
            "type": "contour"
           }
          ],
          "contourcarpet": [
           {
            "colorbar": {
             "outlinewidth": 0,
             "ticks": ""
            },
            "type": "contourcarpet"
           }
          ],
          "heatmap": [
           {
            "colorbar": {
             "outlinewidth": 0,
             "ticks": ""
            },
            "colorscale": [
             [
              0,
              "#0d0887"
             ],
             [
              0.1111111111111111,
              "#46039f"
             ],
             [
              0.2222222222222222,
              "#7201a8"
             ],
             [
              0.3333333333333333,
              "#9c179e"
             ],
             [
              0.4444444444444444,
              "#bd3786"
             ],
             [
              0.5555555555555556,
              "#d8576b"
             ],
             [
              0.6666666666666666,
              "#ed7953"
             ],
             [
              0.7777777777777778,
              "#fb9f3a"
             ],
             [
              0.8888888888888888,
              "#fdca26"
             ],
             [
              1,
              "#f0f921"
             ]
            ],
            "type": "heatmap"
           }
          ],
          "heatmapgl": [
           {
            "colorbar": {
             "outlinewidth": 0,
             "ticks": ""
            },
            "colorscale": [
             [
              0,
              "#0d0887"
             ],
             [
              0.1111111111111111,
              "#46039f"
             ],
             [
              0.2222222222222222,
              "#7201a8"
             ],
             [
              0.3333333333333333,
              "#9c179e"
             ],
             [
              0.4444444444444444,
              "#bd3786"
             ],
             [
              0.5555555555555556,
              "#d8576b"
             ],
             [
              0.6666666666666666,
              "#ed7953"
             ],
             [
              0.7777777777777778,
              "#fb9f3a"
             ],
             [
              0.8888888888888888,
              "#fdca26"
             ],
             [
              1,
              "#f0f921"
             ]
            ],
            "type": "heatmapgl"
           }
          ],
          "histogram": [
           {
            "marker": {
             "pattern": {
              "fillmode": "overlay",
              "size": 10,
              "solidity": 0.2
             }
            },
            "type": "histogram"
           }
          ],
          "histogram2d": [
           {
            "colorbar": {
             "outlinewidth": 0,
             "ticks": ""
            },
            "colorscale": [
             [
              0,
              "#0d0887"
             ],
             [
              0.1111111111111111,
              "#46039f"
             ],
             [
              0.2222222222222222,
              "#7201a8"
             ],
             [
              0.3333333333333333,
              "#9c179e"
             ],
             [
              0.4444444444444444,
              "#bd3786"
             ],
             [
              0.5555555555555556,
              "#d8576b"
             ],
             [
              0.6666666666666666,
              "#ed7953"
             ],
             [
              0.7777777777777778,
              "#fb9f3a"
             ],
             [
              0.8888888888888888,
              "#fdca26"
             ],
             [
              1,
              "#f0f921"
             ]
            ],
            "type": "histogram2d"
           }
          ],
          "histogram2dcontour": [
           {
            "colorbar": {
             "outlinewidth": 0,
             "ticks": ""
            },
            "colorscale": [
             [
              0,
              "#0d0887"
             ],
             [
              0.1111111111111111,
              "#46039f"
             ],
             [
              0.2222222222222222,
              "#7201a8"
             ],
             [
              0.3333333333333333,
              "#9c179e"
             ],
             [
              0.4444444444444444,
              "#bd3786"
             ],
             [
              0.5555555555555556,
              "#d8576b"
             ],
             [
              0.6666666666666666,
              "#ed7953"
             ],
             [
              0.7777777777777778,
              "#fb9f3a"
             ],
             [
              0.8888888888888888,
              "#fdca26"
             ],
             [
              1,
              "#f0f921"
             ]
            ],
            "type": "histogram2dcontour"
           }
          ],
          "mesh3d": [
           {
            "colorbar": {
             "outlinewidth": 0,
             "ticks": ""
            },
            "type": "mesh3d"
           }
          ],
          "parcoords": [
           {
            "line": {
             "colorbar": {
              "outlinewidth": 0,
              "ticks": ""
             }
            },
            "type": "parcoords"
           }
          ],
          "pie": [
           {
            "automargin": true,
            "type": "pie"
           }
          ],
          "scatter": [
           {
            "fillpattern": {
             "fillmode": "overlay",
             "size": 10,
             "solidity": 0.2
            },
            "type": "scatter"
           }
          ],
          "scatter3d": [
           {
            "line": {
             "colorbar": {
              "outlinewidth": 0,
              "ticks": ""
             }
            },
            "marker": {
             "colorbar": {
              "outlinewidth": 0,
              "ticks": ""
             }
            },
            "type": "scatter3d"
           }
          ],
          "scattercarpet": [
           {
            "marker": {
             "colorbar": {
              "outlinewidth": 0,
              "ticks": ""
             }
            },
            "type": "scattercarpet"
           }
          ],
          "scattergeo": [
           {
            "marker": {
             "colorbar": {
              "outlinewidth": 0,
              "ticks": ""
             }
            },
            "type": "scattergeo"
           }
          ],
          "scattergl": [
           {
            "marker": {
             "colorbar": {
              "outlinewidth": 0,
              "ticks": ""
             }
            },
            "type": "scattergl"
           }
          ],
          "scattermapbox": [
           {
            "marker": {
             "colorbar": {
              "outlinewidth": 0,
              "ticks": ""
             }
            },
            "type": "scattermapbox"
           }
          ],
          "scatterpolar": [
           {
            "marker": {
             "colorbar": {
              "outlinewidth": 0,
              "ticks": ""
             }
            },
            "type": "scatterpolar"
           }
          ],
          "scatterpolargl": [
           {
            "marker": {
             "colorbar": {
              "outlinewidth": 0,
              "ticks": ""
             }
            },
            "type": "scatterpolargl"
           }
          ],
          "scatterternary": [
           {
            "marker": {
             "colorbar": {
              "outlinewidth": 0,
              "ticks": ""
             }
            },
            "type": "scatterternary"
           }
          ],
          "surface": [
           {
            "colorbar": {
             "outlinewidth": 0,
             "ticks": ""
            },
            "colorscale": [
             [
              0,
              "#0d0887"
             ],
             [
              0.1111111111111111,
              "#46039f"
             ],
             [
              0.2222222222222222,
              "#7201a8"
             ],
             [
              0.3333333333333333,
              "#9c179e"
             ],
             [
              0.4444444444444444,
              "#bd3786"
             ],
             [
              0.5555555555555556,
              "#d8576b"
             ],
             [
              0.6666666666666666,
              "#ed7953"
             ],
             [
              0.7777777777777778,
              "#fb9f3a"
             ],
             [
              0.8888888888888888,
              "#fdca26"
             ],
             [
              1,
              "#f0f921"
             ]
            ],
            "type": "surface"
           }
          ],
          "table": [
           {
            "cells": {
             "fill": {
              "color": "#EBF0F8"
             },
             "line": {
              "color": "white"
             }
            },
            "header": {
             "fill": {
              "color": "#C8D4E3"
             },
             "line": {
              "color": "white"
             }
            },
            "type": "table"
           }
          ]
         },
         "layout": {
          "annotationdefaults": {
           "arrowcolor": "#2a3f5f",
           "arrowhead": 0,
           "arrowwidth": 1
          },
          "autotypenumbers": "strict",
          "coloraxis": {
           "colorbar": {
            "outlinewidth": 0,
            "ticks": ""
           }
          },
          "colorscale": {
           "diverging": [
            [
             0,
             "#8e0152"
            ],
            [
             0.1,
             "#c51b7d"
            ],
            [
             0.2,
             "#de77ae"
            ],
            [
             0.3,
             "#f1b6da"
            ],
            [
             0.4,
             "#fde0ef"
            ],
            [
             0.5,
             "#f7f7f7"
            ],
            [
             0.6,
             "#e6f5d0"
            ],
            [
             0.7,
             "#b8e186"
            ],
            [
             0.8,
             "#7fbc41"
            ],
            [
             0.9,
             "#4d9221"
            ],
            [
             1,
             "#276419"
            ]
           ],
           "sequential": [
            [
             0,
             "#0d0887"
            ],
            [
             0.1111111111111111,
             "#46039f"
            ],
            [
             0.2222222222222222,
             "#7201a8"
            ],
            [
             0.3333333333333333,
             "#9c179e"
            ],
            [
             0.4444444444444444,
             "#bd3786"
            ],
            [
             0.5555555555555556,
             "#d8576b"
            ],
            [
             0.6666666666666666,
             "#ed7953"
            ],
            [
             0.7777777777777778,
             "#fb9f3a"
            ],
            [
             0.8888888888888888,
             "#fdca26"
            ],
            [
             1,
             "#f0f921"
            ]
           ],
           "sequentialminus": [
            [
             0,
             "#0d0887"
            ],
            [
             0.1111111111111111,
             "#46039f"
            ],
            [
             0.2222222222222222,
             "#7201a8"
            ],
            [
             0.3333333333333333,
             "#9c179e"
            ],
            [
             0.4444444444444444,
             "#bd3786"
            ],
            [
             0.5555555555555556,
             "#d8576b"
            ],
            [
             0.6666666666666666,
             "#ed7953"
            ],
            [
             0.7777777777777778,
             "#fb9f3a"
            ],
            [
             0.8888888888888888,
             "#fdca26"
            ],
            [
             1,
             "#f0f921"
            ]
           ]
          },
          "colorway": [
           "#636efa",
           "#EF553B",
           "#00cc96",
           "#ab63fa",
           "#FFA15A",
           "#19d3f3",
           "#FF6692",
           "#B6E880",
           "#FF97FF",
           "#FECB52"
          ],
          "font": {
           "color": "#2a3f5f"
          },
          "geo": {
           "bgcolor": "white",
           "lakecolor": "white",
           "landcolor": "#E5ECF6",
           "showlakes": true,
           "showland": true,
           "subunitcolor": "white"
          },
          "hoverlabel": {
           "align": "left"
          },
          "hovermode": "closest",
          "mapbox": {
           "style": "light"
          },
          "paper_bgcolor": "white",
          "plot_bgcolor": "#E5ECF6",
          "polar": {
           "angularaxis": {
            "gridcolor": "white",
            "linecolor": "white",
            "ticks": ""
           },
           "bgcolor": "#E5ECF6",
           "radialaxis": {
            "gridcolor": "white",
            "linecolor": "white",
            "ticks": ""
           }
          },
          "scene": {
           "xaxis": {
            "backgroundcolor": "#E5ECF6",
            "gridcolor": "white",
            "gridwidth": 2,
            "linecolor": "white",
            "showbackground": true,
            "ticks": "",
            "zerolinecolor": "white"
           },
           "yaxis": {
            "backgroundcolor": "#E5ECF6",
            "gridcolor": "white",
            "gridwidth": 2,
            "linecolor": "white",
            "showbackground": true,
            "ticks": "",
            "zerolinecolor": "white"
           },
           "zaxis": {
            "backgroundcolor": "#E5ECF6",
            "gridcolor": "white",
            "gridwidth": 2,
            "linecolor": "white",
            "showbackground": true,
            "ticks": "",
            "zerolinecolor": "white"
           }
          },
          "shapedefaults": {
           "line": {
            "color": "#2a3f5f"
           }
          },
          "ternary": {
           "aaxis": {
            "gridcolor": "white",
            "linecolor": "white",
            "ticks": ""
           },
           "baxis": {
            "gridcolor": "white",
            "linecolor": "white",
            "ticks": ""
           },
           "bgcolor": "#E5ECF6",
           "caxis": {
            "gridcolor": "white",
            "linecolor": "white",
            "ticks": ""
           }
          },
          "title": {
           "x": 0.05
          },
          "xaxis": {
           "automargin": true,
           "gridcolor": "white",
           "linecolor": "white",
           "ticks": "",
           "title": {
            "standoff": 15
           },
           "zerolinecolor": "white",
           "zerolinewidth": 2
          },
          "yaxis": {
           "automargin": true,
           "gridcolor": "white",
           "linecolor": "white",
           "ticks": "",
           "title": {
            "standoff": 15
           },
           "zerolinecolor": "white",
           "zerolinewidth": 2
          }
         }
        },
        "xaxis": {
         "anchor": "y",
         "domain": [
          0,
          1
         ]
        },
        "yaxis": {
         "anchor": "x",
         "domain": [
          0,
          1
         ]
        }
       }
      }
     },
     "metadata": {},
     "output_type": "display_data"
    }
   ],
   "source": [
    "def ODESolution(x):\n",
    "    return ((-(np.exp(0.5) + 1) / erfi(1 / np.sqrt(2))) * erfi(x / np.sqrt(2)) + 1) / np.exp(x ** 2 / 2) + x\n",
    "    # return x ** 2\n",
    "\n",
    "\n",
    "def func1(x):\n",
    "    return x\n",
    "\n",
    "def func2(x):\n",
    "    return x ** 2\n",
    "\n",
    "def func3(x):\n",
    "    return x ** 3\n",
    "\n",
    "x = np.linspace(0, 1, 100)\n",
    "y = [ODESolution(xp) for xp in x]\n",
    "\n",
    "f_pred2 = GetApproximateODE(x, y, 2, [func1, func2])\n",
    "f_pred3 = GetApproximateODE(x, y, 3, [func1, func2, func3])\n",
    "\n",
    "y_pred2 = [f_pred2(xp) for xp in x]\n",
    "y_pred3 = [f_pred3(xp) for xp in x]\n",
    "\n",
    "fig = px.line()\n",
    "fig.add_trace(go.Scatter(x=x, y=y, name=\"Точное решение\"))\n",
    "fig.add_trace(go.Scatter(x=x, y=y_pred2, name=\"Приближенное при степени 2\"))\n",
    "fig.add_trace(go.Scatter(x=x, y=y_pred3, name=\"Приближенное при степени 3\"))\n",
    "\n",
    "fig.show()"
   ]
  },
  {
   "cell_type": "code",
   "execution_count": 44,
   "metadata": {},
   "outputs": [
    {
     "data": {
      "application/vnd.plotly.v1+json": {
       "config": {
        "plotlyServerURL": "https://plot.ly"
       },
       "data": [
        {
         "hovertemplate": "<extra></extra>",
         "legendgroup": "",
         "line": {
          "color": "#636efa",
          "dash": "solid"
         },
         "marker": {
          "symbol": "circle"
         },
         "mode": "lines",
         "name": "",
         "orientation": "v",
         "showlegend": false,
         "type": "scatter",
         "xaxis": "x",
         "yaxis": "y"
        },
        {
         "name": "Точное решение",
         "type": "scatter",
         "x": [
          0,
          0.010101010101010102,
          0.020202020202020204,
          0.030303030303030304,
          0.04040404040404041,
          0.05050505050505051,
          0.06060606060606061,
          0.07070707070707072,
          0.08080808080808081,
          0.09090909090909091,
          0.10101010101010102,
          0.11111111111111112,
          0.12121212121212122,
          0.13131313131313133,
          0.14141414141414144,
          0.15151515151515152,
          0.16161616161616163,
          0.17171717171717174,
          0.18181818181818182,
          0.19191919191919193,
          0.20202020202020204,
          0.21212121212121213,
          0.22222222222222224,
          0.23232323232323235,
          0.24242424242424243,
          0.25252525252525254,
          0.26262626262626265,
          0.27272727272727276,
          0.2828282828282829,
          0.29292929292929293,
          0.30303030303030304,
          0.31313131313131315,
          0.32323232323232326,
          0.33333333333333337,
          0.3434343434343435,
          0.3535353535353536,
          0.36363636363636365,
          0.37373737373737376,
          0.38383838383838387,
          0.393939393939394,
          0.4040404040404041,
          0.4141414141414142,
          0.42424242424242425,
          0.43434343434343436,
          0.4444444444444445,
          0.4545454545454546,
          0.4646464646464647,
          0.4747474747474748,
          0.48484848484848486,
          0.494949494949495,
          0.5050505050505051,
          0.5151515151515152,
          0.5252525252525253,
          0.5353535353535354,
          0.5454545454545455,
          0.5555555555555556,
          0.5656565656565657,
          0.5757575757575758,
          0.5858585858585859,
          0.595959595959596,
          0.6060606060606061,
          0.6161616161616162,
          0.6262626262626263,
          0.6363636363636365,
          0.6464646464646465,
          0.6565656565656566,
          0.6666666666666667,
          0.6767676767676768,
          0.686868686868687,
          0.696969696969697,
          0.7070707070707072,
          0.7171717171717172,
          0.7272727272727273,
          0.7373737373737375,
          0.7474747474747475,
          0.7575757575757577,
          0.7676767676767677,
          0.7777777777777778,
          0.787878787878788,
          0.797979797979798,
          0.8080808080808082,
          0.8181818181818182,
          0.8282828282828284,
          0.8383838383838385,
          0.8484848484848485,
          0.8585858585858587,
          0.8686868686868687,
          0.8787878787878789,
          0.888888888888889,
          0.8989898989898991,
          0.9090909090909092,
          0.9191919191919192,
          0.9292929292929294,
          0.9393939393939394,
          0.9494949494949496,
          0.9595959595959597,
          0.9696969696969697,
          0.9797979797979799,
          0.98989898989899,
          1
         ],
         "y": [
          1,
          0.9876610436464756,
          0.9752246435014205,
          0.9626954129315781,
          0.9500779927723911,
          0.937377049427359,
          0.9245972729549341,
          0.9117433751441356,
          0.8988200875800619,
          0.8858321597004934,
          0.8727843568447762,
          0.859681458296194,
          0.8465282553190242,
          0.8333295491914856,
          0.8200901492357923,
          0.8068148708465124,
          0.7935085335184473,
          0.7801759588752336,
          0.7668219686998781,
          0.7534513829684202,
          0.7400690178879239,
          0.7266796839399922,
          0.7132881839309873,
          0.6998993110501338,
          0.6865178469366829,
          0.6731485597572937,
          0.6597962022947819,
          0.6464655100493861,
          0.6331611993536712,
          0.6198879655021939,
          0.6066504808970234,
          0.5934533932102235,
          0.5803013235643517,
          0.5671988647320417,
          0.5541505793557158,
          0.5411609981884353,
          0.5282346183569144,
          0.5153759016476608,
          0.5025892728172316,
          0.48987911792752825,
          0.47724978270707274,
          0.46470557093915554,
          0.4522507428777399,
          0.4398895136919744,
          0.42762605194015224,
          0.41546447807391684,
          0.40340886297350936,
          0.39146322651479054,
          0.37963153616880896,
          0.3679177056345653,
          0.3563255935057154,
          0.34485900197179153,
          0.3335216755546324,
          0.322317299880561,
          0.3112495004889152,
          0.3003218416774413,
          0.2895378253850757,
          0.27890089011258634,
          0.2684144098815184,
          0.2580816932318771,
          0.2479059822589184,
          0.23789045168942424,
          0.22803820799777874,
          0.21835228856214894,
          0.2088356608610396,
          0.19949122171045613,
          0.19032179654188414,
          0.1813301387212657,
          0.1725189289091127,
          0.16389077446188105,
          0.15544820887468647,
          0.1471936912654176,
          0.13912960590027934,
          0.1312582617607555,
          0.12358189215196314,
          0.11610265435233358,
          0.1088226293045298,
          0.10174382134748317,
          0.09486815798940007,
          0.08819748972155605,
          0.08173358987268764,
          0.07547815450373918,
          0.06943280234271121,
          0.06359907475932258,
          0.057978435779189486,
          0.052572272137159204,
          0.04738189336947263,
          0.042408531944332695,
          0.037653343430506525,
          0.033117406703492835,
          0.028801724188828093,
          0.024707222142036245,
          0.020834750964725868,
          0.017185085556314483,
          0.01375892570084325,
          0.010556896488306267,
          0.007579548769931055,
          0.004827359646797369,
          0.002300732991183052,
          0
         ]
        },
        {
         "name": "Приближенное при степени 2",
         "type": "scatter",
         "x": [
          0,
          0.010101010101010102,
          0.020202020202020204,
          0.030303030303030304,
          0.04040404040404041,
          0.05050505050505051,
          0.06060606060606061,
          0.07070707070707072,
          0.08080808080808081,
          0.09090909090909091,
          0.10101010101010102,
          0.11111111111111112,
          0.12121212121212122,
          0.13131313131313133,
          0.14141414141414144,
          0.15151515151515152,
          0.16161616161616163,
          0.17171717171717174,
          0.18181818181818182,
          0.19191919191919193,
          0.20202020202020204,
          0.21212121212121213,
          0.22222222222222224,
          0.23232323232323235,
          0.24242424242424243,
          0.25252525252525254,
          0.26262626262626265,
          0.27272727272727276,
          0.2828282828282829,
          0.29292929292929293,
          0.30303030303030304,
          0.31313131313131315,
          0.32323232323232326,
          0.33333333333333337,
          0.3434343434343435,
          0.3535353535353536,
          0.36363636363636365,
          0.37373737373737376,
          0.38383838383838387,
          0.393939393939394,
          0.4040404040404041,
          0.4141414141414142,
          0.42424242424242425,
          0.43434343434343436,
          0.4444444444444445,
          0.4545454545454546,
          0.4646464646464647,
          0.4747474747474748,
          0.48484848484848486,
          0.494949494949495,
          0.5050505050505051,
          0.5151515151515152,
          0.5252525252525253,
          0.5353535353535354,
          0.5454545454545455,
          0.5555555555555556,
          0.5656565656565657,
          0.5757575757575758,
          0.5858585858585859,
          0.595959595959596,
          0.6060606060606061,
          0.6161616161616162,
          0.6262626262626263,
          0.6363636363636365,
          0.6464646464646465,
          0.6565656565656566,
          0.6666666666666667,
          0.6767676767676768,
          0.686868686868687,
          0.696969696969697,
          0.7070707070707072,
          0.7171717171717172,
          0.7272727272727273,
          0.7373737373737375,
          0.7474747474747475,
          0.7575757575757577,
          0.7676767676767677,
          0.7777777777777778,
          0.787878787878788,
          0.797979797979798,
          0.8080808080808082,
          0.8181818181818182,
          0.8282828282828284,
          0.8383838383838385,
          0.8484848484848485,
          0.8585858585858587,
          0.8686868686868687,
          0.8787878787878789,
          0.888888888888889,
          0.8989898989898991,
          0.9090909090909092,
          0.9191919191919192,
          0.9292929292929294,
          0.9393939393939394,
          0.9494949494949496,
          0.9595959595959597,
          0.9696969696969697,
          0.9797979797979799,
          0.98989898989899,
          1
         ],
         "y": [
          0.9388907901918286,
          0.9282212975357796,
          0.9175518048797308,
          0.9068823122236818,
          0.8962128195676328,
          0.8855433269115838,
          0.8748738342555349,
          0.8642043415994859,
          0.8535348489434369,
          0.842865356287388,
          0.832195863631339,
          0.82152637097529,
          0.8108568783192411,
          0.8001873856631921,
          0.7895178930071431,
          0.7788484003510942,
          0.7681789076950452,
          0.7575094150389963,
          0.7468399223829473,
          0.7361704297268983,
          0.7255009370708494,
          0.7148314444148004,
          0.7041619517587514,
          0.6934924591027025,
          0.6828229664466535,
          0.6721534737906045,
          0.6614839811345556,
          0.6508144884785065,
          0.6401449958224577,
          0.6294755031664088,
          0.6188060105103597,
          0.6081365178543108,
          0.5974670251982618,
          0.5867975325422128,
          0.5761280398861639,
          0.5654585472301148,
          0.5547890545740659,
          0.544119561918017,
          0.533450069261968,
          0.522780576605919,
          0.5121110839498701,
          0.501441591293821,
          0.49077209863777216,
          0.4801026059817232,
          0.4694331133256742,
          0.4587636206696253,
          0.4480941280135763,
          0.4374246353575273,
          0.4267551427014784,
          0.4160856500454294,
          0.4054161573893804,
          0.3947466647333314,
          0.38407717207728254,
          0.37340767942123354,
          0.36273818676518454,
          0.35206869410913566,
          0.34139920145308666,
          0.33072970879703767,
          0.3200602161409888,
          0.3093907234849398,
          0.2987212308288908,
          0.2880517381728418,
          0.2773822455167929,
          0.2667127528607438,
          0.2560432602046949,
          0.24537376754864604,
          0.23470427489259704,
          0.22403478223654805,
          0.21336528958049905,
          0.20269579692445017,
          0.19202630426840106,
          0.18135681161235218,
          0.1706873189563033,
          0.1600178263002543,
          0.1493483336442053,
          0.1386788409881563,
          0.12800934833210742,
          0.11733985567605842,
          0.10667036302000943,
          0.09600087036396054,
          0.08533137770791155,
          0.07466188505186255,
          0.06399239239581356,
          0.05332289973976467,
          0.04265340708371568,
          0.03198391442766668,
          0.021314421771617797,
          0.010644929115568691,
          -0.000024563540480193602,
          -0.01069405619652919,
          -0.021363548852578074,
          -0.03203304150862707,
          -0.042702534164676065,
          -0.05337202682072495,
          -0.06404151947677406,
          -0.07471101213282294,
          -0.08538050478887182,
          -0.09604999744492093,
          -0.10671949010096982,
          -0.1173889827570187
         ]
        },
        {
         "name": "Приближенное при степени 3",
         "type": "scatter",
         "x": [
          0,
          0.010101010101010102,
          0.020202020202020204,
          0.030303030303030304,
          0.04040404040404041,
          0.05050505050505051,
          0.06060606060606061,
          0.07070707070707072,
          0.08080808080808081,
          0.09090909090909091,
          0.10101010101010102,
          0.11111111111111112,
          0.12121212121212122,
          0.13131313131313133,
          0.14141414141414144,
          0.15151515151515152,
          0.16161616161616163,
          0.17171717171717174,
          0.18181818181818182,
          0.19191919191919193,
          0.20202020202020204,
          0.21212121212121213,
          0.22222222222222224,
          0.23232323232323235,
          0.24242424242424243,
          0.25252525252525254,
          0.26262626262626265,
          0.27272727272727276,
          0.2828282828282829,
          0.29292929292929293,
          0.30303030303030304,
          0.31313131313131315,
          0.32323232323232326,
          0.33333333333333337,
          0.3434343434343435,
          0.3535353535353536,
          0.36363636363636365,
          0.37373737373737376,
          0.38383838383838387,
          0.393939393939394,
          0.4040404040404041,
          0.4141414141414142,
          0.42424242424242425,
          0.43434343434343436,
          0.4444444444444445,
          0.4545454545454546,
          0.4646464646464647,
          0.4747474747474748,
          0.48484848484848486,
          0.494949494949495,
          0.5050505050505051,
          0.5151515151515152,
          0.5252525252525253,
          0.5353535353535354,
          0.5454545454545455,
          0.5555555555555556,
          0.5656565656565657,
          0.5757575757575758,
          0.5858585858585859,
          0.595959595959596,
          0.6060606060606061,
          0.6161616161616162,
          0.6262626262626263,
          0.6363636363636365,
          0.6464646464646465,
          0.6565656565656566,
          0.6666666666666667,
          0.6767676767676768,
          0.686868686868687,
          0.696969696969697,
          0.7070707070707072,
          0.7171717171717172,
          0.7272727272727273,
          0.7373737373737375,
          0.7474747474747475,
          0.7575757575757577,
          0.7676767676767677,
          0.7777777777777778,
          0.787878787878788,
          0.797979797979798,
          0.8080808080808082,
          0.8181818181818182,
          0.8282828282828284,
          0.8383838383838385,
          0.8484848484848485,
          0.8585858585858587,
          0.8686868686868687,
          0.8787878787878789,
          0.888888888888889,
          0.8989898989898991,
          0.9090909090909092,
          0.9191919191919192,
          0.9292929292929294,
          0.9393939393939394,
          0.9494949494949496,
          0.9595959595959597,
          0.9696969696969697,
          0.9797979797979799,
          0.98989898989899,
          1
         ],
         "y": [
          1.0309591960872693,
          1.0147098000436177,
          0.9985742795793052,
          0.9825526346943314,
          0.9666448653886964,
          0.9508509716624003,
          0.935170953515443,
          0.9196048109478245,
          0.9041525439595448,
          0.888814152550604,
          0.8735896367210021,
          0.8584789964707388,
          0.8434822317998145,
          0.8285993427082289,
          0.8138303291959823,
          0.7991751912630743,
          0.7846339289095053,
          0.7702065421352752,
          0.7558930309403837,
          0.741693395324831,
          0.7276076352886174,
          0.7136357508317425,
          0.6997777419542064,
          0.686033608656009,
          0.6724033509371508,
          0.6588869687976311,
          0.6454844622374503,
          0.6321958312566083,
          0.6190210758551051,
          0.6059601960329408,
          0.5930131917901155,
          0.5801800631266287,
          0.567460810042481,
          0.5548554325376719,
          0.5423639306122018,
          0.5299863042660704,
          0.5177225534992779,
          0.5055726783118242,
          0.4935366787037093,
          0.4816145546749332,
          0.469806306225496,
          0.45811193335539757,
          0.44653143606463813,
          0.43506481435321737,
          0.4237120682211354,
          0.4124731976683923,
          0.40134820269498805,
          0.39033708330092265,
          0.3794398394861961,
          0.36865647125080825,
          0.3579869785947593,
          0.34743136151804904,
          0.3369896200206779,
          0.3266617541026454,
          0.3164477637639518,
          0.306347649004597,
          0.2963614098245808,
          0.2864890462239038,
          0.2767305582025654,
          0.26708594576056577,
          0.25755520889790523,
          0.24813834761458323,
          0.2388353619106002,
          0.229646251785956,
          0.22057101724065073,
          0.21160965827468406,
          0.2027621748880563,
          0.19402856708076754,
          0.18540883485281745,
          0.17690297820420608,
          0.16851099713493367,
          0.16023289164500015,
          0.1520686617344053,
          0.14401830740314936,
          0.13608182865123236,
          0.12825922547865382,
          0.1205504978854145,
          0.11295564587151391,
          0.10547466943695188,
          0.09810756858172898,
          0.09085434330584485,
          0.08371499360929963,
          0.07668951949209285,
          0.0697779209542253,
          0.0629801979956966,
          0.056296350616506285,
          0.04972637881665526,
          0.043270282596142795,
          0.036928061954969116,
          0.030699716893134443,
          0.02458524741063861,
          0.018584653507481452,
          0.012697935183663245,
          0.0069250924391838775,
          0.0012661252740432394,
          -0.004278966311758503,
          -0.009710182318221405,
          -0.015027522745345467,
          -0.02023098759313091,
          -0.025320576861577293
         ]
        }
       ],
       "layout": {
        "legend": {
         "tracegroupgap": 0
        },
        "margin": {
         "t": 60
        },
        "template": {
         "data": {
          "bar": [
           {
            "error_x": {
             "color": "#2a3f5f"
            },
            "error_y": {
             "color": "#2a3f5f"
            },
            "marker": {
             "line": {
              "color": "#E5ECF6",
              "width": 0.5
             },
             "pattern": {
              "fillmode": "overlay",
              "size": 10,
              "solidity": 0.2
             }
            },
            "type": "bar"
           }
          ],
          "barpolar": [
           {
            "marker": {
             "line": {
              "color": "#E5ECF6",
              "width": 0.5
             },
             "pattern": {
              "fillmode": "overlay",
              "size": 10,
              "solidity": 0.2
             }
            },
            "type": "barpolar"
           }
          ],
          "carpet": [
           {
            "aaxis": {
             "endlinecolor": "#2a3f5f",
             "gridcolor": "white",
             "linecolor": "white",
             "minorgridcolor": "white",
             "startlinecolor": "#2a3f5f"
            },
            "baxis": {
             "endlinecolor": "#2a3f5f",
             "gridcolor": "white",
             "linecolor": "white",
             "minorgridcolor": "white",
             "startlinecolor": "#2a3f5f"
            },
            "type": "carpet"
           }
          ],
          "choropleth": [
           {
            "colorbar": {
             "outlinewidth": 0,
             "ticks": ""
            },
            "type": "choropleth"
           }
          ],
          "contour": [
           {
            "colorbar": {
             "outlinewidth": 0,
             "ticks": ""
            },
            "colorscale": [
             [
              0,
              "#0d0887"
             ],
             [
              0.1111111111111111,
              "#46039f"
             ],
             [
              0.2222222222222222,
              "#7201a8"
             ],
             [
              0.3333333333333333,
              "#9c179e"
             ],
             [
              0.4444444444444444,
              "#bd3786"
             ],
             [
              0.5555555555555556,
              "#d8576b"
             ],
             [
              0.6666666666666666,
              "#ed7953"
             ],
             [
              0.7777777777777778,
              "#fb9f3a"
             ],
             [
              0.8888888888888888,
              "#fdca26"
             ],
             [
              1,
              "#f0f921"
             ]
            ],
            "type": "contour"
           }
          ],
          "contourcarpet": [
           {
            "colorbar": {
             "outlinewidth": 0,
             "ticks": ""
            },
            "type": "contourcarpet"
           }
          ],
          "heatmap": [
           {
            "colorbar": {
             "outlinewidth": 0,
             "ticks": ""
            },
            "colorscale": [
             [
              0,
              "#0d0887"
             ],
             [
              0.1111111111111111,
              "#46039f"
             ],
             [
              0.2222222222222222,
              "#7201a8"
             ],
             [
              0.3333333333333333,
              "#9c179e"
             ],
             [
              0.4444444444444444,
              "#bd3786"
             ],
             [
              0.5555555555555556,
              "#d8576b"
             ],
             [
              0.6666666666666666,
              "#ed7953"
             ],
             [
              0.7777777777777778,
              "#fb9f3a"
             ],
             [
              0.8888888888888888,
              "#fdca26"
             ],
             [
              1,
              "#f0f921"
             ]
            ],
            "type": "heatmap"
           }
          ],
          "heatmapgl": [
           {
            "colorbar": {
             "outlinewidth": 0,
             "ticks": ""
            },
            "colorscale": [
             [
              0,
              "#0d0887"
             ],
             [
              0.1111111111111111,
              "#46039f"
             ],
             [
              0.2222222222222222,
              "#7201a8"
             ],
             [
              0.3333333333333333,
              "#9c179e"
             ],
             [
              0.4444444444444444,
              "#bd3786"
             ],
             [
              0.5555555555555556,
              "#d8576b"
             ],
             [
              0.6666666666666666,
              "#ed7953"
             ],
             [
              0.7777777777777778,
              "#fb9f3a"
             ],
             [
              0.8888888888888888,
              "#fdca26"
             ],
             [
              1,
              "#f0f921"
             ]
            ],
            "type": "heatmapgl"
           }
          ],
          "histogram": [
           {
            "marker": {
             "pattern": {
              "fillmode": "overlay",
              "size": 10,
              "solidity": 0.2
             }
            },
            "type": "histogram"
           }
          ],
          "histogram2d": [
           {
            "colorbar": {
             "outlinewidth": 0,
             "ticks": ""
            },
            "colorscale": [
             [
              0,
              "#0d0887"
             ],
             [
              0.1111111111111111,
              "#46039f"
             ],
             [
              0.2222222222222222,
              "#7201a8"
             ],
             [
              0.3333333333333333,
              "#9c179e"
             ],
             [
              0.4444444444444444,
              "#bd3786"
             ],
             [
              0.5555555555555556,
              "#d8576b"
             ],
             [
              0.6666666666666666,
              "#ed7953"
             ],
             [
              0.7777777777777778,
              "#fb9f3a"
             ],
             [
              0.8888888888888888,
              "#fdca26"
             ],
             [
              1,
              "#f0f921"
             ]
            ],
            "type": "histogram2d"
           }
          ],
          "histogram2dcontour": [
           {
            "colorbar": {
             "outlinewidth": 0,
             "ticks": ""
            },
            "colorscale": [
             [
              0,
              "#0d0887"
             ],
             [
              0.1111111111111111,
              "#46039f"
             ],
             [
              0.2222222222222222,
              "#7201a8"
             ],
             [
              0.3333333333333333,
              "#9c179e"
             ],
             [
              0.4444444444444444,
              "#bd3786"
             ],
             [
              0.5555555555555556,
              "#d8576b"
             ],
             [
              0.6666666666666666,
              "#ed7953"
             ],
             [
              0.7777777777777778,
              "#fb9f3a"
             ],
             [
              0.8888888888888888,
              "#fdca26"
             ],
             [
              1,
              "#f0f921"
             ]
            ],
            "type": "histogram2dcontour"
           }
          ],
          "mesh3d": [
           {
            "colorbar": {
             "outlinewidth": 0,
             "ticks": ""
            },
            "type": "mesh3d"
           }
          ],
          "parcoords": [
           {
            "line": {
             "colorbar": {
              "outlinewidth": 0,
              "ticks": ""
             }
            },
            "type": "parcoords"
           }
          ],
          "pie": [
           {
            "automargin": true,
            "type": "pie"
           }
          ],
          "scatter": [
           {
            "fillpattern": {
             "fillmode": "overlay",
             "size": 10,
             "solidity": 0.2
            },
            "type": "scatter"
           }
          ],
          "scatter3d": [
           {
            "line": {
             "colorbar": {
              "outlinewidth": 0,
              "ticks": ""
             }
            },
            "marker": {
             "colorbar": {
              "outlinewidth": 0,
              "ticks": ""
             }
            },
            "type": "scatter3d"
           }
          ],
          "scattercarpet": [
           {
            "marker": {
             "colorbar": {
              "outlinewidth": 0,
              "ticks": ""
             }
            },
            "type": "scattercarpet"
           }
          ],
          "scattergeo": [
           {
            "marker": {
             "colorbar": {
              "outlinewidth": 0,
              "ticks": ""
             }
            },
            "type": "scattergeo"
           }
          ],
          "scattergl": [
           {
            "marker": {
             "colorbar": {
              "outlinewidth": 0,
              "ticks": ""
             }
            },
            "type": "scattergl"
           }
          ],
          "scattermapbox": [
           {
            "marker": {
             "colorbar": {
              "outlinewidth": 0,
              "ticks": ""
             }
            },
            "type": "scattermapbox"
           }
          ],
          "scatterpolar": [
           {
            "marker": {
             "colorbar": {
              "outlinewidth": 0,
              "ticks": ""
             }
            },
            "type": "scatterpolar"
           }
          ],
          "scatterpolargl": [
           {
            "marker": {
             "colorbar": {
              "outlinewidth": 0,
              "ticks": ""
             }
            },
            "type": "scatterpolargl"
           }
          ],
          "scatterternary": [
           {
            "marker": {
             "colorbar": {
              "outlinewidth": 0,
              "ticks": ""
             }
            },
            "type": "scatterternary"
           }
          ],
          "surface": [
           {
            "colorbar": {
             "outlinewidth": 0,
             "ticks": ""
            },
            "colorscale": [
             [
              0,
              "#0d0887"
             ],
             [
              0.1111111111111111,
              "#46039f"
             ],
             [
              0.2222222222222222,
              "#7201a8"
             ],
             [
              0.3333333333333333,
              "#9c179e"
             ],
             [
              0.4444444444444444,
              "#bd3786"
             ],
             [
              0.5555555555555556,
              "#d8576b"
             ],
             [
              0.6666666666666666,
              "#ed7953"
             ],
             [
              0.7777777777777778,
              "#fb9f3a"
             ],
             [
              0.8888888888888888,
              "#fdca26"
             ],
             [
              1,
              "#f0f921"
             ]
            ],
            "type": "surface"
           }
          ],
          "table": [
           {
            "cells": {
             "fill": {
              "color": "#EBF0F8"
             },
             "line": {
              "color": "white"
             }
            },
            "header": {
             "fill": {
              "color": "#C8D4E3"
             },
             "line": {
              "color": "white"
             }
            },
            "type": "table"
           }
          ]
         },
         "layout": {
          "annotationdefaults": {
           "arrowcolor": "#2a3f5f",
           "arrowhead": 0,
           "arrowwidth": 1
          },
          "autotypenumbers": "strict",
          "coloraxis": {
           "colorbar": {
            "outlinewidth": 0,
            "ticks": ""
           }
          },
          "colorscale": {
           "diverging": [
            [
             0,
             "#8e0152"
            ],
            [
             0.1,
             "#c51b7d"
            ],
            [
             0.2,
             "#de77ae"
            ],
            [
             0.3,
             "#f1b6da"
            ],
            [
             0.4,
             "#fde0ef"
            ],
            [
             0.5,
             "#f7f7f7"
            ],
            [
             0.6,
             "#e6f5d0"
            ],
            [
             0.7,
             "#b8e186"
            ],
            [
             0.8,
             "#7fbc41"
            ],
            [
             0.9,
             "#4d9221"
            ],
            [
             1,
             "#276419"
            ]
           ],
           "sequential": [
            [
             0,
             "#0d0887"
            ],
            [
             0.1111111111111111,
             "#46039f"
            ],
            [
             0.2222222222222222,
             "#7201a8"
            ],
            [
             0.3333333333333333,
             "#9c179e"
            ],
            [
             0.4444444444444444,
             "#bd3786"
            ],
            [
             0.5555555555555556,
             "#d8576b"
            ],
            [
             0.6666666666666666,
             "#ed7953"
            ],
            [
             0.7777777777777778,
             "#fb9f3a"
            ],
            [
             0.8888888888888888,
             "#fdca26"
            ],
            [
             1,
             "#f0f921"
            ]
           ],
           "sequentialminus": [
            [
             0,
             "#0d0887"
            ],
            [
             0.1111111111111111,
             "#46039f"
            ],
            [
             0.2222222222222222,
             "#7201a8"
            ],
            [
             0.3333333333333333,
             "#9c179e"
            ],
            [
             0.4444444444444444,
             "#bd3786"
            ],
            [
             0.5555555555555556,
             "#d8576b"
            ],
            [
             0.6666666666666666,
             "#ed7953"
            ],
            [
             0.7777777777777778,
             "#fb9f3a"
            ],
            [
             0.8888888888888888,
             "#fdca26"
            ],
            [
             1,
             "#f0f921"
            ]
           ]
          },
          "colorway": [
           "#636efa",
           "#EF553B",
           "#00cc96",
           "#ab63fa",
           "#FFA15A",
           "#19d3f3",
           "#FF6692",
           "#B6E880",
           "#FF97FF",
           "#FECB52"
          ],
          "font": {
           "color": "#2a3f5f"
          },
          "geo": {
           "bgcolor": "white",
           "lakecolor": "white",
           "landcolor": "#E5ECF6",
           "showlakes": true,
           "showland": true,
           "subunitcolor": "white"
          },
          "hoverlabel": {
           "align": "left"
          },
          "hovermode": "closest",
          "mapbox": {
           "style": "light"
          },
          "paper_bgcolor": "white",
          "plot_bgcolor": "#E5ECF6",
          "polar": {
           "angularaxis": {
            "gridcolor": "white",
            "linecolor": "white",
            "ticks": ""
           },
           "bgcolor": "#E5ECF6",
           "radialaxis": {
            "gridcolor": "white",
            "linecolor": "white",
            "ticks": ""
           }
          },
          "scene": {
           "xaxis": {
            "backgroundcolor": "#E5ECF6",
            "gridcolor": "white",
            "gridwidth": 2,
            "linecolor": "white",
            "showbackground": true,
            "ticks": "",
            "zerolinecolor": "white"
           },
           "yaxis": {
            "backgroundcolor": "#E5ECF6",
            "gridcolor": "white",
            "gridwidth": 2,
            "linecolor": "white",
            "showbackground": true,
            "ticks": "",
            "zerolinecolor": "white"
           },
           "zaxis": {
            "backgroundcolor": "#E5ECF6",
            "gridcolor": "white",
            "gridwidth": 2,
            "linecolor": "white",
            "showbackground": true,
            "ticks": "",
            "zerolinecolor": "white"
           }
          },
          "shapedefaults": {
           "line": {
            "color": "#2a3f5f"
           }
          },
          "ternary": {
           "aaxis": {
            "gridcolor": "white",
            "linecolor": "white",
            "ticks": ""
           },
           "baxis": {
            "gridcolor": "white",
            "linecolor": "white",
            "ticks": ""
           },
           "bgcolor": "#E5ECF6",
           "caxis": {
            "gridcolor": "white",
            "linecolor": "white",
            "ticks": ""
           }
          },
          "title": {
           "x": 0.05
          },
          "xaxis": {
           "automargin": true,
           "gridcolor": "white",
           "linecolor": "white",
           "ticks": "",
           "title": {
            "standoff": 15
           },
           "zerolinecolor": "white",
           "zerolinewidth": 2
          },
          "yaxis": {
           "automargin": true,
           "gridcolor": "white",
           "linecolor": "white",
           "ticks": "",
           "title": {
            "standoff": 15
           },
           "zerolinecolor": "white",
           "zerolinewidth": 2
          }
         }
        },
        "xaxis": {
         "anchor": "y",
         "domain": [
          0,
          1
         ]
        },
        "yaxis": {
         "anchor": "x",
         "domain": [
          0,
          1
         ]
        }
       }
      }
     },
     "metadata": {},
     "output_type": "display_data"
    }
   ],
   "source": [
    "def ODESolution(x):\n",
    "    return ((-(np.exp(0.5) + 1) / erfi(1 / np.sqrt(2))) * erfi(x / np.sqrt(2)) + 1) / np.exp(x ** 2 / 2) + x\n",
    "\n",
    "def func1(x):\n",
    "    return 1\n",
    "\n",
    "def func2(x):\n",
    "    return x\n",
    "\n",
    "def func3(x):\n",
    "    return x ** 2\n",
    "\n",
    "x = np.linspace(0, 1, 100)\n",
    "y = [ODESolution(xp) for xp in x]\n",
    "\n",
    "f_pred2 = GetApproximateODE(x, y, 2, [func1, func2])\n",
    "f_pred3 = GetApproximateODE(x, y, 3, [func1, func2, func3])\n",
    "\n",
    "y_pred2 = [f_pred2(xp) for xp in x]\n",
    "y_pred3 = [f_pred3(xp) for xp in x]\n",
    "\n",
    "fig = px.line()\n",
    "fig.add_trace(go.Scatter(x=x, y=y, name=\"Точное решение\"))\n",
    "fig.add_trace(go.Scatter(x=x, y=y_pred2, name=\"Приближенное при степени 2\"))\n",
    "fig.add_trace(go.Scatter(x=x, y=y_pred3, name=\"Приближенное при степени 3\"))\n",
    "\n",
    "fig.show()"
   ]
  },
  {
   "cell_type": "code",
   "execution_count": 45,
   "metadata": {},
   "outputs": [
    {
     "data": {
      "application/vnd.plotly.v1+json": {
       "config": {
        "plotlyServerURL": "https://plot.ly"
       },
       "data": [
        {
         "hovertemplate": "<extra></extra>",
         "legendgroup": "",
         "line": {
          "color": "#636efa",
          "dash": "solid"
         },
         "marker": {
          "symbol": "circle"
         },
         "mode": "lines",
         "name": "",
         "orientation": "v",
         "showlegend": false,
         "type": "scatter",
         "xaxis": "x",
         "yaxis": "y"
        },
        {
         "name": "Точное решение",
         "type": "scatter",
         "x": [
          0,
          0.010101010101010102,
          0.020202020202020204,
          0.030303030303030304,
          0.04040404040404041,
          0.05050505050505051,
          0.06060606060606061,
          0.07070707070707072,
          0.08080808080808081,
          0.09090909090909091,
          0.10101010101010102,
          0.11111111111111112,
          0.12121212121212122,
          0.13131313131313133,
          0.14141414141414144,
          0.15151515151515152,
          0.16161616161616163,
          0.17171717171717174,
          0.18181818181818182,
          0.19191919191919193,
          0.20202020202020204,
          0.21212121212121213,
          0.22222222222222224,
          0.23232323232323235,
          0.24242424242424243,
          0.25252525252525254,
          0.26262626262626265,
          0.27272727272727276,
          0.2828282828282829,
          0.29292929292929293,
          0.30303030303030304,
          0.31313131313131315,
          0.32323232323232326,
          0.33333333333333337,
          0.3434343434343435,
          0.3535353535353536,
          0.36363636363636365,
          0.37373737373737376,
          0.38383838383838387,
          0.393939393939394,
          0.4040404040404041,
          0.4141414141414142,
          0.42424242424242425,
          0.43434343434343436,
          0.4444444444444445,
          0.4545454545454546,
          0.4646464646464647,
          0.4747474747474748,
          0.48484848484848486,
          0.494949494949495,
          0.5050505050505051,
          0.5151515151515152,
          0.5252525252525253,
          0.5353535353535354,
          0.5454545454545455,
          0.5555555555555556,
          0.5656565656565657,
          0.5757575757575758,
          0.5858585858585859,
          0.595959595959596,
          0.6060606060606061,
          0.6161616161616162,
          0.6262626262626263,
          0.6363636363636365,
          0.6464646464646465,
          0.6565656565656566,
          0.6666666666666667,
          0.6767676767676768,
          0.686868686868687,
          0.696969696969697,
          0.7070707070707072,
          0.7171717171717172,
          0.7272727272727273,
          0.7373737373737375,
          0.7474747474747475,
          0.7575757575757577,
          0.7676767676767677,
          0.7777777777777778,
          0.787878787878788,
          0.797979797979798,
          0.8080808080808082,
          0.8181818181818182,
          0.8282828282828284,
          0.8383838383838385,
          0.8484848484848485,
          0.8585858585858587,
          0.8686868686868687,
          0.8787878787878789,
          0.888888888888889,
          0.8989898989898991,
          0.9090909090909092,
          0.9191919191919192,
          0.9292929292929294,
          0.9393939393939394,
          0.9494949494949496,
          0.9595959595959597,
          0.9696969696969697,
          0.9797979797979799,
          0.98989898989899,
          1
         ],
         "y": [
          1,
          0.9876610436464756,
          0.9752246435014205,
          0.9626954129315781,
          0.9500779927723911,
          0.937377049427359,
          0.9245972729549341,
          0.9117433751441356,
          0.8988200875800619,
          0.8858321597004934,
          0.8727843568447762,
          0.859681458296194,
          0.8465282553190242,
          0.8333295491914856,
          0.8200901492357923,
          0.8068148708465124,
          0.7935085335184473,
          0.7801759588752336,
          0.7668219686998781,
          0.7534513829684202,
          0.7400690178879239,
          0.7266796839399922,
          0.7132881839309873,
          0.6998993110501338,
          0.6865178469366829,
          0.6731485597572937,
          0.6597962022947819,
          0.6464655100493861,
          0.6331611993536712,
          0.6198879655021939,
          0.6066504808970234,
          0.5934533932102235,
          0.5803013235643517,
          0.5671988647320417,
          0.5541505793557158,
          0.5411609981884353,
          0.5282346183569144,
          0.5153759016476608,
          0.5025892728172316,
          0.48987911792752825,
          0.47724978270707274,
          0.46470557093915554,
          0.4522507428777399,
          0.4398895136919744,
          0.42762605194015224,
          0.41546447807391684,
          0.40340886297350936,
          0.39146322651479054,
          0.37963153616880896,
          0.3679177056345653,
          0.3563255935057154,
          0.34485900197179153,
          0.3335216755546324,
          0.322317299880561,
          0.3112495004889152,
          0.3003218416774413,
          0.2895378253850757,
          0.27890089011258634,
          0.2684144098815184,
          0.2580816932318771,
          0.2479059822589184,
          0.23789045168942424,
          0.22803820799777874,
          0.21835228856214894,
          0.2088356608610396,
          0.19949122171045613,
          0.19032179654188414,
          0.1813301387212657,
          0.1725189289091127,
          0.16389077446188105,
          0.15544820887468647,
          0.1471936912654176,
          0.13912960590027934,
          0.1312582617607555,
          0.12358189215196314,
          0.11610265435233358,
          0.1088226293045298,
          0.10174382134748317,
          0.09486815798940007,
          0.08819748972155605,
          0.08173358987268764,
          0.07547815450373918,
          0.06943280234271121,
          0.06359907475932258,
          0.057978435779189486,
          0.052572272137159204,
          0.04738189336947263,
          0.042408531944332695,
          0.037653343430506525,
          0.033117406703492835,
          0.028801724188828093,
          0.024707222142036245,
          0.020834750964725868,
          0.017185085556314483,
          0.01375892570084325,
          0.010556896488306267,
          0.007579548769931055,
          0.004827359646797369,
          0.002300732991183052,
          0
         ]
        },
        {
         "name": "Приближенное при степени 2",
         "type": "scatter",
         "x": [
          0,
          0.010101010101010102,
          0.020202020202020204,
          0.030303030303030304,
          0.04040404040404041,
          0.05050505050505051,
          0.06060606060606061,
          0.07070707070707072,
          0.08080808080808081,
          0.09090909090909091,
          0.10101010101010102,
          0.11111111111111112,
          0.12121212121212122,
          0.13131313131313133,
          0.14141414141414144,
          0.15151515151515152,
          0.16161616161616163,
          0.17171717171717174,
          0.18181818181818182,
          0.19191919191919193,
          0.20202020202020204,
          0.21212121212121213,
          0.22222222222222224,
          0.23232323232323235,
          0.24242424242424243,
          0.25252525252525254,
          0.26262626262626265,
          0.27272727272727276,
          0.2828282828282829,
          0.29292929292929293,
          0.30303030303030304,
          0.31313131313131315,
          0.32323232323232326,
          0.33333333333333337,
          0.3434343434343435,
          0.3535353535353536,
          0.36363636363636365,
          0.37373737373737376,
          0.38383838383838387,
          0.393939393939394,
          0.4040404040404041,
          0.4141414141414142,
          0.42424242424242425,
          0.43434343434343436,
          0.4444444444444445,
          0.4545454545454546,
          0.4646464646464647,
          0.4747474747474748,
          0.48484848484848486,
          0.494949494949495,
          0.5050505050505051,
          0.5151515151515152,
          0.5252525252525253,
          0.5353535353535354,
          0.5454545454545455,
          0.5555555555555556,
          0.5656565656565657,
          0.5757575757575758,
          0.5858585858585859,
          0.595959595959596,
          0.6060606060606061,
          0.6161616161616162,
          0.6262626262626263,
          0.6363636363636365,
          0.6464646464646465,
          0.6565656565656566,
          0.6666666666666667,
          0.6767676767676768,
          0.686868686868687,
          0.696969696969697,
          0.7070707070707072,
          0.7171717171717172,
          0.7272727272727273,
          0.7373737373737375,
          0.7474747474747475,
          0.7575757575757577,
          0.7676767676767677,
          0.7777777777777778,
          0.787878787878788,
          0.797979797979798,
          0.8080808080808082,
          0.8181818181818182,
          0.8282828282828284,
          0.8383838383838385,
          0.8484848484848485,
          0.8585858585858587,
          0.8686868686868687,
          0.8787878787878789,
          0.888888888888889,
          0.8989898989898991,
          0.9090909090909092,
          0.9191919191919192,
          0.9292929292929294,
          0.9393939393939394,
          0.9494949494949496,
          0.9595959595959597,
          0.9696969696969697,
          0.9797979797979799,
          0.98989898989899,
          1
         ],
         "y": [
          0.8447509100616979,
          0.8386288815932761,
          0.832444701082702,
          0.8261977375501686,
          0.8198873536100368,
          0.8135129054058028,
          0.8070737425444041,
          0.80056920802986,
          0.7939986381962358,
          0.7873613626399304,
          0.780656704151272,
          0.7738839786454229,
          0.7670424950925809,
          0.7601315554474727,
          0.7531504545781316,
          0.746098480193952,
          0.7389749127730131,
          0.7317790254886656,
          0.7245100841353729,
          0.7171673470537978,
          0.7097500650551323,
          0.7022574813446545,
          0.6946888314445138,
          0.6870433431157289,
          0.6793202362793964,
          0.6715187229370974,
          0.6636380070904974,
          0.6556772846601299,
          0.6476357434033545,
          0.6395125628314835,
          0.6313069141260655,
          0.6230179600543211,
          0.6146448548837175,
          0.606186744295679,
          0.5976427652984185,
          0.5890120461388862,
          0.580293706213823,
          0.5714868559799114,
          0.5625905968630147,
          0.5536040211664938,
          0.5445262119785944,
          0.535356243078893,
          0.5260931788437928,
          0.5167360741510624,
          0.5072839742834018,
          0.4977359148310333,
          0.48809092159330036,
          0.47834801047926856,
          0.46850618740731864,
          0.4585644482037179,
          0.4485217785001636,
          0.43837715363028606,
          0.42812953852509983,
          0.41777788760739454,
          0.4073211446850542,
          0.3967582428432912,
          0.38608810433578844,
          0.37530964047473536,
          0.3644217515197481,
          0.3534233265656601,
          0.3423132434291778,
          0.3310903685343798,
          0.31975355679705864,
          0.3083016515078858,
          0.29673348421439094,
          0.2850478746017442,
          0.27324363037232535,
          0.26131954712407435,
          0.24927440822760238,
          0.23710698470206015,
          0.22481603508974057,
          0.21240030532941412,
          0.19985852862837294,
          0.18718942533318006,
          0.17439170279910354,
          0.16146405525822716,
          0.14840516368622114,
          0.13521369566775965,
          0.12188830526057348,
          0.10842763285812196,
          0.09483030505086987,
          0.08109493448615757,
          0.06722011972664688,
          0.0532044451073308,
          0.03904648059109239,
          0.024744781622794365,
          0.010297888981891434,
          -0.0042956713664581425,
          -0.01903738842178715,
          -0.03392876630024744,
          -0.0489713243880745,
          -0.06416659749661258,
          -0.07951613601891427,
          -0.0950215060879287,
          -0.11068428973629563,
          -0.12650608505776284,
          -0.14248850637024146,
          -0.1586331843805171,
          -0.17494176635063274,
          -0.19141591626595988
         ]
        },
        {
         "name": "Приближенное при степени 3",
         "type": "scatter",
         "x": [
          0,
          0.010101010101010102,
          0.020202020202020204,
          0.030303030303030304,
          0.04040404040404041,
          0.05050505050505051,
          0.06060606060606061,
          0.07070707070707072,
          0.08080808080808081,
          0.09090909090909091,
          0.10101010101010102,
          0.11111111111111112,
          0.12121212121212122,
          0.13131313131313133,
          0.14141414141414144,
          0.15151515151515152,
          0.16161616161616163,
          0.17171717171717174,
          0.18181818181818182,
          0.19191919191919193,
          0.20202020202020204,
          0.21212121212121213,
          0.22222222222222224,
          0.23232323232323235,
          0.24242424242424243,
          0.25252525252525254,
          0.26262626262626265,
          0.27272727272727276,
          0.2828282828282829,
          0.29292929292929293,
          0.30303030303030304,
          0.31313131313131315,
          0.32323232323232326,
          0.33333333333333337,
          0.3434343434343435,
          0.3535353535353536,
          0.36363636363636365,
          0.37373737373737376,
          0.38383838383838387,
          0.393939393939394,
          0.4040404040404041,
          0.4141414141414142,
          0.42424242424242425,
          0.43434343434343436,
          0.4444444444444445,
          0.4545454545454546,
          0.4646464646464647,
          0.4747474747474748,
          0.48484848484848486,
          0.494949494949495,
          0.5050505050505051,
          0.5151515151515152,
          0.5252525252525253,
          0.5353535353535354,
          0.5454545454545455,
          0.5555555555555556,
          0.5656565656565657,
          0.5757575757575758,
          0.5858585858585859,
          0.595959595959596,
          0.6060606060606061,
          0.6161616161616162,
          0.6262626262626263,
          0.6363636363636365,
          0.6464646464646465,
          0.6565656565656566,
          0.6666666666666667,
          0.6767676767676768,
          0.686868686868687,
          0.696969696969697,
          0.7070707070707072,
          0.7171717171717172,
          0.7272727272727273,
          0.7373737373737375,
          0.7474747474747475,
          0.7575757575757577,
          0.7676767676767677,
          0.7777777777777778,
          0.787878787878788,
          0.797979797979798,
          0.8080808080808082,
          0.8181818181818182,
          0.8282828282828284,
          0.8383838383838385,
          0.8484848484848485,
          0.8585858585858587,
          0.8686868686868687,
          0.8787878787878789,
          0.888888888888889,
          0.8989898989898991,
          0.9090909090909092,
          0.9191919191919192,
          0.9292929292929294,
          0.9393939393939394,
          0.9494949494949496,
          0.9595959595959597,
          0.9696969696969697,
          0.9797979797979799,
          0.98989898989899,
          1
         ],
         "y": [
          0.9913252862246704,
          0.9791689640862156,
          0.9669668778517544,
          0.9547201475400356,
          0.9424299368786317,
          0.9300974544076195,
          0.9177239546079337,
          0.9053107390549175,
          0.8928591575976075,
          0.8803706095643018,
          0.8678465449949642,
          0.8552884659010433,
          0.8426979275532844,
          0.830076539798124,
          0.817425968403287,
          0.8047479364331912,
          0.7920442256547997,
          0.7793166779745652,
          0.7665671969071262,
          0.7537977490764229,
          0.741010365749927,
          0.7282071444066764,
          0.7153902503398443,
          0.7025619182945515,
          0.689724454141697,
          0.6768802365885322,
          0.6640317189267912,
          0.651181430819139,
          0.6383319801247719,
          0.6254860547649775,
          0.6126464246295052,
          0.5998159435246146,
          0.5869975511636617,
          0.5741942752011431,
          0.561409233311092,
          0.5486456353107754,
          0.535906785330637,
          0.5231960840314651,
          0.5105170308697736,
          0.4978732264124175,
          0.48526837470147055,
          0.4727062856704217,
          0.46019087761277977,
          0.44772617970417206,
          0.43531633457906915,
          0.42296560096328384,
          0.410678356363409,
          0.3984590998143892,
          0.38631245468645725,
          0.3742431715526602,
          0.36225613111826416,
          0.3503563472133251,
          0.3385489698497457,
          0.32683928834418285,
          0.3152327345081678,
          0.30373488590685915,
          0.29235146918785504,
          0.28108836348154287,
          0.2699516038744698,
          0.258947384957265,
          0.24808206444868186,
          0.2373621668973367,
          0.22679438746277691,
          0.21638559577753402,
          0.20614283989184923,
          0.19607335030280737,
          0.18618454406962726,
          0.17648402901692029,
          0.16697960802774614,
          0.15767928342833604,
          0.1485912614664049,
          0.13972395688499573,
          0.13108599759384898,
          0.12268622944033503,
          0.11453372108201432,
          0.10663776896296095,
          0.0990079023959829,
          0.09165388875297209,
          0.08458573876562347,
          0.07781371193881048,
          0.07134832207898767,
          0.06520034293998367,
          0.059380813988651804,
          0.053901046292855304,
          0.04877262853433928,
          0.04400743314908295,
          0.03961762259778112,
          0.03561565576916381,
          0.03201429451891036,
          0.02882661034697742,
          0.026065991216210005,
          0.023746148515182863,
          0.021881124168254384,
          0.020485297895889598,
          0.019573394628386254,
          0.0191604920761681,
          0.019262028459903657,
          0.019893810403770917,
          0.021072020995241303,
          0.022813228014848974
         ]
        }
       ],
       "layout": {
        "legend": {
         "tracegroupgap": 0
        },
        "margin": {
         "t": 60
        },
        "template": {
         "data": {
          "bar": [
           {
            "error_x": {
             "color": "#2a3f5f"
            },
            "error_y": {
             "color": "#2a3f5f"
            },
            "marker": {
             "line": {
              "color": "#E5ECF6",
              "width": 0.5
             },
             "pattern": {
              "fillmode": "overlay",
              "size": 10,
              "solidity": 0.2
             }
            },
            "type": "bar"
           }
          ],
          "barpolar": [
           {
            "marker": {
             "line": {
              "color": "#E5ECF6",
              "width": 0.5
             },
             "pattern": {
              "fillmode": "overlay",
              "size": 10,
              "solidity": 0.2
             }
            },
            "type": "barpolar"
           }
          ],
          "carpet": [
           {
            "aaxis": {
             "endlinecolor": "#2a3f5f",
             "gridcolor": "white",
             "linecolor": "white",
             "minorgridcolor": "white",
             "startlinecolor": "#2a3f5f"
            },
            "baxis": {
             "endlinecolor": "#2a3f5f",
             "gridcolor": "white",
             "linecolor": "white",
             "minorgridcolor": "white",
             "startlinecolor": "#2a3f5f"
            },
            "type": "carpet"
           }
          ],
          "choropleth": [
           {
            "colorbar": {
             "outlinewidth": 0,
             "ticks": ""
            },
            "type": "choropleth"
           }
          ],
          "contour": [
           {
            "colorbar": {
             "outlinewidth": 0,
             "ticks": ""
            },
            "colorscale": [
             [
              0,
              "#0d0887"
             ],
             [
              0.1111111111111111,
              "#46039f"
             ],
             [
              0.2222222222222222,
              "#7201a8"
             ],
             [
              0.3333333333333333,
              "#9c179e"
             ],
             [
              0.4444444444444444,
              "#bd3786"
             ],
             [
              0.5555555555555556,
              "#d8576b"
             ],
             [
              0.6666666666666666,
              "#ed7953"
             ],
             [
              0.7777777777777778,
              "#fb9f3a"
             ],
             [
              0.8888888888888888,
              "#fdca26"
             ],
             [
              1,
              "#f0f921"
             ]
            ],
            "type": "contour"
           }
          ],
          "contourcarpet": [
           {
            "colorbar": {
             "outlinewidth": 0,
             "ticks": ""
            },
            "type": "contourcarpet"
           }
          ],
          "heatmap": [
           {
            "colorbar": {
             "outlinewidth": 0,
             "ticks": ""
            },
            "colorscale": [
             [
              0,
              "#0d0887"
             ],
             [
              0.1111111111111111,
              "#46039f"
             ],
             [
              0.2222222222222222,
              "#7201a8"
             ],
             [
              0.3333333333333333,
              "#9c179e"
             ],
             [
              0.4444444444444444,
              "#bd3786"
             ],
             [
              0.5555555555555556,
              "#d8576b"
             ],
             [
              0.6666666666666666,
              "#ed7953"
             ],
             [
              0.7777777777777778,
              "#fb9f3a"
             ],
             [
              0.8888888888888888,
              "#fdca26"
             ],
             [
              1,
              "#f0f921"
             ]
            ],
            "type": "heatmap"
           }
          ],
          "heatmapgl": [
           {
            "colorbar": {
             "outlinewidth": 0,
             "ticks": ""
            },
            "colorscale": [
             [
              0,
              "#0d0887"
             ],
             [
              0.1111111111111111,
              "#46039f"
             ],
             [
              0.2222222222222222,
              "#7201a8"
             ],
             [
              0.3333333333333333,
              "#9c179e"
             ],
             [
              0.4444444444444444,
              "#bd3786"
             ],
             [
              0.5555555555555556,
              "#d8576b"
             ],
             [
              0.6666666666666666,
              "#ed7953"
             ],
             [
              0.7777777777777778,
              "#fb9f3a"
             ],
             [
              0.8888888888888888,
              "#fdca26"
             ],
             [
              1,
              "#f0f921"
             ]
            ],
            "type": "heatmapgl"
           }
          ],
          "histogram": [
           {
            "marker": {
             "pattern": {
              "fillmode": "overlay",
              "size": 10,
              "solidity": 0.2
             }
            },
            "type": "histogram"
           }
          ],
          "histogram2d": [
           {
            "colorbar": {
             "outlinewidth": 0,
             "ticks": ""
            },
            "colorscale": [
             [
              0,
              "#0d0887"
             ],
             [
              0.1111111111111111,
              "#46039f"
             ],
             [
              0.2222222222222222,
              "#7201a8"
             ],
             [
              0.3333333333333333,
              "#9c179e"
             ],
             [
              0.4444444444444444,
              "#bd3786"
             ],
             [
              0.5555555555555556,
              "#d8576b"
             ],
             [
              0.6666666666666666,
              "#ed7953"
             ],
             [
              0.7777777777777778,
              "#fb9f3a"
             ],
             [
              0.8888888888888888,
              "#fdca26"
             ],
             [
              1,
              "#f0f921"
             ]
            ],
            "type": "histogram2d"
           }
          ],
          "histogram2dcontour": [
           {
            "colorbar": {
             "outlinewidth": 0,
             "ticks": ""
            },
            "colorscale": [
             [
              0,
              "#0d0887"
             ],
             [
              0.1111111111111111,
              "#46039f"
             ],
             [
              0.2222222222222222,
              "#7201a8"
             ],
             [
              0.3333333333333333,
              "#9c179e"
             ],
             [
              0.4444444444444444,
              "#bd3786"
             ],
             [
              0.5555555555555556,
              "#d8576b"
             ],
             [
              0.6666666666666666,
              "#ed7953"
             ],
             [
              0.7777777777777778,
              "#fb9f3a"
             ],
             [
              0.8888888888888888,
              "#fdca26"
             ],
             [
              1,
              "#f0f921"
             ]
            ],
            "type": "histogram2dcontour"
           }
          ],
          "mesh3d": [
           {
            "colorbar": {
             "outlinewidth": 0,
             "ticks": ""
            },
            "type": "mesh3d"
           }
          ],
          "parcoords": [
           {
            "line": {
             "colorbar": {
              "outlinewidth": 0,
              "ticks": ""
             }
            },
            "type": "parcoords"
           }
          ],
          "pie": [
           {
            "automargin": true,
            "type": "pie"
           }
          ],
          "scatter": [
           {
            "fillpattern": {
             "fillmode": "overlay",
             "size": 10,
             "solidity": 0.2
            },
            "type": "scatter"
           }
          ],
          "scatter3d": [
           {
            "line": {
             "colorbar": {
              "outlinewidth": 0,
              "ticks": ""
             }
            },
            "marker": {
             "colorbar": {
              "outlinewidth": 0,
              "ticks": ""
             }
            },
            "type": "scatter3d"
           }
          ],
          "scattercarpet": [
           {
            "marker": {
             "colorbar": {
              "outlinewidth": 0,
              "ticks": ""
             }
            },
            "type": "scattercarpet"
           }
          ],
          "scattergeo": [
           {
            "marker": {
             "colorbar": {
              "outlinewidth": 0,
              "ticks": ""
             }
            },
            "type": "scattergeo"
           }
          ],
          "scattergl": [
           {
            "marker": {
             "colorbar": {
              "outlinewidth": 0,
              "ticks": ""
             }
            },
            "type": "scattergl"
           }
          ],
          "scattermapbox": [
           {
            "marker": {
             "colorbar": {
              "outlinewidth": 0,
              "ticks": ""
             }
            },
            "type": "scattermapbox"
           }
          ],
          "scatterpolar": [
           {
            "marker": {
             "colorbar": {
              "outlinewidth": 0,
              "ticks": ""
             }
            },
            "type": "scatterpolar"
           }
          ],
          "scatterpolargl": [
           {
            "marker": {
             "colorbar": {
              "outlinewidth": 0,
              "ticks": ""
             }
            },
            "type": "scatterpolargl"
           }
          ],
          "scatterternary": [
           {
            "marker": {
             "colorbar": {
              "outlinewidth": 0,
              "ticks": ""
             }
            },
            "type": "scatterternary"
           }
          ],
          "surface": [
           {
            "colorbar": {
             "outlinewidth": 0,
             "ticks": ""
            },
            "colorscale": [
             [
              0,
              "#0d0887"
             ],
             [
              0.1111111111111111,
              "#46039f"
             ],
             [
              0.2222222222222222,
              "#7201a8"
             ],
             [
              0.3333333333333333,
              "#9c179e"
             ],
             [
              0.4444444444444444,
              "#bd3786"
             ],
             [
              0.5555555555555556,
              "#d8576b"
             ],
             [
              0.6666666666666666,
              "#ed7953"
             ],
             [
              0.7777777777777778,
              "#fb9f3a"
             ],
             [
              0.8888888888888888,
              "#fdca26"
             ],
             [
              1,
              "#f0f921"
             ]
            ],
            "type": "surface"
           }
          ],
          "table": [
           {
            "cells": {
             "fill": {
              "color": "#EBF0F8"
             },
             "line": {
              "color": "white"
             }
            },
            "header": {
             "fill": {
              "color": "#C8D4E3"
             },
             "line": {
              "color": "white"
             }
            },
            "type": "table"
           }
          ]
         },
         "layout": {
          "annotationdefaults": {
           "arrowcolor": "#2a3f5f",
           "arrowhead": 0,
           "arrowwidth": 1
          },
          "autotypenumbers": "strict",
          "coloraxis": {
           "colorbar": {
            "outlinewidth": 0,
            "ticks": ""
           }
          },
          "colorscale": {
           "diverging": [
            [
             0,
             "#8e0152"
            ],
            [
             0.1,
             "#c51b7d"
            ],
            [
             0.2,
             "#de77ae"
            ],
            [
             0.3,
             "#f1b6da"
            ],
            [
             0.4,
             "#fde0ef"
            ],
            [
             0.5,
             "#f7f7f7"
            ],
            [
             0.6,
             "#e6f5d0"
            ],
            [
             0.7,
             "#b8e186"
            ],
            [
             0.8,
             "#7fbc41"
            ],
            [
             0.9,
             "#4d9221"
            ],
            [
             1,
             "#276419"
            ]
           ],
           "sequential": [
            [
             0,
             "#0d0887"
            ],
            [
             0.1111111111111111,
             "#46039f"
            ],
            [
             0.2222222222222222,
             "#7201a8"
            ],
            [
             0.3333333333333333,
             "#9c179e"
            ],
            [
             0.4444444444444444,
             "#bd3786"
            ],
            [
             0.5555555555555556,
             "#d8576b"
            ],
            [
             0.6666666666666666,
             "#ed7953"
            ],
            [
             0.7777777777777778,
             "#fb9f3a"
            ],
            [
             0.8888888888888888,
             "#fdca26"
            ],
            [
             1,
             "#f0f921"
            ]
           ],
           "sequentialminus": [
            [
             0,
             "#0d0887"
            ],
            [
             0.1111111111111111,
             "#46039f"
            ],
            [
             0.2222222222222222,
             "#7201a8"
            ],
            [
             0.3333333333333333,
             "#9c179e"
            ],
            [
             0.4444444444444444,
             "#bd3786"
            ],
            [
             0.5555555555555556,
             "#d8576b"
            ],
            [
             0.6666666666666666,
             "#ed7953"
            ],
            [
             0.7777777777777778,
             "#fb9f3a"
            ],
            [
             0.8888888888888888,
             "#fdca26"
            ],
            [
             1,
             "#f0f921"
            ]
           ]
          },
          "colorway": [
           "#636efa",
           "#EF553B",
           "#00cc96",
           "#ab63fa",
           "#FFA15A",
           "#19d3f3",
           "#FF6692",
           "#B6E880",
           "#FF97FF",
           "#FECB52"
          ],
          "font": {
           "color": "#2a3f5f"
          },
          "geo": {
           "bgcolor": "white",
           "lakecolor": "white",
           "landcolor": "#E5ECF6",
           "showlakes": true,
           "showland": true,
           "subunitcolor": "white"
          },
          "hoverlabel": {
           "align": "left"
          },
          "hovermode": "closest",
          "mapbox": {
           "style": "light"
          },
          "paper_bgcolor": "white",
          "plot_bgcolor": "#E5ECF6",
          "polar": {
           "angularaxis": {
            "gridcolor": "white",
            "linecolor": "white",
            "ticks": ""
           },
           "bgcolor": "#E5ECF6",
           "radialaxis": {
            "gridcolor": "white",
            "linecolor": "white",
            "ticks": ""
           }
          },
          "scene": {
           "xaxis": {
            "backgroundcolor": "#E5ECF6",
            "gridcolor": "white",
            "gridwidth": 2,
            "linecolor": "white",
            "showbackground": true,
            "ticks": "",
            "zerolinecolor": "white"
           },
           "yaxis": {
            "backgroundcolor": "#E5ECF6",
            "gridcolor": "white",
            "gridwidth": 2,
            "linecolor": "white",
            "showbackground": true,
            "ticks": "",
            "zerolinecolor": "white"
           },
           "zaxis": {
            "backgroundcolor": "#E5ECF6",
            "gridcolor": "white",
            "gridwidth": 2,
            "linecolor": "white",
            "showbackground": true,
            "ticks": "",
            "zerolinecolor": "white"
           }
          },
          "shapedefaults": {
           "line": {
            "color": "#2a3f5f"
           }
          },
          "ternary": {
           "aaxis": {
            "gridcolor": "white",
            "linecolor": "white",
            "ticks": ""
           },
           "baxis": {
            "gridcolor": "white",
            "linecolor": "white",
            "ticks": ""
           },
           "bgcolor": "#E5ECF6",
           "caxis": {
            "gridcolor": "white",
            "linecolor": "white",
            "ticks": ""
           }
          },
          "title": {
           "x": 0.05
          },
          "xaxis": {
           "automargin": true,
           "gridcolor": "white",
           "linecolor": "white",
           "ticks": "",
           "title": {
            "standoff": 15
           },
           "zerolinecolor": "white",
           "zerolinewidth": 2
          },
          "yaxis": {
           "automargin": true,
           "gridcolor": "white",
           "linecolor": "white",
           "ticks": "",
           "title": {
            "standoff": 15
           },
           "zerolinecolor": "white",
           "zerolinewidth": 2
          }
         }
        },
        "xaxis": {
         "anchor": "y",
         "domain": [
          0,
          1
         ]
        },
        "yaxis": {
         "anchor": "x",
         "domain": [
          0,
          1
         ]
        }
       }
      }
     },
     "metadata": {},
     "output_type": "display_data"
    }
   ],
   "source": [
    "def ODESolution(x):\n",
    "    return ((-(np.exp(0.5) + 1) / erfi(1 / np.sqrt(2))) * erfi(x / np.sqrt(2)) + 1) / np.exp(x ** 2 / 2) + x\n",
    "\n",
    "def func1(x):\n",
    "    return np.exp(0)\n",
    "\n",
    "def func2(x):\n",
    "    return np.exp(x)\n",
    "\n",
    "def func3(x):\n",
    "    return np.exp(2 * x)\n",
    "\n",
    "x = np.linspace(0, 1, 100)\n",
    "y = [ODESolution(xp) for xp in x]\n",
    "\n",
    "f_pred2 = GetApproximateODE(x, y, 2, [func1, func2])\n",
    "f_pred3 = GetApproximateODE(x, y, 3, [func1, func2, func3])\n",
    "\n",
    "y_pred2 = [f_pred2(xp) for xp in x]\n",
    "y_pred3 = [f_pred3(xp) for xp in x]\n",
    "\n",
    "fig = px.line()\n",
    "fig.add_trace(go.Scatter(x=x, y=y, name=\"Точное решение\"))\n",
    "fig.add_trace(go.Scatter(x=x, y=y_pred2, name=\"Приближенное при степени 2\"))\n",
    "fig.add_trace(go.Scatter(x=x, y=y_pred3, name=\"Приближенное при степени 3\"))\n",
    "\n",
    "fig.show()"
   ]
  },
  {
   "cell_type": "code",
   "execution_count": 46,
   "metadata": {},
   "outputs": [
    {
     "ename": "TypeError",
     "evalue": "loop of ufunc does not support argument 0 of type function which has no callable sin method",
     "output_type": "error",
     "traceback": [
      "\u001b[0;31m---------------------------------------------------------------------------\u001b[0m",
      "\u001b[0;31mAttributeError\u001b[0m                            Traceback (most recent call last)",
      "\u001b[0;31mAttributeError\u001b[0m: 'function' object has no attribute 'sin'",
      "\nThe above exception was the direct cause of the following exception:\n",
      "\u001b[0;31mTypeError\u001b[0m                                 Traceback (most recent call last)",
      "Cell \u001b[0;32mIn[46], line 17\u001b[0m\n\u001b[1;32m     14\u001b[0m y \u001b[38;5;241m=\u001b[39m [ODESolution(xp) \u001b[38;5;28;01mfor\u001b[39;00m xp \u001b[38;5;129;01min\u001b[39;00m x]\n\u001b[1;32m     16\u001b[0m f_pred2 \u001b[38;5;241m=\u001b[39m GetApproximateODE(x, y, \u001b[38;5;241m2\u001b[39m, [func1, func2])\n\u001b[0;32m---> 17\u001b[0m f_pred3 \u001b[38;5;241m=\u001b[39m \u001b[43mGetApproximateODE\u001b[49m\u001b[43m(\u001b[49m\u001b[43mx\u001b[49m\u001b[43m,\u001b[49m\u001b[43m \u001b[49m\u001b[43my\u001b[49m\u001b[43m,\u001b[49m\u001b[43m \u001b[49m\u001b[38;5;241;43m3\u001b[39;49m\u001b[43m,\u001b[49m\u001b[43m \u001b[49m\u001b[43m[\u001b[49m\u001b[43mfunc1\u001b[49m\u001b[43m,\u001b[49m\u001b[43m \u001b[49m\u001b[43mfunc2\u001b[49m\u001b[43m,\u001b[49m\u001b[43m \u001b[49m\u001b[43mfunc3\u001b[49m\u001b[43m]\u001b[49m\u001b[43m)\u001b[49m\n\u001b[1;32m     19\u001b[0m y_pred2 \u001b[38;5;241m=\u001b[39m [f_pred2(xp) \u001b[38;5;28;01mfor\u001b[39;00m xp \u001b[38;5;129;01min\u001b[39;00m x]\n\u001b[1;32m     20\u001b[0m y_pred3 \u001b[38;5;241m=\u001b[39m [f_pred3(xp) \u001b[38;5;28;01mfor\u001b[39;00m xp \u001b[38;5;129;01min\u001b[39;00m x]\n",
      "File \u001b[0;32m~/Projects/Computational-algorithms/Task4/MathMethod.py:90\u001b[0m, in \u001b[0;36mGetApproximateODE\u001b[0;34m(x, y, n, funcs)\u001b[0m\n\u001b[1;32m     88\u001b[0m     \u001b[38;5;28;01mraise\u001b[39;00m \u001b[38;5;167;01mValueError\u001b[39;00m(\u001b[38;5;124m\"\u001b[39m\u001b[38;5;124mNumber of functions must equal n\u001b[39m\u001b[38;5;124m\"\u001b[39m)\n\u001b[1;32m     89\u001b[0m \u001b[38;5;66;03m# print(funcs[0])\u001b[39;00m\n\u001b[0;32m---> 90\u001b[0m aCoeffs \u001b[38;5;241m=\u001b[39m \u001b[43m[\u001b[49m\u001b[43m[\u001b[49m\u001b[43mScalarMult\u001b[49m\u001b[43m(\u001b[49m\u001b[43mx\u001b[49m\u001b[43m,\u001b[49m\u001b[43m \u001b[49m\u001b[43mfuncs\u001b[49m\u001b[43m[\u001b[49m\u001b[43mi\u001b[49m\u001b[43m]\u001b[49m\u001b[43m,\u001b[49m\u001b[43m \u001b[49m\u001b[43mfuncs\u001b[49m\u001b[43m[\u001b[49m\u001b[43mj\u001b[49m\u001b[43m]\u001b[49m\u001b[43m)\u001b[49m\u001b[43m \u001b[49m\u001b[38;5;28;43;01mfor\u001b[39;49;00m\u001b[43m \u001b[49m\u001b[43mj\u001b[49m\u001b[43m \u001b[49m\u001b[38;5;129;43;01min\u001b[39;49;00m\u001b[43m \u001b[49m\u001b[38;5;28;43mrange\u001b[39;49m\u001b[43m(\u001b[49m\u001b[43mn\u001b[49m\u001b[43m)\u001b[49m\u001b[43m]\u001b[49m\u001b[38;5;28;43;01mfor\u001b[39;49;00m\u001b[43m \u001b[49m\u001b[43mi\u001b[49m\u001b[43m \u001b[49m\u001b[38;5;129;43;01min\u001b[39;49;00m\u001b[43m \u001b[49m\u001b[38;5;28;43mrange\u001b[39;49m\u001b[43m(\u001b[49m\u001b[43mn\u001b[49m\u001b[43m)\u001b[49m\u001b[43m]\u001b[49m\n\u001b[1;32m     91\u001b[0m yCoeffs \u001b[38;5;241m=\u001b[39m [yScalarMult(x, y, funcs[i]) \u001b[38;5;28;01mfor\u001b[39;00m i \u001b[38;5;129;01min\u001b[39;00m \u001b[38;5;28mrange\u001b[39m(n)]\n\u001b[1;32m     93\u001b[0m poliCoeffs \u001b[38;5;241m=\u001b[39m Gauss(aCoeffs, yCoeffs)\n",
      "File \u001b[0;32m~/Projects/Computational-algorithms/Task4/MathMethod.py:90\u001b[0m, in \u001b[0;36m<listcomp>\u001b[0;34m(.0)\u001b[0m\n\u001b[1;32m     88\u001b[0m     \u001b[38;5;28;01mraise\u001b[39;00m \u001b[38;5;167;01mValueError\u001b[39;00m(\u001b[38;5;124m\"\u001b[39m\u001b[38;5;124mNumber of functions must equal n\u001b[39m\u001b[38;5;124m\"\u001b[39m)\n\u001b[1;32m     89\u001b[0m \u001b[38;5;66;03m# print(funcs[0])\u001b[39;00m\n\u001b[0;32m---> 90\u001b[0m aCoeffs \u001b[38;5;241m=\u001b[39m [\u001b[43m[\u001b[49m\u001b[43mScalarMult\u001b[49m\u001b[43m(\u001b[49m\u001b[43mx\u001b[49m\u001b[43m,\u001b[49m\u001b[43m \u001b[49m\u001b[43mfuncs\u001b[49m\u001b[43m[\u001b[49m\u001b[43mi\u001b[49m\u001b[43m]\u001b[49m\u001b[43m,\u001b[49m\u001b[43m \u001b[49m\u001b[43mfuncs\u001b[49m\u001b[43m[\u001b[49m\u001b[43mj\u001b[49m\u001b[43m]\u001b[49m\u001b[43m)\u001b[49m\u001b[43m \u001b[49m\u001b[38;5;28;43;01mfor\u001b[39;49;00m\u001b[43m \u001b[49m\u001b[43mj\u001b[49m\u001b[43m \u001b[49m\u001b[38;5;129;43;01min\u001b[39;49;00m\u001b[43m \u001b[49m\u001b[38;5;28;43mrange\u001b[39;49m\u001b[43m(\u001b[49m\u001b[43mn\u001b[49m\u001b[43m)\u001b[49m\u001b[43m]\u001b[49m\u001b[38;5;28;01mfor\u001b[39;00m i \u001b[38;5;129;01min\u001b[39;00m \u001b[38;5;28mrange\u001b[39m(n)]\n\u001b[1;32m     91\u001b[0m yCoeffs \u001b[38;5;241m=\u001b[39m [yScalarMult(x, y, funcs[i]) \u001b[38;5;28;01mfor\u001b[39;00m i \u001b[38;5;129;01min\u001b[39;00m \u001b[38;5;28mrange\u001b[39m(n)]\n\u001b[1;32m     93\u001b[0m poliCoeffs \u001b[38;5;241m=\u001b[39m Gauss(aCoeffs, yCoeffs)\n",
      "File \u001b[0;32m~/Projects/Computational-algorithms/Task4/MathMethod.py:90\u001b[0m, in \u001b[0;36m<listcomp>\u001b[0;34m(.0)\u001b[0m\n\u001b[1;32m     88\u001b[0m     \u001b[38;5;28;01mraise\u001b[39;00m \u001b[38;5;167;01mValueError\u001b[39;00m(\u001b[38;5;124m\"\u001b[39m\u001b[38;5;124mNumber of functions must equal n\u001b[39m\u001b[38;5;124m\"\u001b[39m)\n\u001b[1;32m     89\u001b[0m \u001b[38;5;66;03m# print(funcs[0])\u001b[39;00m\n\u001b[0;32m---> 90\u001b[0m aCoeffs \u001b[38;5;241m=\u001b[39m [[\u001b[43mScalarMult\u001b[49m\u001b[43m(\u001b[49m\u001b[43mx\u001b[49m\u001b[43m,\u001b[49m\u001b[43m \u001b[49m\u001b[43mfuncs\u001b[49m\u001b[43m[\u001b[49m\u001b[43mi\u001b[49m\u001b[43m]\u001b[49m\u001b[43m,\u001b[49m\u001b[43m \u001b[49m\u001b[43mfuncs\u001b[49m\u001b[43m[\u001b[49m\u001b[43mj\u001b[49m\u001b[43m]\u001b[49m\u001b[43m)\u001b[49m \u001b[38;5;28;01mfor\u001b[39;00m j \u001b[38;5;129;01min\u001b[39;00m \u001b[38;5;28mrange\u001b[39m(n)]\u001b[38;5;28;01mfor\u001b[39;00m i \u001b[38;5;129;01min\u001b[39;00m \u001b[38;5;28mrange\u001b[39m(n)]\n\u001b[1;32m     91\u001b[0m yCoeffs \u001b[38;5;241m=\u001b[39m [yScalarMult(x, y, funcs[i]) \u001b[38;5;28;01mfor\u001b[39;00m i \u001b[38;5;129;01min\u001b[39;00m \u001b[38;5;28mrange\u001b[39m(n)]\n\u001b[1;32m     93\u001b[0m poliCoeffs \u001b[38;5;241m=\u001b[39m Gauss(aCoeffs, yCoeffs)\n",
      "File \u001b[0;32m~/Projects/Computational-algorithms/Task4/MathMethod.py:72\u001b[0m, in \u001b[0;36mScalarMult\u001b[0;34m(x, f1, f2)\u001b[0m\n\u001b[1;32m     71\u001b[0m \u001b[38;5;28;01mdef\u001b[39;00m \u001b[38;5;21mScalarMult\u001b[39m(x, f1, f2):\n\u001b[0;32m---> 72\u001b[0m     \u001b[38;5;28;01mreturn\u001b[39;00m \u001b[38;5;28msum\u001b[39m(\u001b[43m[\u001b[49m\u001b[43mf1\u001b[49m\u001b[43m(\u001b[49m\u001b[43mxn\u001b[49m\u001b[43m)\u001b[49m\u001b[43m \u001b[49m\u001b[38;5;241;43m*\u001b[39;49m\u001b[43m \u001b[49m\u001b[43mf2\u001b[49m\u001b[43m(\u001b[49m\u001b[43mxn\u001b[49m\u001b[43m)\u001b[49m\u001b[43m \u001b[49m\u001b[38;5;28;43;01mfor\u001b[39;49;00m\u001b[43m \u001b[49m\u001b[43mxn\u001b[49m\u001b[43m \u001b[49m\u001b[38;5;129;43;01min\u001b[39;49;00m\u001b[43m \u001b[49m\u001b[43mx\u001b[49m\u001b[43m]\u001b[49m)\n",
      "File \u001b[0;32m~/Projects/Computational-algorithms/Task4/MathMethod.py:72\u001b[0m, in \u001b[0;36m<listcomp>\u001b[0;34m(.0)\u001b[0m\n\u001b[1;32m     71\u001b[0m \u001b[38;5;28;01mdef\u001b[39;00m \u001b[38;5;21mScalarMult\u001b[39m(x, f1, f2):\n\u001b[0;32m---> 72\u001b[0m     \u001b[38;5;28;01mreturn\u001b[39;00m \u001b[38;5;28msum\u001b[39m([f1(xn) \u001b[38;5;241m*\u001b[39m \u001b[43mf2\u001b[49m\u001b[43m(\u001b[49m\u001b[43mxn\u001b[49m\u001b[43m)\u001b[49m \u001b[38;5;28;01mfor\u001b[39;00m xn \u001b[38;5;129;01min\u001b[39;00m x])\n",
      "Cell \u001b[0;32mIn[46], line 11\u001b[0m, in \u001b[0;36mfunc3\u001b[0;34m(x)\u001b[0m\n\u001b[1;32m     10\u001b[0m \u001b[38;5;28;01mdef\u001b[39;00m \u001b[38;5;21mfunc3\u001b[39m(x):\n\u001b[0;32m---> 11\u001b[0m     \u001b[38;5;28;01mreturn\u001b[39;00m x \u001b[38;5;241m*\u001b[39m\u001b[38;5;241m*\u001b[39m \u001b[38;5;241m2\u001b[39m \u001b[38;5;241m*\u001b[39m \u001b[43mnp\u001b[49m\u001b[38;5;241;43m.\u001b[39;49m\u001b[43msin\u001b[49m\u001b[43m(\u001b[49m\u001b[43mget_xyzpdata\u001b[49m\u001b[43m)\u001b[49m\n",
      "\u001b[0;31mTypeError\u001b[0m: loop of ufunc does not support argument 0 of type function which has no callable sin method"
     ]
    }
   ],
   "source": [
    "def ODESolution(x):\n",
    "    return ((-(np.exp(0.5) + 1) / erfi(1 / np.sqrt(2))) * erfi(x / np.sqrt(2)) + 1) / np.exp(x ** 2 / 2) + x\n",
    "\n",
    "def func1(x):\n",
    "    return 1\n",
    "\n",
    "def func2(x):\n",
    "    return x * np.cos(x)\n",
    "\n",
    "def func3(x):\n",
    "    return x ** 2 * np.sin(get_xyzpdata)\n",
    "\n",
    "x = np.linspace(0, 1, 100)\n",
    "y = [ODESolution(xp) for xp in x]\n",
    "\n",
    "f_pred2 = GetApproximateODE(x, y, 2, [func1, func2])\n",
    "f_pred3 = GetApproximateODE(x, y, 3, [func1, func2, func3])\n",
    "\n",
    "y_pred2 = [f_pred2(xp) for xp in x]\n",
    "y_pred3 = [f_pred3(xp) for xp in x]\n",
    "\n",
    "fig = px.line()\n",
    "fig.add_trace(go.Scatter(x=x, y=y, name=\"Точное решение\"))\n",
    "fig.add_trace(go.Scatter(x=x, y=y_pred2, name=\"Приближенное при степени 2\"))\n",
    "fig.add_trace(go.Scatter(x=x, y=y_pred3, name=\"Приближенное при степени 3\"))\n",
    "\n",
    "fig.show()"
   ]
  }
 ],
 "metadata": {
  "kernelspec": {
   "display_name": "Python 3",
   "language": "python",
   "name": "python3"
  },
  "language_info": {
   "codemirror_mode": {
    "name": "ipython",
    "version": 3
   },
   "file_extension": ".py",
   "mimetype": "text/x-python",
   "name": "python",
   "nbconvert_exporter": "python",
   "pygments_lexer": "ipython3",
   "version": "3.11.6"
  }
 },
 "nbformat": 4,
 "nbformat_minor": 2
}
